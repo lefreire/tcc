{
 "cells": [
  {
   "cell_type": "code",
   "execution_count": 1,
   "metadata": {},
   "outputs": [],
   "source": [
    "import matplotlib.pyplot as plt\n",
    "import numpy as np"
   ]
  },
  {
   "cell_type": "code",
   "execution_count": 2,
   "metadata": {},
   "outputs": [],
   "source": [
    "x = [i for i in range(1, 50, 2)]  "
   ]
  },
  {
   "cell_type": "code",
   "execution_count": 3,
   "metadata": {},
   "outputs": [
    {
     "data": {
      "text/plain": [
       "25"
      ]
     },
     "execution_count": 3,
     "metadata": {},
     "output_type": "execute_result"
    }
   ],
   "source": [
    "len(x)"
   ]
  },
  {
   "cell_type": "code",
   "execution_count": 4,
   "metadata": {},
   "outputs": [],
   "source": [
    "time_def_bin = [31.574]*len(x)\n",
    "time_opt_bin = [28.402]*len(x) #otimizado com -01"
   ]
  },
  {
   "cell_type": "code",
   "execution_count": 3,
   "metadata": {},
   "outputs": [],
   "source": [
    "bin_1 = [24.3193, 24.0866, 24.0866, 24.0866, 24.0866, 24.0866, 24.0866,\n",
    "         24.0866, 24.0866, 24.0866, 24.0866, 24.0866, 24.0492, 24.0492, \n",
    "         24.0492, 24.0492, 24.0492, 24.0492, 24.0492, 24.0492, 24.0492, \n",
    "         24.0492, 24.0492, 24.0492, 24.0492]\n",
    "bin_2 = [24.374, 23.9262, 23.9262, 23.8548, 23.8548, 23.8548, 23.8548,\n",
    "         23.8548, 23.8541, 23.8541, 23.8497, 23.8497, 23.8497, 23.8497,\n",
    "         23.846, 23.846, 23.846, 23.846, 23.846, 23.846, 23.846,\n",
    "         23.846, 23.846, 23.8361, 23.8361]\n",
    "bin_3 = [24.0161, 24.0161, 23.8391, 23.7143, 23.6478, 23.5721, 23.5721,\n",
    "         23.5721, 23.5721, 23.5721, 23.5721, 23.5721, 23.5721, 23.5721,\n",
    "         23.5721, 23.5721, 23.5721, 23.5659, 23.5659, 23.5659, 23.5659,\n",
    "         23.5659, 23.5659, 23.5659, 23.5659]\n",
    "bin_4 = [24.1797, 23.9994, 23.9994, 23.9994, 23.9994, 23.9994, 23.9994,\n",
    "         23.9994, 23.9994, 23.9994, 23.9994, 23.9868, 23.9868, 23.9868,\n",
    "         23.9868, 23.9868, 23.9868, 23.9868, 23.9868, 23.9868, 23.9868,\n",
    "         23.9868, 23.9868, 23.9868, 23.9868]"
   ]
  },
  {
   "cell_type": "code",
   "execution_count": 5,
   "metadata": {},
   "outputs": [],
   "source": [
    "start_bin = [bin_1[0], bin_2[0], bin_3[0], bin_4[0]]\n",
    "final_bin = [bin_1[-1], bin_2[-1], bin_3[-1], bin_4[-1]]"
   ]
  },
  {
   "cell_type": "code",
   "execution_count": 9,
   "metadata": {},
   "outputs": [
    {
     "data": {
      "text/plain": [
       "(24.083751457325835, 24.360798542674157)"
      ]
     },
     "execution_count": 9,
     "metadata": {},
     "output_type": "execute_result"
    }
   ],
   "source": [
    "np.mean(start_bin)-np.std(start_bin), np.mean(start_bin)+np.std(start_bin)"
   ]
  },
  {
   "cell_type": "code",
   "execution_count": 10,
   "metadata": {},
   "outputs": [
    {
     "data": {
      "text/plain": [
       "(23.67312678572284, 24.04587321427716)"
      ]
     },
     "execution_count": 10,
     "metadata": {},
     "output_type": "execute_result"
    }
   ],
   "source": [
    "np.mean(final_bin)-np.std(final_bin), np.mean(final_bin)+np.std(final_bin)"
   ]
  },
  {
   "cell_type": "code",
   "execution_count": 6,
   "metadata": {},
   "outputs": [],
   "source": [
    "bin_def_start = [bin_1[0]]"
   ]
  },
  {
   "cell_type": "code",
   "execution_count": 7,
   "metadata": {},
   "outputs": [
    {
     "name": "stderr",
     "output_type": "stream",
     "text": [
      "No handles with labels found to put in legend.\n"
     ]
    },
    {
     "data": {
      "image/png": "[encoded data removed]",
      "text/plain": [
       "<Figure size 432x288 with 1 Axes>"
      ]
     },
     "metadata": {
      "needs_background": "light"
     },
     "output_type": "display_data"
    },
    {
     "data": {
      "text/plain": [
       "<Figure size 432x288 with 0 Axes>"
      ]
     },
     "metadata": {},
     "output_type": "display_data"
    }
   ],
   "source": [
    "plt.clf()\n",
    "plt.plot(x, bin_1)#, label=\"baseline value\")\n",
    "plt.plot(x, bin_2)\n",
    "plt.plot(x, bin_3)\n",
    "plt.plot(x, bin_4)\n",
    "plt.legend(bbox_to_anchor=(1.0, 0.5),\n",
    "           ncol=1)\n",
    "plt.xlabel(\"Generations\")\n",
    "plt.ylabel(\"Execution time (s)\")\n",
    "plt.title(\"Comparison between different executions\")\n",
    "plt.show()\n",
    "#plt.savefig(\"bin-default.eps\", bbox_inches = \"tight\")\n",
    "plt.clf()"
   ]
  },
  {
   "cell_type": "code",
   "execution_count": 3,
   "metadata": {},
   "outputs": [],
   "source": [
    "bin_1_mut_maior = [25.0732, 24.5821, 24.5477, 24.5395, 24.4901, 24.464, 24.4407,\n",
    "                   24.4407, 24.3542, 24.3324, 24.3324, 24.3039, 24.3039, 24.2591,\n",
    "                   24.2591, 24.2591, 24.2591, 24.2591, 24.2152, 24.2152, 24.2152,\n",
    "                   24.2152, 24.2152, 24.2152, 24.2152]\n",
    "bin_2_mut_maior = [24.807, 24.5286, 24.3926, 24.3926, 24.3328, 24.24, 24.0083,\n",
    "                   23.9827, 23.9827, 23.9689, 23.8755, 23.8755, 23.8755, 23.8755,\n",
    "                   23.8755, 23.8755, 23.8755, 23.8755, 23.8755, 23.8755, 23.8755,\n",
    "                   23.8755, 23.8755, 23.8755, 23.8755]\n",
    "bin_3_mut_maior = [24.9019, 24.6577, 24.4851, 24.3061, 24.053, 23.9933, 23.9933,\n",
    "                   23.9933, 23.9479, 23.9465, 23.9465, 23.9465, 23.9465, 23.9465,\n",
    "                   23.9465, 23.9465, 23.9465, 23.9465, 23.9465, 23.9465, 23.9465,\n",
    "                   23.9465, 23.9465, 23.9465, 23.9465]\n",
    "bin_4_mut_maior = [24.2599, 24.1816, 24.0926, 24.084, 24.0654, 24.0654, 24.0654,\n",
    "                   24.0614, 24.0614, 24.0415, 24.0415, 24.0415, 24.0093, 24.0093,\n",
    "                   24.0093, 24.0087, 24.0087, 24.0087, 24.0087, 24.0087, 24.0087,\n",
    "                   24.0087, 24.006, 24.006, 24.006]"
   ]
  },
  {
   "cell_type": "code",
   "execution_count": 12,
   "metadata": {},
   "outputs": [
    {
     "name": "stdout",
     "output_type": "stream",
     "text": [
      "start: [ 24.7605 ; 0.3043591053344724 ]\n",
      "finish: [ 24.0108 ; 0.1267309946303587 ]\n"
     ]
    }
   ],
   "source": [
    "bin_mut_start_maior = [bin_1_mut_maior[0], bin_2_mut_maior[0], bin_3_mut_maior[0], bin_4_mut_maior[0]]\n",
    "bin_mut_fin_maior = [bin_1_mut_maior[-1], bin_2_mut_maior[-1], bin_3_mut_maior[-1], bin_4_mut_maior[-1]]\n",
    "print (\"start: [\", np.mean(bin_mut_start_maior), \";\",  np.std(bin_mut_start_maior), \"]\")\n",
    "print (\"finish: [\", np.mean(bin_mut_fin_maior), \";\", np.std(bin_mut_fin_maior), \"]\")"
   ]
  },
  {
   "cell_type": "code",
   "execution_count": 4,
   "metadata": {},
   "outputs": [
    {
     "name": "stderr",
     "output_type": "stream",
     "text": [
      "No handles with labels found to put in legend.\n"
     ]
    },
    {
     "data": {
      "image/png": "[encoded data removed]",
      "text/plain": [
       "<Figure size 432x288 with 1 Axes>"
      ]
     },
     "metadata": {
      "needs_background": "light"
     },
     "output_type": "display_data"
    },
    {
     "data": {
      "text/plain": [
       "<Figure size 432x288 with 0 Axes>"
      ]
     },
     "metadata": {},
     "output_type": "display_data"
    }
   ],
   "source": [
    "plt.clf()\n",
    "plt.plot(x, bin_1_mut_maior)#, label=\"baseline value\")\n",
    "plt.plot(x, bin_2_mut_maior)\n",
    "plt.plot(x, bin_3_mut_maior)\n",
    "plt.plot(x, bin_4_mut_maior)\n",
    "plt.legend(bbox_to_anchor=(1.0, 0.5),\n",
    "           ncol=1)\n",
    "plt.xlabel(\"Generations\")\n",
    "plt.ylabel(\"Execution time (s)\")\n",
    "plt.title(\"Comparison between different executions: increasing mutation rate\")\n",
    "plt.show()\n",
    "# plt.savefig(\"bin-mut-maior.eps\", bbox_inches = \"tight\")\n",
    "plt.clf()"
   ]
  },
  {
   "cell_type": "code",
   "execution_count": 5,
   "metadata": {},
   "outputs": [],
   "source": [
    "bin_1_mut_menor = [24.6995, 24.6995, 24.6995, 24.5568, 24.2438, 24.1869, 23.9534,\n",
    "                   23.9374, 23.9374, 23.9374, 23.9374, 23.9374, 23.9374, 23.9298,\n",
    "                   23.9298, 23.9298, 23.9298, 23.9298, 23.9298, 23.9298, 23.9298,\n",
    "                   23.9298, 23.9298, 23.9298, 23.9298]\n",
    "bin_2_mut_menor = [24.1537, 23.9752, 23.8631, 23.8302, 23.8302, 23.8021, 23.8021,\n",
    "                   23.8021, 23.8021, 23.8021, 23.8021, 23.8021, 23.8021, 23.8021,\n",
    "                   23.8021, 23.8021, 23.8021, 23.8021, 23.8021, 23.8021, 23.7949,\n",
    "                   23.7949, 23.7949, 23.7949, 23.7949]\n",
    "bin_3_mut_menor = [24.4619, 24.2524, 24.0544, 24.0544, 24.0544, 24.0544, 24.0479,\n",
    "                   24.0479, 24.0479, 24.0209, 24.0209, 24.0209, 24.0209, 24.0209, \n",
    "                   24.0209, 24.0209, 24.0209, 24.0209, 24.0209, 24.0209, 24.0209,\n",
    "                   24.0209, 24.0209, 24.0209, 24.0209]\n",
    "bin_4_mut_menor = [24.2221, 24.0181, 23.6216, 23.5784, 23.5784, 23.5784, 23.5784,\n",
    "                   23.5589, 23.5589, 23.5589, 23.5589, 23.5589, 23.5589, 23.5589,\n",
    "                   23.5589, 23.5331, 23.5331, 23.5331, 23.5331, 23.5331, 23.5331,\n",
    "                   23.5331, 23.5331, 23.5331, 23.5331]"
   ]
  },
  {
   "cell_type": "code",
   "execution_count": 14,
   "metadata": {},
   "outputs": [
    {
     "name": "stdout",
     "output_type": "stream",
     "text": [
      "start: [ 24.3843 ; 0.21497558000852077 ]\n",
      "finish: [ 23.819675 ; 0.1839551898561168 ]\n"
     ]
    }
   ],
   "source": [
    "bin_mut_start_menor = [bin_1_mut_menor[0], bin_2_mut_menor[0], bin_3_mut_menor[0], bin_4_mut_menor[0]]\n",
    "bin_mut_fin_menor = [bin_1_mut_menor[-1], bin_2_mut_menor[-1], bin_3_mut_menor[-1], bin_4_mut_menor[-1]]\n",
    "print (\"start: [\", np.mean(bin_mut_start_menor), \";\",  np.std(bin_mut_start_menor), \"]\")\n",
    "print (\"finish: [\", np.mean(bin_mut_fin_menor), \";\", np.std(bin_mut_fin_menor), \"]\")"
   ]
  },
  {
   "cell_type": "code",
   "execution_count": 12,
   "metadata": {},
   "outputs": [
    {
     "name": "stderr",
     "output_type": "stream",
     "text": [
      "The PostScript backend does not support transparency; partially transparent artists will be rendered opaque.\n",
      "The PostScript backend does not support transparency; partially transparent artists will be rendered opaque.\n",
      "The PostScript backend does not support transparency; partially transparent artists will be rendered opaque.\n",
      "The PostScript backend does not support transparency; partially transparent artists will be rendered opaque.\n"
     ]
    },
    {
     "data": {
      "text/plain": [
       "<Figure size 432x288 with 0 Axes>"
      ]
     },
     "metadata": {},
     "output_type": "display_data"
    }
   ],
   "source": [
    "plt.clf()\n",
    "# plt.plot(x, bin_1, color='green', label=\"baseline value\")\n",
    "# plt.plot(x, bin_2, color='green')\n",
    "# plt.plot(x, bin_3, color='green')\n",
    "# plt.plot(x, bin_4, color='green')\n",
    "plt.plot(x, bin_1_mut_maior, 'g--', color='lightcoral', label=\"mutation=0.01\")\n",
    "plt.plot(x, bin_2_mut_maior, 'bo--', color='lightcoral')\n",
    "plt.plot(x, bin_3_mut_maior, 'r+-', color='lightcoral')\n",
    "plt.plot(x, bin_4_mut_maior, 'g-', color='lightcoral')\n",
    "plt.plot(x, bin_1_mut_menor, 'g--', color='turquoise', label=\"mutation=0.001\")\n",
    "plt.plot(x, bin_2_mut_menor, 'bo--', color='turquoise')\n",
    "plt.plot(x, bin_3_mut_menor, 'r+-', color='turquoise')\n",
    "plt.plot(x, bin_4_mut_menor, 'g-', color='turquoise')\n",
    "plt.legend(bbox_to_anchor=(1.0, 0.9),\n",
    "           ncol=1)\n",
    "plt.xlabel(\"Generations\")\n",
    "plt.ylabel(\"Execution time (s)\")\n",
    "plt.title(\"Comparison between mutation rates\")\n",
    "# plt.show()\n",
    "plt.savefig(\"bin-mut-comparison.eps\", bbox_inches = \"tight\")\n",
    "plt.clf()"
   ]
  },
  {
   "cell_type": "code",
   "execution_count": 6,
   "metadata": {},
   "outputs": [],
   "source": [
    "bin_1_cross_maior = [24.2028, 24.1986, 24.0207, 24.0207, 24.0207, 23.9608, 23.8427,\n",
    "                     23.8366, 23.7211, 23.7194, 23.6954, 23.652, 23.652, 23.652,\n",
    "                     23.652, 23.652, 23.652, 23.652, 23.652, 23.652, 23.652,\n",
    "                     23.652, 23.652, 23.652, 23.652]\n",
    "bin_2_cross_maior = [23.8297, 23.6302, 23.6302, 23.464, 23.464, 23.4564, 23.4564,\n",
    "                     23.4564, 23.4546, 23.4546, 23.4546, 23.4546, 23.4546, 23.4546,\n",
    "                     23.4546, 23.4546, 23.4546, 23.4546, 23.4546, 23.4546, 23.4546,\n",
    "                     23.4546, 23.4546, 23.4546, 23.4546]\n",
    "bin_3_cross_maior = [24.2845, 24.154, 23.7868, 23.7392, 23.736, 23.7302, 23.7211,\n",
    "                     23.7073, 23.7058, 23.7033, 23.7033, 23.694, 23.694, 23.694,\n",
    "                     23.6771, 23.6771, 23.6771, 23.6771, 23.6771, 23.6771, 23.6771,\n",
    "                     23.6771, 23.6771, 23.6771, 23.6771]\n",
    "bin_4_cross_maior = [24.1982, 24.0743, 23.9878, 23.892, 23.8702, 23.8644, 23.8644,\n",
    "                     23.8644, 23.8561, 23.8561, 23.8561, 23.8561, 23.8561, 23.8561,\n",
    "                     23.8561, 23.8561, 23.8561, 23.8561, 23.8561, 23.8561, 23.8561,\n",
    "                     23.8561, 23.8561, 23.8561, 23.8561]"
   ]
  },
  {
   "cell_type": "code",
   "execution_count": 16,
   "metadata": {},
   "outputs": [
    {
     "name": "stdout",
     "output_type": "stream",
     "text": [
      "start: [ 24.128800000000002 ; 0.1760650873966791 ]\n",
      "finish: [ 23.65995 ; 0.14230317108202548 ]\n"
     ]
    }
   ],
   "source": [
    "bin_cross_start_maior = [bin_1_cross_maior[0], bin_2_cross_maior[0], bin_3_cross_maior[0], bin_4_cross_maior[0]]\n",
    "bin_cross_fin_maior = [bin_1_cross_maior[-1], bin_2_cross_maior[-1], bin_3_cross_maior[-1], bin_4_cross_maior[-1]]\n",
    "print (\"start: [\", np.mean(bin_cross_start_maior), \";\",  np.std(bin_cross_start_maior), \"]\")\n",
    "print (\"finish: [\", np.mean(bin_cross_fin_maior), \";\", np.std(bin_cross_fin_maior), \"]\")"
   ]
  },
  {
   "cell_type": "code",
   "execution_count": 16,
   "metadata": {},
   "outputs": [
    {
     "name": "stderr",
     "output_type": "stream",
     "text": [
      "No handles with labels found to put in legend.\n",
      "The PostScript backend does not support transparency; partially transparent artists will be rendered opaque.\n",
      "The PostScript backend does not support transparency; partially transparent artists will be rendered opaque.\n",
      "The PostScript backend does not support transparency; partially transparent artists will be rendered opaque.\n",
      "The PostScript backend does not support transparency; partially transparent artists will be rendered opaque.\n"
     ]
    },
    {
     "data": {
      "text/plain": [
       "<Figure size 432x288 with 0 Axes>"
      ]
     },
     "metadata": {},
     "output_type": "display_data"
    }
   ],
   "source": [
    "plt.clf()\n",
    "plt.plot(x, bin_1_cross_maior)\n",
    "plt.plot(x, bin_2_cross_maior)\n",
    "plt.plot(x, bin_3_cross_maior)\n",
    "plt.plot(x, bin_4_cross_maior)\n",
    "plt.legend(bbox_to_anchor=(1.0, 0.5),\n",
    "           ncol=1)\n",
    "plt.xlabel(\"Generations\")\n",
    "plt.ylabel(\"Execution time (s)\")\n",
    "plt.title(\"Comparison between different executions: increasing crossover rate\")\n",
    "#plt.show()\n",
    "plt.savefig(\"bin-cross-maior.eps\", bbox_inches = \"tight\")\n",
    "plt.clf()"
   ]
  },
  {
   "cell_type": "code",
   "execution_count": 7,
   "metadata": {},
   "outputs": [],
   "source": [
    "bin_1_cross_menor = [24.5449, 24.166, 24.1011, 24.1011, 24.1011, 24.1011, 24.1011,\n",
    "                     24.1011, 24.0969, 24.0969, 24.0969, 24.0969, 24.0913, 24.0876,\n",
    "                     24.0876, 24.0876, 24.0876, 24.0876, 24.0876, 24.0876, 24.0876,\n",
    "                     24.0876, 24.0876, 24.0658, 24.0658]\n",
    "bin_2_cross_menor = [24.7934, 24.345, 24.3047, 24.2557, 24.2114, 24.2114, 24.2114,\n",
    "                     24.2114, 24.2114, 24.2114, 24.2114, 24.2114, 24.2114, 24.2114,\n",
    "                     24.2114, 24.2114, 24.2114, 24.2114, 24.2114, 24.2009, 24.2009,\n",
    "                     24.1663, 24.1608, 24.1608, 24.1608]\n",
    "bin_3_cross_menor = [24.373, 24.2927, 23.821, 23.7309, 23.5301, 23.5301, 23.5081,\n",
    "                     23.5081, 23.5081, 23.5081, 23.5081, 23.5081, 23.5081, 23.5081,\n",
    "                     23.5081, 23.5081, 23.4978, 23.4978, 23.4978, 23.4978, 23.4978,\n",
    "                     23.496, 23.4925, 23.4925, 23.4925]\n",
    "bin_4_cross_menor = [24.4233, 24.3575, 24.2403, 24.033, 23.9777, 23.9777, 23.8708,\n",
    "                     23.8708, 23.7979, 23.7748, 23.7748, 23.7748, 23.7748, 23.7748,\n",
    "                     23.7748, 23.7748, 23.7748, 23.7748, 23.7748, 23.7748, 23.7748,\n",
    "                     23.7748, 23.7748, 23.7748, 23.7748]"
   ]
  },
  {
   "cell_type": "code",
   "execution_count": 18,
   "metadata": {},
   "outputs": [
    {
     "name": "stdout",
     "output_type": "stream",
     "text": [
      "start: [ 24.533649999999998 ; 0.16246705050563212 ]\n",
      "finish: [ 23.873475 ; 0.26192712130476253 ]\n"
     ]
    }
   ],
   "source": [
    "bin_cross_start_menor = [bin_1_cross_menor[0], bin_2_cross_menor[0], bin_3_cross_menor[0], bin_4_cross_menor[0]]\n",
    "bin_cross_fin_menor = [bin_1_cross_menor[-1], bin_2_cross_menor[-1], bin_3_cross_menor[-1], bin_4_cross_menor[-1]]\n",
    "print (\"start: [\", np.mean(bin_cross_start_menor), \";\",  np.std(bin_cross_start_menor), \"]\")\n",
    "print (\"finish: [\", np.mean(bin_cross_fin_menor), \";\", np.std(bin_cross_fin_menor), \"]\")"
   ]
  },
  {
   "cell_type": "code",
   "execution_count": 19,
   "metadata": {},
   "outputs": [
    {
     "name": "stderr",
     "output_type": "stream",
     "text": [
      "No handles with labels found to put in legend.\n",
      "The PostScript backend does not support transparency; partially transparent artists will be rendered opaque.\n",
      "The PostScript backend does not support transparency; partially transparent artists will be rendered opaque.\n",
      "The PostScript backend does not support transparency; partially transparent artists will be rendered opaque.\n",
      "The PostScript backend does not support transparency; partially transparent artists will be rendered opaque.\n"
     ]
    },
    {
     "data": {
      "text/plain": [
       "<Figure size 432x288 with 0 Axes>"
      ]
     },
     "metadata": {},
     "output_type": "display_data"
    }
   ],
   "source": [
    "plt.clf()\n",
    "plt.plot(x, bin_1_cross_menor)\n",
    "plt.plot(x, bin_2_cross_menor)\n",
    "plt.plot(x, bin_3_cross_menor)\n",
    "plt.plot(x, bin_4_cross_menor)\n",
    "plt.legend(bbox_to_anchor=(1.0, 0.5),\n",
    "           ncol=1)\n",
    "plt.xlabel(\"Generations\")\n",
    "plt.ylabel(\"Execution time (s)\")\n",
    "plt.title(\"Comparison between different executions: decreasing crossover rate\")\n",
    "#plt.show()\n",
    "plt.savefig(\"bin-cross-menor.eps\", bbox_inches = \"tight\")\n",
    "plt.clf()"
   ]
  },
  {
   "cell_type": "code",
   "execution_count": 8,
   "metadata": {},
   "outputs": [],
   "source": [
    "x_gen_maior = [i for i in range(1, 70, 2)] \n",
    "bin_1_gen_maior = [24.4881, 23.9847, 23.9847, 23.7893, 23.7893, 23.7533, 23.626, 23.626,\n",
    "                   23.626, 23.626, 23.6239, 23.6239, 23.6239, 23.6239, 23.6239, 23.6239,\n",
    "                   23.6239, 23.6239, 23.6239, 23.6239, 23.6239, 23.6239, 23.6239, 23.6239,\n",
    "                   23.6239, 23.6239, 23.6239, 23.6239, 23.6239, 23.6239, 23.6164, 23.6094,\n",
    "                   23.6094, 23.6094, 23.6094]\n",
    "bin_2_gen_maior = [25.4598, 24.9332, 24.4179, 24.4179, 24.0284, 24.0284, 24.0284,\n",
    "                   24.0168, 24.0168, 24.0168, 24.0168, 24.0168, 24.0168, 24.0168,\n",
    "                   24.0168, 24.0168, 24.0168, 24.0168, 24.0168, 24.0168, 24.0168,\n",
    "                   24.0168, 24.0168, 24.0168, 24.0168, 23.9762, 23.9762, 23.9762,\n",
    "                   23.9762, 23.9762, 23.9762, 23.9762, 23.9762, 23.9762, 23.9762]\n",
    "bin_3_gen_maior = [25.1031, 24.8671, 24.7245, 24.5455, 24.1799, 24.1799, 24.1799,\n",
    "                   24.1799, 24.1531, 24.1531, 24.1531, 24.1531, 24.1531, 24.1531,\n",
    "                   24.1531, 24.1531, 24.1531, 24.0564, 24.0564, 24.0564, 24.0564,\n",
    "                   24.0564, 24.0564, 24.0564, 24.0564, 24.0564, 24.0564, 24.0564,\n",
    "                   24.0564, 24.0564, 24.0564, 24.0564, 24.0564, 24.0564, 24.0564]\n",
    "bin_4_gen_maior = [25.0195, 24.4867, 24.3658, 24.0205, 24.0205, 24.0173, 24.0173,\n",
    "                   24.0173, 24.0173, 24.0173, 23.8846, 23.8846, 23.8043, 23.8043,\n",
    "                   23.7055, 23.7055, 23.7055, 23.7055, 23.7055, 23.7055, 23.7055,\n",
    "                   23.7055, 23.7055, 23.7055, 23.7055, 23.7055, 23.7055, 23.7055,\n",
    "                   23.7055, 23.7055, 23.7055, 23.7055, 23.7055, 23.7055, 23.7055]"
   ]
  },
  {
   "cell_type": "code",
   "execution_count": 20,
   "metadata": {},
   "outputs": [
    {
     "name": "stdout",
     "output_type": "stream",
     "text": [
      "start: [ 25.017625000000002 ; 0.3475719161195285 ]\n",
      "finish: [ 23.836875 ; 0.18480188547468818 ]\n"
     ]
    }
   ],
   "source": [
    "bin_gen_start_maior = [bin_1_gen_maior[0], bin_2_gen_maior[0], bin_3_gen_maior[0], bin_4_gen_maior[0]]\n",
    "bin_gen_fin_maior = [bin_1_gen_maior[-1], bin_2_gen_maior[-1], bin_3_gen_maior[-1], bin_4_gen_maior[-1]]\n",
    "print (\"start: [\", np.mean(bin_gen_start_maior), \";\",  np.std(bin_gen_start_maior), \"]\")\n",
    "print (\"finish: [\", np.mean(bin_gen_fin_maior), \";\", np.std(bin_gen_fin_maior), \"]\")"
   ]
  },
  {
   "cell_type": "code",
   "execution_count": 21,
   "metadata": {},
   "outputs": [
    {
     "name": "stderr",
     "output_type": "stream",
     "text": [
      "No handles with labels found to put in legend.\n"
     ]
    },
    {
     "data": {
      "image/png": "[encoded data removed]",
      "text/plain": [
       "<Figure size 432x288 with 1 Axes>"
      ]
     },
     "metadata": {
      "needs_background": "light"
     },
     "output_type": "display_data"
    },
    {
     "data": {
      "text/plain": [
       "<Figure size 432x288 with 0 Axes>"
      ]
     },
     "metadata": {},
     "output_type": "display_data"
    }
   ],
   "source": [
    "plt.clf()\n",
    "plt.plot(x_gen_maior, bin_1_gen_maior)\n",
    "plt.plot(x_gen_maior, bin_2_gen_maior)\n",
    "plt.plot(x_gen_maior, bin_3_gen_maior)\n",
    "plt.plot(x_gen_maior, bin_4_gen_maior)\n",
    "plt.legend(bbox_to_anchor=(1.0, 0.5),\n",
    "           ncol=1)\n",
    "plt.xlabel(\"Generations\")\n",
    "plt.ylabel(\"Execution time (s)\")\n",
    "plt.title(\"Comparison between different executions: number of generations higher\")\n",
    "plt.show()\n",
    "# plt.savefig(\"bin-gen-maior.eps\", bbox_inches = \"tight\")\n",
    "plt.clf()"
   ]
  },
  {
   "cell_type": "code",
   "execution_count": 9,
   "metadata": {},
   "outputs": [],
   "source": [
    "x_gen_menor = [i for i in range(1, 30, 2)] \n",
    "bin_1_gen_menor = [24.8583, 24.5927, 24.5927, 24.419, 24.0374, 24.0374, 24.0374,\n",
    "                   24.0374, 24.0374, 23.8014, 23.8014, 23.8014, 23.7764, 23.7489,\n",
    "                   23.7489]\n",
    "bin_2_gen_menor = [25.057, 24.2503, 24.0798, 24.0798, 24.0798, 23.9808, 23.9146,\n",
    "                   23.9146, 23.9146, 23.9146, 23.9146, 23.9146, 23.9146, 23.9146,\n",
    "                   23.9146]\n",
    "bin_3_gen_menor = [24.8522, 24.4069, 24.2525, 23.9863, 23.9049, 23.9049, 23.8913,\n",
    "                   23.8913, 23.8913, 23.8913, 23.8913, 23.8913, 23.8913, 23.8913,\n",
    "                   23.8913]\n",
    "bin_4_gen_menor = [24.9615, 24.4242, 24.0101, 24.0101, 23.9664, 23.9664, 23.9664,\n",
    "                   23.9664, 23.9664, 23.9664, 23.9496, 23.9496, 23.9496, 23.9496,\n",
    "                   23.9496]"
   ]
  },
  {
   "cell_type": "code",
   "execution_count": 22,
   "metadata": {},
   "outputs": [
    {
     "name": "stdout",
     "output_type": "stream",
     "text": [
      "start: [ 24.93225 ; 0.08410518711708534 ]\n",
      "finish: [ 23.8761 ; 0.07631412058066371 ]\n"
     ]
    }
   ],
   "source": [
    "bin_gen_start_menor = [bin_1_gen_menor[0], bin_2_gen_menor[0], bin_3_gen_menor[0], bin_4_gen_menor[0]]\n",
    "bin_gen_fin_menor = [bin_1_gen_menor[-1], bin_2_gen_menor[-1], bin_3_gen_menor[-1], bin_4_gen_menor[-1]]\n",
    "print (\"start: [\", np.mean(bin_gen_start_menor), \";\",  np.std(bin_gen_start_menor), \"]\")\n",
    "print (\"finish: [\", np.mean(bin_gen_fin_menor), \";\", np.std(bin_gen_fin_menor), \"]\")"
   ]
  },
  {
   "cell_type": "code",
   "execution_count": 24,
   "metadata": {},
   "outputs": [
    {
     "name": "stderr",
     "output_type": "stream",
     "text": [
      "No handles with labels found to put in legend.\n",
      "The PostScript backend does not support transparency; partially transparent artists will be rendered opaque.\n",
      "The PostScript backend does not support transparency; partially transparent artists will be rendered opaque.\n",
      "The PostScript backend does not support transparency; partially transparent artists will be rendered opaque.\n",
      "The PostScript backend does not support transparency; partially transparent artists will be rendered opaque.\n"
     ]
    },
    {
     "data": {
      "text/plain": [
       "<Figure size 432x288 with 0 Axes>"
      ]
     },
     "metadata": {},
     "output_type": "display_data"
    }
   ],
   "source": [
    "plt.clf()\n",
    "plt.plot(x_gen_menor, bin_1_gen_menor)\n",
    "plt.plot(x_gen_menor, bin_2_gen_menor)\n",
    "plt.plot(x_gen_menor, bin_3_gen_menor)\n",
    "plt.plot(x_gen_menor, bin_4_gen_menor)\n",
    "plt.legend(bbox_to_anchor=(1.0, 0.5),\n",
    "           ncol=1)\n",
    "plt.xlabel(\"Generations\")\n",
    "plt.ylabel(\"Execution time (s)\")\n",
    "plt.title(\"Comparison between different executions: number of generations lower\")\n",
    "#plt.show()\n",
    "plt.savefig(\"bin-gen-menor.eps\", bbox_inches = \"tight\")\n",
    "plt.clf()"
   ]
  },
  {
   "cell_type": "code",
   "execution_count": 10,
   "metadata": {},
   "outputs": [],
   "source": [
    "bin_1_pop_maior = [24.4661, 23.9542, 23.8817, 23.8723, 23.7207, 23.6967, 23.6967,\n",
    "                   23.6967, 23.6967, 23.6967, 23.6967, 23.6967, 23.6967, 23.6967,\n",
    "                   23.6967, 23.6967, 23.6967, 23.6967, 23.6967, 23.6967, 23.6967,\n",
    "                   23.6967, 23.6967, 23.6967, 23.6967]\n",
    "bin_2_pop_maior = [25.4845, 24.6661, 24.2799, 24.0695, 24.0695, 24.0695, 23.9751,\n",
    "                   23.9751, 23.9751, 23.9751, 23.9751, 23.9751, 23.9751, 23.9751,\n",
    "                   23.9751, 23.9751, 23.9751, 23.9751, 23.9751, 23.9751, 23.9751,\n",
    "                   23.9751, 23.9751, 23.9751, 23.9751]\n",
    "bin_3_pop_maior = [25.4015, 25.2845, 24.9815, 24.5888, 24.5888, 24.5231, 24.5231,\n",
    "                   24.5231, 24.5231, 24.2599, 24.2599, 24.2599, 24.2599, 24.2599,\n",
    "                   24.2599, 24.2599, 24.2599, 24.1937, 24.1937, 24.1937, 24.1937,\n",
    "                   24.1937, 24.1937, 24.1194, 24.1194]\n",
    "bin_4_pop_maior = [24.7572, 24.6518, 24.2993, 24.2927, 24.1133, 24.0971, 24.0971,\n",
    "                   24.0971, 24.0971, 24.0642, 24.0642, 24.0642, 24.0642, 24.0642,\n",
    "                   23.854, 23.854, 23.854, 23.854, 23.854, 23.854, 23.854,\n",
    "                   23.7902, 23.7902, 23.7902, 23.7902]"
   ]
  },
  {
   "cell_type": "code",
   "execution_count": 26,
   "metadata": {},
   "outputs": [
    {
     "name": "stdout",
     "output_type": "stream",
     "text": [
      "start: [ 25.027325 ; 0.4292309773012655 ]\n",
      "finish: [ 23.89535 ; 0.16361296556202384 ]\n"
     ]
    }
   ],
   "source": [
    "bin_pop_start_maior = [bin_1_pop_maior[0], bin_2_pop_maior[0], bin_3_pop_maior[0], bin_4_pop_maior[0]]\n",
    "bin_pop_fin_maior = [bin_1_pop_maior[-1], bin_2_pop_maior[-1], bin_3_pop_maior[-1], bin_4_pop_maior[-1]]\n",
    "print (\"start: [\", np.mean(bin_pop_start_maior), \";\",  np.std(bin_pop_start_maior), \"]\")\n",
    "print (\"finish: [\", np.mean(bin_pop_fin_maior), \";\", np.std(bin_pop_fin_maior), \"]\")"
   ]
  },
  {
   "cell_type": "code",
   "execution_count": 25,
   "metadata": {},
   "outputs": [
    {
     "name": "stderr",
     "output_type": "stream",
     "text": [
      "No handles with labels found to put in legend.\n"
     ]
    },
    {
     "data": {
      "image/png": "[encoded data removed]",
      "text/plain": [
       "<Figure size 432x288 with 1 Axes>"
      ]
     },
     "metadata": {
      "needs_background": "light"
     },
     "output_type": "display_data"
    },
    {
     "data": {
      "text/plain": [
       "<Figure size 432x288 with 0 Axes>"
      ]
     },
     "metadata": {},
     "output_type": "display_data"
    }
   ],
   "source": [
    "plt.clf()\n",
    "plt.plot(x, bin_1_pop_maior)\n",
    "plt.plot(x, bin_2_pop_maior)\n",
    "plt.plot(x, bin_3_pop_maior)\n",
    "plt.plot(x, bin_4_pop_maior)\n",
    "plt.legend(bbox_to_anchor=(1.0, 0.5),\n",
    "           ncol=1)\n",
    "plt.xlabel(\"Generations\")\n",
    "plt.ylabel(\"Execution time (s)\")\n",
    "plt.title(\"Comparison between different executions: increasing number of individuals\")\n",
    "plt.show()\n",
    "# plt.savefig(\"bin-pop-maior.eps\", bbox_inches = \"tight\")\n",
    "plt.clf()"
   ]
  },
  {
   "cell_type": "code",
   "execution_count": 11,
   "metadata": {},
   "outputs": [],
   "source": [
    "bin_1_pop_menor = [25.0231, 24.7119, 24.4543, 24.0616, 24.0616, 24.0616, 23.9921,\n",
    "                   23.9921, 23.9921, 23.9921, 23.8963, 23.8963, 23.8306, 23.7837,\n",
    "                   23.7837, 23.7837, 23.7837, 23.7552, 23.7552, 23.7168, 23.7168,\n",
    "                   23.7168, 23.7168, 23.7168, 23.7168]\n",
    "bin_2_pop_menor = [24.2386, 24.2386, 24.2386, 24.2292, 24.1033, 24.1033, 24.098,\n",
    "                   24.098, 24.0257, 24.0257, 24.0257, 24.0018, 24.0018, 23.9435,\n",
    "                   23.9435, 23.9366, 23.9366, 23.9366, 23.9366, 23.9366, 23.9366,\n",
    "                   23.9366, 23.9366, 23.9366, 23.9366]\n",
    "bin_3_pop_menor = [24.2544, 23.8365, 23.8365, 23.5385, 23.4961, 23.4961, 23.4896,\n",
    "                   23.4896, 23.4896, 23.4896, 23.4896, 23.4896, 23.4896, 23.4896,\n",
    "                   23.4896, 23.4896, 23.4896, 23.4896, 23.4896, 23.4896, 23.4896,\n",
    "                   23.4896, 23.4896, 23.4896, 23.4896]\n",
    "bin_4_pop_menor = [24.2766, 24.2321, 24.0855, 23.9845, 23.9763, 23.9763, 23.9763,\n",
    "                   23.9763, 23.9763, 23.9763, 23.9763, 23.9763, 23.9763, 23.9763,\n",
    "                   23.9763, 23.9763, 23.9763, 23.9763, 23.9763, 23.9763, 23.9763,\n",
    "                   23.9763, 23.9763, 23.9763, 23.9763]"
   ]
  },
  {
   "cell_type": "code",
   "execution_count": 28,
   "metadata": {},
   "outputs": [
    {
     "name": "stdout",
     "output_type": "stream",
     "text": [
      "start: [ 24.448175000000003 ; 0.33220745306961397 ]\n",
      "finish: [ 23.779825 ; 0.19454018061829756 ]\n"
     ]
    }
   ],
   "source": [
    "bin_pop_start_menor = [bin_1_pop_menor[0], bin_2_pop_menor[0], bin_3_pop_menor[0], bin_4_pop_menor[0]]\n",
    "bin_pop_fin_menor = [bin_1_pop_menor[-1], bin_2_pop_menor[-1], bin_3_pop_menor[-1], bin_4_pop_menor[-1]]\n",
    "print (\"start: [\", np.mean(bin_pop_start_menor), \";\",  np.std(bin_pop_start_menor), \"]\")\n",
    "print (\"finish: [\", np.mean(bin_pop_fin_menor), \";\", np.std(bin_pop_fin_menor), \"]\")"
   ]
  },
  {
   "cell_type": "code",
   "execution_count": 30,
   "metadata": {},
   "outputs": [
    {
     "name": "stderr",
     "output_type": "stream",
     "text": [
      "No handles with labels found to put in legend.\n",
      "The PostScript backend does not support transparency; partially transparent artists will be rendered opaque.\n",
      "The PostScript backend does not support transparency; partially transparent artists will be rendered opaque.\n",
      "The PostScript backend does not support transparency; partially transparent artists will be rendered opaque.\n",
      "The PostScript backend does not support transparency; partially transparent artists will be rendered opaque.\n"
     ]
    },
    {
     "data": {
      "text/plain": [
       "<Figure size 432x288 with 0 Axes>"
      ]
     },
     "metadata": {},
     "output_type": "display_data"
    }
   ],
   "source": [
    "plt.clf()\n",
    "plt.plot(x, bin_1_pop_menor)\n",
    "plt.plot(x, bin_2_pop_menor)\n",
    "plt.plot(x, bin_3_pop_menor)\n",
    "plt.plot(x, bin_4_pop_menor)\n",
    "plt.legend(bbox_to_anchor=(1.0, 0.5),\n",
    "           ncol=1)\n",
    "plt.xlabel(\"Generations\")\n",
    "plt.ylabel(\"Execution time (s)\")\n",
    "plt.title(\"Comparison between different executions: decreasing number of individuals\")\n",
    "#plt.show()\n",
    "plt.savefig(\"bin-pop-menor.eps\", bbox_inches = \"tight\")\n",
    "plt.clf()"
   ]
  },
  {
   "cell_type": "code",
   "execution_count": 31,
   "metadata": {},
   "outputs": [],
   "source": [
    "cross_opt = [1.78958e+06]*len(x) #com -O2\n",
    "cross_def = [54076.5]*len(x) #sem otimização\n",
    "cross_1 = [2.09253e+06, 2.0953e+06, 2.09562e+06, 2.09562e+06, 2.11397e+06, 2.11397e+06, 2.11916e+06,\n",
    "           2.11916e+06, 2.12954e+06, 2.12954e+06, 2.13365e+06, 2.13365e+06, 2.13365e+06, 2.13365e+06,\n",
    "           2.13365e+06, 2.13365e+06, 2.13365e+06, 2.14086e+06, 2.14086e+06, 2.14086e+06, 2.14086e+06,\n",
    "           2.14086e+06, 2.14086e+06, 2.14086e+06, 2.14086e+06]\n",
    "cross_2 = [2.04429e+06, 2.04429e+06, 2.05024e+06, 2.05024e+06, 2.05024e+06, 2.05024e+06, 2.05024e+06,\n",
    "           2.05024e+06, 2.05024e+06, 2.05024e+06, 2.0649e+06, 2.0649e+06, 2.0649e+06, 2.0649e+06,\n",
    "           2.0649e+06, 2.0649e+06, 2.0649e+06, 2.07089e+06, 2.07089e+06, 2.07089e+06, 2.07089e+06,\n",
    "           2.07089e+06, 2.07089e+06, 2.07089e+06, 2.07089e+06]\n",
    "cross_3 = [2.00926e+06, 2.02169e+06, 2.02169e+06, 2.02404e+06, 2.02404e+06, 2.0759e+06, 2.0759e+06,\n",
    "           2.0759e+06, 2.0759e+06, 2.0759e+06, 2.0759e+06, 2.0759e+06, 2.0759e+06, 2.0759e+06,\n",
    "           2.0759e+06, 2.0759e+06, 2.0759e+06, 2.0759e+06, 2.0759e+06, 2.0759e+06, 2.0759e+06,\n",
    "           2.0759e+06, 2.0759e+06, 2.0759e+06, 2.0759e+06]\n",
    "cross_4 = [1.93284e+06, 1.9846e+06, 1.9846e+06, 1.98635e+06, 1.98635e+06, 1.98635e+06, 1.98635e+06,\n",
    "           2.00267e+06, 2.00267e+06, 2.00267e+06, 2.00267e+06, 2.00267e+06, 2.00267e+06, 2.00267e+06,\n",
    "           2.00267e+06, 2.10295e+06, 2.10295e+06, 2.10295e+06, 2.10295e+06, 2.10295e+06, 2.10295e+06,\n",
    "           2.10295e+06, 2.10295e+06, 2.10295e+06, 2.10295e+06]"
   ]
  },
  {
   "cell_type": "code",
   "execution_count": 32,
   "metadata": {},
   "outputs": [
    {
     "name": "stderr",
     "output_type": "stream",
     "text": [
      "No handles with labels found to put in legend.\n",
      "The PostScript backend does not support transparency; partially transparent artists will be rendered opaque.\n",
      "The PostScript backend does not support transparency; partially transparent artists will be rendered opaque.\n",
      "The PostScript backend does not support transparency; partially transparent artists will be rendered opaque.\n",
      "The PostScript backend does not support transparency; partially transparent artists will be rendered opaque.\n"
     ]
    },
    {
     "data": {
      "text/plain": [
       "<Figure size 432x288 with 0 Axes>"
      ]
     },
     "metadata": {},
     "output_type": "display_data"
    }
   ],
   "source": [
    "plt.clf()\n",
    "#plt.plot(x, cross_opt)\n",
    "plt.plot(x, cross_1)\n",
    "plt.plot(x, cross_2)\n",
    "plt.plot(x, cross_3)\n",
    "plt.plot(x, cross_4)\n",
    "plt.legend(bbox_to_anchor=(1.0, 0.5),\n",
    "           ncol=1)\n",
    "plt.xlabel(\"Generations\")\n",
    "plt.ylabel(\"Throughput\")\n",
    "plt.title(\"Comparison between different executions\")\n",
    "#plt.show()\n",
    "plt.savefig(\"cross.eps\", bbox_inches = \"tight\")\n",
    "plt.clf()"
   ]
  },
  {
   "cell_type": "code",
   "execution_count": 33,
   "metadata": {},
   "outputs": [],
   "source": [
    "cpp1 = [2.15841e+06, 2.15841e+06, 2.14341e+06, 2.13931e+06, 2.13931e+06, 2.13931e+06, 2.13522e+06,\n",
    "2.13522e+06, 2.13522e+06, 2.13374e+06, 2.13374e+06, 2.13374e+06, 2.13374e+06, 2.13374e+06,\n",
    "2.13374e+06]\n",
    "cpp2 = [2.15743e+06, 2.12424e+06, 2.12086e+06, 2.11957e+06, 2.10537e+06, 2.10537e+06, 2.10537e+06,\n",
    "2.10537e+06, 2.10537e+06, 2.10537e+06, 2.10537e+06, 2.10537e+06, 2.10443e+06, 2.10443e+06,\n",
    "2.10443e+06]\n",
    "cpp3 = [2.12228e+06, 2.11818e+06, 2.11818e+06, 2.11818e+06, 2.11818e+06, 2.11815e+06, 2.11815e+06,\n",
    "2.11815e+06, 2.1127e+06, 2.1127e+06, 2.1127e+06, 2.1127e+06, 2.1127e+06, 2.1127e+06,\n",
    "2.11241e+06]\n",
    "cpp4 = [2.13518e+06, 2.13518e+06, 2.11061e+06, 2.11061e+06, 2.11061e+06, 2.11061e+06, 2.11061e+06,\n",
    "2.11061e+06, 2.11061e+06, 2.11061e+06, 2.11061e+06, 2.11061e+06, 2.10524e+06, 2.10524e+06,\n",
    "2.10524e+06]\n"
   ]
  },
  {
   "cell_type": "code",
   "execution_count": 34,
   "metadata": {},
   "outputs": [
    {
     "name": "stderr",
     "output_type": "stream",
     "text": [
      "No handles with labels found to put in legend.\n"
     ]
    },
    {
     "data": {
      "image/png": "[encoded data removed]",
      "text/plain": [
       "<Figure size 432x288 with 1 Axes>"
      ]
     },
     "metadata": {
      "needs_background": "light"
     },
     "output_type": "display_data"
    },
    {
     "data": {
      "text/plain": [
       "<Figure size 432x288 with 0 Axes>"
      ]
     },
     "metadata": {},
     "output_type": "display_data"
    }
   ],
   "source": [
    "x = [i for i in range(1, 30, 2)]  \n",
    "baseline = [9263960]*len(x)\n",
    "plt.clf()\n",
    "plt.plot(x, baseline)\n",
    "plt.plot(x, cpp1)\n",
    "plt.plot(x, cpp2)\n",
    "plt.plot(x, cpp3)\n",
    "plt.plot(x, cpp4)\n",
    "plt.legend(bbox_to_anchor=(1.0, 0.5),\n",
    "           ncol=1)\n",
    "plt.xlabel(\"Generations\")\n",
    "plt.ylabel(\"Throughput\")\n",
    "plt.title(\"Comparison between different executions\")\n",
    "plt.show()\n",
    "#plt.savefig(\"cross.eps\", bbox_inches = \"tight\")\n",
    "plt.clf()"
   ]
  },
  {
   "cell_type": "code",
   "execution_count": 35,
   "metadata": {},
   "outputs": [
    {
     "name": "stderr",
     "output_type": "stream",
     "text": [
      "No handles with labels found to put in legend.\n",
      "The PostScript backend does not support transparency; partially transparent artists will be rendered opaque.\n",
      "The PostScript backend does not support transparency; partially transparent artists will be rendered opaque.\n",
      "The PostScript backend does not support transparency; partially transparent artists will be rendered opaque.\n",
      "The PostScript backend does not support transparency; partially transparent artists will be rendered opaque.\n"
     ]
    },
    {
     "data": {
      "text/plain": [
       "<Figure size 432x288 with 0 Axes>"
      ]
     },
     "metadata": {},
     "output_type": "display_data"
    }
   ],
   "source": [
    "aa = [42.2449, 42.2449, 41.5129, 40.984, 39.5186, 37.8031, 37.8031,\n",
    "37.8031, 37.8031, 37.8031, 37.8031, 37.8031, 37.8031, 37.8031, 37.8031]\n",
    "x = [i for i in range(1, 30, 2)]  \n",
    "baseline = [48.052]*len(x)\n",
    "opt_03  = [40.700]*len(x)\n",
    "plt.clf()\n",
    "plt.plot(x, baseline)\n",
    "plt.plot(x, aa)\n",
    "plt.plot(x, opt_03)\n",
    "plt.legend(bbox_to_anchor=(1.0, 0.5),\n",
    "           ncol=1)\n",
    "plt.xlabel(\"Generations\")\n",
    "plt.ylabel(\"Execution time (s)\")\n",
    "plt.title(\"Comparison between different executions\")\n",
    "#plt.show()\n",
    "plt.savefig(\"example.eps\", bbox_inches = \"tight\")\n",
    "plt.clf()"
   ]
  },
  {
   "cell_type": "code",
   "execution_count": 3,
   "metadata": {},
   "outputs": [],
   "source": [
    "x = [i for i in range(1, 30, 2)]  "
   ]
  },
  {
   "cell_type": "code",
   "execution_count": 17,
   "metadata": {},
   "outputs": [],
   "source": [
    "mut_menor_1 = [24.7613, 24.5649, 24.3256, 24.1795, 23.9308, 23.9308, 23.9308,\n",
    "23.9308, 23.9308, 23.9308, 23.8988, 23.8988, 23.8988, 23.8988, 23.8988]\n",
    "mut_menor_2 = [24.6442, 24.4501, 24.2954, 24.2954, 24.2954, 24.2954, 24.2954,\n",
    "24.2477, 24.2477, 24.2477, 24.2477, 24.2477, 24.2477, 24.2231, 24.2231]\n",
    "mut_menor_3 = [24.6192, 24.3813, 24.0523, 23.8366, 23.6933, 23.6933, 23.6933,\n",
    "23.6933, 23.6933, 23.6933, 23.6933, 23.6933, 23.6658, 23.6658, 23.6658]\n",
    "mut_menor_4 = [24.2904, 24.192, 24.0756, 24.0696, 24.0282, 23.977, 23.9267,\n",
    "23.8994, 23.8994, 23.8994, 23.8388, 23.8388, 23.8374, 23.8374, 23.8374]\n",
    "mut_menor_5 = [25.1562, 24.6807, 24.4248, 24.4248, 24.1284, 23.9236, 23.9236,\n",
    "23.9236, 23.9236, 23.9236, 23.9236, 23.8102, 23.8102, 23.8102, 23.8102]\n",
    "mut_menor_6 = [26.1993, 25.86, 24.9319, 24.7753, 24.7753, 24.6299, 24.6299,\n",
    "24.4095, 24.2371, 24.2371, 24.2371, 24.2371, 24.2371, 24.1995, 24.1272]\n",
    "mut_menor_7 = [25.0145, 24.067, 24.0369, 24.0369, 23.9805, 23.9805, 23.9805,\n",
    "23.9805, 23.9805, 23.9805, 23.9805, 23.9805, 23.9805, 23.9805, 23.9805]\n",
    "mut_menor_8 = [25.3796, 24.4779, 24.4779, 24.4434, 24.4434, 24.4434, 24.4434,\n",
    "24.4434, 24.4434, 24.4069, 24.2531, 24.1136, 24.1136, 24.1136, 24.1136]\n",
    "mut_menor_9 = [25.6515, 24.6583, 24.6583, 24.6362, 24.6362, 24.6291, 24.5911,\n",
    "24.3178, 24.3178, 24.3178, 24.3178, 24.3178, 24.3178, 24.3178, 24.3178]\n",
    "mut_menor_10 = [25.1202, 24.5464, 24.5464, 24.051, 24.051, 24.051, 23.7405,\n",
    "23.6928, 23.6928, 23.6928, 23.6928, 23.6928, 23.6928, 23.6928, 23.6928]"
   ]
  },
  {
   "cell_type": "code",
   "execution_count": 38,
   "metadata": {},
   "outputs": [
    {
     "name": "stderr",
     "output_type": "stream",
     "text": [
      "No handles with labels found to put in legend.\n"
     ]
    },
    {
     "data": {
      "image/png": "[encoded data removed]",
      "text/plain": [
       "<Figure size 432x288 with 1 Axes>"
      ]
     },
     "metadata": {
      "needs_background": "light"
     },
     "output_type": "display_data"
    },
    {
     "data": {
      "text/plain": [
       "<Figure size 432x288 with 0 Axes>"
      ]
     },
     "metadata": {},
     "output_type": "display_data"
    }
   ],
   "source": [
    "plt.clf()\n",
    "plt.plot(x, mut_menor_1)\n",
    "plt.plot(x, mut_menor_2)\n",
    "plt.plot(x, mut_menor_3)\n",
    "plt.plot(x, mut_menor_4)\n",
    "plt.plot(x, mut_menor_5)\n",
    "plt.plot(x, mut_menor_6)\n",
    "plt.plot(x, mut_menor_7)\n",
    "plt.plot(x, mut_menor_8)\n",
    "plt.plot(x, mut_menor_9)\n",
    "plt.plot(x, mut_menor_10)\n",
    "plt.legend(bbox_to_anchor=(1.0, 0.5),\n",
    "           ncol=1)\n",
    "plt.xlabel(\"Generations\")\n",
    "plt.ylabel(\"Execution time (s)\")\n",
    "plt.title(\"Comparison between different executions with mutation rate = 0.001\")\n",
    "plt.show()\n",
    "# plt.savefig(\"mut-menor-30.eps\", bbox_inches = \"tight\")\n",
    "plt.clf()"
   ]
  },
  {
   "cell_type": "code",
   "execution_count": 2,
   "metadata": {},
   "outputs": [],
   "source": [
    "bin_1 = [24.4881, 23.9847, 23.9847, 23.7893, 23.7893, 23.7533, 23.626, 23.626,\n",
    "         23.626, 23.626, 23.6239, 23.6239, 23.6239, 23.6239, 23.6239]\n",
    "bin_2 = [24.7527, 24.1875, 24.1875, 24.1875, 24.1613, 24.0419, 24.0227,\n",
    "         23.9946, 23.9946, 23.9946, 23.9946, 23.9942, 23.9942, 23.9942, 23.9942]\n",
    "bin_3 = [24.346, 24.1704, 23.874, 23.8297, 23.6512, 23.6512, 23.6512,\n",
    "23.6512, 23.6435, 23.611, 23.5974, 23.5937, 23.5715, 23.5715, 23.5715]\n",
    "bin_4 = [24.3421, 24.0663, 24.0499, 24.0499, 24.0499, 24.0499, 24.0499,\n",
    "24.0499, 24.0499, 24.0499, 24.0499, 24.0499, 24.0499, 24.0499, 24.0499]\n",
    "bin_5 = [24.4495, 24.2983, 23.7091, 23.7091, 23.7091, 23.7091, 23.7091,\n",
    "23.7091, 23.7091, 23.7091, 23.7091, 23.7091, 23.7091, 23.7091, 23.7091]\n",
    "bin_6 = [24.3773, 24.3384, 24.0913, 23.9816, 23.9816, 23.9816, 23.9816,\n",
    "23.9816, 23.9816, 23.9816, 23.9816, 23.9816, 23.9816, 23.9816, 23.9816]\n",
    "bin_7 = [24.4807, 24.0225, 24.0225, 24.0225, 23.7544, 23.5969, 23.5969,\n",
    "23.5947, 23.5947, 23.5947, 23.5947, 23.5947, 23.5947, 23.5947, 23.5947]\n",
    "bin_8 = [24.1236, 23.9051, 23.8754, 23.8754, 23.8754, 23.8754, 23.8754,\n",
    "23.8754, 23.8754, 23.8754, 23.8754, 23.8754, 23.8754, 23.8754, 23.8754]\n",
    "bin_9 = [24.8138, 24.8138, 24.8138, 24.186, 24.186, 24.1217, 24.0769,\n",
    "24.0769, 24.0694, 24.0472, 24.0465, 24.0465, 24.0425, 24.009, 23.9782]\n",
    "bin_10 = [23.9375, 23.6773, 23.628, 23.628, 23.6015, 23.6015, 23.5152, 23.5152,\n",
    "23.5152, 23.4977, 23.4977, 23.4977, 23.4977, 23.4977, 23.4977]\n",
    "def_start = [bin_1[0], bin_2[0], bin_3[0], bin_4[0], bin_5[0], bin_6[0], \n",
    "             bin_7[0], bin_8[0], bin_9[0], bin_10[0]]\n",
    "def_finish = [bin_1[-1], bin_2[-1], bin_3[-1], bin_4[-1], bin_5[-1], bin_6[-1], \n",
    "              bin_7[-1], bin_8[-1], bin_9[-1], bin_10[-1]]"
   ]
  },
  {
   "cell_type": "code",
   "execution_count": 19,
   "metadata": {},
   "outputs": [],
   "source": [
    "mut_maior_1 = [26.7314, 26.0442, 25.2499, 25.2499, 25.0853, 24.3003, 24.1305,\n",
    "24.1102, 24.1102, 24.1102, 24.1102, 24.1102, 24.1102, 24.1102, 24.1102]\n",
    "mut_maior_2 = [24.5182, 24.1506, 24.1506, 24.0737, 24.0737, 24.0737, 24.0737,\n",
    "24.0737, 24.0737, 24.0737, 24.0737, 24.0737, 24.0737, 24.0737, 24.0737]\n",
    "mut_maior_3 = [24.479, 23.9985, 23.7979, 23.7152, 23.6857, 23.6857, 23.6857,\n",
    "23.6857, 23.6857, 23.6857, 23.6857, 23.6857, 23.6857, 23.6857, 23.6857]\n",
    "mut_maior_4 = [25.9985, 24.7905, 24.781, 24.1477, 24.1477, 24.1477, 24.1477,\n",
    "24.1477, 24.1477, 24.1477, 24.1477, 24.1477, 24.1477, 24.1477, 24.1477]\n",
    "mut_maior_5 = [26.2018, 25.6016, 25.2375, 24.5915, 24.5501, 24.5501, 24.5501,\n",
    "24.5501, 24.3258, 24.3258, 24.1686, 24.1686, 24.1686, 24.1686, 24.1686]\n",
    "mut_maior_6 = [26.1996, 25.7838, 25.1278, 24.8446, 24.3635, 24.3635, 24.3635,\n",
    "24.3635, 24.3635, 24.2248, 24.2248, 24.2248, 24.2248, 24.2248, 24.2248]\n",
    "mut_maior_7 = [25.8489, 25.4515, 24.4288, 23.9851, 23.7895, 23.7895, 23.7895,\n",
    "23.7895, 23.7895, 23.7895, 23.7895, 23.7895, 23.7895, 23.7895, 23.7895]\n",
    "mut_maior_8 = [25.1895, 25.0801, 24.3494, 24.301, 24.1829, 24.08, 24.0727,\n",
    "24.0727, 24.0727, 24.0727, 24.0727, 24.0727, 24.0727, 24.0727, 24.0727]\n",
    "mut_maior_9 = [25.1033, 25.1033, 25.1033, 25.1033, 25.0784, 25.0784, 25.0784,\n",
    "25.0784, 25.0784, 25.0784, 25.0784, 25.0784, 25.0784, 25.0784, 25.0784]\n",
    "mut_maior_10 = [24.6691, 24.4993, 24.4934, 24.4921, 24.4612, 24.4612, 24.4612,\n",
    "24.4612, 24.4612, 24.4612, 24.4612, 24.4612, 24.4612, 24.4612, 24.4612]"
   ]
  },
  {
   "cell_type": "code",
   "execution_count": 41,
   "metadata": {},
   "outputs": [
    {
     "name": "stderr",
     "output_type": "stream",
     "text": [
      "No handles with labels found to put in legend.\n"
     ]
    },
    {
     "data": {
      "image/png": "[encoded data removed]",
      "text/plain": [
       "<Figure size 432x288 with 1 Axes>"
      ]
     },
     "metadata": {
      "needs_background": "light"
     },
     "output_type": "display_data"
    },
    {
     "data": {
      "text/plain": [
       "<Figure size 432x288 with 0 Axes>"
      ]
     },
     "metadata": {},
     "output_type": "display_data"
    }
   ],
   "source": [
    "plt.clf()\n",
    "plt.plot(x, mut_maior_1)\n",
    "plt.plot(x, mut_maior_2)\n",
    "plt.plot(x, mut_maior_3)\n",
    "plt.plot(x, mut_maior_4)\n",
    "plt.plot(x, mut_maior_5)\n",
    "plt.plot(x, mut_maior_6)\n",
    "plt.plot(x, mut_maior_7)\n",
    "plt.plot(x, mut_maior_8)\n",
    "plt.plot(x, mut_maior_9)\n",
    "plt.plot(x, mut_maior_10)\n",
    "plt.legend(bbox_to_anchor=(1.0, 0.5),\n",
    "           ncol=1)\n",
    "plt.xlabel(\"Generations\")\n",
    "plt.ylabel(\"Execution time (s)\")\n",
    "plt.title(\"Comparison between different executions with mutation rate = 0.01\")\n",
    "plt.show()\n",
    "# plt.savefig(\"mut-maior-30.eps\", bbox_inches = \"tight\")\n",
    "plt.clf()"
   ]
  },
  {
   "cell_type": "code",
   "execution_count": 20,
   "metadata": {},
   "outputs": [],
   "source": [
    "mut_menor_start = [mut_menor_1[0], mut_menor_2[0], mut_menor_3[0], mut_menor_4[0], \n",
    "                   mut_menor_5[0], mut_menor_6[0], mut_menor_7[0], mut_menor_8[0],\n",
    "                   mut_menor_9[0], mut_menor_10[0]]\n",
    "mut_menor_finish = [mut_menor_1[-1], mut_menor_2[-1], mut_menor_3[-1], mut_menor_4[-1], \n",
    "                   mut_menor_5[-1], mut_menor_6[-1], mut_menor_7[-1], mut_menor_8[-1],\n",
    "                   mut_menor_9[-1], mut_menor_10[-1]]"
   ]
  },
  {
   "cell_type": "code",
   "execution_count": 21,
   "metadata": {},
   "outputs": [],
   "source": [
    "mut_maior_start = [mut_maior_1[0], mut_maior_2[0], mut_maior_3[0], mut_maior_4[0], \n",
    "                   mut_maior_5[0], mut_maior_6[0], mut_maior_7[0], mut_maior_8[0],\n",
    "                   mut_maior_9[0], mut_maior_10[0]]\n",
    "mut_maior_finish = [mut_maior_1[-1], mut_maior_2[-1], mut_maior_3[-1], mut_maior_4[-1], \n",
    "                   mut_maior_5[-1], mut_maior_6[-1], mut_maior_7[-1], mut_maior_8[-1],\n",
    "                   mut_maior_9[-1], mut_maior_10[-1]]"
   ]
  },
  {
   "cell_type": "code",
   "execution_count": 22,
   "metadata": {},
   "outputs": [],
   "source": [
    "mut_menor_start_mean = np.mean(mut_menor_start)\n",
    "mut_menor_finish_mean = np.mean(mut_menor_finish)\n",
    "mut_menor_start_var = np.var(mut_menor_start)\n",
    "mut_menor_finish_var = np.var(mut_menor_finish)"
   ]
  },
  {
   "cell_type": "code",
   "execution_count": 23,
   "metadata": {},
   "outputs": [],
   "source": [
    "mut_maior_start_mean = np.mean(mut_maior_start)\n",
    "mut_maior_finish_mean = np.mean(mut_maior_finish)\n",
    "mut_maior_start_var = np.var(mut_maior_start)\n",
    "mut_maior_finish_var = np.var(mut_maior_finish)"
   ]
  },
  {
   "cell_type": "code",
   "execution_count": 46,
   "metadata": {},
   "outputs": [
    {
     "data": {
      "text/plain": [
       "25.49393"
      ]
     },
     "execution_count": 46,
     "metadata": {},
     "output_type": "execute_result"
    }
   ],
   "source": [
    "mut_maior_start_mean"
   ]
  },
  {
   "cell_type": "code",
   "execution_count": 47,
   "metadata": {},
   "outputs": [
    {
     "data": {
      "text/plain": [
       "25.083640000000003"
      ]
     },
     "execution_count": 47,
     "metadata": {},
     "output_type": "execute_result"
    }
   ],
   "source": [
    "mut_menor_start_mean"
   ]
  },
  {
   "cell_type": "code",
   "execution_count": 48,
   "metadata": {},
   "outputs": [
    {
     "data": {
      "text/plain": [
       "24.18125"
      ]
     },
     "execution_count": 48,
     "metadata": {},
     "output_type": "execute_result"
    }
   ],
   "source": [
    "mut_maior_finish_mean"
   ]
  },
  {
   "cell_type": "code",
   "execution_count": 49,
   "metadata": {},
   "outputs": [
    {
     "data": {
      "text/plain": [
       "23.966720000000002"
      ]
     },
     "execution_count": 49,
     "metadata": {},
     "output_type": "execute_result"
    }
   ],
   "source": [
    "mut_menor_finish_mean"
   ]
  },
  {
   "cell_type": "code",
   "execution_count": 24,
   "metadata": {},
   "outputs": [
    {
     "name": "stderr",
     "output_type": "stream",
     "text": [
      "The PostScript backend does not support transparency; partially transparent artists will be rendered opaque.\n",
      "The PostScript backend does not support transparency; partially transparent artists will be rendered opaque.\n",
      "The PostScript backend does not support transparency; partially transparent artists will be rendered opaque.\n",
      "The PostScript backend does not support transparency; partially transparent artists will be rendered opaque.\n"
     ]
    },
    {
     "data": {
      "text/plain": [
       "<Figure size 432x288 with 0 Axes>"
      ]
     },
     "metadata": {},
     "output_type": "display_data"
    },
    {
     "data": {
      "image/png": "[encoded data removed]",
      "text/plain": [
       "<Figure size 432x288 with 1 Axes>"
      ]
     },
     "metadata": {
      "needs_background": "light"
     },
     "output_type": "display_data"
    }
   ],
   "source": [
    "def set_box_color(bp, color):\n",
    "    plt.setp(bp['boxes'], color=color)\n",
    "    plt.setp(bp['whiskers'], color=color)\n",
    "    plt.setp(bp['caps'], color=color)\n",
    "    plt.setp(bp['medians'], color=color)\n",
    "\n",
    "plt.clf()\n",
    "plt.figure()\n",
    "\n",
    "ticks = ['Start time', 'Final time']\n",
    "teste = [mut_menor_start, mut_menor_finish]\n",
    "teste2 = [mut_maior_start, mut_maior_finish]\n",
    "teste3 = [def_start, def_finish]\n",
    "tt = plt.boxplot(teste, positions=np.array(range(len(teste)))*2.0-0.1, sym='')\n",
    "tt2 = plt.boxplot(teste2, positions=np.array(range(len(teste2)))*2.0+0.80, sym='')\n",
    "tt3 = plt.boxplot(teste3, positions=np.array(range(len(teste3)))*2.0+0.40, sym='')\n",
    "set_box_color(tt, '#D7191C') \n",
    "set_box_color(tt2, '#2C7BB6')\n",
    "set_box_color(tt3, 'black')\n",
    "plt.plot([], c='#D7191C', label='Mutation rate = 0.001')\n",
    "plt.plot([], c='black', label='Mutation rate = 0.005')\n",
    "plt.plot([], c='#2C7BB6', label='Mutation rate = 0.01')\n",
    "plt.ylabel(\"Execution time (s)\")\n",
    "plt.title(\"Comparison between start time and final time\")\n",
    "plt.legend()\n",
    "plt.xticks(range(0, len(ticks) * 2, 2), ticks)\n",
    "plt.xlim(-1, 4)\n",
    "plt.tight_layout()\n",
    "\n",
    "# plt.boxplot()\n",
    "# plt.show()\n",
    "plt.savefig(\"boxplot-mut-pop.eps\", bbox_inches = \"tight\")"
   ]
  },
  {
   "cell_type": "code",
   "execution_count": 6,
   "metadata": {},
   "outputs": [],
   "source": [
    "cross_maior_1 = [25.09, 24.923, 24.5336, 24.5172, 24.4227, 24.4227, 24.4227,\n",
    "24.4227, 24.2428, 24.1142, 24.1142, 24.1142, 24.1142, 24.0915, 24.0915]\n",
    "cross_maior_2 = [24.6527, 24.5593, 24.47, 24.3332, 24.3144, 24.2602, 24.2602,\n",
    "24.2602, 24.2602, 24.2602, 24.2286, 24.2286, 24.2286, 24.2286, 24.2286]\n",
    "cross_maior_3 = [25.3283, 24.6386, 24.1235, 24.0303, 24.0033, 24.0033, 23.9127,\n",
    "23.7072,  23.7072,  23.6716,  23.6716,  23.6716,  23.6716,  23.6716,  23.6716]\n",
    "cross_maior_4 = [24.7339, 24.598, 24.2473, 24.1276, 23.9214, 23.9214, 23.6703,\n",
    "23.5629, 23.5629, 23.5629, 23.5629, 23.4809, 23.4809, 23.4809, 23.4809]\n",
    "cross_maior_5 = [25.077, 24.4387, 24.4357, 24.4357, 24.4357, 24.4357, 24.2153,\n",
    "24.2153, 23.5966, 23.5918, 23.5918, 23.5918, 23.5918, 23.5918, 23.5918]\n",
    "cross_maior_6 = [24.277, 24.1299, 24.1299, 24.1299, 24.1299, 24.1299, 24.1299,\n",
    "24.1299, 23.9776, 23.795, 23.747, 23.7268, 23.7268, 23.7268, 23.7268]\n",
    "cross_maior_7 = [23.9499, 23.5908, 23.559, 23.554, 23.554, 23.554, 23.5523,\n",
    "23.5523, 23.5523, 23.5523, 23.5523, 23.5523, 23.5523, 23.5523, 23.5523]\n",
    "cross_maior_8 = [24.3019, 24.1062, 23.8902, 23.8902, 23.8902, 23.8902, 23.8902,\n",
    "23.8842, 23.8842, 23.8842, 23.8842, 23.8734, 23.8734, 23.8734, 23.8734]\n",
    "cross_maior_9 = [25.0061, 25.0061, 24.9122, 24.5305, 24.5305, 24.5305, 24.5305,\n",
    "24.5305, 24.5305, 24.5305, 24.5305, 24.5305, 24.5305, 24.5305, 24.5305]\n",
    "cross_maior_10 = [25.39, 24.4266, 24.3266, 24.0555, 24.0555, 24.0555, 24.0555,\n",
    "24.0243, 24.0029, 24.0029, 24.0029, 24.0029, 24.0029, 24.0029, 24.0029]"
   ]
  },
  {
   "cell_type": "code",
   "execution_count": 3,
   "metadata": {},
   "outputs": [],
   "source": [
    "cross_menor_1 = [28.5302, 28.1885, 27.0436, 26.1829, 26.1829, 26.1829, 26.1829,\n",
    "26.1829, 26.1829, 26.1829, 26.1829, 26.1829, 25.6816, 25.6816, 25.6816]\n",
    "cross_menor_2 = [28.7431, 28.074, 26.9629, 26.9629, 26.9629, 26.4929, 26.4853,\n",
    "26.4853, 26.4853, 26.4853, 26.1412, 26.1412, 26.1412, 26.1412, 26.1412]\n",
    "cross_menor_3 = [27.7329, 27.3678, 27.2226, 27.2226, 25.8741, 25.8741, 25.8741,\n",
    "25.8741, 25.1576, 25.1576, 25.1576, 25.1576, 25.1576, 25.1576, 25.1576]\n",
    "cross_menor_4 = [28.1903, 27.5825, 27.2875, 27.2875, 26.816, 26.5984, 26.5984,\n",
    "26.5984, 25.7477, 25.7477, 25.7477, 25.4564, 25.4564, 25.4564, 25.4564]\n",
    "cross_menor_5 = [28.3852, 27.2287, 26.9949, 26.9949, 26.4273, 26.4273, 26.4273,\n",
    "26.4273, 26.4273, 25.6366, 25.6366, 25.6366, 25.6366, 25.6366, 25.6366]\n",
    "cross_menor_6 = [27.8862, 26.4781, 26.4781, 26.4781, 26.4781, 26.4781, 26.4781,\n",
    "25.4644, 25.4644, 25.4644, 25.4644, 25.4644, 25.4644, 25.4644, 25.4644]\n",
    "cross_menor_7 = [27.4124, 26.8204, 26.1308, 25.7303, 24.8406, 24.8406, 24.8406,\n",
    "24.8406, 24.8406, 24.8406, 24.8406, 24.8406, 24.8406, 24.8406, 24.8406]\n",
    "cross_menor_8 = [27.7265, 27.0915, 26.8681, 26.8681, 26.8681, 26.3015, 26.3015,\n",
    "26.1312, 26.1312, 26.1312, 26.1312, 26.1312, 26.1312, 26.1312, 25.8791]\n",
    "cross_menor_9 = [25.0547, 25.0547, 24.831, 24.831, 24.7463, 24.429, 24.429,\n",
    "24.429, 24.2993, 24.2993, 24.2993, 24.2993, 24.2993, 24.2993, 24.2917]\n",
    "cross_menor_10 = [24.9157, 24.4417, 23.9402, 23.9402, 23.9402, 23.9402, 23.9402,\n",
    "23.9402, 23.9402, 23.8526, 23.8236, 23.8236, 23.8236, 23.8236, 23.8236]"
   ]
  },
  {
   "cell_type": "code",
   "execution_count": 4,
   "metadata": {},
   "outputs": [],
   "source": [
    "cross_menor_start = [cross_menor_1[0], cross_menor_2[0], cross_menor_3[0], cross_menor_4[0], \n",
    "                     cross_menor_5[0], cross_menor_6[0], cross_menor_7[0], cross_menor_8[0],\n",
    "                     cross_menor_9[0], cross_menor_10[0]]\n",
    "cross_menor_finish = [cross_menor_1[-1], cross_menor_2[-1], cross_menor_3[-1], cross_menor_4[-1], \n",
    "                      cross_menor_5[-1], cross_menor_6[-1], cross_menor_7[-1], cross_menor_8[-1],\n",
    "                      cross_menor_9[-1], cross_menor_10[-1]]"
   ]
  },
  {
   "cell_type": "code",
   "execution_count": 7,
   "metadata": {},
   "outputs": [],
   "source": [
    "cross_maior_start = [cross_maior_1[0], cross_maior_2[0], cross_maior_3[0], cross_maior_4[0], \n",
    "                     cross_maior_5[0], cross_maior_6[0], cross_maior_7[0], cross_maior_8[0],\n",
    "                     cross_maior_9[0], cross_maior_10[0]]\n",
    "cross_maior_finish = [cross_maior_1[-1], cross_maior_2[-1], cross_maior_3[-1], cross_maior_4[-1], \n",
    "                      cross_maior_5[-1], cross_maior_6[-1], cross_maior_7[-1], cross_maior_8[-1],\n",
    "                      cross_maior_9[-1], cross_maior_10[-1]]"
   ]
  },
  {
   "cell_type": "code",
   "execution_count": 29,
   "metadata": {},
   "outputs": [
    {
     "name": "stderr",
     "output_type": "stream",
     "text": [
      "The PostScript backend does not support transparency; partially transparent artists will be rendered opaque.\n",
      "The PostScript backend does not support transparency; partially transparent artists will be rendered opaque.\n",
      "The PostScript backend does not support transparency; partially transparent artists will be rendered opaque.\n",
      "The PostScript backend does not support transparency; partially transparent artists will be rendered opaque.\n"
     ]
    },
    {
     "data": {
      "text/plain": [
       "<Figure size 432x288 with 0 Axes>"
      ]
     },
     "metadata": {},
     "output_type": "display_data"
    },
    {
     "data": {
      "image/png": "[encoded data removed]",
      "text/plain": [
       "<Figure size 432x288 with 1 Axes>"
      ]
     },
     "metadata": {
      "needs_background": "light"
     },
     "output_type": "display_data"
    }
   ],
   "source": [
    "def set_box_color(bp, color):\n",
    "    plt.setp(bp['boxes'], color=color)\n",
    "    plt.setp(bp['whiskers'], color=color)\n",
    "    plt.setp(bp['caps'], color=color)\n",
    "    plt.setp(bp['medians'], color=color)\n",
    "\n",
    "plt.clf()\n",
    "plt.figure()\n",
    "\n",
    "ticks = ['Start time', 'Final time']\n",
    "teste = [cross_menor_start, cross_menor_finish]\n",
    "teste2 = [cross_maior_start, cross_maior_finish]\n",
    "teste3 = [def_start, def_finish]\n",
    "tt = plt.boxplot(teste, positions=np.array(range(len(teste)))*2.0-0.1, sym='')\n",
    "tt2 = plt.boxplot(teste2, positions=np.array(range(len(teste2)))*2.0+0.80, sym='')\n",
    "tt3 = plt.boxplot(teste3, positions=np.array(range(len(teste3)))*2.0+0.40, sym='')\n",
    "set_box_color(tt, '#D7191C') \n",
    "set_box_color(tt2, '#2C7BB6')\n",
    "set_box_color(tt3, 'black')\n",
    "plt.plot([], c='#D7191C', label='Crossover rate = 0.6')\n",
    "plt.plot([], c='black', label='Crossover rate = 0.7')\n",
    "plt.plot([], c='#2C7BB6', label='Crossover rate = 0.8')\n",
    "plt.ylabel(\"Execution time (s)\")\n",
    "plt.title(\"Comparison between start time and final time\")\n",
    "plt.legend()\n",
    "plt.xticks(range(0, len(ticks) * 2, 2), ticks)\n",
    "plt.xlim(-1, 4)\n",
    "plt.tight_layout()\n",
    "\n",
    "# plt.boxplot()\n",
    "# plt.show()\n",
    "plt.savefig(\"boxplot-cross-pop.eps\", bbox_inches = \"tight\")"
   ]
  },
  {
   "cell_type": "code",
   "execution_count": 11,
   "metadata": {},
   "outputs": [],
   "source": [
    "cross_menor_start_mean = np.mean(cross_menor_start)\n",
    "cross_menor_finish_mean = np.mean(cross_menor_finish)\n",
    "cross_menor_start_var = np.var(cross_menor_start)\n",
    "cross_menor_finish_var = np.var(cross_menor_finish)"
   ]
  },
  {
   "cell_type": "code",
   "execution_count": 10,
   "metadata": {},
   "outputs": [],
   "source": [
    "cross_maior_start_mean = np.mean(cross_maior_start)\n",
    "cross_maior_finish_mean = np.mean(cross_maior_finish)\n",
    "cross_maior_start_var = np.var(cross_maior_start)\n",
    "cross_maior_finish_var = np.var(cross_maior_finish)"
   ]
  },
  {
   "cell_type": "code",
   "execution_count": 11,
   "metadata": {},
   "outputs": [
    {
     "data": {
      "text/plain": [
       "24.78068"
      ]
     },
     "execution_count": 11,
     "metadata": {},
     "output_type": "execute_result"
    }
   ],
   "source": [
    "cross_maior_start_mean\n",
    "#cross_maior_start_var"
   ]
  },
  {
   "cell_type": "code",
   "execution_count": 12,
   "metadata": {},
   "outputs": [
    {
     "data": {
      "text/plain": [
       "23.875030000000002"
      ]
     },
     "execution_count": 12,
     "metadata": {},
     "output_type": "execute_result"
    }
   ],
   "source": [
    "cross_maior_finish_mean\n",
    "#cross_maior_finish_var"
   ]
  },
  {
   "cell_type": "code",
   "execution_count": 16,
   "metadata": {},
   "outputs": [
    {
     "data": {
      "text/plain": [
       "24.411130000000004"
      ]
     },
     "execution_count": 16,
     "metadata": {},
     "output_type": "execute_result"
    }
   ],
   "source": [
    "np.mean(def_start)"
   ]
  },
  {
   "cell_type": "code",
   "execution_count": 17,
   "metadata": {},
   "outputs": [
    {
     "data": {
      "text/plain": [
       "23.787619999999997"
      ]
     },
     "execution_count": 17,
     "metadata": {},
     "output_type": "execute_result"
    }
   ],
   "source": [
    "np.mean(def_finish)"
   ]
  },
  {
   "cell_type": "code",
   "execution_count": 12,
   "metadata": {},
   "outputs": [
    {
     "data": {
      "text/plain": [
       "27.457720000000002"
      ]
     },
     "execution_count": 12,
     "metadata": {},
     "output_type": "execute_result"
    }
   ],
   "source": [
    "cross_menor_start_mean"
   ]
  },
  {
   "cell_type": "code",
   "execution_count": 13,
   "metadata": {},
   "outputs": [
    {
     "data": {
      "text/plain": [
       "25.23728"
      ]
     },
     "execution_count": 13,
     "metadata": {},
     "output_type": "execute_result"
    }
   ],
   "source": [
    "cross_menor_finish_mean"
   ]
  },
  {
   "cell_type": "markdown",
   "metadata": {},
   "source": [
    "## Comparação de flags"
   ]
  },
  {
   "cell_type": "code",
   "execution_count": 3,
   "metadata": {},
   "outputs": [],
   "source": [
    "flags_cross_maior_1 = ['-falign-labels', '-falign-loops', '-fbranch-target-load-optimize', '-fbtr-bb-exclusive', '-fcaller-saves', '-fcombine-stack-adjustments', '-fconserve-stack', '-fcprop-registers', '-fcrossjumping', '-fcx-fortran-rules', '-fcx-limited-range', '-fdelayed-branch', '-fdelete-null-pointer-checks', '-fdevirtualize-speculatively', '-fipa-sra', '-ffinite-math-only', '-ffloat-store', '-fgcse', '-fif-conversion', '-findirect-inlining', '-finline-functions', '-finline-small-functions', '-fipa-cp-clone', '-fipa-reference', '-fipa-icf', '-fira-loop-pressure', '-fno-ira-share-spill-slots', '-fisolate-erroneous-paths-dereference', '-fkeep-inline-functions', '-fkeep-static-consts', '-flive-range-shrinkage', '-floop-interchange', '-floop-strip-mine', '-floop-nest-optimize', '-flra-remat', '-fmerge-constants', '-fmodulo-sched-allow-regmoves', '-fno-inline', '-fno-math-errno', '-fno-peephole2', '-fno-sched-spec', '-fno-zero-initialized-in-bss', '-fomit-frame-pointer', '-freorder-blocks', '-freorder-blocks-and-partition', '-frerun-cse-after-loop', '-freschedule-modulo-scheduled-loops', '-fsched2-use-superblocks', '-fsched-spec-load', '-fsched-spec-load-dangerous', '-fsched-stalled-insns-dep', '-fsched-stalled-insns', '-fsched-critical-path-heuristic', '-fsched-rank-heuristic', '-fschedule-fusion', '-fselective-scheduling', '-fselective-scheduling2', '-fsel-sched-pipelining-outer-loops', '-fsemantic-interposition', '-fsignaling-nans', '-fsingle-precision-constant', '-fsplit-ivs-in-unroller', '-fsplit-wide-types', '-fssa-phiopt', '-fstdarg-opt', '-fstrict-aliasing', '-fthread-jumps', '-ftracer', '-ftree-bit-ccp', '-ftree-builtin-call-dce', '-ftree-ch', '-ftree-copy-prop', '-ftree-loop-if-convert', '-ftree-loop-im', '-ftree-phiprop', '-ftree-loop-distribute-patterns', '-ftree-loop-ivcanon', '-ftree-loop-linear', '-ftree-reassoc', '-ftree-slsr', '-ftree-vrp', '-fvect-cost-model', '-fwhole-program', '-fuse-linker-plugin', '-O2', '-O3', '-Ofast']\n",
    "flags_cross_maior_2 = ['-falign-functions', '-falign-loops', '-fbranch-probabilities', '-fbtr-bb-exclusive', '-fcompare-elim', '-fcrossjumping', '-fcse-follow-jumps', '-fcx-fortran-rules', '-fcx-limited-range', '-fdata-sections', '-fdce', '-fdelayed-branch', '-fdelete-null-pointer-checks', '-fdse', '-fearly-inlining', '-ffat-lto-objects', '-ffast-math', '-ffinite-math-only', '-ffloat-store', '-fforward-propagate', '-fgcse-las', '-fgraphite-identity', '-fhoist-adjacent-loads', '-fif-conversion2', '-findirect-inlining', '-finline-functions-called-once', '-finline-small-functions', '-fipa-cp', '-fipa-cp-clone', '-fipa-pta', '-fipa-pure-const', '-fno-ira-share-spill-slots', '-fisolate-erroneous-paths-dereference', '-fisolate-erroneous-paths-attribute', '-fivopts', '-fkeep-inline-functions', '-fkeep-static-consts', '-flive-range-shrinkage', '-floop-block', '-floop-interchange', '-fmerge-constants', '-fmodulo-sched', '-fmodulo-sched-allow-regmoves', '-fmove-loop-invariants', '-fno-defer-pop', '-fno-function-cse', '-fno-inline', '-fno-sched-interblock', '-fno-sched-spec', '-fno-zero-initialized-in-bss', '-foptimize-sibling-calls', '-fpartial-inlining', '-fpredictive-commoning', '-fprofile-use', '-fprofile-values', '-frename-registers', '-freorder-blocks-and-partition', '-fsched-spec-insn-heuristic', '-fsched-dep-count-heuristic', '-fschedule-insns', '-fsel-sched-pipelining-outer-loops', '-fshrink-wrap', '-fsignaling-nans', '-fsingle-precision-constant', '-fsplit-ivs-in-unroller', '-fssa-phiopt', '-fstdarg-opt', '-ftracer', '-ftree-bit-ccp', '-ftree-builtin-call-dce', '-ftree-dominator-opts', '-ftree-forwprop', '-ftree-loop-im', '-ftree-loop-distribution', '-ftree-loop-linear', '-ftree-loop-vectorize', '-ftree-pre', '-ftree-slsr', '-ftree-switch-conversion', '-funroll-all-loops', '-funroll-loops', '-funsafe-math-optimizations', '-funswitch-loops', '-fvect-cost-model', '-fvpt', '-fweb', '-fwhole-program', '-O0', '-O2', '-Os', '-Ofast']\n",
    "flags_cross_maior_3 = ['-falign-functions', '-falign-jumps', '-falign-labels', '-falign-loops', '-fauto-inc-dec', '-fbranch-probabilities', '-fbranch-target-load-optimize', '-fbtr-bb-exclusive', '-fcaller-saves', '-fcombine-stack-adjustments', '-fcprop-registers', '-fcrossjumping', '-fcse-skip-blocks', '-fcx-fortran-rules', '-fcx-limited-range', '-fdelayed-branch', '-fdelete-null-pointer-checks', '-fdevirtualize', '-fdse', '-fearly-inlining', '-ffat-lto-objects', '-ffast-math', '-ffinite-math-only', '-ffloat-store', '-fforward-propagate', '-ffunction-sections', '-fgcse-after-reload', '-fgcse-lm', '-fgcse-sm', '-fhoist-adjacent-loads', '-findirect-inlining', '-finline-functions', '-fipa-pta', '-fipa-pure-const', '-fipa-reference', '-fira-hoist-pressure', '-fno-ira-share-save-slots', '-fno-ira-share-spill-slots', '-fisolate-erroneous-paths-dereference', '-fkeep-inline-functions', '-fkeep-static-consts', '-flive-range-shrinkage', '-floop-block', '-floop-interchange', '-floop-strip-mine', '-floop-nest-optimize', '-flra-remat', '-fmerge-constants', '-fmove-loop-invariants', '-fno-function-cse', '-fno-math-errno', '-fno-peephole', '-fno-sched-interblock', '-fno-sched-spec', '-fno-toplevel-reorder', '-fomit-frame-pointer', '-foptimize-sibling-calls', '-fpredictive-commoning', '-fprofile-use', '-fprofile-values', '-freorder-blocks', '-freorder-blocks-and-partition', '-freschedule-modulo-scheduled-loops', '-fsched2-use-superblocks', '-fsched-pressure', '-fsched-stalled-insns', '-fsched-group-heuristic', '-fsched-rank-heuristic', '-fsched-last-insn-heuristic', '-fschedule-fusion', '-fselective-scheduling2', '-fsel-sched-pipelining-outer-loops', '-fshrink-wrap', '-fsplit-ivs-in-unroller', '-fsplit-wide-types', '-fstrict-aliasing', '-ftracer', '-ftree-bit-ccp', '-ftree-ccp', '-ftree-ch', '-ftree-coalesce-vars', '-ftree-copy-prop', '-ftree-dce', '-ftree-dominator-opts', '-ftree-dse', '-ftree-fre', '-ftree-loop-if-convert', '-ftree-phiprop', '-ftree-loop-distribute-patterns', '-ftree-pre', '-ftree-reassoc', '-ftree-sink', '-ftree-slsr', '-ftree-switch-conversion', '-ftree-tail-merge', '-ftree-ter', '-ftree-vrp', '-fipa-ra', '-fvariable-expansion-in-unroller', '-fvect-cost-model', '-O', '-O0', '-O2', '-O3', '-Os']\n",
    "flags_cross_maior_4 = ['-falign-loops', '-fbranch-probabilities', '-fbranch-target-load-optimize', '-fbranch-target-load-optimize2', '-fbtr-bb-exclusive', '-fcaller-saves', '-fcombine-stack-adjustments', '-fconserve-stack', '-fcse-skip-blocks', '-fcx-fortran-rules', '-fdce', '-fdelayed-branch', '-fdevirtualize', '-fdevirtualize-at-ltrans', '-fearly-inlining', '-ffat-lto-objects', '-ffinite-math-only', '-ffloat-store', '-ffunction-sections', '-fgcse-las', '-fgraphite-identity', '-fif-conversion', '-fif-conversion2', '-findirect-inlining', '-finline-functions', '-finline-functions-called-once', '-finline-small-functions', '-fipa-cp', '-fipa-cp-clone', '-fipa-pta', '-fipa-pure-const', '-fipa-reference', '-fira-hoist-pressure', '-fisolate-erroneous-paths-dereference', '-fisolate-erroneous-paths-attribute', '-fivopts', '-fkeep-inline-functions', '-floop-nest-optimize', '-flra-remat', '-fmerge-constants', '-fmodulo-sched', '-fmodulo-sched-allow-regmoves', '-fmove-loop-invariants', '-fno-branch-count-reg', '-fno-function-cse', '-fno-peephole2', '-fno-sched-spec', '-fno-signed-zeros', '-fno-toplevel-reorder', '-fno-trapping-math', '-fno-zero-initialized-in-bss', '-foptimize-sibling-calls', '-fprofile-values', '-fprofile-reorder-functions', '-freorder-blocks', '-freorder-blocks-and-partition', '-freschedule-modulo-scheduled-loops', '-frounding-math', '-fsched2-use-superblocks', '-fsched-pressure', '-fsched-stalled-insns-dep', '-fsched-stalled-insns', '-fsched-group-heuristic', '-fsched-spec-insn-heuristic', '-fsched-last-insn-heuristic', '-fschedule-insns', '-fselective-scheduling', '-fsel-sched-pipelining', '-fshrink-wrap', '-fsingle-precision-constant', '-fssa-phiopt', '-fstdarg-opt', '-fstrict-aliasing', '-fthread-jumps', '-ftree-bit-ccp', '-ftree-ccp', '-ftree-coalesce-vars', '-ftree-dce', '-ftree-dominator-opts', '-ftree-dse', '-ftree-forwprop', '-ftree-fre', '-ftree-loop-if-convert', '-ftree-loop-im', '-ftree-phiprop', '-ftree-loop-distribution', '-ftree-loop-distribute-patterns', '-ftree-loop-optimize', '-ftree-loop-vectorize', '-ftree-sink', '-ftree-sra', '-ftree-switch-conversion', '-ftree-ter', '-ftree-vectorize', '-ftree-vrp', '-funit-at-a-time', '-funroll-loops', '-funsafe-math-optimizations', '-fvariable-expansion-in-unroller', '-fvect-cost-model', '-fweb', '-fuse-linker-plugin', '-O', '-O2', '-Os']\n",
    "flags_cross_maior_5 = ['-fbranch-probabilities', '-fbranch-target-load-optimize', '-fbtr-bb-exclusive', '-fcse-follow-jumps', '-fcse-skip-blocks', '-fdce', '-fdelete-null-pointer-checks', '-fdevirtualize-at-ltrans', '-fearly-inlining', '-ffat-lto-objects', '-ffast-math', '-ffloat-store', '-fforward-propagate', '-ffunction-sections', '-fgcse-sm', '-fhoist-adjacent-loads', '-fif-conversion', '-fif-conversion2', '-findirect-inlining', '-finline-functions-called-once', '-finline-small-functions', '-fipa-cp', '-fipa-pta', '-fira-hoist-pressure', '-fno-ira-share-spill-slots', '-fisolate-erroneous-paths-attribute', '-fivopts', '-flive-range-shrinkage', '-floop-nest-optimize', '-flra-remat', '-flto', '-fmodulo-sched', '-fmodulo-sched-allow-regmoves', '-fno-math-errno', '-fno-peephole', '-fno-sched-interblock', '-fno-sched-spec', '-fno-toplevel-reorder', '-fomit-frame-pointer', '-foptimize-sibling-calls', '-fpartial-inlining', '-fpredictive-commoning', '-fprofile-values', '-freorder-blocks', '-freorder-functions', '-frerun-cse-after-loop', '-frounding-math', '-fsched-pressure', '-fsched-spec-load', '-fsched-stalled-insns-dep', '-fsched-stalled-insns', '-fsched-critical-path-heuristic', '-fsched-rank-heuristic', '-fsched-dep-count-heuristic', '-fschedule-fusion', '-fselective-scheduling', '-fselective-scheduling2', '-fsel-sched-pipelining', '-fsemantic-interposition', '-fsignaling-nans', '-fstdarg-opt', '-ftracer', '-ftree-ccp', '-ftree-ch', '-ftree-copy-prop', '-ftree-loop-if-convert', '-ftree-loop-im', '-ftree-loop-distribution', '-ftree-loop-distribute-patterns', '-ftree-loop-ivcanon', '-ftree-loop-optimize', '-ftree-pre', '-ftree-reassoc', '-ftree-switch-conversion', '-ftree-ter', '-ftree-vrp', '-funroll-loops', '-funsafe-math-optimizations', '-funswitch-loops', '-fipa-ra', '-fvariable-expansion-in-unroller', '-fwhole-program', '-O0', '-Os']\n",
    "flags_cross_maior_6 = ['-falign-functions', '-fauto-inc-dec', '-fbranch-target-load-optimize', '-fbranch-target-load-optimize2', '-fcompare-elim', '-fcse-follow-jumps', '-fcse-skip-blocks', '-fcx-fortran-rules', '-fcx-limited-range', '-fdata-sections', '-fdce', '-fdevirtualize', '-fdevirtualize-at-ltrans', '-fipa-sra', '-fexpensive-optimizations', '-ffloat-store', '-ffunction-sections', '-fgcse', '-fgraphite-identity', '-fgcse-sm', '-fif-conversion', '-fif-conversion2', '-finline-functions-called-once', '-finline-small-functions', '-fipa-cp', '-fipa-pure-const', '-fipa-reference', '-fipa-icf', '-fno-ira-share-spill-slots', '-fisolate-erroneous-paths-dereference', '-fisolate-erroneous-paths-attribute', '-fivopts', '-fkeep-inline-functions', '-flive-range-shrinkage', '-floop-block', '-flra-remat', '-flto', '-fmerge-all-constants', '-fmerge-constants', '-fmodulo-sched', '-fmodulo-sched-allow-regmoves', '-fmove-loop-invariants', '-fno-branch-count-reg', '-fno-function-cse', '-fno-math-errno', '-fno-peephole2', '-fno-toplevel-reorder', '-fno-trapping-math', '-fno-zero-initialized-in-bss', '-fomit-frame-pointer', '-foptimize-sibling-calls', '-fpartial-inlining', '-fpredictive-commoning', '-fprofile-correction', '-fprofile-use', '-fprofile-reorder-functions', '-freorder-blocks', '-freorder-blocks-and-partition', '-freorder-functions', '-frerun-cse-after-loop', '-frounding-math', '-fsched-spec-load', '-fsched-spec-load-dangerous', '-fsched-rank-heuristic', '-fsched-last-insn-heuristic', '-fsched-dep-count-heuristic', '-fselective-scheduling2', '-fsel-sched-pipelining', '-fsel-sched-pipelining-outer-loops', '-fsemantic-interposition', '-fshrink-wrap', '-fsplit-ivs-in-unroller', '-fsplit-wide-types', '-fssa-phiopt', '-fstdarg-opt', '-fthread-jumps', '-ftracer', '-ftree-bit-ccp', '-ftree-builtin-call-dce', '-ftree-ch', '-ftree-copy-prop', '-ftree-forwprop', '-ftree-loop-distribution', '-ftree-loop-distribute-patterns', '-ftree-loop-ivcanon', '-ftree-loop-linear', '-ftree-loop-optimize', '-ftree-loop-vectorize', '-ftree-partial-pre', '-ftree-pta', '-ftree-reassoc', '-ftree-slsr', '-ftree-sra', '-funsafe-math-optimizations', '-fipa-ra', '-fvpt', '-fweb', '-fwhole-program', '-fuse-linker-plugin', '-O1', '-Os']\n",
    "flags_cross_maior_7 = ['-falign-jumps', '-falign-labels', '-falign-loops', '-fbranch-probabilities', '-fbranch-target-load-optimize2', '-fbtr-bb-exclusive', '-fcaller-saves', '-fcompare-elim', '-fcse-follow-jumps', '-fcx-fortran-rules', '-fdelayed-branch', '-fdevirtualize', '-fdse', '-ffinite-math-only', '-fgcse-after-reload', '-fgcse-las', '-fgcse-lm', '-fgraphite-identity', '-fgcse-sm', '-fhoist-adjacent-loads', '-fif-conversion', '-findirect-inlining', '-finline-functions', '-finline-small-functions', '-fipa-cp', '-fipa-pta', '-fipa-reference', '-fira-hoist-pressure', '-fno-ira-share-spill-slots', '-fisolate-erroneous-paths-dereference', '-fisolate-erroneous-paths-attribute', '-flive-range-shrinkage', '-floop-interchange', '-floop-nest-optimize', '-floop-parallelize-all', '-fmerge-constants', '-fmodulo-sched', '-fno-branch-count-reg', '-fno-math-errno', '-fno-toplevel-reorder', '-fno-trapping-math', '-fno-zero-initialized-in-bss', '-fomit-frame-pointer', '-foptimize-sibling-calls', '-fpartial-inlining', '-fpeel-loops', '-fprofile-use', '-fprofile-values', '-freorder-blocks-and-partition', '-freorder-functions', '-fsched-pressure', '-fsched-spec-load', '-fsched-stalled-insns', '-fsched-group-heuristic', '-fsched-critical-path-heuristic', '-fsched-spec-insn-heuristic', '-fsched-last-insn-heuristic', '-fschedule-fusion', '-fselective-scheduling', '-fselective-scheduling2', '-fsel-sched-pipelining-outer-loops', '-fshrink-wrap', '-fsignaling-nans', '-fsplit-ivs-in-unroller', '-fsplit-wide-types', '-fstrict-aliasing', '-ftree-coalesce-vars', '-ftree-dce', '-ftree-dse', '-ftree-fre', '-ftree-loop-vectorize', '-ftree-pta', '-ftree-reassoc', '-ftree-sink', '-ftree-slsr', '-ftree-sra', '-ftree-switch-conversion', '-ftree-tail-merge', '-ftree-ter', '-ftree-vectorize', '-funroll-loops', '-funsafe-math-optimizations', '-funswitch-loops', '-fweb', '-fwhole-program', '-O0', '-O2', '-O3', '-Os']\n",
    "flags_cross_maior_8 = ['-falign-functions', '-fauto-inc-dec', '-fbranch-target-load-optimize', '-fbranch-target-load-optimize2', '-fbtr-bb-exclusive', '-fconserve-stack', '-fcrossjumping', '-fcx-fortran-rules', '-fdelayed-branch', '-fdelete-null-pointer-checks', '-fdevirtualize-speculatively', '-fearly-inlining', '-ffat-lto-objects', '-ffast-math', '-ffloat-store', '-fforward-propagate', '-fgcse', '-fif-conversion', '-fif-conversion2', '-finline-functions', '-finline-functions-called-once', '-fipa-pta', '-fipa-profile', '-fipa-icf', '-fira-loop-pressure', '-fisolate-erroneous-paths-attribute', '-flive-range-shrinkage', '-floop-interchange', '-floop-unroll-and-jam', '-floop-nest-optimize', '-floop-parallelize-all', '-flra-remat', '-fmerge-all-constants', '-fmerge-constants', '-fmodulo-sched', '-fmodulo-sched-allow-regmoves', '-fmove-loop-invariants', '-fno-defer-pop', '-fno-peephole', '-fno-sched-spec', '-fno-trapping-math', '-fno-zero-initialized-in-bss', '-fomit-frame-pointer', '-foptimize-sibling-calls', '-fpartial-inlining', '-fpredictive-commoning', '-fprofile-use', '-fprofile-values', '-fprofile-reorder-functions', '-frename-registers', '-freorder-blocks', '-freorder-blocks-and-partition', '-freorder-functions', '-frerun-cse-after-loop', '-frounding-math', '-fsched-stalled-insns', '-fsched-dep-count-heuristic', '-fschedule-fusion', '-fschedule-insns', '-fsel-sched-pipelining-outer-loops', '-fshrink-wrap', '-fsignaling-nans', '-fsingle-precision-constant', '-fsplit-ivs-in-unroller', '-fsplit-wide-types', '-fssa-phiopt', '-fstrict-aliasing', '-fthread-jumps', '-ftracer', '-ftree-bit-ccp', '-ftree-builtin-call-dce', '-ftree-ccp', '-ftree-ch', '-ftree-coalesce-vars', '-ftree-copy-prop', '-ftree-dominator-opts', '-ftree-forwprop', '-ftree-loop-im', '-ftree-phiprop', '-ftree-loop-distribute-patterns', '-ftree-loop-ivcanon', '-ftree-loop-linear', '-ftree-pta', '-ftree-reassoc', '-ftree-sink', '-ftree-slsr', '-ftree-sra', '-ftree-switch-conversion', '-ftree-vrp', '-funit-at-a-time', '-funsafe-math-optimizations', '-fvariable-expansion-in-unroller', '-fvect-cost-model', '-fwhole-program', '-O1', '-O2', '-Os']\n",
    "flags_cross_maior_9 = ['-falign-functions', '-falign-jumps', '-falign-loops', '-fauto-inc-dec', '-fbtr-bb-exclusive', '-fcprop-registers', '-fcx-fortran-rules', '-fcx-limited-range', '-fdce', '-fdelayed-branch', '-fdevirtualize', '-fdevirtualize-speculatively', '-fdevirtualize-at-ltrans', '-fdse', '-fipa-sra', '-ffast-math', '-ffloat-store', '-fforward-propagate', '-fgcse', '-fgcse-las', '-fgcse-lm', '-fif-conversion', '-findirect-inlining', '-finline-small-functions', '-fipa-pta', '-fipa-pure-const', '-fira-hoist-pressure', '-fira-loop-pressure', '-fno-ira-share-spill-slots', '-fisolate-erroneous-paths-dereference', '-fivopts', '-fkeep-inline-functions', '-fkeep-static-consts', '-floop-strip-mine', '-floop-unroll-and-jam', '-floop-nest-optimize', '-floop-parallelize-all', '-flra-remat', '-fmerge-all-constants', '-fmerge-constants', '-fmodulo-sched', '-fmodulo-sched-allow-regmoves', '-fno-branch-count-reg', '-fno-defer-pop', '-fno-math-errno', '-fno-trapping-math', '-fomit-frame-pointer', '-foptimize-sibling-calls', '-fpartial-inlining', '-fprofile-correction', '-fprofile-use', '-fprofile-values', '-frename-registers', '-frounding-math', '-fsched-pressure', '-fsched-spec-load-dangerous', '-fsched-stalled-insns', '-fsched-group-heuristic', '-fsched-rank-heuristic', '-fsched-dep-count-heuristic', '-fschedule-fusion', '-fselective-scheduling2', '-fsel-sched-pipelining', '-fsel-sched-pipelining-outer-loops', '-fsemantic-interposition', '-fshrink-wrap', '-fsingle-precision-constant', '-fssa-phiopt', '-fstdarg-opt', '-fthread-jumps', '-ftracer', '-ftree-bit-ccp', '-ftree-builtin-call-dce', '-ftree-ch', '-ftree-dse', '-ftree-forwprop', '-ftree-loop-if-convert', '-ftree-loop-im', '-ftree-phiprop', '-ftree-loop-distribution', '-ftree-loop-ivcanon', '-ftree-sra', '-ftree-switch-conversion', '-ftree-ter', '-ftree-vectorize', '-funit-at-a-time', '-funsafe-math-optimizations', '-funswitch-loops', '-fvariable-expansion-in-unroller', '-fvect-cost-model', '-fweb', '-fwhole-program', '-fuse-linker-plugin', '-O0', '-O1', '-Os']\n",
    "flags_cross_maior_10 = ['-fbranch-target-load-optimize', '-fcombine-stack-adjustments', '-fcompare-elim', '-fcrossjumping', '-fcse-follow-jumps', '-fcx-limited-range', '-fdce', '-fdelayed-branch', '-fdelete-null-pointer-checks', '-fdevirtualize', '-fdevirtualize-speculatively', '-fdevirtualize-at-ltrans', '-ffloat-store', '-fgcse-after-reload', '-fgraphite-identity', '-fgcse-sm', '-fif-conversion', '-findirect-inlining', '-finline-functions', '-finline-functions-called-once', '-finline-small-functions', '-fipa-profile', '-fipa-pure-const', '-fno-ira-share-save-slots', '-fisolate-erroneous-paths-dereference', '-fisolate-erroneous-paths-attribute', '-fivopts', '-fkeep-inline-functions', '-fkeep-static-consts', '-flive-range-shrinkage', '-floop-interchange', '-floop-unroll-and-jam', '-floop-nest-optimize', '-floop-parallelize-all', '-fmerge-all-constants', '-fmerge-constants', '-fmodulo-sched', '-fmove-loop-invariants', '-fno-function-cse', '-fno-guess-branch-probability', '-fno-math-errno', '-fno-peephole2', '-fno-sched-interblock', '-fno-trapping-math', '-fno-zero-initialized-in-bss', '-fomit-frame-pointer', '-foptimize-sibling-calls', '-fprofile-use', '-fprofile-values', '-fprofile-reorder-functions', '-frename-registers', '-freorder-blocks-and-partition', '-freorder-functions', '-frerun-cse-after-loop', '-frounding-math', '-fsched2-use-superblocks', '-fsched-pressure', '-fsched-spec-load', '-fsched-spec-load-dangerous', '-fsched-spec-insn-heuristic', '-fsched-last-insn-heuristic', '-fschedule-fusion', '-fschedule-insns', '-fsel-sched-pipelining-outer-loops', '-fsemantic-interposition', '-fshrink-wrap', '-fsingle-precision-constant', '-fsplit-ivs-in-unroller', '-fstrict-aliasing', '-ftracer', '-ftree-ccp', '-ftree-ch', '-ftree-copy-prop', '-ftree-dominator-opts', '-ftree-dse', '-ftree-forwprop', '-ftree-loop-im', '-ftree-loop-distribution', '-ftree-loop-distribute-patterns', '-ftree-loop-linear', '-ftree-loop-optimize', '-ftree-loop-vectorize', '-ftree-pre', '-ftree-partial-pre', '-ftree-reassoc', '-ftree-sink', '-ftree-slsr', '-ftree-switch-conversion', '-ftree-vectorize', '-ftree-vrp', '-funit-at-a-time', '-funsafe-math-optimizations', '-fvariable-expansion-in-unroller', '-fvect-cost-model', '-fweb', '-O', '-O1', '-Os']"
   ]
  },
  {
   "cell_type": "code",
   "execution_count": 4,
   "metadata": {},
   "outputs": [],
   "source": [
    "flags_cross_menor_1 = ['-falign-labels', '-falign-loops', '-fbranch-target-load-optimize', '-fbtr-bb-exclusive', '-fcaller-saves', '-fcombine-stack-adjustments', '-fconserve-stack', '-fcprop-registers', '-fcrossjumping', '-fcx-fortran-rules', '-fcx-limited-range', '-fdelayed-branch', '-fdelete-null-pointer-checks', '-fdevirtualize-speculatively', '-fipa-sra', '-ffat-lto-objects', '-ffinite-math-only', '-ffloat-store', '-fgcse', '-fif-conversion', '-findirect-inlining', '-finline-functions', '-finline-small-functions', '-fipa-cp-clone', '-fipa-reference', '-fipa-icf', '-fira-loop-pressure', '-fno-ira-share-spill-slots', '-fisolate-erroneous-paths-dereference', '-fkeep-inline-functions', '-fkeep-static-consts', '-flive-range-shrinkage', '-floop-interchange', '-floop-strip-mine', '-floop-unroll-and-jam', '-floop-parallelize-all', '-flto', '-fmodulo-sched-allow-regmoves', '-fno-inline', '-fno-math-errno', '-fno-peephole2', '-fno-sched-spec', '-fno-zero-initialized-in-bss', '-fomit-frame-pointer', '-frerun-cse-after-loop', '-freschedule-modulo-scheduled-loops', '-fsched2-use-superblocks', '-fsched-spec-load', '-fsched-spec-load-dangerous', '-fsched-stalled-insns-dep', '-fsched-stalled-insns', '-fsched-critical-path-heuristic', '-fsched-rank-heuristic', '-fschedule-fusion', '-fselective-scheduling', '-fselective-scheduling2', '-fsel-sched-pipelining-outer-loops', '-fsignaling-nans', '-fsingle-precision-constant', '-fsplit-wide-types', '-fssa-phiopt', '-fstdarg-opt', '-fstrict-aliasing', '-fthread-jumps', '-ftracer', '-ftree-bit-ccp', '-ftree-builtin-call-dce', '-ftree-copy-prop', '-ftree-dce', '-ftree-loop-if-convert', '-ftree-loop-im', '-ftree-phiprop', '-ftree-loop-ivcanon', '-ftree-loop-linear', '-ftree-reassoc', '-ftree-vrp', '-funroll-loops', '-fvect-cost-model', '-fuse-linker-plugin', '-O', '-O0', '-O2', '-O3', '-Ofast']\n",
    "flags_cross_menor_2 = ['-falign-labels', '-fbranch-probabilities', '-fbranch-target-load-optimize', '-fbtr-bb-exclusive', '-fcombine-stack-adjustments', '-fcprop-registers', '-fcx-fortran-rules', '-fdata-sections', '-fdelete-null-pointer-checks', '-fdevirtualize', '-fdevirtualize-at-ltrans', '-fearly-inlining', '-fexpensive-optimizations', '-ffat-lto-objects', '-fforward-propagate', '-fgcse-after-reload', '-fgcse-las', '-fgcse-lm', '-fgcse-sm', '-fif-conversion', '-finline-functions', '-finline-small-functions', '-fipa-cp', '-fipa-cp-clone', '-fipa-pure-const', '-fipa-reference', '-fipa-icf', '-fira-hoist-pressure', '-fno-ira-share-save-slots', '-fno-ira-share-spill-slots', '-fisolate-erroneous-paths-attribute', '-fkeep-inline-functions', '-floop-strip-mine', '-floop-parallelize-all', '-fmerge-constants', '-fmodulo-sched', '-fmodulo-sched-allow-regmoves', '-fmove-loop-invariants', '-fno-function-cse', '-fno-inline', '-fno-peephole2', '-fno-signed-zeros', '-fno-toplevel-reorder', '-fomit-frame-pointer', '-foptimize-sibling-calls', '-fpredictive-commoning', '-fprofile-correction', '-fprofile-use', '-fprofile-values', '-freorder-blocks', '-frerun-cse-after-loop', '-freschedule-modulo-scheduled-loops', '-frounding-math', '-fsched-pressure', '-fsched-spec-load', '-fsched-spec-load-dangerous', '-fsched-stalled-insns-dep', '-fsched-group-heuristic', '-fsched-critical-path-heuristic', '-fsched-rank-heuristic', '-fschedule-fusion', '-fschedule-insns', '-fselective-scheduling2', '-fsel-sched-pipelining', '-fsemantic-interposition', '-fsingle-precision-constant', '-fsplit-ivs-in-unroller', '-fssa-phiopt', '-fstdarg-opt', '-fthread-jumps', '-ftracer', '-ftree-builtin-call-dce', '-ftree-ccp', '-ftree-ch', '-ftree-coalesce-vars', '-ftree-copy-prop', '-ftree-dominator-opts', '-ftree-forwprop', '-ftree-fre', '-ftree-loop-if-convert', '-ftree-loop-im', '-ftree-loop-optimize', '-ftree-reassoc', '-ftree-sink', '-ftree-tail-merge', '-ftree-ter', '-ftree-vrp', '-funroll-loops', '-fvpt', '-fwhole-program', '-O0', '-O1', '-O2', '-O3']\n",
    "flags_cross_menor_3 = ['-falign-functions', '-falign-jumps', '-falign-loops', '-fauto-inc-dec', '-fbranch-probabilities', '-fbranch-target-load-optimize', '-fbtr-bb-exclusive', '-fcaller-saves', '-fcombine-stack-adjustments', '-fconserve-stack', '-fcompare-elim', '-fcse-skip-blocks', '-fcx-fortran-rules', '-fdata-sections', '-fdse', '-fipa-sra', '-ffast-math', '-ffinite-math-only', '-ffunction-sections', '-fgcse-after-reload', '-fgcse-las', '-fgcse-lm', '-fgraphite-identity', '-finline-functions', '-finline-functions-called-once', '-fipa-cp', '-fipa-cp-clone', '-fipa-profile', '-fipa-pure-const', '-fipa-reference', '-fipa-icf', '-fira-hoist-pressure', '-fno-ira-share-save-slots', '-fivopts', '-flive-range-shrinkage', '-floop-strip-mine', '-floop-unroll-and-jam', '-floop-parallelize-all', '-flra-remat', '-fno-branch-count-reg', '-fno-function-cse', '-fno-math-errno', '-fno-peephole', '-fno-sched-interblock', '-fno-signed-zeros', '-fno-toplevel-reorder', '-fno-zero-initialized-in-bss', '-fomit-frame-pointer', '-foptimize-sibling-calls', '-fpartial-inlining', '-fpredictive-commoning', '-fprofile-correction', '-fprofile-reorder-functions', '-frename-registers', '-freorder-blocks-and-partition', '-freschedule-modulo-scheduled-loops', '-frounding-math', '-fsched2-use-superblocks', '-fsched-pressure', '-fsched-spec-load', '-fsched-stalled-insns', '-fsched-spec-insn-heuristic', '-fsched-rank-heuristic', '-fsched-dep-count-heuristic', '-fselective-scheduling2', '-fsel-sched-pipelining', '-fsel-sched-pipelining-outer-loops', '-fsemantic-interposition', '-fsignaling-nans', '-fssa-phiopt', '-fstrict-aliasing', '-fthread-jumps', '-ftracer', '-ftree-bit-ccp', '-ftree-ch', '-ftree-copy-prop', '-ftree-dce', '-ftree-dominator-opts', '-ftree-dse', '-ftree-loop-im', '-ftree-phiprop', '-ftree-loop-distribution', '-ftree-loop-distribute-patterns', '-ftree-loop-ivcanon', '-ftree-loop-vectorize', '-ftree-pta', '-ftree-slsr', '-ftree-sra', '-ftree-tail-merge', '-funit-at-a-time', '-funroll-loops', '-funsafe-math-optimizations', '-fvariable-expansion-in-unroller', '-fvect-cost-model', '-fvpt', '-fweb', '-fwhole-program', '-O', '-Os']\n",
    "flags_cross_menor_4 = ['-falign-loops', '-fcaller-saves', '-fcombine-stack-adjustments', '-fcrossjumping', '-fcse-skip-blocks', '-fdce', '-fdevirtualize', '-fdevirtualize-speculatively', '-fdevirtualize-at-ltrans', '-ffat-lto-objects', '-ffinite-math-only', '-fforward-propagate', '-ffunction-sections', '-fgcse', '-fgcse-lm', '-fgraphite-identity', '-fgcse-sm', '-fif-conversion', '-findirect-inlining', '-finline-functions-called-once', '-fipa-cp', '-fipa-pure-const', '-fipa-icf', '-fira-hoist-pressure', '-fira-loop-pressure', '-fivopts', '-fkeep-inline-functions', '-fkeep-static-consts', '-flive-range-shrinkage', '-floop-interchange', '-floop-unroll-and-jam', '-floop-nest-optimize', '-floop-parallelize-all', '-flra-remat', '-flto', '-fmerge-all-constants', '-fmerge-constants', '-fmove-loop-invariants', '-fno-branch-count-reg', '-fno-defer-pop', '-fno-function-cse', '-fno-guess-branch-probability', '-fno-peephole2', '-fno-sched-interblock', '-fno-sched-spec', '-fno-signed-zeros', '-fno-trapping-math', '-fomit-frame-pointer', '-fpeel-loops', '-fprofile-correction', '-fprofile-reorder-functions', '-frename-registers', '-freorder-blocks-and-partition', '-freorder-functions', '-freschedule-modulo-scheduled-loops', '-fsched2-use-superblocks', '-fsched-pressure', '-fsched-spec-load-dangerous', '-fsched-stalled-insns', '-fsched-group-heuristic', '-fsched-critical-path-heuristic', '-fsched-spec-insn-heuristic', '-fsched-rank-heuristic', '-fschedule-fusion', '-fschedule-insns', '-fselective-scheduling2', '-fsel-sched-pipelining', '-fsemantic-interposition', '-fsignaling-nans', '-fsingle-precision-constant', '-fsplit-ivs-in-unroller', '-fsplit-wide-types', '-fstrict-aliasing', '-ftracer', '-ftree-builtin-call-dce', '-ftree-ch', '-ftree-copy-prop', '-ftree-dce', '-ftree-dse', '-ftree-forwprop', '-ftree-fre', '-ftree-loop-distribution', '-ftree-loop-distribute-patterns', '-ftree-loop-vectorize', '-ftree-pre', '-ftree-partial-pre', '-ftree-pta', '-ftree-sink', '-ftree-slsr', '-ftree-ter', '-funroll-all-loops', '-funroll-loops', '-funsafe-math-optimizations', '-fipa-ra', '-fvariable-expansion-in-unroller', '-fvect-cost-model', '-O0', '-O1', '-O2', '-O3', '-Os']\n",
    "flags_cross_menor_5 = ['-fbranch-probabilities', '-fbranch-target-load-optimize', '-fbtr-bb-exclusive', '-fcprop-registers', '-fcse-follow-jumps', '-fcse-skip-blocks', '-fcx-limited-range', '-fdce', '-fdelete-null-pointer-checks', '-fdevirtualize-at-ltrans', '-fearly-inlining', '-ffat-lto-objects', '-ffast-math', '-ffloat-store', '-fforward-propagate', '-fgcse', '-fgcse-sm', '-fhoist-adjacent-loads', '-fif-conversion', '-fif-conversion2', '-findirect-inlining', '-finline-functions-called-once', '-finline-small-functions', '-fipa-cp', '-fipa-pta', '-fira-hoist-pressure', '-fno-ira-share-spill-slots', '-fisolate-erroneous-paths-attribute', '-fivopts', '-flive-range-shrinkage', '-floop-nest-optimize', '-fmodulo-sched', '-fmodulo-sched-allow-regmoves', '-fno-math-errno', '-fno-peephole', '-fno-sched-interblock', '-fno-sched-spec', '-fno-zero-initialized-in-bss', '-foptimize-sibling-calls', '-fpartial-inlining', '-fpredictive-commoning', '-fprofile-correction', '-fprofile-values', '-freorder-blocks', '-freorder-functions', '-frerun-cse-after-loop', '-frounding-math', '-fsched-pressure', '-fsched-spec-load', '-fsched-stalled-insns-dep', '-fsched-stalled-insns', '-fsched-critical-path-heuristic', '-fsched-rank-heuristic', '-fsched-dep-count-heuristic', '-fschedule-fusion', '-fselective-scheduling', '-fsel-sched-pipelining', '-fsel-sched-pipelining-outer-loops', '-fsemantic-interposition', '-fsignaling-nans', '-fstdarg-opt', '-ftracer', '-ftree-ccp', '-ftree-ch', '-ftree-copy-prop', '-ftree-loop-if-convert', '-ftree-loop-im', '-ftree-phiprop', '-ftree-loop-distribution', '-ftree-loop-distribute-patterns', '-ftree-loop-ivcanon', '-ftree-loop-optimize', '-ftree-pre', '-ftree-reassoc', '-ftree-switch-conversion', '-ftree-ter', '-ftree-vrp', '-funit-at-a-time', '-funroll-loops', '-funswitch-loops', '-fipa-ra', '-fwhole-program', '-O0', '-Os']\n",
    "flags_cross_menor_6 = ['-falign-functions', '-fauto-inc-dec', '-fbranch-target-load-optimize', '-fbranch-target-load-optimize2', '-fcompare-elim', '-fcse-follow-jumps', '-fcse-skip-blocks', '-fcx-fortran-rules', '-fcx-limited-range', '-fdata-sections', '-fdce', '-fdevirtualize', '-fdevirtualize-at-ltrans', '-fipa-sra', '-fexpensive-optimizations', '-ffloat-store', '-ffunction-sections', '-fgcse', '-fgraphite-identity', '-fif-conversion', '-fif-conversion2', '-finline-functions-called-once', '-finline-small-functions', '-fipa-cp', '-fipa-pure-const', '-fipa-reference', '-fipa-icf', '-fno-ira-share-spill-slots', '-fisolate-erroneous-paths-dereference', '-fisolate-erroneous-paths-attribute', '-fivopts', '-fkeep-inline-functions', '-flive-range-shrinkage', '-floop-block', '-flra-remat', '-flto', '-fmerge-all-constants', '-fmerge-constants', '-fmodulo-sched', '-fmodulo-sched-allow-regmoves', '-fmove-loop-invariants', '-fno-branch-count-reg', '-fno-function-cse', '-fno-math-errno', '-fno-peephole2', '-fno-toplevel-reorder', '-fno-trapping-math', '-fno-zero-initialized-in-bss', '-fomit-frame-pointer', '-fpredictive-commoning', '-fprofile-reorder-functions', '-freorder-blocks', '-freorder-blocks-and-partition', '-freorder-functions', '-frerun-cse-after-loop', '-frounding-math', '-fsched-spec-load', '-fsched-spec-load-dangerous', '-fsched-critical-path-heuristic', '-fsched-rank-heuristic', '-fsched-last-insn-heuristic', '-fsched-dep-count-heuristic', '-fschedule-fusion', '-fshrink-wrap', '-fsplit-ivs-in-unroller', '-fsplit-wide-types', '-fssa-phiopt', '-fstdarg-opt', '-fthread-jumps', '-ftracer', '-ftree-bit-ccp', '-ftree-builtin-call-dce', '-ftree-ch', '-ftree-copy-prop', '-ftree-forwprop', '-ftree-loop-distribution', '-ftree-loop-distribute-patterns', '-ftree-loop-ivcanon', '-ftree-loop-optimize', '-ftree-loop-vectorize', '-ftree-partial-pre', '-ftree-pta', '-ftree-reassoc', '-ftree-slsr', '-ftree-sra', '-funsafe-math-optimizations', '-fipa-ra', '-fvpt', '-fweb', '-fwhole-program', '-fuse-linker-plugin', '-O1', '-Os']\n",
    "flags_cross_menor_7 = ['-falign-jumps', '-falign-labels', '-falign-loops', '-fbranch-probabilities', '-fbranch-target-load-optimize2', '-fbtr-bb-exclusive', '-fcaller-saves', '-fcompare-elim', '-fcse-follow-jumps', '-fcx-fortran-rules', '-fdelayed-branch', '-fdevirtualize', '-fdse', '-ffinite-math-only', '-fgcse-after-reload', '-fgcse-las', '-fgcse-lm', '-fgraphite-identity', '-fgcse-sm', '-fhoist-adjacent-loads', '-fif-conversion', '-fif-conversion2', '-findirect-inlining', '-finline-small-functions', '-fipa-cp', '-fipa-pta', '-fipa-reference', '-fno-ira-share-spill-slots', '-fisolate-erroneous-paths-dereference', '-fisolate-erroneous-paths-attribute', '-flive-range-shrinkage', '-floop-block', '-floop-interchange', '-floop-nest-optimize', '-floop-parallelize-all', '-fmerge-constants', '-fmodulo-sched', '-fno-branch-count-reg', '-fno-function-cse', '-fno-math-errno', '-fno-toplevel-reorder', '-fno-trapping-math', '-fno-zero-initialized-in-bss', '-fomit-frame-pointer', '-foptimize-sibling-calls', '-fpartial-inlining', '-fpeel-loops', '-fprofile-use', '-fprofile-values', '-freorder-blocks-and-partition', '-freorder-functions', '-fsched-pressure', '-fsched-spec-load', '-fsched-stalled-insns', '-fsched-group-heuristic', '-fsched-critical-path-heuristic', '-fsched-spec-insn-heuristic', '-fsched-last-insn-heuristic', '-fschedule-fusion', '-fselective-scheduling', '-fselective-scheduling2', '-fsel-sched-pipelining-outer-loops', '-fshrink-wrap', '-fsignaling-nans', '-fsplit-ivs-in-unroller', '-fsplit-wide-types', '-fstrict-aliasing', '-ftree-coalesce-vars', '-ftree-dce', '-ftree-dominator-opts', '-ftree-dse', '-ftree-fre', '-ftree-loop-vectorize', '-ftree-pta', '-ftree-reassoc', '-ftree-sink', '-ftree-slsr', '-ftree-sra', '-ftree-switch-conversion', '-ftree-tail-merge', '-ftree-ter', '-ftree-vectorize', '-funit-at-a-time', '-funroll-all-loops', '-funroll-loops', '-funsafe-math-optimizations', '-funswitch-loops', '-fweb', '-fwhole-program', '-O0', '-O2', '-O3', '-Os']\n",
    "flags_cross_menor_8 = ['-falign-functions', '-fauto-inc-dec', '-fbranch-target-load-optimize', '-fbranch-target-load-optimize2', '-fbtr-bb-exclusive', '-fconserve-stack', '-fcrossjumping', '-fcx-fortran-rules', '-fdelayed-branch', '-fdelete-null-pointer-checks', '-fdevirtualize-speculatively', '-fearly-inlining', '-fipa-sra', '-ffast-math', '-ffloat-store', '-fforward-propagate', '-fgcse', '-fif-conversion', '-fif-conversion2', '-finline-functions', '-finline-functions-called-once', '-fipa-pta', '-fipa-profile', '-fipa-icf', '-fira-loop-pressure', '-fisolate-erroneous-paths-attribute', '-fivopts', '-flive-range-shrinkage', '-floop-interchange', '-floop-unroll-and-jam', '-floop-nest-optimize', '-floop-parallelize-all', '-flra-remat', '-fmerge-all-constants', '-fmerge-constants', '-fmodulo-sched', '-fmodulo-sched-allow-regmoves', '-fmove-loop-invariants', '-fno-defer-pop', '-fno-peephole', '-fno-sched-spec', '-fno-trapping-math', '-fno-zero-initialized-in-bss', '-fomit-frame-pointer', '-foptimize-sibling-calls', '-fpartial-inlining', '-fpeel-loops', '-fpredictive-commoning', '-fprofile-use', '-fprofile-values', '-fprofile-reorder-functions', '-frename-registers', '-freorder-blocks', '-freorder-blocks-and-partition', '-freorder-functions', '-frerun-cse-after-loop', '-frounding-math', '-fsched-stalled-insns', '-fsched-dep-count-heuristic', '-fschedule-fusion', '-fschedule-insns', '-fsel-sched-pipelining-outer-loops', '-fshrink-wrap', '-fsignaling-nans', '-fsingle-precision-constant', '-fsplit-ivs-in-unroller', '-fsplit-wide-types', '-fssa-phiopt', '-fstdarg-opt', '-fthread-jumps', '-ftree-builtin-call-dce', '-ftree-ch', '-ftree-coalesce-vars', '-ftree-dominator-opts', '-ftree-forwprop', '-ftree-loop-if-convert', '-ftree-loop-distribute-patterns', '-ftree-loop-ivcanon', '-ftree-loop-optimize', '-ftree-pta', '-ftree-reassoc', '-ftree-sink', '-ftree-slsr', '-ftree-sra', '-ftree-switch-conversion', '-ftree-vrp', '-funit-at-a-time', '-funsafe-math-optimizations', '-fvariable-expansion-in-unroller', '-fvect-cost-model', '-fwhole-program', '-O1', '-O2', '-Os']\n",
    "flags_cross_menor_9 = ['-falign-functions', '-falign-jumps', '-falign-loops', '-fauto-inc-dec', '-fbtr-bb-exclusive', '-fcprop-registers', '-fcx-fortran-rules', '-fcx-limited-range', '-fdce', '-fdelayed-branch', '-fdevirtualize', '-fdevirtualize-speculatively', '-fdevirtualize-at-ltrans', '-fdse', '-fearly-inlining', '-fipa-sra', '-ffast-math', '-ffloat-store', '-fforward-propagate', '-fgcse', '-fgcse-las', '-fgcse-lm', '-fif-conversion', '-findirect-inlining', '-finline-small-functions', '-fipa-pta', '-fipa-pure-const', '-fira-hoist-pressure', '-fira-loop-pressure', '-fno-ira-share-spill-slots', '-fisolate-erroneous-paths-dereference', '-fivopts', '-fkeep-inline-functions', '-fkeep-static-consts', '-floop-strip-mine', '-floop-unroll-and-jam', '-floop-nest-optimize', '-floop-parallelize-all', '-flra-remat', '-fmerge-all-constants', '-fmerge-constants', '-fmodulo-sched', '-fmodulo-sched-allow-regmoves', '-fno-branch-count-reg', '-fno-defer-pop', '-fno-inline', '-fomit-frame-pointer', '-foptimize-sibling-calls', '-fpartial-inlining', '-fprofile-correction', '-fprofile-use', '-fprofile-values', '-frename-registers', '-frounding-math', '-fsched-pressure', '-fsched-spec-load-dangerous', '-fsched-stalled-insns', '-fsched-group-heuristic', '-fsched-rank-heuristic', '-fsched-dep-count-heuristic', '-fschedule-fusion', '-fselective-scheduling2', '-fsel-sched-pipelining', '-fsel-sched-pipelining-outer-loops', '-fsemantic-interposition', '-fshrink-wrap', '-fsingle-precision-constant', '-fssa-phiopt', '-fthread-jumps', '-ftracer', '-ftree-bit-ccp', '-ftree-ch', '-ftree-dse', '-ftree-forwprop', '-ftree-loop-if-convert', '-ftree-loop-im', '-ftree-phiprop', '-ftree-loop-distribution', '-ftree-loop-ivcanon', '-ftree-sra', '-ftree-switch-conversion', '-ftree-ter', '-ftree-vectorize', '-funit-at-a-time', '-funsafe-math-optimizations', '-funswitch-loops', '-fvariable-expansion-in-unroller', '-fvect-cost-model', '-fweb', '-fwhole-program', '-fuse-linker-plugin', '-O0', '-O1', '-Os', '-Ofast']\n",
    "flags_cross_menor_10 = ['-falign-loops', '-fbranch-target-load-optimize', '-fcprop-registers', '-fcrossjumping', '-fcx-limited-range', '-fdce', '-fdelete-null-pointer-checks', '-fdevirtualize', '-fdevirtualize-speculatively', '-fdevirtualize-at-ltrans', '-ffloat-store', '-fgcse-after-reload', '-fgraphite-identity', '-fgcse-sm', '-fif-conversion', '-findirect-inlining', '-finline-functions', '-finline-functions-called-once', '-finline-small-functions', '-fipa-cp-clone', '-fipa-profile', '-fipa-pure-const', '-fisolate-erroneous-paths-dereference', '-fisolate-erroneous-paths-attribute', '-fivopts', '-fkeep-inline-functions', '-flive-range-shrinkage', '-floop-interchange', '-floop-nest-optimize', '-flra-remat', '-fmerge-all-constants', '-fmerge-constants', '-fmodulo-sched', '-fmove-loop-invariants', '-fno-function-cse', '-fno-guess-branch-probability', '-fno-math-errno', '-fno-peephole2', '-fno-sched-interblock', '-fno-trapping-math', '-fno-zero-initialized-in-bss', '-fomit-frame-pointer', '-foptimize-sibling-calls', '-fprofile-use', '-fprofile-values', '-fprofile-reorder-functions', '-frename-registers', '-freorder-blocks-and-partition', '-freorder-functions', '-frerun-cse-after-loop', '-frounding-math', '-fsched2-use-superblocks', '-fsched-spec-load', '-fsched-spec-load-dangerous', '-fsched-stalled-insns-dep', '-fsched-stalled-insns', '-fsched-group-heuristic', '-fschedule-fusion', '-fschedule-insns', '-fsel-sched-pipelining-outer-loops', '-fsemantic-interposition', '-fshrink-wrap', '-fsingle-precision-constant', '-fsplit-ivs-in-unroller', '-fstrict-aliasing', '-ftracer', '-ftree-ccp', '-ftree-ch', '-ftree-copy-prop', '-ftree-dominator-opts', '-ftree-dse', '-ftree-forwprop', '-ftree-loop-im', '-ftree-loop-distribution', '-ftree-loop-distribute-patterns', '-ftree-loop-linear', '-ftree-loop-optimize', '-ftree-loop-vectorize', '-ftree-pre', '-ftree-partial-pre', '-ftree-reassoc', '-ftree-sink', '-ftree-slsr', '-ftree-switch-conversion', '-ftree-vectorize', '-ftree-vrp', '-funit-at-a-time', '-funsafe-math-optimizations', '-fvect-cost-model', '-fweb', '-O', '-O1', '-Os']"
   ]
  },
  {
   "cell_type": "code",
   "execution_count": 5,
   "metadata": {},
   "outputs": [],
   "source": [
    "flags_mut_maior_1 = ['-falign-functions', '-falign-loops', '-fconserve-stack', '-fcompare-elim', '-fcprop-registers', '-fcrossjumping', '-fcse-follow-jumps', '-fcse-skip-blocks', '-fcx-fortran-rules', '-fcx-limited-range', '-fdelete-null-pointer-checks', '-fdevirtualize', '-fdevirtualize-speculatively', '-fdevirtualize-at-ltrans', '-fearly-inlining', '-fipa-sra', '-fexpensive-optimizations', '-ffat-lto-objects', '-ffast-math', '-fgcse', '-fgcse-lm', '-fgraphite-identity', '-fif-conversion2', '-finline-small-functions', '-fipa-cp', '-fipa-pta', '-fipa-pure-const', '-fipa-reference', '-fira-hoist-pressure', '-fno-ira-share-spill-slots', '-fkeep-inline-functions', '-floop-strip-mine', '-floop-unroll-and-jam', '-floop-nest-optimize', '-floop-parallelize-all', '-flra-remat', '-flto', '-fmerge-all-constants', '-fmerge-constants', '-fmodulo-sched-allow-regmoves', '-fmove-loop-invariants', '-fno-defer-pop', '-fno-guess-branch-probability', '-fno-math-errno', '-fno-sched-interblock', '-fno-signed-zeros', '-fno-toplevel-reorder', '-fno-zero-initialized-in-bss', '-foptimize-sibling-calls', '-fpeel-loops', '-fprofile-correction', '-fprofile-use', '-freorder-blocks-and-partition', '-freschedule-modulo-scheduled-loops', '-frounding-math', '-fsched-spec-load', '-fsched-stalled-insns-dep', '-fsched-stalled-insns', '-fsched-group-heuristic', '-fsched-spec-insn-heuristic', '-fsched-last-insn-heuristic', '-fselective-scheduling', '-fsel-sched-pipelining', '-fsel-sched-pipelining-outer-loops', '-fsignaling-nans', '-fsplit-ivs-in-unroller', '-fsplit-wide-types', '-fstrict-aliasing', '-ftree-bit-ccp', '-ftree-builtin-call-dce', '-ftree-ch', '-ftree-coalesce-vars', '-ftree-loop-if-convert', '-ftree-loop-im', '-ftree-phiprop', '-ftree-loop-optimize', '-ftree-pta', '-ftree-reassoc', '-ftree-slsr', '-ftree-switch-conversion', '-ftree-ter', '-fvariable-expansion-in-unroller', '-fvpt', '-fweb', '-O0', '-O3', '-Os']\n",
    "flags_mut_maior_2 = ['-falign-functions', '-falign-jumps', '-falign-loops', '-fauto-inc-dec', '-fbranch-probabilities', '-fbranch-target-load-optimize', '-fbtr-bb-exclusive', '-fcaller-saves', '-fcrossjumping', '-fcx-fortran-rules', '-fcx-limited-range', '-fdata-sections', '-fdce', '-fdevirtualize', '-fdevirtualize-at-ltrans', '-fipa-sra', '-fexpensive-optimizations', '-ffat-lto-objects', '-ffast-math', '-ffinite-math-only', '-ffloat-store', '-fforward-propagate', '-fgcse-las', '-fgcse-lm', '-fgraphite-identity', '-fif-conversion', '-fif-conversion2', '-findirect-inlining', '-finline-functions-called-once', '-finline-small-functions', '-fipa-cp', '-fipa-pure-const', '-fipa-icf', '-fira-hoist-pressure', '-fisolate-erroneous-paths-dereference', '-fisolate-erroneous-paths-attribute', '-flive-range-shrinkage', '-floop-block', '-floop-strip-mine', '-fmerge-constants', '-fmodulo-sched', '-fmove-loop-invariants', '-fno-branch-count-reg', '-fno-function-cse', '-fno-math-errno', '-fno-sched-spec', '-fno-signed-zeros', '-fno-toplevel-reorder', '-fno-trapping-math', '-fpartial-inlining', '-fpredictive-commoning', '-fprofile-correction', '-fprofile-values', '-fprofile-reorder-functions', '-freorder-blocks', '-freorder-blocks-and-partition', '-fsched2-use-superblocks', '-fsched-pressure', '-fsched-spec-load', '-fsched-stalled-insns', '-fsched-last-insn-heuristic', '-fselective-scheduling', '-fselective-scheduling2', '-fsel-sched-pipelining', '-fsel-sched-pipelining-outer-loops', '-fsignaling-nans', '-fsplit-ivs-in-unroller', '-fsplit-wide-types', '-fssa-phiopt', '-fstrict-aliasing', '-ftree-builtin-call-dce', '-ftree-ccp', '-ftree-copy-prop', '-ftree-dominator-opts', '-ftree-fre', '-ftree-loop-if-convert', '-ftree-loop-im', '-ftree-phiprop', '-ftree-loop-distribute-patterns', '-ftree-loop-ivcanon', '-ftree-pre', '-ftree-reassoc', '-ftree-ter', '-ftree-vectorize', '-funit-at-a-time', '-funsafe-math-optimizations', '-funswitch-loops', '-fvpt', '-fweb', '-fuse-linker-plugin', '-O', '-O0', '-O1', '-Os']\n",
    "flags_mut_maior_3 = ['-falign-labels', '-fauto-inc-dec', '-fbranch-probabilities', '-fbranch-target-load-optimize', '-fconserve-stack', '-fcse-follow-jumps', '-fcx-fortran-rules', '-fcx-limited-range', '-fdata-sections', '-fdce', '-fdevirtualize', '-fdevirtualize-speculatively', '-fdevirtualize-at-ltrans', '-fipa-sra', '-fexpensive-optimizations', '-fforward-propagate', '-ffunction-sections', '-fgcse-after-reload', '-fgraphite-identity', '-fgcse-sm', '-fhoist-adjacent-loads', '-fif-conversion', '-fif-conversion2', '-findirect-inlining', '-finline-small-functions', '-fipa-cp', '-fipa-cp-clone', '-fipa-pta', '-fipa-profile', '-fipa-pure-const', '-fipa-reference', '-fira-loop-pressure', '-fno-ira-share-save-slots', '-fno-ira-share-spill-slots', '-fisolate-erroneous-paths-attribute', '-fivopts', '-fkeep-inline-functions', '-fkeep-static-consts', '-flive-range-shrinkage', '-floop-block', '-floop-interchange', '-floop-unroll-and-jam', '-floop-nest-optimize', '-floop-parallelize-all', '-flto', '-fmerge-constants', '-fno-guess-branch-probability', '-fno-zero-initialized-in-bss', '-fpeel-loops', '-fprofile-use', '-fprofile-values', '-fprofile-reorder-functions', '-frename-registers', '-freorder-functions', '-frounding-math', '-fsched2-use-superblocks', '-fsched-pressure', '-fsched-spec-load', '-fsched-spec-load-dangerous', '-fsched-stalled-insns-dep', '-fsched-stalled-insns', '-fsched-group-heuristic', '-fsched-rank-heuristic', '-fsched-dep-count-heuristic', '-fschedule-fusion', '-fselective-scheduling2', '-fsel-sched-pipelining', '-fsemantic-interposition', '-fshrink-wrap', '-fsingle-precision-constant', '-fsplit-ivs-in-unroller', '-fsplit-wide-types', '-fstdarg-opt', '-fstrict-aliasing', '-fthread-jumps', '-ftree-bit-ccp', '-ftree-builtin-call-dce', '-ftree-ccp', '-ftree-ch', '-ftree-coalesce-vars', '-ftree-copy-prop', '-ftree-dce', '-ftree-dominator-opts', '-ftree-forwprop', '-ftree-loop-if-convert', '-ftree-loop-im', '-ftree-loop-ivcanon', '-ftree-loop-linear', '-ftree-loop-optimize', '-ftree-pre', '-ftree-pta', '-ftree-sink', '-ftree-slsr', '-ftree-tail-merge', '-ftree-ter', '-ftree-vectorize', '-funit-at-a-time', '-funroll-all-loops', '-funroll-loops', '-funswitch-loops', '-Os']\n",
    "flags_mut_maior_4 = ['-falign-labels', '-fauto-inc-dec', '-fbranch-probabilities', '-fbranch-target-load-optimize', '-fcombine-stack-adjustments', '-fcompare-elim', '-fcprop-registers', '-fcse-follow-jumps', '-fcx-fortran-rules', '-fdata-sections', '-fdce', '-fdevirtualize', '-fdevirtualize-speculatively', '-fdse', '-fipa-sra', '-ffat-lto-objects', '-ffinite-math-only', '-ffunction-sections', '-fgraphite-identity', '-fif-conversion', '-finline-functions', '-finline-small-functions', '-fipa-cp-clone', '-fipa-pta', '-fipa-profile', '-fipa-pure-const', '-fipa-icf', '-fira-hoist-pressure', '-fisolate-erroneous-paths-dereference', '-fkeep-inline-functions', '-flive-range-shrinkage', '-floop-interchange', '-floop-unroll-and-jam', '-floop-nest-optimize', '-fmodulo-sched-allow-regmoves', '-fmove-loop-invariants', '-fno-branch-count-reg', '-fno-function-cse', '-fno-guess-branch-probability', '-fno-math-errno', '-fno-sched-interblock', '-fno-toplevel-reorder', '-fno-zero-initialized-in-bss', '-foptimize-sibling-calls', '-fpartial-inlining', '-fpeel-loops', '-fpredictive-commoning', '-fprofile-correction', '-fprofile-use', '-fprofile-values', '-frename-registers', '-freorder-blocks', '-frerun-cse-after-loop', '-freschedule-modulo-scheduled-loops', '-frounding-math', '-fsched2-use-superblocks', '-fsched-spec-load', '-fsched-stalled-insns-dep', '-fsched-spec-insn-heuristic', '-fsched-dep-count-heuristic', '-fschedule-insns', '-fselective-scheduling', '-fsel-sched-pipelining', '-fsel-sched-pipelining-outer-loops', '-fsemantic-interposition', '-fshrink-wrap', '-fstdarg-opt', '-fstrict-aliasing', '-fthread-jumps', '-ftree-builtin-call-dce', '-ftree-ccp', '-ftree-ch', '-ftree-copy-prop', '-ftree-dce', '-ftree-dominator-opts', '-ftree-forwprop', '-ftree-loop-distribution', '-ftree-loop-distribute-patterns', '-ftree-loop-ivcanon', '-ftree-loop-linear', '-ftree-loop-vectorize', '-ftree-pre', '-ftree-pta', '-ftree-reassoc', '-ftree-sink', '-ftree-slsr', '-ftree-switch-conversion', '-ftree-tail-merge', '-ftree-vectorize', '-funroll-all-loops', '-funroll-loops', '-fipa-ra', '-fvariable-expansion-in-unroller', '-fvect-cost-model', '-fweb', '-fuse-linker-plugin', '-O0', '-O1', '-O2', '-O3', '-Os']\n",
    "flags_mut_maior_5 = ['-falign-functions', '-falign-jumps', '-falign-labels', '-falign-loops', '-fbtr-bb-exclusive', '-fcprop-registers', '-fcse-follow-jumps', '-fcse-skip-blocks', '-fdata-sections', '-fdce', '-fdelayed-branch', '-fdevirtualize', '-fdevirtualize-speculatively', '-fdevirtualize-at-ltrans', '-fearly-inlining', '-fexpensive-optimizations', '-ffat-lto-objects', '-ffloat-store', '-fforward-propagate', '-ffunction-sections', '-fgcse', '-fgcse-after-reload', '-fgcse-lm', '-fif-conversion', '-fif-conversion2', '-finline-functions', '-finline-functions-called-once', '-finline-small-functions', '-fipa-cp', '-fipa-cp-clone', '-fipa-icf', '-fira-loop-pressure', '-fno-ira-share-save-slots', '-fno-ira-share-spill-slots', '-floop-interchange', '-floop-strip-mine', '-floop-unroll-and-jam', '-floop-nest-optimize', '-floop-parallelize-all', '-flra-remat', '-flto', '-fmerge-all-constants', '-fmodulo-sched', '-fmodulo-sched-allow-regmoves', '-fmove-loop-invariants', '-fno-branch-count-reg', '-fno-defer-pop', '-fno-function-cse', '-fpeel-loops', '-fpredictive-commoning', '-fprofile-correction', '-fprofile-use', '-freorder-blocks-and-partition', '-freschedule-modulo-scheduled-loops', '-fsched2-use-superblocks', '-fsched-spec-load', '-fsched-spec-load-dangerous', '-fsched-critical-path-heuristic', '-fsched-spec-insn-heuristic', '-fsched-rank-heuristic', '-fsched-last-insn-heuristic', '-fschedule-insns', '-fselective-scheduling2', '-fsignaling-nans', '-fsplit-ivs-in-unroller', '-fssa-phiopt', '-fstdarg-opt', '-fthread-jumps', '-ftree-builtin-call-dce', '-ftree-ccp', '-ftree-ch', '-ftree-coalesce-vars', '-ftree-dominator-opts', '-ftree-fre', '-ftree-loop-im', '-ftree-loop-optimize', '-ftree-pre', '-ftree-pta', '-ftree-reassoc', '-ftree-slsr', '-ftree-switch-conversion', '-ftree-tail-merge', '-ftree-vrp', '-funroll-all-loops', '-funroll-loops', '-funswitch-loops', '-fipa-ra', '-fvariable-expansion-in-unroller', '-fvect-cost-model', '-fvpt', '-fwhole-program', '-fuse-linker-plugin', '-O3', '-Os']\n",
    "flags_mut_maior_6 = ['-falign-functions', '-falign-jumps', '-falign-loops', '-fbranch-probabilities', '-fbtr-bb-exclusive', '-fcombine-stack-adjustments', '-fconserve-stack', '-fcrossjumping', '-fcse-follow-jumps', '-fcse-skip-blocks', '-fdata-sections', '-fdce', '-fdevirtualize-speculatively', '-fdse', '-fearly-inlining', '-fipa-sra', '-fexpensive-optimizations', '-ffinite-math-only', '-ffloat-store', '-fforward-propagate', '-fgcse', '-fgcse-after-reload', '-fgcse-sm', '-fhoist-adjacent-loads', '-fif-conversion', '-findirect-inlining', '-finline-functions', '-fipa-cp', '-fipa-pta', '-fipa-profile', '-fipa-icf', '-fira-hoist-pressure', '-fno-ira-share-spill-slots', '-fisolate-erroneous-paths-dereference', '-fisolate-erroneous-paths-attribute', '-fivopts', '-fkeep-inline-functions', '-floop-interchange', '-floop-strip-mine', '-floop-parallelize-all', '-fmerge-constants', '-fno-guess-branch-probability', '-fno-math-errno', '-fno-peephole', '-fno-peephole2', '-fno-sched-spec', '-fno-trapping-math', '-fno-zero-initialized-in-bss', '-foptimize-sibling-calls', '-fprofile-correction', '-fprofile-use', '-fprofile-reorder-functions', '-frename-registers', '-freorder-blocks-and-partition', '-freorder-functions', '-freschedule-modulo-scheduled-loops', '-frounding-math', '-fsched-pressure', '-fsched-spec-load-dangerous', '-fsched-stalled-insns', '-fsched-critical-path-heuristic', '-fsched-spec-insn-heuristic', '-fsched-rank-heuristic', '-fsched-last-insn-heuristic', '-fsched-dep-count-heuristic', '-fschedule-insns', '-fselective-scheduling2', '-fsel-sched-pipelining', '-fsel-sched-pipelining-outer-loops', '-fshrink-wrap', '-fsplit-ivs-in-unroller', '-fsplit-wide-types', '-fssa-phiopt', '-fstrict-aliasing', '-fthread-jumps', '-ftree-bit-ccp', '-ftree-builtin-call-dce', '-ftree-ccp', '-ftree-ch', '-ftree-dce', '-ftree-dominator-opts', '-ftree-forwprop', '-ftree-loop-if-convert', '-ftree-loop-distribution', '-ftree-loop-distribute-patterns', '-ftree-loop-ivcanon', '-ftree-loop-vectorize', '-ftree-partial-pre', '-ftree-pta', '-ftree-reassoc', '-ftree-sink', '-ftree-sra', '-funswitch-loops', '-fvpt', '-O', '-O2', '-O3', '-Os']\n",
    "flags_mut_maior_7 = ['-falign-functions', '-falign-jumps', '-falign-labels', '-fbranch-probabilities', '-fcaller-saves', '-fcompare-elim', '-fcse-follow-jumps', '-fcse-skip-blocks', '-fcx-fortran-rules', '-fdata-sections', '-fdse', '-fipa-sra', '-ffat-lto-objects', '-fforward-propagate', '-ffunction-sections', '-fgcse', '-fgcse-after-reload', '-fgcse-lm', '-fgcse-sm', '-fhoist-adjacent-loads', '-fif-conversion2', '-findirect-inlining', '-finline-functions', '-finline-functions-called-once', '-fipa-cp-clone', '-fipa-profile', '-fipa-pure-const', '-fipa-reference', '-fira-hoist-pressure', '-fisolate-erroneous-paths-dereference', '-fkeep-inline-functions', '-fkeep-static-consts', '-flive-range-shrinkage', '-floop-block', '-floop-unroll-and-jam', '-floop-parallelize-all', '-flra-remat', '-flto', '-fmerge-all-constants', '-fmerge-constants', '-fmodulo-sched-allow-regmoves', '-fmove-loop-invariants', '-fno-branch-count-reg', '-fno-function-cse', '-fno-guess-branch-probability', '-fno-peephole', '-fno-sched-interblock', '-fno-sched-spec', '-fno-toplevel-reorder', '-fno-trapping-math', '-fno-zero-initialized-in-bss', '-fomit-frame-pointer', '-foptimize-sibling-calls', '-fpartial-inlining', '-fpredictive-commoning', '-fprofile-use', '-freschedule-modulo-scheduled-loops', '-frounding-math', '-fsched-pressure', '-fsched-spec-load', '-fsched-critical-path-heuristic', '-fsched-spec-insn-heuristic', '-fsched-rank-heuristic', '-fsched-dep-count-heuristic', '-fschedule-insns', '-fsingle-precision-constant', '-fsplit-ivs-in-unroller', '-fssa-phiopt', '-fstdarg-opt', '-fthread-jumps', '-ftracer', '-ftree-builtin-call-dce', '-ftree-copy-prop', '-ftree-dominator-opts', '-ftree-fre', '-ftree-loop-ivcanon', '-ftree-loop-linear', '-ftree-loop-optimize', '-ftree-pre', '-ftree-partial-pre', '-ftree-reassoc', '-ftree-sink', '-ftree-slsr', '-ftree-switch-conversion', '-ftree-tail-merge', '-ftree-ter', '-ftree-vectorize', '-ftree-vrp', '-funroll-loops', '-funswitch-loops', '-fvect-cost-model', '-O0', '-O1', '-O2', '-Os']\n",
    "flags_mut_maior_8 = ['-falign-functions', '-falign-jumps', '-falign-labels', '-falign-loops', '-fcompare-elim', '-fcprop-registers', '-fcrossjumping', '-fcse-skip-blocks', '-fdelayed-branch', '-fdse', '-ffat-lto-objects', '-ffinite-math-only', '-fforward-propagate', '-ffunction-sections', '-fgcse-after-reload', '-fgcse-lm', '-fgcse-sm', '-fhoist-adjacent-loads', '-fif-conversion2', '-findirect-inlining', '-finline-small-functions', '-fipa-cp', '-fipa-cp-clone', '-fipa-profile', '-fipa-reference', '-fira-loop-pressure', '-fno-ira-share-save-slots', '-fno-ira-share-spill-slots', '-fisolate-erroneous-paths-dereference', '-fisolate-erroneous-paths-attribute', '-fivopts', '-fkeep-inline-functions', '-floop-strip-mine', '-floop-unroll-and-jam', '-floop-parallelize-all', '-flra-remat', '-flto', '-fmerge-all-constants', '-fmerge-constants', '-fno-branch-count-reg', '-fno-guess-branch-probability', '-fno-peephole', '-fno-peephole2', '-fno-sched-spec', '-fno-signed-zeros', '-fomit-frame-pointer', '-foptimize-sibling-calls', '-fpartial-inlining', '-fpeel-loops', '-fpredictive-commoning', '-fprofile-values', '-freorder-functions', '-frerun-cse-after-loop', '-freschedule-modulo-scheduled-loops', '-fsched-pressure', '-fsched-spec-load', '-fsched-spec-load-dangerous', '-fsched-group-heuristic', '-fsched-spec-insn-heuristic', '-fsched-dep-count-heuristic', '-fschedule-fusion', '-fselective-scheduling', '-fselective-scheduling2', '-fsel-sched-pipelining', '-fshrink-wrap', '-fsingle-precision-constant', '-fsplit-wide-types', '-fssa-phiopt', '-fstrict-aliasing', '-fthread-jumps', '-ftree-bit-ccp', '-ftree-builtin-call-dce', '-ftree-ccp', '-ftree-coalesce-vars', '-ftree-copy-prop', '-ftree-loop-if-convert', '-ftree-loop-im', '-ftree-loop-distribution', '-ftree-loop-linear', '-ftree-loop-optimize', '-ftree-loop-vectorize', '-ftree-partial-pre', '-ftree-reassoc', '-ftree-slsr', '-ftree-sra', '-ftree-switch-conversion', '-ftree-ter', '-ftree-vectorize', '-ftree-vrp', '-funroll-all-loops', '-funroll-loops', '-funsafe-math-optimizations', '-funswitch-loops', '-fipa-ra', '-fvariable-expansion-in-unroller', '-fweb', '-O0', '-O1', '-O2', '-Os']\n",
    "flags_mut_maior_9 = ['-falign-jumps', '-falign-loops', '-fbranch-probabilities', '-fbtr-bb-exclusive', '-fcaller-saves', '-fconserve-stack', '-fcompare-elim', '-fcprop-registers', '-fcrossjumping', '-fdelayed-branch', '-fdevirtualize', '-fdevirtualize-at-ltrans', '-fearly-inlining', '-fexpensive-optimizations', '-ffinite-math-only', '-fforward-propagate', '-ffunction-sections', '-fgcse', '-fgcse-after-reload', '-fgcse-las', '-fgcse-lm', '-fgcse-sm', '-fhoist-adjacent-loads', '-finline-functions-called-once', '-finline-small-functions', '-fipa-cp', '-fipa-cp-clone', '-fipa-pure-const', '-fipa-icf', '-fira-loop-pressure', '-fno-ira-share-save-slots', '-fisolate-erroneous-paths-attribute', '-floop-block', '-floop-interchange', '-floop-strip-mine', '-flra-remat', '-flto', '-fmerge-all-constants', '-fmerge-constants', '-fmodulo-sched', '-fmove-loop-invariants', '-fno-branch-count-reg', '-fno-function-cse', '-fno-inline', '-fno-peephole2', '-fno-sched-interblock', '-fno-sched-spec', '-fno-toplevel-reorder', '-fomit-frame-pointer', '-fpeel-loops', '-fpredictive-commoning', '-fprofile-correction', '-fprofile-use', '-fprofile-values', '-freorder-blocks', '-frounding-math', '-fsched2-use-superblocks', '-fsched-spec-load', '-fsched-stalled-insns-dep', '-fsched-stalled-insns', '-fsched-rank-heuristic', '-fsched-last-insn-heuristic', '-fsched-dep-count-heuristic', '-fschedule-insns', '-fselective-scheduling', '-fselective-scheduling2', '-fsel-sched-pipelining', '-fsemantic-interposition', '-fsingle-precision-constant', '-fsplit-ivs-in-unroller', '-fssa-phiopt', '-fstdarg-opt', '-fthread-jumps', '-ftracer', '-ftree-bit-ccp', '-ftree-builtin-call-dce', '-ftree-coalesce-vars', '-ftree-dominator-opts', '-ftree-fre', '-ftree-loop-if-convert', '-ftree-loop-im', '-ftree-phiprop', '-ftree-loop-distribute-patterns', '-ftree-loop-linear', '-ftree-loop-optimize', '-ftree-loop-vectorize', '-ftree-partial-pre', '-ftree-reassoc', '-ftree-sink', '-ftree-sra', '-ftree-vectorize', '-ftree-vrp', '-funit-at-a-time', '-funroll-loops', '-funswitch-loops', '-fvariable-expansion-in-unroller', '-fvect-cost-model', '-fvpt', '-fweb', '-O', '-O0', '-O1', '-O2', '-O3', '-Os', '-Ofast']\n",
    "flags_mut_maior_10 = ['-falign-jumps', '-falign-labels', '-fauto-inc-dec', '-fbranch-probabilities', '-fbranch-target-load-optimize2', '-fcaller-saves', '-fconserve-stack', '-fcse-follow-jumps', '-fcse-skip-blocks', '-fdata-sections', '-fdce', '-fdelayed-branch', '-fdevirtualize', '-fdse', '-fipa-sra', '-ffat-lto-objects', '-ffast-math', '-ffinite-math-only', '-ffloat-store', '-fgcse-after-reload', '-fgcse-las', '-fgcse-sm', '-fhoist-adjacent-loads', '-fif-conversion', '-fif-conversion2', '-findirect-inlining', '-finline-functions', '-finline-functions-called-once', '-fipa-cp-clone', '-fipa-profile', '-fipa-pure-const', '-fipa-reference', '-fipa-icf', '-fira-hoist-pressure', '-fisolate-erroneous-paths-dereference', '-fisolate-erroneous-paths-attribute', '-fivopts', '-fkeep-inline-functions', '-fkeep-static-consts', '-floop-block', '-floop-interchange', '-floop-unroll-and-jam', '-floop-nest-optimize', '-fmerge-all-constants', '-fmodulo-sched-allow-regmoves', '-fno-branch-count-reg', '-fno-guess-branch-probability', '-fno-peephole', '-fno-sched-spec', '-fno-toplevel-reorder', '-fpredictive-commoning', '-fprofile-use', '-fprofile-values', '-fprofile-reorder-functions', '-frename-registers', '-freorder-blocks', '-freschedule-modulo-scheduled-loops', '-fsched-stalled-insns-dep', '-fsched-group-heuristic', '-fsched-critical-path-heuristic', '-fschedule-insns', '-fsel-sched-pipelining', '-fsel-sched-pipelining-outer-loops', '-fsemantic-interposition', '-fshrink-wrap', '-fsplit-ivs-in-unroller', '-fsplit-wide-types', '-fstdarg-opt', '-fthread-jumps', '-ftree-ch', '-ftree-forwprop', '-ftree-fre', '-ftree-loop-if-convert', '-ftree-loop-im', '-ftree-phiprop', '-ftree-loop-linear', '-ftree-slsr', '-ftree-sra', '-ftree-switch-conversion', '-ftree-tail-merge', '-ftree-vrp', '-funit-at-a-time', '-funsafe-math-optimizations', '-fipa-ra', '-fwhole-program', '-fuse-linker-plugin', '-O1', '-O3', '-Os']"
   ]
  },
  {
   "cell_type": "code",
   "execution_count": 6,
   "metadata": {},
   "outputs": [],
   "source": [
    "flags_mut_menor_1 = ['-falign-labels', '-fauto-inc-dec', '-fbranch-target-load-optimize2', '-fbtr-bb-exclusive', '-fcaller-saves', '-fconserve-stack', '-fcompare-elim', '-fcprop-registers', '-fcx-fortran-rules', '-fcx-limited-range', '-fdce', '-fdelayed-branch', '-fdevirtualize-speculatively', '-fdse', '-fexpensive-optimizations', '-ffat-lto-objects', '-fforward-propagate', '-fgcse', '-fgcse-after-reload', '-fgcse-las', '-fgcse-lm', '-fhoist-adjacent-loads', '-fif-conversion2', '-finline-functions', '-finline-functions-called-once', '-finline-small-functions', '-fipa-pta', '-fipa-profile', '-fipa-reference', '-fira-hoist-pressure', '-fira-loop-pressure', '-fno-ira-share-save-slots', '-fno-ira-share-spill-slots', '-fisolate-erroneous-paths-dereference', '-fisolate-erroneous-paths-attribute', '-fkeep-inline-functions', '-fkeep-static-consts', '-flive-range-shrinkage', '-floop-block', '-floop-interchange', '-floop-nest-optimize', '-flra-remat', '-fmerge-constants', '-fmodulo-sched-allow-regmoves', '-fno-branch-count-reg', '-fno-math-errno', '-fno-sched-spec', '-fno-trapping-math', '-fpartial-inlining', '-fpeel-loops', '-fpredictive-commoning', '-fprofile-correction', '-fprofile-use', '-fprofile-values', '-fprofile-reorder-functions', '-freorder-functions', '-fsched2-use-superblocks', '-fsched-pressure', '-fsched-spec-load', '-fsched-spec-load-dangerous', '-fsched-stalled-insns-dep', '-fsched-stalled-insns', '-fsched-group-heuristic', '-fsched-critical-path-heuristic', '-fsched-spec-insn-heuristic', '-fsched-dep-count-heuristic', '-fselective-scheduling', '-fselective-scheduling2', '-fthread-jumps', '-ftree-ccp', '-ftree-coalesce-vars', '-ftree-dce', '-ftree-dominator-opts', '-ftree-forwprop', '-ftree-loop-im', '-ftree-phiprop', '-ftree-loop-distribute-patterns', '-ftree-loop-ivcanon', '-ftree-loop-linear', '-ftree-loop-optimize', '-ftree-pre', '-ftree-partial-pre', '-ftree-pta', '-ftree-tail-merge', '-ftree-vectorize', '-funit-at-a-time', '-funroll-all-loops', '-funroll-loops', '-funsafe-math-optimizations', '-funswitch-loops', '-fvect-cost-model', '-fweb', '-fuse-linker-plugin', '-O', '-O0', '-O1', '-O2', '-Os']\n",
    "flags_mut_menor_2 = ['-falign-functions', '-falign-loops', '-fbranch-target-load-optimize', '-fbtr-bb-exclusive', '-fconserve-stack', '-fcompare-elim', '-fcrossjumping', '-fcse-follow-jumps', '-fcx-fortran-rules', '-fcx-limited-range', '-fdata-sections', '-fdce', '-fdelayed-branch', '-fdelete-null-pointer-checks', '-fdse', '-fearly-inlining', '-ffat-lto-objects', '-ffast-math', '-ffinite-math-only', '-ffloat-store', '-fforward-propagate', '-ffunction-sections', '-fgcse', '-fgcse-las', '-fgraphite-identity', '-fgcse-sm', '-fif-conversion2', '-findirect-inlining', '-finline-functions-called-once', '-finline-small-functions', '-fipa-cp', '-fipa-cp-clone', '-fipa-pta', '-fipa-pure-const', '-fno-ira-share-spill-slots', '-fisolate-erroneous-paths-dereference', '-fisolate-erroneous-paths-attribute', '-fivopts', '-fkeep-inline-functions', '-fkeep-static-consts', '-flive-range-shrinkage', '-floop-block', '-floop-interchange', '-fmerge-all-constants', '-fmodulo-sched', '-fmodulo-sched-allow-regmoves', '-fmove-loop-invariants', '-fno-defer-pop', '-fno-function-cse', '-fno-inline', '-fno-sched-interblock', '-fno-sched-spec', '-fno-zero-initialized-in-bss', '-foptimize-sibling-calls', '-fpartial-inlining', '-fpredictive-commoning', '-fprofile-use', '-fprofile-values', '-frename-registers', '-freorder-blocks-and-partition', '-fsched-spec-insn-heuristic', '-fschedule-fusion', '-fschedule-insns', '-fsel-sched-pipelining-outer-loops', '-fshrink-wrap', '-fsignaling-nans', '-fsingle-precision-constant', '-fsplit-ivs-in-unroller', '-fssa-phiopt', '-fstdarg-opt', '-ftracer', '-ftree-builtin-call-dce', '-ftree-dominator-opts', '-ftree-forwprop', '-ftree-loop-im', '-ftree-loop-distribution', '-ftree-loop-linear', '-ftree-loop-vectorize', '-ftree-pre', '-ftree-slsr', '-ftree-switch-conversion', '-funroll-all-loops', '-funroll-loops', '-funsafe-math-optimizations', '-funswitch-loops', '-fvpt', '-fweb', '-fwhole-program', '-O0', '-O2', '-Os', '-Ofast']\n",
    "flags_mut_menor_3 = ['-falign-functions', '-falign-jumps', '-falign-labels', '-falign-loops', '-fauto-inc-dec', '-fbranch-probabilities', '-fbranch-target-load-optimize', '-fbtr-bb-exclusive', '-fcaller-saves', '-fcprop-registers', '-fcrossjumping', '-fcse-skip-blocks', '-fcx-fortran-rules', '-fcx-limited-range', '-fdce', '-fdelayed-branch', '-fdelete-null-pointer-checks', '-fdevirtualize', '-fdse', '-fearly-inlining', '-ffast-math', '-ffinite-math-only', '-ffloat-store', '-ffunction-sections', '-fgcse-after-reload', '-fgcse-lm', '-fgcse-sm', '-fhoist-adjacent-loads', '-findirect-inlining', '-finline-functions', '-fipa-cp-clone', '-fipa-pta', '-fipa-pure-const', '-fipa-reference', '-fira-hoist-pressure', '-fno-ira-share-save-slots', '-fno-ira-share-spill-slots', '-fisolate-erroneous-paths-dereference', '-fkeep-static-consts', '-flive-range-shrinkage', '-floop-block', '-floop-interchange', '-floop-strip-mine', '-floop-nest-optimize', '-flra-remat', '-fmerge-constants', '-fmove-loop-invariants', '-fno-function-cse', '-fno-math-errno', '-fno-peephole', '-fno-sched-interblock', '-fno-sched-spec', '-fno-zero-initialized-in-bss', '-foptimize-sibling-calls', '-fpredictive-commoning', '-fprofile-use', '-fprofile-values', '-freorder-blocks', '-freorder-blocks-and-partition', '-freschedule-modulo-scheduled-loops', '-fsched2-use-superblocks', '-fsched-pressure', '-fsched-stalled-insns', '-fsched-group-heuristic', '-fsched-rank-heuristic', '-fsched-last-insn-heuristic', '-fschedule-fusion', '-fselective-scheduling2', '-fsel-sched-pipelining-outer-loops', '-fshrink-wrap', '-fsplit-wide-types', '-fstrict-aliasing', '-ftracer', '-ftree-bit-ccp', '-ftree-ccp', '-ftree-ch', '-ftree-coalesce-vars', '-ftree-copy-prop', '-ftree-dominator-opts', '-ftree-dse', '-ftree-fre', '-ftree-loop-if-convert', '-ftree-phiprop', '-ftree-loop-distribution', '-ftree-loop-distribute-patterns', '-ftree-loop-ivcanon', '-ftree-loop-linear', '-ftree-loop-vectorize', '-ftree-pre', '-ftree-partial-pre', '-ftree-reassoc', '-ftree-sink', '-ftree-slsr', '-ftree-switch-conversion', '-ftree-tail-merge', '-ftree-ter', '-ftree-vrp', '-fipa-ra', '-fvariable-expansion-in-unroller', '-fvect-cost-model', '-fweb', '-O', '-O0', '-O2', '-O3', '-Os']\n",
    "flags_mut_menor_4 = ['-falign-loops', '-fcaller-saves', '-fcombine-stack-adjustments', '-fcrossjumping', '-fcse-skip-blocks', '-fdce', '-fdevirtualize', '-fdevirtualize-speculatively', '-fdevirtualize-at-ltrans', '-ffat-lto-objects', '-ffinite-math-only', '-fforward-propagate', '-ffunction-sections', '-fgcse', '-fgcse-lm', '-fgraphite-identity', '-fgcse-sm', '-fif-conversion', '-findirect-inlining', '-finline-functions-called-once', '-fipa-cp', '-fipa-pure-const', '-fipa-icf', '-fira-hoist-pressure', '-fira-loop-pressure', '-fivopts', '-fkeep-inline-functions', '-fkeep-static-consts', '-flive-range-shrinkage', '-floop-interchange', '-floop-unroll-and-jam', '-floop-nest-optimize', '-floop-parallelize-all', '-flra-remat', '-flto', '-fmerge-all-constants', '-fmerge-constants', '-fmove-loop-invariants', '-fno-branch-count-reg', '-fno-defer-pop', '-fno-function-cse', '-fno-guess-branch-probability', '-fno-peephole2', '-fno-sched-interblock', '-fno-sched-spec', '-fno-signed-zeros', '-fno-trapping-math', '-fomit-frame-pointer', '-fpeel-loops', '-fprofile-correction', '-fprofile-reorder-functions', '-frename-registers', '-freorder-blocks-and-partition', '-freorder-functions', '-frerun-cse-after-loop', '-freschedule-modulo-scheduled-loops', '-fsched2-use-superblocks', '-fsched-pressure', '-fsched-spec-load-dangerous', '-fsched-stalled-insns', '-fsched-group-heuristic', '-fsched-critical-path-heuristic', '-fsched-spec-insn-heuristic', '-fschedule-insns', '-fselective-scheduling2', '-fsel-sched-pipelining', '-fsemantic-interposition', '-fsignaling-nans', '-fsingle-precision-constant', '-fsplit-ivs-in-unroller', '-fsplit-wide-types', '-fstrict-aliasing', '-ftracer', '-ftree-builtin-call-dce', '-ftree-ch', '-ftree-copy-prop', '-ftree-dce', '-ftree-dse', '-ftree-forwprop', '-ftree-fre', '-ftree-loop-distribution', '-ftree-loop-distribute-patterns', '-ftree-loop-vectorize', '-ftree-pre', '-ftree-partial-pre', '-ftree-pta', '-ftree-sink', '-ftree-slsr', '-ftree-ter', '-funroll-all-loops', '-funroll-loops', '-funsafe-math-optimizations', '-fipa-ra', '-fvariable-expansion-in-unroller', '-fvect-cost-model', '-O0', '-O1', '-Os']\n",
    "flags_mut_menor_5 = ['-falign-functions', '-falign-jumps', '-falign-labels', '-fauto-inc-dec', '-fbranch-target-load-optimize2', '-fcaller-saves', '-fcprop-registers', '-fcrossjumping', '-fcx-limited-range', '-fdce', '-fdevirtualize', '-fipa-sra', '-fexpensive-optimizations', '-ffinite-math-only', '-ffloat-store', '-fforward-propagate', '-fgcse', '-fgcse-after-reload', '-fgcse-las', '-fhoist-adjacent-loads', '-findirect-inlining', '-finline-functions', '-fipa-cp-clone', '-fipa-pta', '-fipa-profile', '-fipa-icf', '-fira-hoist-pressure', '-fisolate-erroneous-paths-dereference', '-fisolate-erroneous-paths-attribute', '-fkeep-static-consts', '-flive-range-shrinkage', '-floop-block', '-floop-interchange', '-floop-unroll-and-jam', '-flto', '-fmerge-all-constants', '-fmerge-constants', '-fmodulo-sched', '-fno-math-errno', '-fno-sched-interblock', '-fno-toplevel-reorder', '-fno-zero-initialized-in-bss', '-fomit-frame-pointer', '-fpredictive-commoning', '-fprofile-correction', '-fprofile-use', '-fprofile-reorder-functions', '-freorder-blocks', '-freorder-blocks-and-partition', '-frounding-math', '-fsched2-use-superblocks', '-fsched-pressure', '-fsched-spec-load', '-fsched-spec-load-dangerous', '-fsched-stalled-insns-dep', '-fsched-spec-insn-heuristic', '-fsched-rank-heuristic', '-fsched-last-insn-heuristic', '-fselective-scheduling2', '-fsel-sched-pipelining', '-fshrink-wrap', '-fsignaling-nans', '-fssa-phiopt', '-fstrict-aliasing', '-ftree-bit-ccp', '-ftree-coalesce-vars', '-ftree-dce', '-ftree-dominator-opts', '-ftree-dse', '-ftree-loop-im', '-ftree-phiprop', '-ftree-loop-linear', '-ftree-loop-optimize', '-ftree-partial-pre', '-ftree-reassoc', '-ftree-sink', '-ftree-slsr', '-ftree-vectorize', '-ftree-vrp', '-funroll-all-loops', '-funsafe-math-optimizations', '-funswitch-loops', '-fipa-ra', '-fvariable-expansion-in-unroller', '-fweb', '-fuse-linker-plugin', '-O0', '-O2', '-Os']\n",
    "flags_mut_menor_6 = ['-falign-functions', '-fauto-inc-dec', '-fbranch-target-load-optimize', '-fbranch-target-load-optimize2', '-fcompare-elim', '-fcse-follow-jumps', '-fcse-skip-blocks', '-fcx-fortran-rules', '-fcx-limited-range', '-fdata-sections', '-fdce', '-fdevirtualize', '-fdevirtualize-at-ltrans', '-fipa-sra', '-fexpensive-optimizations', '-ffloat-store', '-ffunction-sections', '-fgcse', '-fgraphite-identity', '-fgcse-sm', '-fif-conversion', '-finline-functions-called-once', '-fipa-pure-const', '-fipa-reference', '-fipa-icf', '-fisolate-erroneous-paths-attribute', '-fivopts', '-fkeep-inline-functions', '-flive-range-shrinkage', '-floop-block', '-flra-remat', '-flto', '-fmerge-all-constants', '-fmerge-constants', '-fmodulo-sched', '-fmodulo-sched-allow-regmoves', '-fmove-loop-invariants', '-fno-branch-count-reg', '-fno-function-cse', '-fno-math-errno', '-fno-peephole2', '-fno-toplevel-reorder', '-fno-trapping-math', '-fno-zero-initialized-in-bss', '-fomit-frame-pointer', '-fpredictive-commoning', '-fprofile-reorder-functions', '-freorder-blocks', '-freorder-blocks-and-partition', '-freorder-functions', '-frerun-cse-after-loop', '-frounding-math', '-fsched-spec-load', '-fsched-spec-load-dangerous', '-fsched-critical-path-heuristic', '-fsched-rank-heuristic', '-fsched-last-insn-heuristic', '-fschedule-fusion', '-fshrink-wrap', '-fsplit-ivs-in-unroller', '-fsplit-wide-types', '-fssa-phiopt', '-fstdarg-opt', '-fthread-jumps', '-ftracer', '-ftree-bit-ccp', '-ftree-builtin-call-dce', '-ftree-ch', '-ftree-copy-prop', '-ftree-forwprop', '-ftree-loop-distribution', '-ftree-loop-distribute-patterns', '-ftree-loop-ivcanon', '-ftree-loop-optimize', '-ftree-loop-vectorize', '-ftree-partial-pre', '-ftree-pta', '-ftree-reassoc', '-ftree-slsr', '-ftree-sra', '-funsafe-math-optimizations', '-fipa-ra', '-fvpt', '-fweb', '-fwhole-program', '-fuse-linker-plugin', '-O1', '-Os']\n",
    "flags_mut_menor_7 = ['-falign-jumps', '-falign-labels', '-falign-loops', '-fbranch-probabilities', '-fbranch-target-load-optimize2', '-fbtr-bb-exclusive', '-fcaller-saves', '-fcompare-elim', '-fcse-follow-jumps', '-fcx-fortran-rules', '-fdelayed-branch', '-fdevirtualize', '-fdse', '-ffinite-math-only', '-fgcse-after-reload', '-fgcse-las', '-fgcse-lm', '-fgraphite-identity', '-fgcse-sm', '-fhoist-adjacent-loads', '-fif-conversion', '-fif-conversion2', '-findirect-inlining', '-finline-small-functions', '-fipa-cp', '-fipa-pta', '-fipa-reference', '-fno-ira-share-spill-slots', '-fisolate-erroneous-paths-dereference', '-fisolate-erroneous-paths-attribute', '-flive-range-shrinkage', '-floop-block', '-floop-interchange', '-floop-nest-optimize', '-floop-parallelize-all', '-fmerge-constants', '-fmodulo-sched', '-fno-branch-count-reg', '-fno-math-errno', '-fno-toplevel-reorder', '-fno-trapping-math', '-fno-zero-initialized-in-bss', '-fomit-frame-pointer', '-foptimize-sibling-calls', '-fpartial-inlining', '-fpeel-loops', '-fprofile-use', '-fprofile-values', '-freorder-blocks-and-partition', '-freorder-functions', '-fsched-pressure', '-fsched-spec-load', '-fsched-stalled-insns', '-fsched-group-heuristic', '-fsched-critical-path-heuristic', '-fsched-spec-insn-heuristic', '-fsched-last-insn-heuristic', '-fschedule-fusion', '-fselective-scheduling', '-fselective-scheduling2', '-fsel-sched-pipelining-outer-loops', '-fsignaling-nans', '-fsingle-precision-constant', '-fsplit-ivs-in-unroller', '-fssa-phiopt', '-fstrict-aliasing', '-ftree-coalesce-vars', '-ftree-dce', '-ftree-dse', '-ftree-fre', '-ftree-loop-vectorize', '-ftree-pta', '-ftree-reassoc', '-ftree-sink', '-ftree-slsr', '-ftree-sra', '-ftree-switch-conversion', '-ftree-tail-merge', '-ftree-ter', '-ftree-vectorize', '-funit-at-a-time', '-funroll-all-loops', '-funroll-loops', '-funsafe-math-optimizations', '-funswitch-loops', '-fweb', '-fwhole-program', '-O0', '-O2', '-O3', '-Os']\n",
    "flags_mut_menor_8 = ['-falign-functions', '-fauto-inc-dec', '-fbranch-target-load-optimize', '-fbranch-target-load-optimize2', '-fbtr-bb-exclusive', '-fconserve-stack', '-fcrossjumping', '-fcx-fortran-rules', '-fdelayed-branch', '-fdelete-null-pointer-checks', '-fdevirtualize-speculatively', '-fearly-inlining', '-ffat-lto-objects', '-ffast-math', '-ffloat-store', '-fforward-propagate', '-fgcse', '-fif-conversion', '-fif-conversion2', '-finline-functions', '-finline-functions-called-once', '-fipa-pta', '-fipa-profile', '-fipa-icf', '-fira-loop-pressure', '-fisolate-erroneous-paths-attribute', '-flive-range-shrinkage', '-floop-interchange', '-floop-unroll-and-jam', '-floop-nest-optimize', '-floop-parallelize-all', '-flra-remat', '-fmerge-all-constants', '-fmerge-constants', '-fmodulo-sched', '-fmodulo-sched-allow-regmoves', '-fmove-loop-invariants', '-fno-defer-pop', '-fno-peephole', '-fno-sched-spec', '-fno-trapping-math', '-fno-zero-initialized-in-bss', '-fomit-frame-pointer', '-foptimize-sibling-calls', '-fpartial-inlining', '-fpredictive-commoning', '-fprofile-use', '-fprofile-values', '-fprofile-reorder-functions', '-frename-registers', '-freorder-blocks', '-freorder-blocks-and-partition', '-freorder-functions', '-frerun-cse-after-loop', '-frounding-math', '-fsched-stalled-insns', '-fsched-dep-count-heuristic', '-fschedule-fusion', '-fschedule-insns', '-fsel-sched-pipelining-outer-loops', '-fshrink-wrap', '-fsignaling-nans', '-fsingle-precision-constant', '-fsplit-ivs-in-unroller', '-fstdarg-opt', '-fthread-jumps', '-ftree-builtin-call-dce', '-ftree-ch', '-ftree-coalesce-vars', '-ftree-dominator-opts', '-ftree-forwprop', '-ftree-loop-if-convert', '-ftree-loop-distribute-patterns', '-ftree-loop-ivcanon', '-ftree-loop-linear', '-ftree-pta', '-ftree-reassoc', '-ftree-sink', '-ftree-slsr', '-ftree-sra', '-ftree-switch-conversion', '-ftree-vrp', '-funit-at-a-time', '-funsafe-math-optimizations', '-fvariable-expansion-in-unroller', '-fvect-cost-model', '-fwhole-program', '-O1', '-O2', '-Os']\n",
    "flags_mut_menor_9 = ['-falign-labels', '-falign-loops', '-fbranch-target-load-optimize2', '-fbtr-bb-exclusive', '-fconserve-stack', '-fcprop-registers', '-fcrossjumping', '-fcse-follow-jumps', '-fcx-fortran-rules', '-fcx-limited-range', '-fdelete-null-pointer-checks', '-fdevirtualize', '-fdse', '-fipa-sra', '-ffast-math', '-fforward-propagate', '-ffunction-sections', '-fgcse-lm', '-fgraphite-identity', '-fgcse-sm', '-fif-conversion', '-fif-conversion2', '-finline-functions', '-finline-small-functions', '-fipa-cp', '-fipa-cp-clone', '-fipa-pure-const', '-fipa-icf', '-fira-loop-pressure', '-fisolate-erroneous-paths-dereference', '-fisolate-erroneous-paths-attribute', '-fivopts', '-flive-range-shrinkage', '-floop-block', '-floop-strip-mine', '-floop-unroll-and-jam', '-floop-parallelize-all', '-flra-remat', '-flto', '-fmerge-all-constants', '-fmerge-constants', '-fmodulo-sched', '-fmodulo-sched-allow-regmoves', '-fmove-loop-invariants', '-fno-branch-count-reg', '-fno-function-cse', '-fno-math-errno', '-fno-zero-initialized-in-bss', '-fpartial-inlining', '-fprofile-use', '-fprofile-reorder-functions', '-frename-registers', '-freorder-blocks-and-partition', '-freorder-functions', '-frounding-math', '-fsched-spec-load', '-fsched-spec-load-dangerous', '-fsched-stalled-insns-dep', '-fsched-critical-path-heuristic', '-fsched-rank-heuristic', '-fsched-last-insn-heuristic', '-fschedule-fusion', '-fschedule-insns', '-fselective-scheduling', '-fsel-sched-pipelining', '-fsel-sched-pipelining-outer-loops', '-fsemantic-interposition', '-fshrink-wrap', '-fstrict-aliasing', '-fthread-jumps', '-ftracer', '-ftree-bit-ccp', '-ftree-coalesce-vars', '-ftree-dominator-opts', '-ftree-forwprop', '-ftree-loop-if-convert', '-ftree-loop-im', '-ftree-loop-ivcanon', '-ftree-loop-linear', '-ftree-loop-optimize', '-ftree-pta', '-ftree-sink', '-ftree-switch-conversion', '-funit-at-a-time', '-funswitch-loops', '-fvariable-expansion-in-unroller', '-fweb', '-fwhole-program', '-fuse-linker-plugin', '-O1', '-Os']\n",
    "flags_mut_menor_10 = ['-fbranch-target-load-optimize', '-fcprop-registers', '-fcse-follow-jumps', '-fcx-limited-range', '-fdce', '-fdelayed-branch', '-fdelete-null-pointer-checks', '-fdevirtualize', '-fdevirtualize-speculatively', '-fdevirtualize-at-ltrans', '-ffloat-store', '-fgcse-after-reload', '-fgraphite-identity', '-fgcse-sm', '-fif-conversion', '-findirect-inlining', '-finline-functions', '-finline-functions-called-once', '-finline-small-functions', '-fipa-profile', '-fipa-pure-const', '-fno-ira-share-save-slots', '-fno-ira-share-spill-slots', '-fisolate-erroneous-paths-dereference', '-fisolate-erroneous-paths-attribute', '-fivopts', '-fkeep-inline-functions', '-flive-range-shrinkage', '-floop-interchange', '-floop-nest-optimize', '-flra-remat', '-fmerge-all-constants', '-fmerge-constants', '-fmodulo-sched', '-fmove-loop-invariants', '-fno-function-cse', '-fno-guess-branch-probability', '-fno-math-errno', '-fno-peephole2', '-fno-sched-interblock', '-fno-trapping-math', '-fno-zero-initialized-in-bss', '-fomit-frame-pointer', '-foptimize-sibling-calls', '-fprofile-use', '-fprofile-values', '-fprofile-reorder-functions', '-frename-registers', '-freorder-blocks-and-partition', '-freorder-functions', '-frerun-cse-after-loop', '-freschedule-modulo-scheduled-loops', '-fsched-spec-load', '-fsched-spec-load-dangerous', '-fsched-stalled-insns-dep', '-fsched-stalled-insns', '-fsched-group-heuristic', '-fschedule-fusion', '-fschedule-insns', '-fsel-sched-pipelining-outer-loops', '-fsemantic-interposition', '-fshrink-wrap', '-fsingle-precision-constant', '-fsplit-ivs-in-unroller', '-fstrict-aliasing', '-ftracer', '-ftree-ccp', '-ftree-ch', '-ftree-copy-prop', '-ftree-dominator-opts', '-ftree-dse', '-ftree-forwprop', '-ftree-loop-im', '-ftree-loop-distribution', '-ftree-loop-distribute-patterns', '-ftree-loop-vectorize', '-ftree-pre', '-ftree-partial-pre', '-ftree-reassoc', '-ftree-sink', '-ftree-slsr', '-ftree-switch-conversion', '-ftree-vectorize', '-ftree-vrp', '-funit-at-a-time', '-funsafe-math-optimizations', '-fvect-cost-model', '-fweb', '-O', '-O1', '-Os']"
   ]
  },
  {
   "cell_type": "code",
   "execution_count": 7,
   "metadata": {},
   "outputs": [],
   "source": [
    "all_flags = list(set().union(flags_cross_maior_1, flags_cross_maior_2, flags_cross_maior_3, flags_cross_maior_4, flags_cross_maior_5, flags_cross_maior_6, flags_cross_maior_7, flags_cross_maior_8, flags_cross_maior_9, flags_cross_maior_10,\n",
    "                            flags_cross_menor_1, flags_cross_menor_2, flags_cross_menor_3, flags_cross_menor_4, flags_cross_menor_5, flags_cross_menor_6, flags_cross_menor_7, flags_cross_menor_8, flags_cross_menor_9, flags_cross_menor_10,\n",
    "                            flags_mut_menor_1, flags_mut_menor_2, flags_mut_menor_3, flags_mut_menor_4, flags_mut_menor_5, flags_mut_menor_6, flags_mut_menor_7, flags_mut_menor_8, flags_mut_menor_9, flags_mut_menor_10,\n",
    "                            flags_mut_maior_1, flags_mut_maior_2, flags_mut_maior_3, flags_mut_maior_4, flags_mut_maior_5, flags_mut_maior_6, flags_mut_maior_7, flags_mut_maior_8, flags_mut_maior_9, flags_mut_maior_10))\n"
   ]
  },
  {
   "cell_type": "code",
   "execution_count": 8,
   "metadata": {},
   "outputs": [
    {
     "data": {
      "text/html": [
       "<div>\n",
       "<style scoped>\n",
       "    .dataframe tbody tr th:only-of-type {\n",
       "        vertical-align: middle;\n",
       "    }\n",
       "\n",
       "    .dataframe tbody tr th {\n",
       "        vertical-align: top;\n",
       "    }\n",
       "\n",
       "    .dataframe thead th {\n",
       "        text-align: right;\n",
       "    }\n",
       "</style>\n",
       "<table border=\"1\" class=\"dataframe\">\n",
       "  <thead>\n",
       "    <tr style=\"text-align: right;\">\n",
       "      <th></th>\n",
       "      <th>mut_maior</th>\n",
       "      <th>mut_menor</th>\n",
       "      <th>cross_maior</th>\n",
       "      <th>cross_menor</th>\n",
       "      <th>freq</th>\n",
       "    </tr>\n",
       "  </thead>\n",
       "  <tbody>\n",
       "    <tr>\n",
       "      <th>-ftree-loop-vectorize</th>\n",
       "      <td>4</td>\n",
       "      <td>6</td>\n",
       "      <td>5</td>\n",
       "      <td>5</td>\n",
       "      <td>20</td>\n",
       "    </tr>\n",
       "    <tr>\n",
       "      <th>-ftree-reassoc</th>\n",
       "      <td>8</td>\n",
       "      <td>6</td>\n",
       "      <td>7</td>\n",
       "      <td>7</td>\n",
       "      <td>28</td>\n",
       "    </tr>\n",
       "    <tr>\n",
       "      <th>-fdata-sections</th>\n",
       "      <td>7</td>\n",
       "      <td>2</td>\n",
       "      <td>2</td>\n",
       "      <td>3</td>\n",
       "      <td>14</td>\n",
       "    </tr>\n",
       "    <tr>\n",
       "      <th>-fisolate-erroneous-paths-attribute</th>\n",
       "      <td>6</td>\n",
       "      <td>8</td>\n",
       "      <td>7</td>\n",
       "      <td>6</td>\n",
       "      <td>27</td>\n",
       "    </tr>\n",
       "    <tr>\n",
       "      <th>-fcrossjumping</th>\n",
       "      <td>5</td>\n",
       "      <td>6</td>\n",
       "      <td>5</td>\n",
       "      <td>4</td>\n",
       "      <td>20</td>\n",
       "    </tr>\n",
       "    <tr>\n",
       "      <th>-ftree-loop-distribute-patterns</th>\n",
       "      <td>4</td>\n",
       "      <td>6</td>\n",
       "      <td>7</td>\n",
       "      <td>6</td>\n",
       "      <td>23</td>\n",
       "    </tr>\n",
       "    <tr>\n",
       "      <th>-fipa-sra</th>\n",
       "      <td>7</td>\n",
       "      <td>3</td>\n",
       "      <td>3</td>\n",
       "      <td>5</td>\n",
       "      <td>18</td>\n",
       "    </tr>\n",
       "    <tr>\n",
       "      <th>-fgcse-lm</th>\n",
       "      <td>6</td>\n",
       "      <td>5</td>\n",
       "      <td>3</td>\n",
       "      <td>5</td>\n",
       "      <td>19</td>\n",
       "    </tr>\n",
       "    <tr>\n",
       "      <th>-funroll-loops</th>\n",
       "      <td>6</td>\n",
       "      <td>4</td>\n",
       "      <td>4</td>\n",
       "      <td>6</td>\n",
       "      <td>20</td>\n",
       "    </tr>\n",
       "    <tr>\n",
       "      <th>-fsplit-ivs-in-unroller</th>\n",
       "      <td>8</td>\n",
       "      <td>6</td>\n",
       "      <td>7</td>\n",
       "      <td>6</td>\n",
       "      <td>27</td>\n",
       "    </tr>\n",
       "    <tr>\n",
       "      <th>-ftree-loop-im</th>\n",
       "      <td>7</td>\n",
       "      <td>5</td>\n",
       "      <td>7</td>\n",
       "      <td>6</td>\n",
       "      <td>25</td>\n",
       "    </tr>\n",
       "    <tr>\n",
       "      <th>-fkeep-static-consts</th>\n",
       "      <td>3</td>\n",
       "      <td>5</td>\n",
       "      <td>5</td>\n",
       "      <td>3</td>\n",
       "      <td>16</td>\n",
       "    </tr>\n",
       "    <tr>\n",
       "      <th>-falign-functions</th>\n",
       "      <td>6</td>\n",
       "      <td>5</td>\n",
       "      <td>5</td>\n",
       "      <td>4</td>\n",
       "      <td>20</td>\n",
       "    </tr>\n",
       "    <tr>\n",
       "      <th>-flra-remat</th>\n",
       "      <td>5</td>\n",
       "      <td>7</td>\n",
       "      <td>7</td>\n",
       "      <td>6</td>\n",
       "      <td>25</td>\n",
       "    </tr>\n",
       "    <tr>\n",
       "      <th>-fthread-jumps</th>\n",
       "      <td>8</td>\n",
       "      <td>4</td>\n",
       "      <td>5</td>\n",
       "      <td>6</td>\n",
       "      <td>23</td>\n",
       "    </tr>\n",
       "    <tr>\n",
       "      <th>-fcse-follow-jumps</th>\n",
       "      <td>7</td>\n",
       "      <td>5</td>\n",
       "      <td>5</td>\n",
       "      <td>3</td>\n",
       "      <td>20</td>\n",
       "    </tr>\n",
       "    <tr>\n",
       "      <th>-floop-interchange</th>\n",
       "      <td>6</td>\n",
       "      <td>8</td>\n",
       "      <td>6</td>\n",
       "      <td>5</td>\n",
       "      <td>25</td>\n",
       "    </tr>\n",
       "    <tr>\n",
       "      <th>-fgraphite-identity</th>\n",
       "      <td>4</td>\n",
       "      <td>6</td>\n",
       "      <td>5</td>\n",
       "      <td>5</td>\n",
       "      <td>20</td>\n",
       "    </tr>\n",
       "    <tr>\n",
       "      <th>-ftree-bit-ccp</th>\n",
       "      <td>5</td>\n",
       "      <td>4</td>\n",
       "      <td>7</td>\n",
       "      <td>4</td>\n",
       "      <td>20</td>\n",
       "    </tr>\n",
       "    <tr>\n",
       "      <th>-ftree-switch-conversion</th>\n",
       "      <td>6</td>\n",
       "      <td>6</td>\n",
       "      <td>8</td>\n",
       "      <td>5</td>\n",
       "      <td>25</td>\n",
       "    </tr>\n",
       "    <tr>\n",
       "      <th>-fmerge-all-constants</th>\n",
       "      <td>6</td>\n",
       "      <td>7</td>\n",
       "      <td>4</td>\n",
       "      <td>5</td>\n",
       "      <td>22</td>\n",
       "    </tr>\n",
       "    <tr>\n",
       "      <th>-funswitch-loops</th>\n",
       "      <td>7</td>\n",
       "      <td>5</td>\n",
       "      <td>4</td>\n",
       "      <td>3</td>\n",
       "      <td>19</td>\n",
       "    </tr>\n",
       "    <tr>\n",
       "      <th>-frename-registers</th>\n",
       "      <td>4</td>\n",
       "      <td>5</td>\n",
       "      <td>4</td>\n",
       "      <td>5</td>\n",
       "      <td>18</td>\n",
       "    </tr>\n",
       "    <tr>\n",
       "      <th>-fauto-inc-dec</th>\n",
       "      <td>4</td>\n",
       "      <td>5</td>\n",
       "      <td>4</td>\n",
       "      <td>4</td>\n",
       "      <td>17</td>\n",
       "    </tr>\n",
       "    <tr>\n",
       "      <th>-fforward-propagate</th>\n",
       "      <td>7</td>\n",
       "      <td>6</td>\n",
       "      <td>5</td>\n",
       "      <td>5</td>\n",
       "      <td>23</td>\n",
       "    </tr>\n",
       "    <tr>\n",
       "      <th>-fno-signed-zeros</th>\n",
       "      <td>3</td>\n",
       "      <td>1</td>\n",
       "      <td>1</td>\n",
       "      <td>3</td>\n",
       "      <td>8</td>\n",
       "    </tr>\n",
       "    <tr>\n",
       "      <th>-fstdarg-opt</th>\n",
       "      <td>6</td>\n",
       "      <td>3</td>\n",
       "      <td>6</td>\n",
       "      <td>5</td>\n",
       "      <td>20</td>\n",
       "    </tr>\n",
       "    <tr>\n",
       "      <th>-fisolate-erroneous-paths-dereference</th>\n",
       "      <td>6</td>\n",
       "      <td>7</td>\n",
       "      <td>8</td>\n",
       "      <td>5</td>\n",
       "      <td>26</td>\n",
       "    </tr>\n",
       "    <tr>\n",
       "      <th>-O0</th>\n",
       "      <td>6</td>\n",
       "      <td>6</td>\n",
       "      <td>5</td>\n",
       "      <td>6</td>\n",
       "      <td>23</td>\n",
       "    </tr>\n",
       "    <tr>\n",
       "      <th>-fno-sched-spec</th>\n",
       "      <td>6</td>\n",
       "      <td>5</td>\n",
       "      <td>6</td>\n",
       "      <td>4</td>\n",
       "      <td>21</td>\n",
       "    </tr>\n",
       "    <tr>\n",
       "      <th>-fcprop-registers</th>\n",
       "      <td>5</td>\n",
       "      <td>5</td>\n",
       "      <td>3</td>\n",
       "      <td>5</td>\n",
       "      <td>18</td>\n",
       "    </tr>\n",
       "    <tr>\n",
       "      <th>-fschedule-fusion</th>\n",
       "      <td>2</td>\n",
       "      <td>7</td>\n",
       "      <td>7</td>\n",
       "      <td>9</td>\n",
       "      <td>25</td>\n",
       "    </tr>\n",
       "    <tr>\n",
       "      <th>-fgcse-las</th>\n",
       "      <td>3</td>\n",
       "      <td>4</td>\n",
       "      <td>4</td>\n",
       "      <td>4</td>\n",
       "      <td>15</td>\n",
       "    </tr>\n",
       "    <tr>\n",
       "      <th>-fsched2-use-superblocks</th>\n",
       "      <td>5</td>\n",
       "      <td>4</td>\n",
       "      <td>4</td>\n",
       "      <td>4</td>\n",
       "      <td>17</td>\n",
       "    </tr>\n",
       "    <tr>\n",
       "      <th>-fif-conversion2</th>\n",
       "      <td>7</td>\n",
       "      <td>5</td>\n",
       "      <td>5</td>\n",
       "      <td>4</td>\n",
       "      <td>21</td>\n",
       "    </tr>\n",
       "    <tr>\n",
       "      <th>-frerun-cse-after-loop</th>\n",
       "      <td>2</td>\n",
       "      <td>4</td>\n",
       "      <td>5</td>\n",
       "      <td>6</td>\n",
       "      <td>17</td>\n",
       "    </tr>\n",
       "    <tr>\n",
       "      <th>-ftracer</th>\n",
       "      <td>2</td>\n",
       "      <td>6</td>\n",
       "      <td>8</td>\n",
       "      <td>8</td>\n",
       "      <td>24</td>\n",
       "    </tr>\n",
       "    <tr>\n",
       "      <th>-fbranch-target-load-optimize2</th>\n",
       "      <td>1</td>\n",
       "      <td>6</td>\n",
       "      <td>4</td>\n",
       "      <td>3</td>\n",
       "      <td>14</td>\n",
       "    </tr>\n",
       "    <tr>\n",
       "      <th>-Ofast</th>\n",
       "      <td>1</td>\n",
       "      <td>1</td>\n",
       "      <td>2</td>\n",
       "      <td>2</td>\n",
       "      <td>6</td>\n",
       "    </tr>\n",
       "    <tr>\n",
       "      <th>-fcx-fortran-rules</th>\n",
       "      <td>5</td>\n",
       "      <td>7</td>\n",
       "      <td>8</td>\n",
       "      <td>7</td>\n",
       "      <td>27</td>\n",
       "    </tr>\n",
       "    <tr>\n",
       "      <th>-fipa-pure-const</th>\n",
       "      <td>7</td>\n",
       "      <td>6</td>\n",
       "      <td>6</td>\n",
       "      <td>6</td>\n",
       "      <td>25</td>\n",
       "    </tr>\n",
       "    <tr>\n",
       "      <th>-fno-guess-branch-probability</th>\n",
       "      <td>7</td>\n",
       "      <td>2</td>\n",
       "      <td>1</td>\n",
       "      <td>2</td>\n",
       "      <td>12</td>\n",
       "    </tr>\n",
       "    <tr>\n",
       "      <th>-ftree-pre</th>\n",
       "      <td>5</td>\n",
       "      <td>5</td>\n",
       "      <td>4</td>\n",
       "      <td>3</td>\n",
       "      <td>17</td>\n",
       "    </tr>\n",
       "    <tr>\n",
       "      <th>-fno-math-errno</th>\n",
       "      <td>4</td>\n",
       "      <td>7</td>\n",
       "      <td>7</td>\n",
       "      <td>6</td>\n",
       "      <td>24</td>\n",
       "    </tr>\n",
       "    <tr>\n",
       "      <th>-fdevirtualize</th>\n",
       "      <td>7</td>\n",
       "      <td>7</td>\n",
       "      <td>6</td>\n",
       "      <td>6</td>\n",
       "      <td>26</td>\n",
       "    </tr>\n",
       "    <tr>\n",
       "      <th>-fif-conversion</th>\n",
       "      <td>6</td>\n",
       "      <td>6</td>\n",
       "      <td>8</td>\n",
       "      <td>9</td>\n",
       "      <td>29</td>\n",
       "    </tr>\n",
       "    <tr>\n",
       "      <th>-fdce</th>\n",
       "      <td>6</td>\n",
       "      <td>7</td>\n",
       "      <td>6</td>\n",
       "      <td>5</td>\n",
       "      <td>24</td>\n",
       "    </tr>\n",
       "    <tr>\n",
       "      <th>-fsched-spec-insn-heuristic</th>\n",
       "      <td>6</td>\n",
       "      <td>5</td>\n",
       "      <td>4</td>\n",
       "      <td>3</td>\n",
       "      <td>18</td>\n",
       "    </tr>\n",
       "    <tr>\n",
       "      <th>-fipa-cp</th>\n",
       "      <td>7</td>\n",
       "      <td>4</td>\n",
       "      <td>5</td>\n",
       "      <td>6</td>\n",
       "      <td>22</td>\n",
       "    </tr>\n",
       "    <tr>\n",
       "      <th>-ffloat-store</th>\n",
       "      <td>4</td>\n",
       "      <td>6</td>\n",
       "      <td>9</td>\n",
       "      <td>6</td>\n",
       "      <td>25</td>\n",
       "    </tr>\n",
       "    <tr>\n",
       "      <th>-finline-functions</th>\n",
       "      <td>5</td>\n",
       "      <td>6</td>\n",
       "      <td>6</td>\n",
       "      <td>5</td>\n",
       "      <td>22</td>\n",
       "    </tr>\n",
       "    <tr>\n",
       "      <th>-ftree-forwprop</th>\n",
       "      <td>4</td>\n",
       "      <td>7</td>\n",
       "      <td>6</td>\n",
       "      <td>6</td>\n",
       "      <td>23</td>\n",
       "    </tr>\n",
       "    <tr>\n",
       "      <th>-fweb</th>\n",
       "      <td>5</td>\n",
       "      <td>8</td>\n",
       "      <td>6</td>\n",
       "      <td>5</td>\n",
       "      <td>24</td>\n",
       "    </tr>\n",
       "    <tr>\n",
       "      <th>-fipa-ra</th>\n",
       "      <td>4</td>\n",
       "      <td>4</td>\n",
       "      <td>3</td>\n",
       "      <td>3</td>\n",
       "      <td>14</td>\n",
       "    </tr>\n",
       "    <tr>\n",
       "      <th>-fpredictive-commoning</th>\n",
       "      <td>7</td>\n",
       "      <td>6</td>\n",
       "      <td>5</td>\n",
       "      <td>5</td>\n",
       "      <td>23</td>\n",
       "    </tr>\n",
       "    <tr>\n",
       "      <th>-fdevirtualize-speculatively</th>\n",
       "      <td>5</td>\n",
       "      <td>4</td>\n",
       "      <td>4</td>\n",
       "      <td>5</td>\n",
       "      <td>18</td>\n",
       "    </tr>\n",
       "    <tr>\n",
       "      <th>-fomit-frame-pointer</th>\n",
       "      <td>3</td>\n",
       "      <td>6</td>\n",
       "      <td>8</td>\n",
       "      <td>9</td>\n",
       "      <td>26</td>\n",
       "    </tr>\n",
       "    <tr>\n",
       "      <th>-floop-block</th>\n",
       "      <td>5</td>\n",
       "      <td>7</td>\n",
       "      <td>3</td>\n",
       "      <td>2</td>\n",
       "      <td>17</td>\n",
       "    </tr>\n",
       "    <tr>\n",
       "      <th>-ftree-dominator-opts</th>\n",
       "      <td>7</td>\n",
       "      <td>7</td>\n",
       "      <td>5</td>\n",
       "      <td>5</td>\n",
       "      <td>24</td>\n",
       "    </tr>\n",
       "    <tr>\n",
       "      <th>-fvariable-expansion-in-unroller</th>\n",
       "      <td>5</td>\n",
       "      <td>5</td>\n",
       "      <td>6</td>\n",
       "      <td>4</td>\n",
       "      <td>20</td>\n",
       "    </tr>\n",
       "    <tr>\n",
       "      <th>-O</th>\n",
       "      <td>3</td>\n",
       "      <td>3</td>\n",
       "      <td>3</td>\n",
       "      <td>3</td>\n",
       "      <td>12</td>\n",
       "    </tr>\n",
       "    <tr>\n",
       "      <th>-fno-ira-share-spill-slots</th>\n",
       "      <td>5</td>\n",
       "      <td>5</td>\n",
       "      <td>7</td>\n",
       "      <td>6</td>\n",
       "      <td>23</td>\n",
       "    </tr>\n",
       "    <tr>\n",
       "      <th>-ftree-vrp</th>\n",
       "      <td>5</td>\n",
       "      <td>4</td>\n",
       "      <td>6</td>\n",
       "      <td>5</td>\n",
       "      <td>20</td>\n",
       "    </tr>\n",
       "    <tr>\n",
       "      <th>-ftree-ccp</th>\n",
       "      <td>6</td>\n",
       "      <td>3</td>\n",
       "      <td>5</td>\n",
       "      <td>3</td>\n",
       "      <td>17</td>\n",
       "    </tr>\n",
       "    <tr>\n",
       "      <th>-fshrink-wrap</th>\n",
       "      <td>5</td>\n",
       "      <td>7</td>\n",
       "      <td>8</td>\n",
       "      <td>5</td>\n",
       "      <td>25</td>\n",
       "    </tr>\n",
       "    <tr>\n",
       "      <th>-fprofile-values</th>\n",
       "      <td>6</td>\n",
       "      <td>6</td>\n",
       "      <td>8</td>\n",
       "      <td>6</td>\n",
       "      <td>26</td>\n",
       "    </tr>\n",
       "    <tr>\n",
       "      <th>-fira-hoist-pressure</th>\n",
       "      <td>6</td>\n",
       "      <td>4</td>\n",
       "      <td>5</td>\n",
       "      <td>5</td>\n",
       "      <td>20</td>\n",
       "    </tr>\n",
       "    <tr>\n",
       "      <th>-fprofile-reorder-functions</th>\n",
       "      <td>4</td>\n",
       "      <td>7</td>\n",
       "      <td>4</td>\n",
       "      <td>5</td>\n",
       "      <td>20</td>\n",
       "    </tr>\n",
       "    <tr>\n",
       "      <th>-ftree-sra</th>\n",
       "      <td>4</td>\n",
       "      <td>3</td>\n",
       "      <td>5</td>\n",
       "      <td>5</td>\n",
       "      <td>17</td>\n",
       "    </tr>\n",
       "    <tr>\n",
       "      <th>-fgcse</th>\n",
       "      <td>5</td>\n",
       "      <td>6</td>\n",
       "      <td>4</td>\n",
       "      <td>6</td>\n",
       "      <td>21</td>\n",
       "    </tr>\n",
       "    <tr>\n",
       "      <th>-funit-at-a-time</th>\n",
       "      <td>4</td>\n",
       "      <td>5</td>\n",
       "      <td>4</td>\n",
       "      <td>6</td>\n",
       "      <td>19</td>\n",
       "    </tr>\n",
       "    <tr>\n",
       "      <th>-falign-labels</th>\n",
       "      <td>6</td>\n",
       "      <td>5</td>\n",
       "      <td>3</td>\n",
       "      <td>3</td>\n",
       "      <td>17</td>\n",
       "    </tr>\n",
       "    <tr>\n",
       "      <th>-ftree-dce</th>\n",
       "      <td>3</td>\n",
       "      <td>4</td>\n",
       "      <td>3</td>\n",
       "      <td>4</td>\n",
       "      <td>14</td>\n",
       "    </tr>\n",
       "    <tr>\n",
       "      <th>-frounding-math</th>\n",
       "      <td>6</td>\n",
       "      <td>4</td>\n",
       "      <td>6</td>\n",
       "      <td>7</td>\n",
       "      <td>23</td>\n",
       "    </tr>\n",
       "    <tr>\n",
       "      <th>-fbranch-target-load-optimize</th>\n",
       "      <td>3</td>\n",
       "      <td>5</td>\n",
       "      <td>7</td>\n",
       "      <td>7</td>\n",
       "      <td>22</td>\n",
       "    </tr>\n",
       "    <tr>\n",
       "      <th>-ffinite-math-only</th>\n",
       "      <td>6</td>\n",
       "      <td>5</td>\n",
       "      <td>5</td>\n",
       "      <td>4</td>\n",
       "      <td>20</td>\n",
       "    </tr>\n",
       "    <tr>\n",
       "      <th>-fno-peephole2</th>\n",
       "      <td>3</td>\n",
       "      <td>3</td>\n",
       "      <td>4</td>\n",
       "      <td>5</td>\n",
       "      <td>15</td>\n",
       "    </tr>\n",
       "    <tr>\n",
       "      <th>-freorder-blocks-and-partition</th>\n",
       "      <td>4</td>\n",
       "      <td>9</td>\n",
       "      <td>8</td>\n",
       "      <td>6</td>\n",
       "      <td>27</td>\n",
       "    </tr>\n",
       "    <tr>\n",
       "      <th>-O2</th>\n",
       "      <td>5</td>\n",
       "      <td>6</td>\n",
       "      <td>6</td>\n",
       "      <td>5</td>\n",
       "      <td>22</td>\n",
       "    </tr>\n",
       "    <tr>\n",
       "      <th>-fpeel-loops</th>\n",
       "      <td>6</td>\n",
       "      <td>3</td>\n",
       "      <td>1</td>\n",
       "      <td>3</td>\n",
       "      <td>13</td>\n",
       "    </tr>\n",
       "    <tr>\n",
       "      <th>-ftree-phiprop</th>\n",
       "      <td>4</td>\n",
       "      <td>3</td>\n",
       "      <td>5</td>\n",
       "      <td>4</td>\n",
       "      <td>16</td>\n",
       "    </tr>\n",
       "    <tr>\n",
       "      <th>-fno-trapping-math</th>\n",
       "      <td>3</td>\n",
       "      <td>6</td>\n",
       "      <td>6</td>\n",
       "      <td>5</td>\n",
       "      <td>20</td>\n",
       "    </tr>\n",
       "    <tr>\n",
       "      <th>-fmodulo-sched</th>\n",
       "      <td>3</td>\n",
       "      <td>7</td>\n",
       "      <td>8</td>\n",
       "      <td>7</td>\n",
       "      <td>25</td>\n",
       "    </tr>\n",
       "    <tr>\n",
       "      <th>-fvpt</th>\n",
       "      <td>5</td>\n",
       "      <td>2</td>\n",
       "      <td>2</td>\n",
       "      <td>3</td>\n",
       "      <td>12</td>\n",
       "    </tr>\n",
       "    <tr>\n",
       "      <th>-falign-jumps</th>\n",
       "      <td>7</td>\n",
       "      <td>3</td>\n",
       "      <td>3</td>\n",
       "      <td>3</td>\n",
       "      <td>16</td>\n",
       "    </tr>\n",
       "    <tr>\n",
       "      <th>-fsel-sched-pipelining</th>\n",
       "      <td>8</td>\n",
       "      <td>3</td>\n",
       "      <td>4</td>\n",
       "      <td>5</td>\n",
       "      <td>20</td>\n",
       "    </tr>\n",
       "    <tr>\n",
       "      <th>-fsched-dep-count-heuristic</th>\n",
       "      <td>6</td>\n",
       "      <td>2</td>\n",
       "      <td>5</td>\n",
       "      <td>5</td>\n",
       "      <td>18</td>\n",
       "    </tr>\n",
       "    <tr>\n",
       "      <th>-fbtr-bb-exclusive</th>\n",
       "      <td>4</td>\n",
       "      <td>6</td>\n",
       "      <td>8</td>\n",
       "      <td>7</td>\n",
       "      <td>25</td>\n",
       "    </tr>\n",
       "    <tr>\n",
       "      <th>-fipa-cp-clone</th>\n",
       "      <td>7</td>\n",
       "      <td>4</td>\n",
       "      <td>3</td>\n",
       "      <td>4</td>\n",
       "      <td>18</td>\n",
       "    </tr>\n",
       "    <tr>\n",
       "      <th>-fuse-linker-plugin</th>\n",
       "      <td>4</td>\n",
       "      <td>4</td>\n",
       "      <td>4</td>\n",
       "      <td>3</td>\n",
       "      <td>15</td>\n",
       "    </tr>\n",
       "    <tr>\n",
       "      <th>-fprofile-use</th>\n",
       "      <td>8</td>\n",
       "      <td>8</td>\n",
       "      <td>7</td>\n",
       "      <td>5</td>\n",
       "      <td>28</td>\n",
       "    </tr>\n",
       "    <tr>\n",
       "      <th>-O3</th>\n",
       "      <td>6</td>\n",
       "      <td>2</td>\n",
       "      <td>3</td>\n",
       "      <td>4</td>\n",
       "      <td>15</td>\n",
       "    </tr>\n",
       "    <tr>\n",
       "      <th>-flive-range-shrinkage</th>\n",
       "      <td>4</td>\n",
       "      <td>10</td>\n",
       "      <td>8</td>\n",
       "      <td>8</td>\n",
       "      <td>30</td>\n",
       "    </tr>\n",
       "    <tr>\n",
       "      <th>-fgcse-sm</th>\n",
       "      <td>6</td>\n",
       "      <td>7</td>\n",
       "      <td>5</td>\n",
       "      <td>5</td>\n",
       "      <td>23</td>\n",
       "    </tr>\n",
       "    <tr>\n",
       "      <th>-fgcse-after-reload</th>\n",
       "      <td>7</td>\n",
       "      <td>5</td>\n",
       "      <td>3</td>\n",
       "      <td>4</td>\n",
       "      <td>19</td>\n",
       "    </tr>\n",
       "    <tr>\n",
       "      <th>-ftree-loop-if-convert</th>\n",
       "      <td>7</td>\n",
       "      <td>3</td>\n",
       "      <td>5</td>\n",
       "      <td>5</td>\n",
       "      <td>20</td>\n",
       "    </tr>\n",
       "    <tr>\n",
       "      <th>-ffast-math</th>\n",
       "      <td>3</td>\n",
       "      <td>4</td>\n",
       "      <td>5</td>\n",
       "      <td>4</td>\n",
       "      <td>16</td>\n",
       "    </tr>\n",
       "    <tr>\n",
       "      <th>-fselective-scheduling2</th>\n",
       "      <td>6</td>\n",
       "      <td>5</td>\n",
       "      <td>6</td>\n",
       "      <td>6</td>\n",
       "      <td>23</td>\n",
       "    </tr>\n",
       "    <tr>\n",
       "      <th>-fsched-pressure</th>\n",
       "      <td>5</td>\n",
       "      <td>5</td>\n",
       "      <td>6</td>\n",
       "      <td>6</td>\n",
       "      <td>22</td>\n",
       "    </tr>\n",
       "    <tr>\n",
       "      <th>-floop-unroll-and-jam</th>\n",
       "      <td>7</td>\n",
       "      <td>4</td>\n",
       "      <td>3</td>\n",
       "      <td>5</td>\n",
       "      <td>19</td>\n",
       "    </tr>\n",
       "    <tr>\n",
       "      <th>-funroll-all-loops</th>\n",
       "      <td>4</td>\n",
       "      <td>5</td>\n",
       "      <td>1</td>\n",
       "      <td>2</td>\n",
       "      <td>12</td>\n",
       "    </tr>\n",
       "    <tr>\n",
       "      <th>-ftree-fre</th>\n",
       "      <td>5</td>\n",
       "      <td>3</td>\n",
       "      <td>3</td>\n",
       "      <td>3</td>\n",
       "      <td>14</td>\n",
       "    </tr>\n",
       "    <tr>\n",
       "      <th>-fcx-limited-range</th>\n",
       "      <td>3</td>\n",
       "      <td>7</td>\n",
       "      <td>6</td>\n",
       "      <td>5</td>\n",
       "      <td>21</td>\n",
       "    </tr>\n",
       "    <tr>\n",
       "      <th>-ftree-partial-pre</th>\n",
       "      <td>4</td>\n",
       "      <td>6</td>\n",
       "      <td>2</td>\n",
       "      <td>3</td>\n",
       "      <td>15</td>\n",
       "    </tr>\n",
       "    <tr>\n",
       "      <th>-fsched-spec-load-dangerous</th>\n",
       "      <td>4</td>\n",
       "      <td>6</td>\n",
       "      <td>4</td>\n",
       "      <td>6</td>\n",
       "      <td>20</td>\n",
       "    </tr>\n",
       "    <tr>\n",
       "      <th>-fcse-skip-blocks</th>\n",
       "      <td>6</td>\n",
       "      <td>3</td>\n",
       "      <td>4</td>\n",
       "      <td>4</td>\n",
       "      <td>17</td>\n",
       "    </tr>\n",
       "    <tr>\n",
       "      <th>-fmodulo-sched-allow-regmoves</th>\n",
       "      <td>5</td>\n",
       "      <td>5</td>\n",
       "      <td>7</td>\n",
       "      <td>6</td>\n",
       "      <td>23</td>\n",
       "    </tr>\n",
       "    <tr>\n",
       "      <th>-ftree-copy-prop</th>\n",
       "      <td>5</td>\n",
       "      <td>4</td>\n",
       "      <td>6</td>\n",
       "      <td>7</td>\n",
       "      <td>22</td>\n",
       "    </tr>\n",
       "    <tr>\n",
       "      <th>-fno-defer-pop</th>\n",
       "      <td>2</td>\n",
       "      <td>3</td>\n",
       "      <td>3</td>\n",
       "      <td>3</td>\n",
       "      <td>11</td>\n",
       "    </tr>\n",
       "    <tr>\n",
       "      <th>-fno-function-cse</th>\n",
       "      <td>5</td>\n",
       "      <td>6</td>\n",
       "      <td>5</td>\n",
       "      <td>6</td>\n",
       "      <td>22</td>\n",
       "    </tr>\n",
       "    <tr>\n",
       "      <th>-fselective-scheduling</th>\n",
       "      <td>5</td>\n",
       "      <td>3</td>\n",
       "      <td>4</td>\n",
       "      <td>3</td>\n",
       "      <td>15</td>\n",
       "    </tr>\n",
       "    <tr>\n",
       "      <th>-fsched-stalled-insns-dep</th>\n",
       "      <td>5</td>\n",
       "      <td>4</td>\n",
       "      <td>3</td>\n",
       "      <td>4</td>\n",
       "      <td>16</td>\n",
       "    </tr>\n",
       "    <tr>\n",
       "      <th>-ftree-loop-distribution</th>\n",
       "      <td>3</td>\n",
       "      <td>5</td>\n",
       "      <td>6</td>\n",
       "      <td>6</td>\n",
       "      <td>20</td>\n",
       "    </tr>\n",
       "    <tr>\n",
       "      <th>-ftree-builtin-call-dce</th>\n",
       "      <td>9</td>\n",
       "      <td>4</td>\n",
       "      <td>5</td>\n",
       "      <td>5</td>\n",
       "      <td>23</td>\n",
       "    </tr>\n",
       "    <tr>\n",
       "      <th>-ffat-lto-objects</th>\n",
       "      <td>7</td>\n",
       "      <td>4</td>\n",
       "      <td>5</td>\n",
       "      <td>4</td>\n",
       "      <td>20</td>\n",
       "    </tr>\n",
       "    <tr>\n",
       "      <th>-fstrict-aliasing</th>\n",
       "      <td>6</td>\n",
       "      <td>6</td>\n",
       "      <td>6</td>\n",
       "      <td>5</td>\n",
       "      <td>23</td>\n",
       "    </tr>\n",
       "    <tr>\n",
       "      <th>-fivopts</th>\n",
       "      <td>4</td>\n",
       "      <td>5</td>\n",
       "      <td>6</td>\n",
       "      <td>7</td>\n",
       "      <td>22</td>\n",
       "    </tr>\n",
       "    <tr>\n",
       "      <th>-ftree-loop-linear</th>\n",
       "      <td>6</td>\n",
       "      <td>6</td>\n",
       "      <td>5</td>\n",
       "      <td>2</td>\n",
       "      <td>19</td>\n",
       "    </tr>\n",
       "    <tr>\n",
       "      <th>-ftree-ter</th>\n",
       "      <td>5</td>\n",
       "      <td>3</td>\n",
       "      <td>5</td>\n",
       "      <td>5</td>\n",
       "      <td>18</td>\n",
       "    </tr>\n",
       "    <tr>\n",
       "      <th>-fsingle-precision-constant</th>\n",
       "      <td>4</td>\n",
       "      <td>5</td>\n",
       "      <td>6</td>\n",
       "      <td>6</td>\n",
       "      <td>21</td>\n",
       "    </tr>\n",
       "    <tr>\n",
       "      <th>-ftree-slsr</th>\n",
       "      <td>7</td>\n",
       "      <td>8</td>\n",
       "      <td>7</td>\n",
       "      <td>6</td>\n",
       "      <td>28</td>\n",
       "    </tr>\n",
       "    <tr>\n",
       "      <th>-finline-functions-called-once</th>\n",
       "      <td>5</td>\n",
       "      <td>6</td>\n",
       "      <td>6</td>\n",
       "      <td>6</td>\n",
       "      <td>23</td>\n",
       "    </tr>\n",
       "    <tr>\n",
       "      <th>-fdse</th>\n",
       "      <td>5</td>\n",
       "      <td>5</td>\n",
       "      <td>4</td>\n",
       "      <td>3</td>\n",
       "      <td>17</td>\n",
       "    </tr>\n",
       "    <tr>\n",
       "      <th>-fipa-profile</th>\n",
       "      <td>6</td>\n",
       "      <td>4</td>\n",
       "      <td>2</td>\n",
       "      <td>3</td>\n",
       "      <td>15</td>\n",
       "    </tr>\n",
       "    <tr>\n",
       "      <th>-Os</th>\n",
       "      <td>10</td>\n",
       "      <td>10</td>\n",
       "      <td>9</td>\n",
       "      <td>8</td>\n",
       "      <td>37</td>\n",
       "    </tr>\n",
       "    <tr>\n",
       "      <th>-fpartial-inlining</th>\n",
       "      <td>4</td>\n",
       "      <td>5</td>\n",
       "      <td>6</td>\n",
       "      <td>5</td>\n",
       "      <td>20</td>\n",
       "    </tr>\n",
       "    <tr>\n",
       "      <th>-fsched-critical-path-heuristic</th>\n",
       "      <td>4</td>\n",
       "      <td>5</td>\n",
       "      <td>3</td>\n",
       "      <td>6</td>\n",
       "      <td>18</td>\n",
       "    </tr>\n",
       "    <tr>\n",
       "      <th>-freschedule-modulo-scheduled-loops</th>\n",
       "      <td>7</td>\n",
       "      <td>3</td>\n",
       "      <td>3</td>\n",
       "      <td>4</td>\n",
       "      <td>17</td>\n",
       "    </tr>\n",
       "    <tr>\n",
       "      <th>-fipa-pta</th>\n",
       "      <td>4</td>\n",
       "      <td>6</td>\n",
       "      <td>7</td>\n",
       "      <td>4</td>\n",
       "      <td>21</td>\n",
       "    </tr>\n",
       "    <tr>\n",
       "      <th>-fbranch-probabilities</th>\n",
       "      <td>7</td>\n",
       "      <td>2</td>\n",
       "      <td>5</td>\n",
       "      <td>4</td>\n",
       "      <td>18</td>\n",
       "    </tr>\n",
       "    <tr>\n",
       "      <th>-fvect-cost-model</th>\n",
       "      <td>4</td>\n",
       "      <td>5</td>\n",
       "      <td>7</td>\n",
       "      <td>6</td>\n",
       "      <td>22</td>\n",
       "    </tr>\n",
       "    <tr>\n",
       "      <th>-O1</th>\n",
       "      <td>6</td>\n",
       "      <td>6</td>\n",
       "      <td>4</td>\n",
       "      <td>6</td>\n",
       "      <td>22</td>\n",
       "    </tr>\n",
       "    <tr>\n",
       "      <th>-fexpensive-optimizations</th>\n",
       "      <td>6</td>\n",
       "      <td>3</td>\n",
       "      <td>1</td>\n",
       "      <td>2</td>\n",
       "      <td>12</td>\n",
       "    </tr>\n",
       "    <tr>\n",
       "      <th>-fsplit-wide-types</th>\n",
       "      <td>6</td>\n",
       "      <td>3</td>\n",
       "      <td>5</td>\n",
       "      <td>5</td>\n",
       "      <td>19</td>\n",
       "    </tr>\n",
       "    <tr>\n",
       "      <th>-fcombine-stack-adjustments</th>\n",
       "      <td>2</td>\n",
       "      <td>1</td>\n",
       "      <td>4</td>\n",
       "      <td>4</td>\n",
       "      <td>11</td>\n",
       "    </tr>\n",
       "    <tr>\n",
       "      <th>-fhoist-adjacent-loads</th>\n",
       "      <td>6</td>\n",
       "      <td>4</td>\n",
       "      <td>4</td>\n",
       "      <td>2</td>\n",
       "      <td>16</td>\n",
       "    </tr>\n",
       "    <tr>\n",
       "      <th>-freorder-functions</th>\n",
       "      <td>3</td>\n",
       "      <td>7</td>\n",
       "      <td>5</td>\n",
       "      <td>6</td>\n",
       "      <td>21</td>\n",
       "    </tr>\n",
       "    <tr>\n",
       "      <th>-floop-nest-optimize</th>\n",
       "      <td>5</td>\n",
       "      <td>6</td>\n",
       "      <td>8</td>\n",
       "      <td>6</td>\n",
       "      <td>25</td>\n",
       "    </tr>\n",
       "    <tr>\n",
       "      <th>-fdelayed-branch</th>\n",
       "      <td>4</td>\n",
       "      <td>6</td>\n",
       "      <td>8</td>\n",
       "      <td>4</td>\n",
       "      <td>22</td>\n",
       "    </tr>\n",
       "    <tr>\n",
       "      <th>-ftree-ch</th>\n",
       "      <td>6</td>\n",
       "      <td>5</td>\n",
       "      <td>7</td>\n",
       "      <td>8</td>\n",
       "      <td>26</td>\n",
       "    </tr>\n",
       "    <tr>\n",
       "      <th>-fdelete-null-pointer-checks</th>\n",
       "      <td>1</td>\n",
       "      <td>5</td>\n",
       "      <td>6</td>\n",
       "      <td>5</td>\n",
       "      <td>17</td>\n",
       "    </tr>\n",
       "    <tr>\n",
       "      <th>-ftree-vectorize</th>\n",
       "      <td>6</td>\n",
       "      <td>4</td>\n",
       "      <td>4</td>\n",
       "      <td>3</td>\n",
       "      <td>17</td>\n",
       "    </tr>\n",
       "    <tr>\n",
       "      <th>-fno-inline</th>\n",
       "      <td>1</td>\n",
       "      <td>1</td>\n",
       "      <td>2</td>\n",
       "      <td>3</td>\n",
       "      <td>7</td>\n",
       "    </tr>\n",
       "    <tr>\n",
       "      <th>-fsel-sched-pipelining-outer-loops</th>\n",
       "      <td>5</td>\n",
       "      <td>6</td>\n",
       "      <td>8</td>\n",
       "      <td>7</td>\n",
       "      <td>26</td>\n",
       "    </tr>\n",
       "    <tr>\n",
       "      <th>-freorder-blocks</th>\n",
       "      <td>4</td>\n",
       "      <td>4</td>\n",
       "      <td>6</td>\n",
       "      <td>4</td>\n",
       "      <td>18</td>\n",
       "    </tr>\n",
       "    <tr>\n",
       "      <th>-floop-parallelize-all</th>\n",
       "      <td>6</td>\n",
       "      <td>4</td>\n",
       "      <td>4</td>\n",
       "      <td>7</td>\n",
       "      <td>21</td>\n",
       "    </tr>\n",
       "    <tr>\n",
       "      <th>-fipa-icf</th>\n",
       "      <td>6</td>\n",
       "      <td>5</td>\n",
       "      <td>3</td>\n",
       "      <td>6</td>\n",
       "      <td>20</td>\n",
       "    </tr>\n",
       "    <tr>\n",
       "      <th>-fcompare-elim</th>\n",
       "      <td>5</td>\n",
       "      <td>4</td>\n",
       "      <td>4</td>\n",
       "      <td>3</td>\n",
       "      <td>16</td>\n",
       "    </tr>\n",
       "    <tr>\n",
       "      <th>-floop-strip-mine</th>\n",
       "      <td>6</td>\n",
       "      <td>2</td>\n",
       "      <td>3</td>\n",
       "      <td>4</td>\n",
       "      <td>15</td>\n",
       "    </tr>\n",
       "    <tr>\n",
       "      <th>-fdevirtualize-at-ltrans</th>\n",
       "      <td>5</td>\n",
       "      <td>3</td>\n",
       "      <td>5</td>\n",
       "      <td>6</td>\n",
       "      <td>19</td>\n",
       "    </tr>\n",
       "    <tr>\n",
       "      <th>-fmerge-constants</th>\n",
       "      <td>7</td>\n",
       "      <td>9</td>\n",
       "      <td>9</td>\n",
       "      <td>7</td>\n",
       "      <td>32</td>\n",
       "    </tr>\n",
       "    <tr>\n",
       "      <th>-fcaller-saves</th>\n",
       "      <td>4</td>\n",
       "      <td>5</td>\n",
       "      <td>4</td>\n",
       "      <td>4</td>\n",
       "      <td>17</td>\n",
       "    </tr>\n",
       "    <tr>\n",
       "      <th>-fno-zero-initialized-in-bss</th>\n",
       "      <td>5</td>\n",
       "      <td>8</td>\n",
       "      <td>7</td>\n",
       "      <td>7</td>\n",
       "      <td>27</td>\n",
       "    </tr>\n",
       "    <tr>\n",
       "      <th>-fno-sched-interblock</th>\n",
       "      <td>4</td>\n",
       "      <td>5</td>\n",
       "      <td>4</td>\n",
       "      <td>4</td>\n",
       "      <td>17</td>\n",
       "    </tr>\n",
       "    <tr>\n",
       "      <th>-fearly-inlining</th>\n",
       "      <td>4</td>\n",
       "      <td>3</td>\n",
       "      <td>5</td>\n",
       "      <td>4</td>\n",
       "      <td>16</td>\n",
       "    </tr>\n",
       "    <tr>\n",
       "      <th>-funsafe-math-optimizations</th>\n",
       "      <td>3</td>\n",
       "      <td>8</td>\n",
       "      <td>8</td>\n",
       "      <td>7</td>\n",
       "      <td>26</td>\n",
       "    </tr>\n",
       "    <tr>\n",
       "      <th>-fwhole-program</th>\n",
       "      <td>2</td>\n",
       "      <td>5</td>\n",
       "      <td>7</td>\n",
       "      <td>7</td>\n",
       "      <td>21</td>\n",
       "    </tr>\n",
       "    <tr>\n",
       "      <th>-fsched-last-insn-heuristic</th>\n",
       "      <td>5</td>\n",
       "      <td>5</td>\n",
       "      <td>5</td>\n",
       "      <td>2</td>\n",
       "      <td>17</td>\n",
       "    </tr>\n",
       "    <tr>\n",
       "      <th>-fsignaling-nans</th>\n",
       "      <td>3</td>\n",
       "      <td>5</td>\n",
       "      <td>5</td>\n",
       "      <td>6</td>\n",
       "      <td>19</td>\n",
       "    </tr>\n",
       "    <tr>\n",
       "      <th>-fschedule-insns</th>\n",
       "      <td>6</td>\n",
       "      <td>5</td>\n",
       "      <td>4</td>\n",
       "      <td>4</td>\n",
       "      <td>19</td>\n",
       "    </tr>\n",
       "    <tr>\n",
       "      <th>-finline-small-functions</th>\n",
       "      <td>7</td>\n",
       "      <td>5</td>\n",
       "      <td>8</td>\n",
       "      <td>7</td>\n",
       "      <td>27</td>\n",
       "    </tr>\n",
       "    <tr>\n",
       "      <th>-ftree-loop-ivcanon</th>\n",
       "      <td>5</td>\n",
       "      <td>5</td>\n",
       "      <td>5</td>\n",
       "      <td>6</td>\n",
       "      <td>21</td>\n",
       "    </tr>\n",
       "    <tr>\n",
       "      <th>-flto</th>\n",
       "      <td>6</td>\n",
       "      <td>4</td>\n",
       "      <td>2</td>\n",
       "      <td>3</td>\n",
       "      <td>15</td>\n",
       "    </tr>\n",
       "    <tr>\n",
       "      <th>-ftree-coalesce-vars</th>\n",
       "      <td>5</td>\n",
       "      <td>6</td>\n",
       "      <td>4</td>\n",
       "      <td>3</td>\n",
       "      <td>18</td>\n",
       "    </tr>\n",
       "    <tr>\n",
       "      <th>-ffunction-sections</th>\n",
       "      <td>6</td>\n",
       "      <td>5</td>\n",
       "      <td>4</td>\n",
       "      <td>3</td>\n",
       "      <td>18</td>\n",
       "    </tr>\n",
       "    <tr>\n",
       "      <th>-fconserve-stack</th>\n",
       "      <td>5</td>\n",
       "      <td>4</td>\n",
       "      <td>3</td>\n",
       "      <td>3</td>\n",
       "      <td>15</td>\n",
       "    </tr>\n",
       "    <tr>\n",
       "      <th>-fsemantic-interposition</th>\n",
       "      <td>4</td>\n",
       "      <td>3</td>\n",
       "      <td>5</td>\n",
       "      <td>6</td>\n",
       "      <td>18</td>\n",
       "    </tr>\n",
       "    <tr>\n",
       "      <th>-fsched-rank-heuristic</th>\n",
       "      <td>5</td>\n",
       "      <td>4</td>\n",
       "      <td>5</td>\n",
       "      <td>7</td>\n",
       "      <td>21</td>\n",
       "    </tr>\n",
       "    <tr>\n",
       "      <th>-fssa-phiopt</th>\n",
       "      <td>6</td>\n",
       "      <td>4</td>\n",
       "      <td>6</td>\n",
       "      <td>6</td>\n",
       "      <td>22</td>\n",
       "    </tr>\n",
       "    <tr>\n",
       "      <th>-ftree-dse</th>\n",
       "      <td>0</td>\n",
       "      <td>5</td>\n",
       "      <td>5</td>\n",
       "      <td>5</td>\n",
       "      <td>15</td>\n",
       "    </tr>\n",
       "    <tr>\n",
       "      <th>-ftree-tail-merge</th>\n",
       "      <td>5</td>\n",
       "      <td>3</td>\n",
       "      <td>2</td>\n",
       "      <td>3</td>\n",
       "      <td>13</td>\n",
       "    </tr>\n",
       "    <tr>\n",
       "      <th>-fkeep-inline-functions</th>\n",
       "      <td>7</td>\n",
       "      <td>5</td>\n",
       "      <td>7</td>\n",
       "      <td>6</td>\n",
       "      <td>25</td>\n",
       "    </tr>\n",
       "    <tr>\n",
       "      <th>-fsched-group-heuristic</th>\n",
       "      <td>4</td>\n",
       "      <td>5</td>\n",
       "      <td>4</td>\n",
       "      <td>5</td>\n",
       "      <td>18</td>\n",
       "    </tr>\n",
       "    <tr>\n",
       "      <th>-falign-loops</th>\n",
       "      <td>6</td>\n",
       "      <td>5</td>\n",
       "      <td>6</td>\n",
       "      <td>6</td>\n",
       "      <td>23</td>\n",
       "    </tr>\n",
       "    <tr>\n",
       "      <th>-fprofile-correction</th>\n",
       "      <td>6</td>\n",
       "      <td>3</td>\n",
       "      <td>2</td>\n",
       "      <td>5</td>\n",
       "      <td>16</td>\n",
       "    </tr>\n",
       "    <tr>\n",
       "      <th>-ftree-pta</th>\n",
       "      <td>5</td>\n",
       "      <td>6</td>\n",
       "      <td>3</td>\n",
       "      <td>5</td>\n",
       "      <td>19</td>\n",
       "    </tr>\n",
       "    <tr>\n",
       "      <th>-findirect-inlining</th>\n",
       "      <td>6</td>\n",
       "      <td>6</td>\n",
       "      <td>8</td>\n",
       "      <td>6</td>\n",
       "      <td>26</td>\n",
       "    </tr>\n",
       "    <tr>\n",
       "      <th>-fno-toplevel-reorder</th>\n",
       "      <td>6</td>\n",
       "      <td>3</td>\n",
       "      <td>5</td>\n",
       "      <td>4</td>\n",
       "      <td>18</td>\n",
       "    </tr>\n",
       "    <tr>\n",
       "      <th>-foptimize-sibling-calls</th>\n",
       "      <td>5</td>\n",
       "      <td>5</td>\n",
       "      <td>9</td>\n",
       "      <td>7</td>\n",
       "      <td>26</td>\n",
       "    </tr>\n",
       "    <tr>\n",
       "      <th>-fno-peephole</th>\n",
       "      <td>4</td>\n",
       "      <td>2</td>\n",
       "      <td>3</td>\n",
       "      <td>3</td>\n",
       "      <td>12</td>\n",
       "    </tr>\n",
       "    <tr>\n",
       "      <th>-fsched-spec-load</th>\n",
       "      <td>8</td>\n",
       "      <td>6</td>\n",
       "      <td>5</td>\n",
       "      <td>7</td>\n",
       "      <td>26</td>\n",
       "    </tr>\n",
       "    <tr>\n",
       "      <th>-ftree-loop-optimize</th>\n",
       "      <td>6</td>\n",
       "      <td>4</td>\n",
       "      <td>4</td>\n",
       "      <td>5</td>\n",
       "      <td>19</td>\n",
       "    </tr>\n",
       "    <tr>\n",
       "      <th>-fira-loop-pressure</th>\n",
       "      <td>4</td>\n",
       "      <td>4</td>\n",
       "      <td>3</td>\n",
       "      <td>4</td>\n",
       "      <td>15</td>\n",
       "    </tr>\n",
       "    <tr>\n",
       "      <th>-ftree-sink</th>\n",
       "      <td>5</td>\n",
       "      <td>7</td>\n",
       "      <td>5</td>\n",
       "      <td>5</td>\n",
       "      <td>22</td>\n",
       "    </tr>\n",
       "    <tr>\n",
       "      <th>-fipa-reference</th>\n",
       "      <td>5</td>\n",
       "      <td>4</td>\n",
       "      <td>5</td>\n",
       "      <td>5</td>\n",
       "      <td>19</td>\n",
       "    </tr>\n",
       "    <tr>\n",
       "      <th>-fmove-loop-invariants</th>\n",
       "      <td>6</td>\n",
       "      <td>7</td>\n",
       "      <td>6</td>\n",
       "      <td>5</td>\n",
       "      <td>24</td>\n",
       "    </tr>\n",
       "    <tr>\n",
       "      <th>-fno-ira-share-save-slots</th>\n",
       "      <td>4</td>\n",
       "      <td>3</td>\n",
       "      <td>2</td>\n",
       "      <td>2</td>\n",
       "      <td>11</td>\n",
       "    </tr>\n",
       "    <tr>\n",
       "      <th>-fno-branch-count-reg</th>\n",
       "      <td>7</td>\n",
       "      <td>5</td>\n",
       "      <td>4</td>\n",
       "      <td>5</td>\n",
       "      <td>21</td>\n",
       "    </tr>\n",
       "    <tr>\n",
       "      <th>-fsched-stalled-insns</th>\n",
       "      <td>5</td>\n",
       "      <td>6</td>\n",
       "      <td>7</td>\n",
       "      <td>8</td>\n",
       "      <td>26</td>\n",
       "    </tr>\n",
       "  </tbody>\n",
       "</table>\n",
       "</div>"
      ],
      "text/plain": [
       "                                       mut_maior  mut_menor  cross_maior  \\\n",
       "-ftree-loop-vectorize                          4          6            5   \n",
       "-ftree-reassoc                                 8          6            7   \n",
       "-fdata-sections                                7          2            2   \n",
       "-fisolate-erroneous-paths-attribute            6          8            7   \n",
       "-fcrossjumping                                 5          6            5   \n",
       "-ftree-loop-distribute-patterns                4          6            7   \n",
       "-fipa-sra                                      7          3            3   \n",
       "-fgcse-lm                                      6          5            3   \n",
       "-funroll-loops                                 6          4            4   \n",
       "-fsplit-ivs-in-unroller                        8          6            7   \n",
       "-ftree-loop-im                                 7          5            7   \n",
       "-fkeep-static-consts                           3          5            5   \n",
       "-falign-functions                              6          5            5   \n",
       "-flra-remat                                    5          7            7   \n",
       "-fthread-jumps                                 8          4            5   \n",
       "-fcse-follow-jumps                             7          5            5   \n",
       "-floop-interchange                             6          8            6   \n",
       "-fgraphite-identity                            4          6            5   \n",
       "-ftree-bit-ccp                                 5          4            7   \n",
       "-ftree-switch-conversion                       6          6            8   \n",
       "-fmerge-all-constants                          6          7            4   \n",
       "-funswitch-loops                               7          5            4   \n",
       "-frename-registers                             4          5            4   \n",
       "-fauto-inc-dec                                 4          5            4   \n",
       "-fforward-propagate                            7          6            5   \n",
       "-fno-signed-zeros                              3          1            1   \n",
       "-fstdarg-opt                                   6          3            6   \n",
       "-fisolate-erroneous-paths-dereference          6          7            8   \n",
       "-O0                                            6          6            5   \n",
       "-fno-sched-spec                                6          5            6   \n",
       "-fcprop-registers                              5          5            3   \n",
       "-fschedule-fusion                              2          7            7   \n",
       "-fgcse-las                                     3          4            4   \n",
       "-fsched2-use-superblocks                       5          4            4   \n",
       "-fif-conversion2                               7          5            5   \n",
       "-frerun-cse-after-loop                         2          4            5   \n",
       "-ftracer                                       2          6            8   \n",
       "-fbranch-target-load-optimize2                 1          6            4   \n",
       "-Ofast                                         1          1            2   \n",
       "-fcx-fortran-rules                             5          7            8   \n",
       "-fipa-pure-const                               7          6            6   \n",
       "-fno-guess-branch-probability                  7          2            1   \n",
       "-ftree-pre                                     5          5            4   \n",
       "-fno-math-errno                                4          7            7   \n",
       "-fdevirtualize                                 7          7            6   \n",
       "-fif-conversion                                6          6            8   \n",
       "-fdce                                          6          7            6   \n",
       "-fsched-spec-insn-heuristic                    6          5            4   \n",
       "-fipa-cp                                       7          4            5   \n",
       "-ffloat-store                                  4          6            9   \n",
       "-finline-functions                             5          6            6   \n",
       "-ftree-forwprop                                4          7            6   \n",
       "-fweb                                          5          8            6   \n",
       "-fipa-ra                                       4          4            3   \n",
       "-fpredictive-commoning                         7          6            5   \n",
       "-fdevirtualize-speculatively                   5          4            4   \n",
       "-fomit-frame-pointer                           3          6            8   \n",
       "-floop-block                                   5          7            3   \n",
       "-ftree-dominator-opts                          7          7            5   \n",
       "-fvariable-expansion-in-unroller               5          5            6   \n",
       "-O                                             3          3            3   \n",
       "-fno-ira-share-spill-slots                     5          5            7   \n",
       "-ftree-vrp                                     5          4            6   \n",
       "-ftree-ccp                                     6          3            5   \n",
       "-fshrink-wrap                                  5          7            8   \n",
       "-fprofile-values                               6          6            8   \n",
       "-fira-hoist-pressure                           6          4            5   \n",
       "-fprofile-reorder-functions                    4          7            4   \n",
       "-ftree-sra                                     4          3            5   \n",
       "-fgcse                                         5          6            4   \n",
       "-funit-at-a-time                               4          5            4   \n",
       "-falign-labels                                 6          5            3   \n",
       "-ftree-dce                                     3          4            3   \n",
       "-frounding-math                                6          4            6   \n",
       "-fbranch-target-load-optimize                  3          5            7   \n",
       "-ffinite-math-only                             6          5            5   \n",
       "-fno-peephole2                                 3          3            4   \n",
       "-freorder-blocks-and-partition                 4          9            8   \n",
       "-O2                                            5          6            6   \n",
       "-fpeel-loops                                   6          3            1   \n",
       "-ftree-phiprop                                 4          3            5   \n",
       "-fno-trapping-math                             3          6            6   \n",
       "-fmodulo-sched                                 3          7            8   \n",
       "-fvpt                                          5          2            2   \n",
       "-falign-jumps                                  7          3            3   \n",
       "-fsel-sched-pipelining                         8          3            4   \n",
       "-fsched-dep-count-heuristic                    6          2            5   \n",
       "-fbtr-bb-exclusive                             4          6            8   \n",
       "-fipa-cp-clone                                 7          4            3   \n",
       "-fuse-linker-plugin                            4          4            4   \n",
       "-fprofile-use                                  8          8            7   \n",
       "-O3                                            6          2            3   \n",
       "-flive-range-shrinkage                         4         10            8   \n",
       "-fgcse-sm                                      6          7            5   \n",
       "-fgcse-after-reload                            7          5            3   \n",
       "-ftree-loop-if-convert                         7          3            5   \n",
       "-ffast-math                                    3          4            5   \n",
       "-fselective-scheduling2                        6          5            6   \n",
       "-fsched-pressure                               5          5            6   \n",
       "-floop-unroll-and-jam                          7          4            3   \n",
       "-funroll-all-loops                             4          5            1   \n",
       "-ftree-fre                                     5          3            3   \n",
       "-fcx-limited-range                             3          7            6   \n",
       "-ftree-partial-pre                             4          6            2   \n",
       "-fsched-spec-load-dangerous                    4          6            4   \n",
       "-fcse-skip-blocks                              6          3            4   \n",
       "-fmodulo-sched-allow-regmoves                  5          5            7   \n",
       "-ftree-copy-prop                               5          4            6   \n",
       "-fno-defer-pop                                 2          3            3   \n",
       "-fno-function-cse                              5          6            5   \n",
       "-fselective-scheduling                         5          3            4   \n",
       "-fsched-stalled-insns-dep                      5          4            3   \n",
       "-ftree-loop-distribution                       3          5            6   \n",
       "-ftree-builtin-call-dce                        9          4            5   \n",
       "-ffat-lto-objects                              7          4            5   \n",
       "-fstrict-aliasing                              6          6            6   \n",
       "-fivopts                                       4          5            6   \n",
       "-ftree-loop-linear                             6          6            5   \n",
       "-ftree-ter                                     5          3            5   \n",
       "-fsingle-precision-constant                    4          5            6   \n",
       "-ftree-slsr                                    7          8            7   \n",
       "-finline-functions-called-once                 5          6            6   \n",
       "-fdse                                          5          5            4   \n",
       "-fipa-profile                                  6          4            2   \n",
       "-Os                                           10         10            9   \n",
       "-fpartial-inlining                             4          5            6   \n",
       "-fsched-critical-path-heuristic                4          5            3   \n",
       "-freschedule-modulo-scheduled-loops            7          3            3   \n",
       "-fipa-pta                                      4          6            7   \n",
       "-fbranch-probabilities                         7          2            5   \n",
       "-fvect-cost-model                              4          5            7   \n",
       "-O1                                            6          6            4   \n",
       "-fexpensive-optimizations                      6          3            1   \n",
       "-fsplit-wide-types                             6          3            5   \n",
       "-fcombine-stack-adjustments                    2          1            4   \n",
       "-fhoist-adjacent-loads                         6          4            4   \n",
       "-freorder-functions                            3          7            5   \n",
       "-floop-nest-optimize                           5          6            8   \n",
       "-fdelayed-branch                               4          6            8   \n",
       "-ftree-ch                                      6          5            7   \n",
       "-fdelete-null-pointer-checks                   1          5            6   \n",
       "-ftree-vectorize                               6          4            4   \n",
       "-fno-inline                                    1          1            2   \n",
       "-fsel-sched-pipelining-outer-loops             5          6            8   \n",
       "-freorder-blocks                               4          4            6   \n",
       "-floop-parallelize-all                         6          4            4   \n",
       "-fipa-icf                                      6          5            3   \n",
       "-fcompare-elim                                 5          4            4   \n",
       "-floop-strip-mine                              6          2            3   \n",
       "-fdevirtualize-at-ltrans                       5          3            5   \n",
       "-fmerge-constants                              7          9            9   \n",
       "-fcaller-saves                                 4          5            4   \n",
       "-fno-zero-initialized-in-bss                   5          8            7   \n",
       "-fno-sched-interblock                          4          5            4   \n",
       "-fearly-inlining                               4          3            5   \n",
       "-funsafe-math-optimizations                    3          8            8   \n",
       "-fwhole-program                                2          5            7   \n",
       "-fsched-last-insn-heuristic                    5          5            5   \n",
       "-fsignaling-nans                               3          5            5   \n",
       "-fschedule-insns                               6          5            4   \n",
       "-finline-small-functions                       7          5            8   \n",
       "-ftree-loop-ivcanon                            5          5            5   \n",
       "-flto                                          6          4            2   \n",
       "-ftree-coalesce-vars                           5          6            4   \n",
       "-ffunction-sections                            6          5            4   \n",
       "-fconserve-stack                               5          4            3   \n",
       "-fsemantic-interposition                       4          3            5   \n",
       "-fsched-rank-heuristic                         5          4            5   \n",
       "-fssa-phiopt                                   6          4            6   \n",
       "-ftree-dse                                     0          5            5   \n",
       "-ftree-tail-merge                              5          3            2   \n",
       "-fkeep-inline-functions                        7          5            7   \n",
       "-fsched-group-heuristic                        4          5            4   \n",
       "-falign-loops                                  6          5            6   \n",
       "-fprofile-correction                           6          3            2   \n",
       "-ftree-pta                                     5          6            3   \n",
       "-findirect-inlining                            6          6            8   \n",
       "-fno-toplevel-reorder                          6          3            5   \n",
       "-foptimize-sibling-calls                       5          5            9   \n",
       "-fno-peephole                                  4          2            3   \n",
       "-fsched-spec-load                              8          6            5   \n",
       "-ftree-loop-optimize                           6          4            4   \n",
       "-fira-loop-pressure                            4          4            3   \n",
       "-ftree-sink                                    5          7            5   \n",
       "-fipa-reference                                5          4            5   \n",
       "-fmove-loop-invariants                         6          7            6   \n",
       "-fno-ira-share-save-slots                      4          3            2   \n",
       "-fno-branch-count-reg                          7          5            4   \n",
       "-fsched-stalled-insns                          5          6            7   \n",
       "\n",
       "                                       cross_menor  freq  \n",
       "-ftree-loop-vectorize                            5    20  \n",
       "-ftree-reassoc                                   7    28  \n",
       "-fdata-sections                                  3    14  \n",
       "-fisolate-erroneous-paths-attribute              6    27  \n",
       "-fcrossjumping                                   4    20  \n",
       "-ftree-loop-distribute-patterns                  6    23  \n",
       "-fipa-sra                                        5    18  \n",
       "-fgcse-lm                                        5    19  \n",
       "-funroll-loops                                   6    20  \n",
       "-fsplit-ivs-in-unroller                          6    27  \n",
       "-ftree-loop-im                                   6    25  \n",
       "-fkeep-static-consts                             3    16  \n",
       "-falign-functions                                4    20  \n",
       "-flra-remat                                      6    25  \n",
       "-fthread-jumps                                   6    23  \n",
       "-fcse-follow-jumps                               3    20  \n",
       "-floop-interchange                               5    25  \n",
       "-fgraphite-identity                              5    20  \n",
       "-ftree-bit-ccp                                   4    20  \n",
       "-ftree-switch-conversion                         5    25  \n",
       "-fmerge-all-constants                            5    22  \n",
       "-funswitch-loops                                 3    19  \n",
       "-frename-registers                               5    18  \n",
       "-fauto-inc-dec                                   4    17  \n",
       "-fforward-propagate                              5    23  \n",
       "-fno-signed-zeros                                3     8  \n",
       "-fstdarg-opt                                     5    20  \n",
       "-fisolate-erroneous-paths-dereference            5    26  \n",
       "-O0                                              6    23  \n",
       "-fno-sched-spec                                  4    21  \n",
       "-fcprop-registers                                5    18  \n",
       "-fschedule-fusion                                9    25  \n",
       "-fgcse-las                                       4    15  \n",
       "-fsched2-use-superblocks                         4    17  \n",
       "-fif-conversion2                                 4    21  \n",
       "-frerun-cse-after-loop                           6    17  \n",
       "-ftracer                                         8    24  \n",
       "-fbranch-target-load-optimize2                   3    14  \n",
       "-Ofast                                           2     6  \n",
       "-fcx-fortran-rules                               7    27  \n",
       "-fipa-pure-const                                 6    25  \n",
       "-fno-guess-branch-probability                    2    12  \n",
       "-ftree-pre                                       3    17  \n",
       "-fno-math-errno                                  6    24  \n",
       "-fdevirtualize                                   6    26  \n",
       "-fif-conversion                                  9    29  \n",
       "-fdce                                            5    24  \n",
       "-fsched-spec-insn-heuristic                      3    18  \n",
       "-fipa-cp                                         6    22  \n",
       "-ffloat-store                                    6    25  \n",
       "-finline-functions                               5    22  \n",
       "-ftree-forwprop                                  6    23  \n",
       "-fweb                                            5    24  \n",
       "-fipa-ra                                         3    14  \n",
       "-fpredictive-commoning                           5    23  \n",
       "-fdevirtualize-speculatively                     5    18  \n",
       "-fomit-frame-pointer                             9    26  \n",
       "-floop-block                                     2    17  \n",
       "-ftree-dominator-opts                            5    24  \n",
       "-fvariable-expansion-in-unroller                 4    20  \n",
       "-O                                               3    12  \n",
       "-fno-ira-share-spill-slots                       6    23  \n",
       "-ftree-vrp                                       5    20  \n",
       "-ftree-ccp                                       3    17  \n",
       "-fshrink-wrap                                    5    25  \n",
       "-fprofile-values                                 6    26  \n",
       "-fira-hoist-pressure                             5    20  \n",
       "-fprofile-reorder-functions                      5    20  \n",
       "-ftree-sra                                       5    17  \n",
       "-fgcse                                           6    21  \n",
       "-funit-at-a-time                                 6    19  \n",
       "-falign-labels                                   3    17  \n",
       "-ftree-dce                                       4    14  \n",
       "-frounding-math                                  7    23  \n",
       "-fbranch-target-load-optimize                    7    22  \n",
       "-ffinite-math-only                               4    20  \n",
       "-fno-peephole2                                   5    15  \n",
       "-freorder-blocks-and-partition                   6    27  \n",
       "-O2                                              5    22  \n",
       "-fpeel-loops                                     3    13  \n",
       "-ftree-phiprop                                   4    16  \n",
       "-fno-trapping-math                               5    20  \n",
       "-fmodulo-sched                                   7    25  \n",
       "-fvpt                                            3    12  \n",
       "-falign-jumps                                    3    16  \n",
       "-fsel-sched-pipelining                           5    20  \n",
       "-fsched-dep-count-heuristic                      5    18  \n",
       "-fbtr-bb-exclusive                               7    25  \n",
       "-fipa-cp-clone                                   4    18  \n",
       "-fuse-linker-plugin                              3    15  \n",
       "-fprofile-use                                    5    28  \n",
       "-O3                                              4    15  \n",
       "-flive-range-shrinkage                           8    30  \n",
       "-fgcse-sm                                        5    23  \n",
       "-fgcse-after-reload                              4    19  \n",
       "-ftree-loop-if-convert                           5    20  \n",
       "-ffast-math                                      4    16  \n",
       "-fselective-scheduling2                          6    23  \n",
       "-fsched-pressure                                 6    22  \n",
       "-floop-unroll-and-jam                            5    19  \n",
       "-funroll-all-loops                               2    12  \n",
       "-ftree-fre                                       3    14  \n",
       "-fcx-limited-range                               5    21  \n",
       "-ftree-partial-pre                               3    15  \n",
       "-fsched-spec-load-dangerous                      6    20  \n",
       "-fcse-skip-blocks                                4    17  \n",
       "-fmodulo-sched-allow-regmoves                    6    23  \n",
       "-ftree-copy-prop                                 7    22  \n",
       "-fno-defer-pop                                   3    11  \n",
       "-fno-function-cse                                6    22  \n",
       "-fselective-scheduling                           3    15  \n",
       "-fsched-stalled-insns-dep                        4    16  \n",
       "-ftree-loop-distribution                         6    20  \n",
       "-ftree-builtin-call-dce                          5    23  \n",
       "-ffat-lto-objects                                4    20  \n",
       "-fstrict-aliasing                                5    23  \n",
       "-fivopts                                         7    22  \n",
       "-ftree-loop-linear                               2    19  \n",
       "-ftree-ter                                       5    18  \n",
       "-fsingle-precision-constant                      6    21  \n",
       "-ftree-slsr                                      6    28  \n",
       "-finline-functions-called-once                   6    23  \n",
       "-fdse                                            3    17  \n",
       "-fipa-profile                                    3    15  \n",
       "-Os                                              8    37  \n",
       "-fpartial-inlining                               5    20  \n",
       "-fsched-critical-path-heuristic                  6    18  \n",
       "-freschedule-modulo-scheduled-loops              4    17  \n",
       "-fipa-pta                                        4    21  \n",
       "-fbranch-probabilities                           4    18  \n",
       "-fvect-cost-model                                6    22  \n",
       "-O1                                              6    22  \n",
       "-fexpensive-optimizations                        2    12  \n",
       "-fsplit-wide-types                               5    19  \n",
       "-fcombine-stack-adjustments                      4    11  \n",
       "-fhoist-adjacent-loads                           2    16  \n",
       "-freorder-functions                              6    21  \n",
       "-floop-nest-optimize                             6    25  \n",
       "-fdelayed-branch                                 4    22  \n",
       "-ftree-ch                                        8    26  \n",
       "-fdelete-null-pointer-checks                     5    17  \n",
       "-ftree-vectorize                                 3    17  \n",
       "-fno-inline                                      3     7  \n",
       "-fsel-sched-pipelining-outer-loops               7    26  \n",
       "-freorder-blocks                                 4    18  \n",
       "-floop-parallelize-all                           7    21  \n",
       "-fipa-icf                                        6    20  \n",
       "-fcompare-elim                                   3    16  \n",
       "-floop-strip-mine                                4    15  \n",
       "-fdevirtualize-at-ltrans                         6    19  \n",
       "-fmerge-constants                                7    32  \n",
       "-fcaller-saves                                   4    17  \n",
       "-fno-zero-initialized-in-bss                     7    27  \n",
       "-fno-sched-interblock                            4    17  \n",
       "-fearly-inlining                                 4    16  \n",
       "-funsafe-math-optimizations                      7    26  \n",
       "-fwhole-program                                  7    21  \n",
       "-fsched-last-insn-heuristic                      2    17  \n",
       "-fsignaling-nans                                 6    19  \n",
       "-fschedule-insns                                 4    19  \n",
       "-finline-small-functions                         7    27  \n",
       "-ftree-loop-ivcanon                              6    21  \n",
       "-flto                                            3    15  \n",
       "-ftree-coalesce-vars                             3    18  \n",
       "-ffunction-sections                              3    18  \n",
       "-fconserve-stack                                 3    15  \n",
       "-fsemantic-interposition                         6    18  \n",
       "-fsched-rank-heuristic                           7    21  \n",
       "-fssa-phiopt                                     6    22  \n",
       "-ftree-dse                                       5    15  \n",
       "-ftree-tail-merge                                3    13  \n",
       "-fkeep-inline-functions                          6    25  \n",
       "-fsched-group-heuristic                          5    18  \n",
       "-falign-loops                                    6    23  \n",
       "-fprofile-correction                             5    16  \n",
       "-ftree-pta                                       5    19  \n",
       "-findirect-inlining                              6    26  \n",
       "-fno-toplevel-reorder                            4    18  \n",
       "-foptimize-sibling-calls                         7    26  \n",
       "-fno-peephole                                    3    12  \n",
       "-fsched-spec-load                                7    26  \n",
       "-ftree-loop-optimize                             5    19  \n",
       "-fira-loop-pressure                              4    15  \n",
       "-ftree-sink                                      5    22  \n",
       "-fipa-reference                                  5    19  \n",
       "-fmove-loop-invariants                           5    24  \n",
       "-fno-ira-share-save-slots                        2    11  \n",
       "-fno-branch-count-reg                            5    21  \n",
       "-fsched-stalled-insns                            8    26  "
      ]
     },
     "execution_count": 8,
     "metadata": {},
     "output_type": "execute_result"
    }
   ],
   "source": [
    "dict_all_flags = {}\n",
    "for flag in all_flags: \n",
    "    dict_all_flags[flag] = {'mut_maior': 0, 'mut_menor': 0, 'cross_maior': 0, 'cross_menor': 0, 'freq': 0} \n",
    "\n",
    "cross_maior = [flags_cross_maior_1, flags_cross_maior_2, flags_cross_maior_3, flags_cross_maior_4, flags_cross_maior_5, flags_cross_maior_6, flags_cross_maior_7, flags_cross_maior_8, flags_cross_maior_9, flags_cross_maior_10]\n",
    "cross_menor = [flags_cross_menor_1, flags_cross_menor_2, flags_cross_menor_3, flags_cross_menor_4, flags_cross_menor_5, flags_cross_menor_6, flags_cross_menor_7, flags_cross_menor_8, flags_cross_menor_9, flags_cross_menor_10]\n",
    "mut_maior = [flags_mut_maior_1, flags_mut_maior_2, flags_mut_maior_3, flags_mut_maior_4, flags_mut_maior_5, flags_mut_maior_6, flags_mut_maior_7, flags_mut_maior_8, flags_mut_maior_9, flags_mut_maior_10]\n",
    "mut_menor = [flags_mut_menor_1, flags_mut_menor_2, flags_mut_menor_3, flags_mut_menor_4, flags_mut_menor_5, flags_mut_menor_6, flags_mut_menor_7, flags_mut_menor_8, flags_mut_menor_9, flags_mut_menor_10]\n",
    "\n",
    "for flag in all_flags:\n",
    "    for cross in cross_maior:\n",
    "        if flag in cross:\n",
    "            dict_all_flags[flag]['cross_maior'] += 1 \n",
    "\n",
    "for flag in all_flags:\n",
    "    for cross in cross_menor:\n",
    "        if flag in cross:\n",
    "            dict_all_flags[flag]['cross_menor'] += 1 \n",
    "\n",
    "for flag in all_flags:\n",
    "    for mut in mut_maior:\n",
    "        if flag in mut:\n",
    "            dict_all_flags[flag]['mut_maior'] += 1\n",
    "\n",
    "            \n",
    "for flag in all_flags:\n",
    "    for mut in mut_menor:\n",
    "        if flag in mut:\n",
    "            dict_all_flags[flag]['mut_menor'] += 1 \n",
    "            \n",
    "for flag in all_flags:\n",
    "    dict_all_flags[flag]['freq'] = dict_all_flags[flag]['mut_menor']+dict_all_flags[flag]['mut_maior']+dict_all_flags[flag]['cross_menor']+dict_all_flags[flag]['cross_maior']\n",
    "            \n",
    "# dict_all_flags\n",
    "import pandas as pd\n",
    "df = pd.DataFrame(dict_all_flags).T\n",
    "\n",
    "\n",
    "pd.set_option(\"display.max_rows\", len(dict_all_flags))\n",
    "pd.options.display.max_rows\n",
    "\n",
    "df\n",
    "\n"
   ]
  },
  {
   "cell_type": "code",
   "execution_count": 9,
   "metadata": {},
   "outputs": [
    {
     "data": {
      "text/plain": [
       "'-Os'"
      ]
     },
     "execution_count": 9,
     "metadata": {},
     "output_type": "execute_result"
    }
   ],
   "source": [
    "max(dict_all_flags, key=lambda v: dict_all_flags[v]['freq'])"
   ]
  },
  {
   "cell_type": "code",
   "execution_count": 11,
   "metadata": {},
   "outputs": [
    {
     "data": {
      "text/plain": [
       "{'mut_maior': 10,\n",
       " 'mut_menor': 10,\n",
       " 'cross_maior': 9,\n",
       " 'cross_menor': 8,\n",
       " 'freq': 37}"
      ]
     },
     "execution_count": 11,
     "metadata": {},
     "output_type": "execute_result"
    }
   ],
   "source": [
    "dict_all_flags['-Os']"
   ]
  },
  {
   "cell_type": "code",
   "execution_count": 15,
   "metadata": {},
   "outputs": [
    {
     "name": "stdout",
     "output_type": "stream",
     "text": [
      "-flive-range-shrinkage\n",
      "-Os\n",
      "-fmerge-constants\n"
     ]
    }
   ],
   "source": [
    "for flag in dict_all_flags:\n",
    "    if dict_all_flags[flag]['freq'] >= 30:\n",
    "        print(flag)"
   ]
  },
  {
   "cell_type": "code",
   "execution_count": 42,
   "metadata": {},
   "outputs": [
    {
     "name": "stdout",
     "output_type": "stream",
     "text": [
      "[]\n"
     ]
    }
   ],
   "source": [
    "all_flags = {'flag1': flags_cross_maior_1, 'flag2': flags_cross_maior_2,\n",
    "            'flag3': flags_cross_maior_3, 'flag4': flags_cross_maior_4, 'flag5': flags_cross_maior_5,\n",
    "            'flag6': flags_cross_maior_6, 'flag7': flags_cross_maior_7, 'flag8': flags_cross_maior_8,\n",
    "            'flag9': flags_cross_maior_9, 'flag10': flags_cross_maior_10}\n",
    "\n",
    "res = []\n",
    "res_2 = []\n",
    "res_3 = []\n",
    "res_4 = []\n",
    "res_5 = []\n",
    "res_6 = []\n",
    "res_7 = []\n",
    "res_8 = []\n",
    "res_9 = []\n",
    "for iid in all_flags:\n",
    "    for flag in all_flags[iid]:\n",
    "        count_flag = 0\n",
    "        for pid in all_flags:\n",
    "#             if iid != pid:\n",
    "            if flag in all_flags[pid]: count_flag += 1\n",
    "        if count_flag == 10: res.append(flag)\n",
    "        elif count_flag == 2: res_2.append(flag)\n",
    "        elif count_flag == 3: res_3.append(flag)\n",
    "        elif count_flag == 4: res_4.append(flag)\n",
    "        elif count_flag == 5: res_5.append(flag)\n",
    "        elif count_flag == 6: res_6.append(flag)\n",
    "        elif count_flag == 7: res_7.append(flag)\n",
    "        elif count_flag == 8: res_8.append(flag)\n",
    "        elif count_flag == 9: res_9.append(flag)\n",
    "len(list(set(res_5)))\n",
    "flag_cross_maior_5 = list(set(res_5))\n",
    "print(list(set(res)))"
   ]
  },
  {
   "cell_type": "code",
   "execution_count": 41,
   "metadata": {},
   "outputs": [
    {
     "name": "stdout",
     "output_type": "stream",
     "text": [
      "[]\n"
     ]
    }
   ],
   "source": [
    "all_flags = {'flag1': flags_cross_menor_1, 'flag2': flags_cross_menor_2,\n",
    "            'flag3': flags_cross_menor_3, 'flag4': flags_cross_menor_4, 'flag5': flags_cross_menor_5,\n",
    "            'flag6': flags_cross_menor_6, 'flag7': flags_cross_menor_7, 'flag8': flags_cross_menor_8,\n",
    "            'flag9': flags_cross_menor_9, 'flag10': flags_cross_menor_10}\n",
    "\n",
    "res = []\n",
    "res_2 = []\n",
    "res_3 = []\n",
    "res_4 = []\n",
    "res_5 = []\n",
    "res_6 = []\n",
    "res_7 = []\n",
    "res_8 = []\n",
    "res_9 = []\n",
    "for iid in all_flags:\n",
    "    for flag in all_flags[iid]:\n",
    "        count_flag = 0\n",
    "        for pid in all_flags:\n",
    "#             if iid != pid:\n",
    "            if flag in all_flags[pid]: count_flag += 1\n",
    "        if count_flag == 10: res.append(flag)\n",
    "        elif count_flag == 2: res_2.append(flag)\n",
    "        elif count_flag == 3: res_3.append(flag)\n",
    "        elif count_flag == 4: res_4.append(flag)\n",
    "        elif count_flag == 5: res_5.append(flag)\n",
    "        elif count_flag == 6: res_6.append(flag)\n",
    "        elif count_flag == 7: res_7.append(flag)\n",
    "        elif count_flag == 8: res_8.append(flag)\n",
    "        elif count_flag == 9: res_9.append(flag)\n",
    "len(list(set(res_5)))\n",
    "flag_cross_menor_5 = list(set(res_5))\n",
    "print(list(set(res)))"
   ]
  },
  {
   "cell_type": "code",
   "execution_count": 39,
   "metadata": {},
   "outputs": [
    {
     "name": "stdout",
     "output_type": "stream",
     "text": [
      "['-Os', '-flive-range-shrinkage']\n"
     ]
    }
   ],
   "source": [
    "all_flags = {'flag1': flags_mut_menor_1, 'flag2': flags_mut_menor_2,\n",
    "            'flag3': flags_mut_menor_3, 'flag4': flags_mut_menor_4, 'flag5': flags_mut_menor_5,\n",
    "            'flag6': flags_mut_menor_6, 'flag7': flags_mut_menor_7, 'flag8': flags_mut_menor_8,\n",
    "            'flag9': flags_mut_menor_9, 'flag10': flags_mut_menor_10}\n",
    "\n",
    "res = []\n",
    "res_2 = []\n",
    "res_3 = []\n",
    "res_4 = []\n",
    "res_5 = []\n",
    "res_6 = []\n",
    "res_7 = []\n",
    "res_8 = []\n",
    "res_9 = []\n",
    "for iid in all_flags:\n",
    "    for flag in all_flags[iid]:\n",
    "        count_flag = 0\n",
    "        for pid in all_flags:\n",
    "#             if iid != pid:\n",
    "            if flag in all_flags[pid]: count_flag += 1\n",
    "        if count_flag == 10: res.append(flag)\n",
    "        elif count_flag == 2: res_2.append(flag)\n",
    "        elif count_flag == 3: res_3.append(flag)\n",
    "        elif count_flag == 4: res_4.append(flag)\n",
    "        elif count_flag == 5: res_5.append(flag)\n",
    "        elif count_flag == 6: res_6.append(flag)\n",
    "        elif count_flag == 7: res_7.append(flag)\n",
    "        elif count_flag == 8: res_8.append(flag)\n",
    "        elif count_flag == 9: res_9.append(flag)\n",
    "len(list(set(res_5)))\n",
    "flag_mut_menor_5 = list(set(res_5))\n",
    "print(list(set(res)))"
   ]
  },
  {
   "cell_type": "code",
   "execution_count": 40,
   "metadata": {},
   "outputs": [
    {
     "name": "stdout",
     "output_type": "stream",
     "text": [
      "['-Os']\n"
     ]
    }
   ],
   "source": [
    "all_flags = {'flag1': flags_mut_maior_1, 'flag2': flags_mut_maior_2,\n",
    "            'flag3': flags_mut_maior_3, 'flag4': flags_mut_maior_4, 'flag5': flags_mut_maior_5,\n",
    "            'flag6': flags_mut_maior_6, 'flag7': flags_mut_maior_7, 'flag8': flags_mut_maior_8,\n",
    "            'flag9': flags_mut_maior_9, 'flag10': flags_mut_maior_10}\n",
    "\n",
    "res = []\n",
    "res_2 = []\n",
    "res_3 = []\n",
    "res_4 = []\n",
    "res_5 = []\n",
    "res_6 = []\n",
    "res_7 = []\n",
    "res_8 = []\n",
    "res_9 = []\n",
    "for iid in all_flags:\n",
    "    for flag in all_flags[iid]:\n",
    "        count_flag = 0\n",
    "        for pid in all_flags:\n",
    "#             if iid != pid:\n",
    "            if flag in all_flags[pid]: count_flag += 1\n",
    "        if count_flag == 10: res.append(flag)\n",
    "        elif count_flag == 2: res_2.append(flag)\n",
    "        elif count_flag == 3: res_3.append(flag)\n",
    "        elif count_flag == 4: res_4.append(flag)\n",
    "        elif count_flag == 5: res_5.append(flag)\n",
    "        elif count_flag == 6: res_6.append(flag)\n",
    "        elif count_flag == 7: res_7.append(flag)\n",
    "        elif count_flag == 8: res_8.append(flag)\n",
    "        elif count_flag == 9: res_9.append(flag)\n",
    "len(list(set(res_5)))\n",
    "flag_mut_maior_5 = list(set(res_5))\n",
    "print(list(set(res)))"
   ]
  },
  {
   "cell_type": "code",
   "execution_count": 40,
   "metadata": {},
   "outputs": [
    {
     "data": {
      "text/plain": [
       "48"
      ]
     },
     "execution_count": 40,
     "metadata": {},
     "output_type": "execute_result"
    }
   ],
   "source": [
    "len(flag_mut_maior_5)"
   ]
  },
  {
   "cell_type": "code",
   "execution_count": 49,
   "metadata": {},
   "outputs": [
    {
     "data": {
      "text/plain": [
       "10"
      ]
     },
     "execution_count": 49,
     "metadata": {},
     "output_type": "execute_result"
    }
   ],
   "source": [
    "flags_cross = list(set(flag_cross_maior_5) & set(flag_cross_menor_5))\n",
    "len(flags_cross)"
   ]
  },
  {
   "cell_type": "code",
   "execution_count": 50,
   "metadata": {},
   "outputs": [
    {
     "data": {
      "text/plain": [
       "8"
      ]
     },
     "execution_count": 50,
     "metadata": {},
     "output_type": "execute_result"
    }
   ],
   "source": [
    "flags_mut = list(set(flag_mut_maior_5) & set(flag_mut_menor_5))\n",
    "len(flags_mut)"
   ]
  },
  {
   "cell_type": "code",
   "execution_count": 45,
   "metadata": {},
   "outputs": [],
   "source": [
    "all_flags = list(set(flags_cross) & set(flags_mut))"
   ]
  },
  {
   "cell_type": "code",
   "execution_count": 46,
   "metadata": {},
   "outputs": [
    {
     "data": {
      "text/plain": [
       "0"
      ]
     },
     "execution_count": 46,
     "metadata": {},
     "output_type": "execute_result"
    }
   ],
   "source": [
    "len(all_flags)"
   ]
  },
  {
   "cell_type": "code",
   "execution_count": 47,
   "metadata": {},
   "outputs": [
    {
     "data": {
      "text/plain": [
       "[]"
      ]
     },
     "execution_count": 47,
     "metadata": {},
     "output_type": "execute_result"
    }
   ],
   "source": [
    "all_flags"
   ]
  },
  {
   "cell_type": "code",
   "execution_count": 18,
   "metadata": {},
   "outputs": [],
   "source": [
    "all_len = [len(flags_cross_maior_1), len(flags_cross_maior_2), len(flags_cross_maior_3), len(flags_cross_maior_4),\n",
    "        len(flags_cross_maior_5), len(flags_cross_maior_6), len(flags_cross_maior_7), len(flags_cross_maior_8), \n",
    "        len(flags_cross_maior_9), len(flags_cross_maior_10), len(flags_cross_menor_1), len(flags_cross_menor_2),\n",
    "        len(flags_cross_menor_3), len(flags_cross_menor_4), len(flags_cross_menor_5), len(flags_cross_menor_6),\n",
    "        len(flags_cross_menor_7), len(flags_cross_menor_8), len(flags_cross_menor_9), len(flags_cross_menor_10),\n",
    "        len(flags_mut_maior_1), len(flags_mut_maior_2), len(flags_mut_maior_3), len(flags_mut_maior_4), len(flags_mut_maior_5),\n",
    "        len(flags_mut_maior_6), len(flags_mut_maior_7), len(flags_mut_maior_8), len(flags_mut_maior_9),\n",
    "        len(flags_mut_maior_10), len(flags_mut_menor_1), len(flags_mut_menor_2), len(flags_mut_menor_3),\n",
    "        len(flags_mut_menor_4), len(flags_mut_menor_5), len(flags_mut_menor_6), len(flags_mut_menor_7),\n",
    "        len(flags_mut_menor_8), len(flags_mut_menor_9), len(flags_mut_menor_10)]"
   ]
  },
  {
   "cell_type": "code",
   "execution_count": 19,
   "metadata": {},
   "outputs": [
    {
     "data": {
      "text/plain": [
       "94.55"
      ]
     },
     "execution_count": 19,
     "metadata": {},
     "output_type": "execute_result"
    }
   ],
   "source": [
    "np.mean(all_len)"
   ]
  },
  {
   "cell_type": "code",
   "execution_count": 20,
   "metadata": {},
   "outputs": [
    {
     "data": {
      "text/plain": [
       "5.962172422867356"
      ]
     },
     "execution_count": 20,
     "metadata": {},
     "output_type": "execute_result"
    }
   ],
   "source": [
    "np.std(all_len)"
   ]
  },
  {
   "cell_type": "code",
   "execution_count": 57,
   "metadata": {},
   "outputs": [
    {
     "data": {
      "text/plain": [
       "106"
      ]
     },
     "execution_count": 57,
     "metadata": {},
     "output_type": "execute_result"
    }
   ],
   "source": [
    "max(all_len)"
   ]
  },
  {
   "cell_type": "code",
   "execution_count": 58,
   "metadata": {
    "collapsed": true
   },
   "outputs": [],
   "source": [
    "all_cross = [len(flags_cross_maior_1), len(flags_cross_maior_2), len(flags_cross_maior_3), len(flags_cross_maior_4),\n",
    "        len(flags_cross_maior_5), len(flags_cross_maior_6), len(flags_cross_maior_7), len(flags_cross_maior_8), \n",
    "        len(flags_cross_maior_9), len(flags_cross_maior_10), len(flags_cross_menor_1), len(flags_cross_menor_2),\n",
    "        len(flags_cross_menor_3), len(flags_cross_menor_4), len(flags_cross_menor_5), len(flags_cross_menor_6),\n",
    "        len(flags_cross_menor_7), len(flags_cross_menor_8), len(flags_cross_menor_9), len(flags_cross_menor_10)]"
   ]
  },
  {
   "cell_type": "code",
   "execution_count": 60,
   "metadata": {
    "collapsed": true
   },
   "outputs": [],
   "source": [
    "all_mut = [len(flags_mut_maior_1), len(flags_mut_maior_2), len(flags_mut_maior_3), len(flags_mut_maior_4), len(flags_mut_maior_5),\n",
    "        len(flags_mut_maior_6), len(flags_mut_maior_7), len(flags_mut_maior_8), len(flags_mut_maior_9),\n",
    "        len(flags_mut_maior_10), len(flags_mut_menor_1), len(flags_mut_menor_2), len(flags_mut_menor_3),\n",
    "        len(flags_mut_menor_4), len(flags_mut_menor_5), len(flags_mut_menor_6), len(flags_mut_menor_7),\n",
    "        len(flags_mut_menor_8), len(flags_mut_menor_9), len(flags_mut_menor_10)]"
   ]
  },
  {
   "cell_type": "code",
   "execution_count": 63,
   "metadata": {},
   "outputs": [
    {
     "data": {
      "text/plain": [
       "94.150000000000006"
      ]
     },
     "execution_count": 63,
     "metadata": {},
     "output_type": "execute_result"
    }
   ],
   "source": [
    "np.mean(all_cross)"
   ]
  },
  {
   "cell_type": "code",
   "execution_count": 64,
   "metadata": {},
   "outputs": [
    {
     "data": {
      "text/plain": [
       "94.950000000000003"
      ]
     },
     "execution_count": 64,
     "metadata": {},
     "output_type": "execute_result"
    }
   ],
   "source": [
    "np.mean(all_mut)"
   ]
  },
  {
   "cell_type": "code",
   "execution_count": 13,
   "metadata": {},
   "outputs": [
    {
     "name": "stderr",
     "output_type": "stream",
     "text": [
      "No handles with labels found to put in legend.\n",
      "No handles with labels found to put in legend.\n",
      "No handles with labels found to put in legend.\n",
      "No handles with labels found to put in legend.\n",
      "No handles with labels found to put in legend.\n",
      "No handles with labels found to put in legend.\n",
      "No handles with labels found to put in legend.\n",
      "No handles with labels found to put in legend.\n"
     ]
    },
    {
     "data": {
      "text/plain": [
       "<Figure size 432x288 with 0 Axes>"
      ]
     },
     "metadata": {},
     "output_type": "display_data"
    },
    {
     "data": {
      "image/png": "[encoded data removed]",
      "text/plain": [
       "<Figure size 1080x1584 with 8 Axes>"
      ]
     },
     "metadata": {
      "needs_background": "light"
     },
     "output_type": "display_data"
    }
   ],
   "source": [
    "# plot with various axes scales\n",
    "plt.figure(1)\n",
    "plt.figure(figsize=(15,22))\n",
    "\n",
    "\n",
    "# linear\n",
    "plt.subplot(421)\n",
    "plt.plot(x, bin_1_mut_maior)#, label=\"baseline value\")\n",
    "plt.plot(x, bin_2_mut_maior)\n",
    "plt.plot(x, bin_3_mut_maior)\n",
    "plt.plot(x, bin_4_mut_maior)\n",
    "plt.legend(bbox_to_anchor=(1.0, 0.5),\n",
    "           ncol=1)\n",
    "plt.xlabel(\"Generations\")\n",
    "plt.ylabel(\"Execution time (s)\")\n",
    "plt.title(\"Experiment 1.1\")\n",
    "plt.grid(True)\n",
    "\n",
    "plt.subplot(422)\n",
    "plt.plot(x, bin_1_mut_menor)\n",
    "plt.plot(x, bin_2_mut_menor)\n",
    "plt.plot(x, bin_3_mut_menor)\n",
    "plt.plot(x, bin_4_mut_menor)\n",
    "plt.legend(bbox_to_anchor=(1.0, 0.9),\n",
    "           ncol=1)\n",
    "plt.xlabel(\"Generations\")\n",
    "plt.ylabel(\"Execution time (s)\")\n",
    "plt.title(\"Experiment 1.2\")\n",
    "plt.grid(True)\n",
    "\n",
    "plt.subplot(423)\n",
    "plt.plot(x, bin_1_cross_maior)\n",
    "plt.plot(x, bin_2_cross_maior)\n",
    "plt.plot(x, bin_3_cross_maior)\n",
    "plt.plot(x, bin_4_cross_maior)\n",
    "plt.legend(bbox_to_anchor=(1.0, 0.5),\n",
    "           ncol=1)\n",
    "plt.xlabel(\"Generations\")\n",
    "plt.ylabel(\"Execution time (s)\")\n",
    "plt.title(\"Experiment 2.1\")\n",
    "plt.grid(True)\n",
    "\n",
    "plt.subplot(424)\n",
    "plt.plot(x, bin_1_cross_menor)\n",
    "plt.plot(x, bin_2_cross_menor)\n",
    "plt.plot(x, bin_3_cross_menor)\n",
    "plt.plot(x, bin_4_cross_menor)\n",
    "plt.legend(bbox_to_anchor=(1.0, 0.5),\n",
    "           ncol=1)\n",
    "plt.xlabel(\"Generations\")\n",
    "plt.ylabel(\"Execution time (s)\")\n",
    "plt.title(\"Experiment 2.2\")\n",
    "plt.grid(True)\n",
    "\n",
    "plt.subplot(425)\n",
    "plt.plot(x, bin_1_pop_maior)\n",
    "plt.plot(x, bin_2_pop_maior)\n",
    "plt.plot(x, bin_3_pop_maior)\n",
    "plt.plot(x, bin_4_pop_maior)\n",
    "plt.legend(bbox_to_anchor=(1.0, 0.5),\n",
    "           ncol=1)\n",
    "plt.xlabel(\"Generations\")\n",
    "plt.ylabel(\"Execution time (s)\")\n",
    "plt.title(\"Experiment 3.1\")\n",
    "plt.grid(True)\n",
    "\n",
    "plt.subplot(426)\n",
    "plt.plot(x, bin_1_pop_menor)\n",
    "plt.plot(x, bin_2_pop_menor)\n",
    "plt.plot(x, bin_3_pop_menor)\n",
    "plt.plot(x, bin_4_pop_menor)\n",
    "plt.legend(bbox_to_anchor=(1.0, 0.5),\n",
    "           ncol=1)\n",
    "plt.xlabel(\"Generations\")\n",
    "plt.ylabel(\"Execution time (s)\")\n",
    "plt.title(\"Experiment 3.2\")\n",
    "plt.grid(True)\n",
    "\n",
    "\n",
    "plt.subplot(427)\n",
    "plt.plot(x_gen_maior, bin_1_gen_maior)\n",
    "plt.plot(x_gen_maior, bin_2_gen_maior)\n",
    "plt.plot(x_gen_maior, bin_3_gen_maior)\n",
    "plt.plot(x_gen_maior, bin_4_gen_maior)\n",
    "plt.legend(bbox_to_anchor=(1.0, 0.5),\n",
    "           ncol=1)\n",
    "plt.xlabel(\"Generations\")\n",
    "plt.ylabel(\"Execution time (s)\")\n",
    "plt.title(\"Experiment 4.1\")\n",
    "plt.grid(True)\n",
    "\n",
    "\n",
    "plt.subplot(428)\n",
    "plt.plot(x_gen_menor, bin_1_gen_menor)\n",
    "plt.plot(x_gen_menor, bin_2_gen_menor)\n",
    "plt.plot(x_gen_menor, bin_3_gen_menor)\n",
    "plt.plot(x_gen_menor, bin_4_gen_menor)\n",
    "plt.legend(bbox_to_anchor=(1.0, 0.5),\n",
    "           ncol=1)\n",
    "plt.xlabel(\"Generations\")\n",
    "plt.ylabel(\"Execution time (s)\")\n",
    "plt.title(\"Experiment 4.2\")\n",
    "plt.grid(True)\n",
    "\n",
    "\n",
    "# plt.show()\n",
    "plt.savefig(\"all_graphs.png\", bbox_inches = \"tight\")\n",
    "\n"
   ]
  },
  {
   "cell_type": "code",
   "execution_count": 2,
   "metadata": {},
   "outputs": [],
   "source": [
    "cross_1 = [2.20204e+06, 2.20204e+06, 2.24496e+06, 2.24496e+06, 2.24743e+06, 2.2537e+06, 2.25587e+06,\n",
    "           2.25587e+06, 2.25587e+06, 2.25587e+06, 2.25587e+06, 2.25587e+06, 2.26043e+06, 2.26043e+06, \n",
    "           2.26043e+06]\n",
    "cross_2 = [1.97957e+06, 1.99563e+06, 2.12168e+06, 2.17821e+06, 2.17821e+06, 2.1928e+06, 2.21613e+06, \n",
    "           2.21613e+06, 2.21613e+06, 2.21613e+06, 2.22132e+06, 2.22132e+06, 2.22132e+06, 2.22132e+06, \n",
    "           2.22132e+06]\n",
    "cross_3 = [2.04653e+06, 2.12238e+06, 2.12684e+06, 2.1305e+06, 2.18743e+06, 2.20107e+06, 2.20107e+06, \n",
    "           2.23966e+06, 2.23966e+06, 2.23966e+06, 2.23966e+06, 2.23966e+06, 2.23966e+06, 2.25899e+06, \n",
    "           2.26992e+06]\n",
    "cross_4 = [2.11552e+06, 2.19512e+06, 2.20521e+06, 2.20521e+06, 2.20875e+06, 2.21535e+06, 2.21535e+06, \n",
    "           2.2268e+06, 2.2268e+06, 2.22862e+06, 2.22862e+06, 2.22862e+06, 2.22862e+06, 2.22862e+06, \n",
    "           2.24616e+06]\n",
    "cross_5 = [2.10268e+06, 2.20296e+06, 2.22369e+06, 2.22369e+06, 2.23058e+06, 2.23058e+06, 2.23058e+06, \n",
    "           2.25426e+06, 2.25819e+06, 2.25923e+06, 2.25923e+06, 2.25981e+06, 2.25981e+06, 2.25981e+06, \n",
    "           2.25981e+06]\n",
    "cross_6 = [2.06883e+06, 2.06883e+06, 2.16166e+06, 2.22117e+06, 2.22117e+06, 2.22117e+06, 2.22117e+06, \n",
    "           2.22117e+06, 2.22117e+06, 2.22117e+06, 2.22117e+06, 2.23257e+06, 2.23257e+06, 2.23257e+06, \n",
    "           2.23387e+06]\n",
    "cross_7 = [2.09202e+06, 2.16176e+06, 2.20801e+06, 2.21385e+06, 2.21957e+06, 2.22061e+06, 2.22061e+06, \n",
    "           2.22061e+06, 2.22975e+06, 2.22975e+06, 2.22991e+06, 2.23733e+06, 2.23733e+06, 2.23733e+06, \n",
    "           2.23733e+06]\n",
    "cross_8 = [2.08247e+06, 2.20243e+06, 2.20243e+06, 2.23831e+06, 2.24129e+06, 2.25078e+06, 2.25078e+06, \n",
    "           2.25097e+06, 2.25674e+06, 2.25674e+06, 2.25674e+06, 2.25674e+06, 2.25741e+06, 2.25741e+06, \n",
    "           2.25741e+06]\n",
    "cross_9 = [2.065e+06, 2.17979e+06, 2.17979e+06, 2.22229e+06, 2.23265e+06, 2.23265e+06, 2.24066e+06, \n",
    "           2.25899e+06, 2.26223e+06, 2.26223e+06, 2.26223e+06, 2.26223e+06, 2.26223e+06, 2.26395e+06, \n",
    "           2.26638e+06]\n",
    "cross_10 = [1.9234e+06, 2.05028e+06, 2.07308e+06, 2.1701e+06, 2.17565e+06, 2.1812e+06, 2.18157e+06, \n",
    "            2.18157e+06, 2.18712e+06, 2.18712e+06, 2.18712e+06, 2.18712e+06, 2.18712e+06, 2.18712e+06, \n",
    "            2.18712e+06]"
   ]
  },
  {
   "cell_type": "code",
   "execution_count": 3,
   "metadata": {},
   "outputs": [],
   "source": [
    "cross_start = [cross_1[0], cross_2[0], cross_3[0], cross_4[0], cross_5[0], cross_6[0], cross_7[0], \n",
    "               cross_8[0], cross_9[0], cross_10[0]]\n",
    "cross_finish = [cross_1[-1], cross_2[-1], cross_3[-1], cross_4[-1], cross_5[-1], cross_6[-1], \n",
    "                cross_7[-1], cross_8[-1], cross_9[-1], cross_10[-1]]"
   ]
  },
  {
   "cell_type": "code",
   "execution_count": 4,
   "metadata": {},
   "outputs": [
    {
     "name": "stdout",
     "output_type": "stream",
     "text": [
      "start:  2067806.0 ,  71703.00833298419\n",
      "finish:  2243975.0 ,  24028.986349823415\n"
     ]
    }
   ],
   "source": [
    "print(\"start: \", np.mean(cross_start), \", \", np.std(cross_start))\n",
    "print(\"finish: \", np.mean(cross_finish), \", \", np.std(cross_finish))"
   ]
  },
  {
   "cell_type": "code",
   "execution_count": 4,
   "metadata": {},
   "outputs": [
    {
     "data": {
      "text/plain": [
       "<Figure size 432x288 with 0 Axes>"
      ]
     },
     "metadata": {},
     "output_type": "display_data"
    },
    {
     "data": {
      "image/png": "[encoded data removed]",
      "text/plain": [
       "<Figure size 432x288 with 1 Axes>"
      ]
     },
     "metadata": {
      "needs_background": "light"
     },
     "output_type": "display_data"
    }
   ],
   "source": [
    "def set_box_color(bp, color):\n",
    "    plt.setp(bp['boxes'], color=color)\n",
    "    plt.setp(bp['whiskers'], color=color)\n",
    "    plt.setp(bp['caps'], color=color)\n",
    "    plt.setp(bp['medians'], color=color)\n",
    "\n",
    "plt.clf()\n",
    "plt.figure()\n",
    "\n",
    "ticks = ['Start time', 'Finish time']\n",
    "teste = [cross_start, cross_finish]\n",
    "tt = plt.boxplot(teste, positions=np.array(range(len(teste)))*2.0, sym='')\n",
    "# tt2 = plt.boxplot(teste2, positions=np.array(range(len(teste2)))*2.0+0.80, sym='')\n",
    "# tt3 = plt.boxplot(teste3, positions=np.array(range(len(teste3)))*2.0+0.40, sym='')\n",
    "set_box_color(tt, 'magenta') \n",
    "# set_box_color(tt2, '#2C7BB6')\n",
    "# set_box_color(tt3, 'black')\n",
    "# plt.plot([], c='#D7191C', label='Crossover rate = 0.6')\n",
    "# plt.plot([], c='black', label='Crossover rate = 0.7')\n",
    "# plt.plot([], c='#2C7BB6', label='Crossover rate = 0.8')\n",
    "plt.ylabel(\"Throughput\")\n",
    "plt.title(\"Comparison between start time and finish time\")\n",
    "# plt.legend()\n",
    "plt.xticks(range(0, len(ticks) * 2, 2), ticks)\n",
    "plt.xlim(-1, 4)\n",
    "plt.tight_layout()\n",
    "\n",
    "# plt.boxplot()\n",
    "# plt.show()\n",
    "plt.savefig(\"boxplot-cross-kalman.eps\", bbox_inches = \"tight\")"
   ]
  },
  {
   "cell_type": "code",
   "execution_count": 2,
   "metadata": {},
   "outputs": [],
   "source": [
    "cross_1_flag = ['-falign-loops', '-fauto-inc-dec', '-fbranch-probabilities', '-fbtr-bb-exclusive', '-fcaller-saves', '-fconserve-stack', '-fcompare-elim', '-fcprop-registers', '-fcse-follow-jumps', '-fcse-skip-blocks', '-fcx-fortran-rules', '-fcx-limited-range', '-fdata-sections', '-fdevirtualize-speculatively', '-fdevirtualize-at-ltrans', '-fearly-inlining', '-fipa-sra', '-fexpensive-optimizations', '-ffat-lto-objects', '-ffast-math', '-ffinite-math-only', '-fforward-propagate', '-fgcse', '-fgcse-lm', '-fgcse-sm', '-fhoist-adjacent-loads', '-fif-conversion', '-fif-conversion2', '-findirect-inlining', '-finline-functions', '-finline-small-functions', '-fipa-cp', '-fipa-cp-clone', '-fipa-pta', '-fipa-profile', '-fipa-pure-const', '-fipa-reference', '-fipa-icf', '-fira-hoist-pressure', '-fkeep-inline-functions', '-floop-block', '-floop-strip-mine', '-floop-nest-optimize', '-fmerge-all-constants', '-fmerge-constants', '-fmodulo-sched-allow-regmoves', '-fmove-loop-invariants', '-fno-function-cse', '-fno-math-errno', '-fno-peephole', '-fno-peephole2', '-fno-toplevel-reorder', '-fno-trapping-math', '-foptimize-sibling-calls', '-fpredictive-commoning', '-fprofile-use', '-fprofile-values', '-frename-registers', '-freorder-blocks', '-freorder-functions', '-frerun-cse-after-loop', '-freschedule-modulo-scheduled-loops', '-fsched-pressure', '-fsched-spec-load', '-fsched-spec-load-dangerous', '-fsched-group-heuristic', '-fsched-rank-heuristic', '-fsel-sched-pipelining', '-fsel-sched-pipelining-outer-loops', '-fsemantic-interposition', '-fshrink-wrap', '-fsplit-wide-types', '-fstdarg-opt', '-ftracer', '-ftree-ch', '-ftree-dce', '-ftree-forwprop', '-ftree-phiprop', '-ftree-loop-distribution', '-ftree-loop-distribute-patterns', '-ftree-loop-linear', '-ftree-loop-vectorize', '-ftree-pre', '-ftree-pta', '-ftree-slsr', '-ftree-sra', '-ftree-switch-conversion', '-ftree-ter', '-ftree-vectorize', '-ftree-vrp', '-funsafe-math-optimizations', '-fvect-cost-model', '-fvpt', '-fweb', '-O0', '-O1', '-O3']\n",
    "cross_2_flag = ['-falign-functions', '-falign-labels', '-fauto-inc-dec', '-fbranch-probabilities', '-fbtr-bb-exclusive', '-fcombine-stack-adjustments', '-fcprop-registers', '-fcx-fortran-rules', '-fcx-limited-range', '-fdata-sections', '-fdce', '-fdevirtualize', '-fdevirtualize-speculatively', '-fipa-sra', '-fexpensive-optimizations', '-ffast-math', '-ffinite-math-only', '-ffunction-sections', '-fgcse', '-fgcse-after-reload', '-finline-functions', '-finline-small-functions', '-fipa-cp-clone', '-fipa-icf', '-fno-ira-share-save-slots', '-fno-ira-share-spill-slots', '-fisolate-erroneous-paths-attribute', '-fkeep-inline-functions', '-fkeep-static-consts', '-floop-unroll-and-jam', '-floop-nest-optimize', '-fmodulo-sched-allow-regmoves', '-fno-branch-count-reg', '-fno-math-errno', '-fno-trapping-math', '-fomit-frame-pointer', '-foptimize-sibling-calls', '-fpeel-loops', '-freorder-blocks', '-freorder-blocks-and-partition', '-freorder-functions', '-frerun-cse-after-loop', '-freschedule-modulo-scheduled-loops', '-fsched2-use-superblocks', '-fsched-pressure', '-fsched-spec-load', '-fsched-stalled-insns-dep', '-fsched-critical-path-heuristic', '-fsched-last-insn-heuristic', '-fsched-dep-count-heuristic', '-fselective-scheduling2', '-fsemantic-interposition', '-fshrink-wrap', '-fsplit-ivs-in-unroller', '-fstrict-aliasing', '-fthread-jumps', '-ftracer', '-ftree-coalesce-vars', '-ftree-dse', '-ftree-fre', '-ftree-loop-if-convert', '-ftree-loop-im', '-ftree-loop-distribute-patterns', '-ftree-loop-ivcanon', '-ftree-loop-linear', '-ftree-loop-optimize', '-ftree-partial-pre', '-ftree-pta', '-ftree-reassoc', '-ftree-sink', '-ftree-ter', '-ftree-vrp', '-funit-at-a-time', '-funroll-all-loops', '-fvariable-expansion-in-unroller', '-fvpt', '-fuse-linker-plugin', '-O2', '-O3', '-Os', '-Ofast']\n",
    "cross_3_flag = ['-falign-functions', '-falign-jumps', '-falign-loops', '-fauto-inc-dec', '-fbranch-target-load-optimize2', '-fcombine-stack-adjustments', '-fconserve-stack', '-fcprop-registers', '-fcrossjumping', '-fcse-follow-jumps', '-fcse-skip-blocks', '-fdata-sections', '-fdelete-null-pointer-checks', '-fdevirtualize', '-fdevirtualize-at-ltrans', '-fdse', '-fearly-inlining', '-fforward-propagate', '-ffunction-sections', '-fgcse', '-fgcse-after-reload', '-fgcse-las', '-fgraphite-identity', '-findirect-inlining', '-finline-functions', '-finline-functions-called-once', '-fipa-cp-clone', '-fipa-profile', '-fipa-reference', '-fipa-icf', '-fira-hoist-pressure', '-fira-loop-pressure', '-fisolate-erroneous-paths-dereference', '-fisolate-erroneous-paths-attribute', '-fkeep-inline-functions', '-flive-range-shrinkage', '-floop-interchange', '-floop-strip-mine', '-floop-unroll-and-jam', '-flra-remat', '-fmove-loop-invariants', '-fno-defer-pop', '-fno-function-cse', '-fno-sched-interblock', '-fno-sched-spec', '-fno-signed-zeros', '-fno-toplevel-reorder', '-fomit-frame-pointer', '-fpredictive-commoning', '-fprofile-values', '-fprofile-reorder-functions', '-frename-registers', '-freorder-functions', '-frerun-cse-after-loop', '-fsched2-use-superblocks', '-fsched-spec-load', '-fsched-spec-load-dangerous', '-fsched-stalled-insns-dep', '-fselective-scheduling', '-fsel-sched-pipelining', '-fsemantic-interposition', '-fshrink-wrap', '-fsignaling-nans', '-fsplit-wide-types', '-fssa-phiopt', '-fstrict-aliasing', '-ftracer', '-ftree-bit-ccp', '-ftree-builtin-call-dce', '-ftree-coalesce-vars', '-ftree-copy-prop', '-ftree-dce', '-ftree-dse', '-ftree-phiprop', '-ftree-loop-distribution', '-ftree-loop-distribute-patterns', '-ftree-loop-ivcanon', '-ftree-loop-linear', '-ftree-loop-optimize', '-ftree-loop-vectorize', '-ftree-pre', '-ftree-partial-pre', '-ftree-slsr', '-ftree-sra', '-ftree-tail-merge', '-ftree-ter', '-funit-at-a-time', '-funroll-all-loops', '-funsafe-math-optimizations', '-fvariable-expansion-in-unroller', '-fvpt', '-fweb', '-fuse-linker-plugin', '-O0', '-Os', '-Ofast', '-O']\n",
    "cross_4_flag = ['-falign-loops', '-fbranch-probabilities', '-fbranch-target-load-optimize', '-fbranch-target-load-optimize2', '-fbtr-bb-exclusive', '-fcaller-saves', '-fcompare-elim', '-fcprop-registers', '-fcse-follow-jumps', '-fcse-skip-blocks', '-fcx-fortran-rules', '-fdelayed-branch', '-fdevirtualize-speculatively', '-fdevirtualize-at-ltrans', '-fdse', '-fearly-inlining', '-fexpensive-optimizations', '-ffinite-math-only', '-fforward-propagate', '-fgcse', '-fgcse-after-reload', '-fgcse-lm', '-fif-conversion', '-finline-functions', '-finline-functions-called-once', '-finline-small-functions', '-fipa-cp', '-fipa-profile', '-fipa-pure-const', '-fivopts', '-floop-interchange', '-floop-nest-optimize', '-fmerge-constants', '-fmodulo-sched', '-fno-function-cse', '-fno-math-errno', '-fno-sched-interblock', '-fno-signed-zeros', '-fno-trapping-math', '-fno-zero-initialized-in-bss', '-fomit-frame-pointer', '-foptimize-sibling-calls', '-fpredictive-commoning', '-fprofile-use', '-fprofile-reorder-functions', '-frename-registers', '-freorder-functions', '-frerun-cse-after-loop', '-freschedule-modulo-scheduled-loops', '-frounding-math', '-fsched2-use-superblocks', '-fsched-spec-load-dangerous', '-fsched-stalled-insns', '-fsched-group-heuristic', '-fsched-spec-insn-heuristic', '-fsched-rank-heuristic', '-fselective-scheduling2', '-fsel-sched-pipelining-outer-loops', '-fsemantic-interposition', '-fshrink-wrap', '-fsignaling-nans', '-fsplit-ivs-in-unroller', '-fssa-phiopt', '-fstdarg-opt', '-fstrict-aliasing', '-ftracer', '-ftree-builtin-call-dce', '-ftree-ccp', '-ftree-coalesce-vars', '-ftree-copy-prop', '-ftree-fre', '-ftree-loop-im', '-ftree-phiprop', '-ftree-loop-distribute-patterns', '-ftree-loop-ivcanon', '-ftree-loop-optimize', '-ftree-pre', '-ftree-sink', '-ftree-sra', '-funit-at-a-time', '-funroll-all-loops', '-funsafe-math-optimizations', '-funswitch-loops', '-fvariable-expansion-in-unroller', '-fvect-cost-model', '-fvpt', '-fuse-linker-plugin', '-O1', '-O2', '-O3', '-Ofast']\n",
    "cross_5_flag = ['-falign-jumps', '-falign-labels', '-fconserve-stack', '-fcompare-elim', '-fcprop-registers', '-fcrossjumping', '-fcx-fortran-rules', '-fdelete-null-pointer-checks', '-fdevirtualize', '-fdevirtualize-speculatively', '-fdse', '-fipa-sra', '-ffast-math', '-ffinite-math-only', '-fforward-propagate', '-ffunction-sections', '-fgcse-las', '-fgraphite-identity', '-fgcse-sm', '-fhoist-adjacent-loads', '-fif-conversion', '-finline-functions', '-finline-functions-called-once', '-fipa-profile', '-fipa-reference', '-fira-hoist-pressure', '-fira-loop-pressure', '-fisolate-erroneous-paths-attribute', '-fivopts', '-fkeep-inline-functions', '-floop-unroll-and-jam', '-floop-nest-optimize', '-flra-remat', '-fmodulo-sched', '-fmove-loop-invariants', '-fno-branch-count-reg', '-fno-peephole', '-fno-sched-spec', '-fno-toplevel-reorder', '-fno-trapping-math', '-fpartial-inlining', '-fprofile-correction', '-fprofile-use', '-freorder-blocks', '-freorder-blocks-and-partition', '-freorder-functions', '-frerun-cse-after-loop', '-freschedule-modulo-scheduled-loops', '-fsched-stalled-insns', '-fsched-group-heuristic', '-fsched-critical-path-heuristic', '-fsched-spec-insn-heuristic', '-fsched-rank-heuristic', '-fsched-last-insn-heuristic', '-fsched-dep-count-heuristic', '-fselective-scheduling2', '-fsel-sched-pipelining', '-fsemantic-interposition', '-fsignaling-nans', '-fsplit-ivs-in-unroller', '-fssa-phiopt', '-fstrict-aliasing', '-fthread-jumps', '-ftracer', '-ftree-builtin-call-dce', '-ftree-coalesce-vars', '-ftree-dce', '-ftree-loop-distribution', '-ftree-loop-distribute-patterns', '-ftree-loop-linear', '-ftree-loop-optimize', '-ftree-loop-vectorize', '-ftree-partial-pre', '-ftree-pta', '-ftree-sink', '-ftree-ter', '-funroll-all-loops', '-funroll-loops', '-funswitch-loops', '-fuse-linker-plugin', '-O1', '-O3', '-Ofast']\n",
    "cross_6_flag = ['-falign-functions', '-falign-jumps', '-falign-loops', '-fauto-inc-dec', '-fbranch-probabilities', '-fbranch-target-load-optimize', '-fbranch-target-load-optimize2', '-fbtr-bb-exclusive', '-fconserve-stack', '-fcrossjumping', '-fcse-follow-jumps', '-fcse-skip-blocks', '-fdata-sections', '-fdelete-null-pointer-checks', '-fdevirtualize', '-fdevirtualize-speculatively', '-fdevirtualize-at-ltrans', '-fearly-inlining', '-fipa-sra', '-fexpensive-optimizations', '-ffast-math', '-fforward-propagate', '-fgcse', '-fgcse-after-reload', '-fgcse-sm', '-fif-conversion', '-finline-functions', '-fipa-cp', '-fipa-profile', '-fipa-pure-const', '-fipa-reference', '-fipa-icf', '-fira-hoist-pressure', '-fira-loop-pressure', '-fno-ira-share-save-slots', '-fkeep-inline-functions', '-flive-range-shrinkage', '-floop-block', '-floop-strip-mine', '-floop-nest-optimize', '-fmodulo-sched', '-fno-branch-count-reg', '-fno-function-cse', '-fno-guess-branch-probability', '-fno-inline', '-fno-peephole', '-fno-peephole2', '-fno-sched-interblock', '-fno-zero-initialized-in-bss', '-foptimize-sibling-calls', '-fpartial-inlining', '-fprofile-correction', '-fprofile-use', '-fprofile-values', '-fprofile-reorder-functions', '-frename-registers', '-freorder-blocks', '-freorder-blocks-and-partition', '-freorder-functions', '-frerun-cse-after-loop', '-fsched-stalled-insns', '-fsched-group-heuristic', '-fsched-critical-path-heuristic', '-fsched-spec-insn-heuristic', '-fsched-rank-heuristic', '-fsched-dep-count-heuristic', '-fschedule-fusion', '-fselective-scheduling2', '-fsel-sched-pipelining', '-fsel-sched-pipelining-outer-loops', '-fsemantic-interposition', '-fshrink-wrap', '-fstdarg-opt', '-fthread-jumps', '-ftree-ch', '-ftree-copy-prop', '-ftree-fre', '-ftree-loop-if-convert', '-ftree-loop-distribute-patterns', '-ftree-loop-vectorize', '-ftree-pre', '-ftree-pta', '-ftree-slsr', '-ftree-switch-conversion', '-ftree-tail-merge', '-ftree-vectorize', '-ftree-vrp', '-funit-at-a-time', '-fipa-ra', '-fvect-cost-model', '-fvpt', '-fweb', '-O0', '-O1', '-O3']\n",
    "cross_7_flag = ['-falign-loops', '-fbranch-target-load-optimize2', '-fbtr-bb-exclusive', '-fcaller-saves', '-fconserve-stack', '-fcse-follow-jumps', '-fcse-skip-blocks', '-fcx-fortran-rules', '-fcx-limited-range', '-fdata-sections', '-fdelayed-branch', '-fdelete-null-pointer-checks', '-fdevirtualize', '-fdevirtualize-speculatively', '-fdse', '-fearly-inlining', '-fipa-sra', '-ffat-lto-objects', '-ffast-math', '-ffinite-math-only', '-fforward-propagate', '-fgcse', '-fgcse-lm', '-fgraphite-identity', '-fgcse-sm', '-fhoist-adjacent-loads', '-fif-conversion', '-findirect-inlining', '-finline-functions-called-once', '-fipa-cp', '-fipa-cp-clone', '-fipa-pure-const', '-fipa-icf', '-fira-hoist-pressure', '-fno-ira-share-save-slots', '-fno-ira-share-spill-slots', '-fisolate-erroneous-paths-attribute', '-fkeep-inline-functions', '-flive-range-shrinkage', '-floop-block', '-floop-strip-mine', '-floop-nest-optimize', '-floop-parallelize-all', '-fmerge-all-constants', '-fno-defer-pop', '-fno-function-cse', '-fno-peephole', '-fno-sched-spec', '-fno-signed-zeros', '-fno-toplevel-reorder', '-fno-trapping-math', '-fno-zero-initialized-in-bss', '-fomit-frame-pointer', '-fpeel-loops', '-fpredictive-commoning', '-fprofile-correction', '-fprofile-use', '-fprofile-values', '-fprofile-reorder-functions', '-frename-registers', '-freorder-functions', '-freschedule-modulo-scheduled-loops', '-fsched2-use-superblocks', '-fsched-critical-path-heuristic', '-fsched-spec-insn-heuristic', '-fsched-dep-count-heuristic', '-fsel-sched-pipelining', '-fsemantic-interposition', '-fshrink-wrap', '-fssa-phiopt', '-fstdarg-opt', '-fstrict-aliasing', '-fthread-jumps', '-ftree-builtin-call-dce', '-ftree-ccp', '-ftree-ch', '-ftree-coalesce-vars', '-ftree-copy-prop', '-ftree-dce', '-ftree-dominator-opts', '-ftree-loop-if-convert', '-ftree-loop-distribution', '-ftree-loop-ivcanon', '-ftree-pta', '-ftree-reassoc', '-ftree-slsr', '-ftree-sra', '-ftree-switch-conversion', '-ftree-ter', '-ftree-vrp', '-funroll-loops', '-funsafe-math-optimizations', '-funswitch-loops', '-fvpt', '-fweb', '-O3', '-Os', '-Ofast']\n",
    "cross_8_flag = ['-falign-jumps', '-falign-loops', '-fauto-inc-dec', '-fbranch-target-load-optimize', '-fcaller-saves', '-fcombine-stack-adjustments', '-fcompare-elim', '-fcprop-registers', '-fcrossjumping', '-fcse-follow-jumps', '-fcx-fortran-rules', '-fcx-limited-range', '-fdata-sections', '-fdce', '-fdelayed-branch', '-fdelete-null-pointer-checks', '-fdevirtualize', '-fdevirtualize-speculatively', '-fdse', '-fipa-sra', '-ffinite-math-only', '-ffunction-sections', '-fgcse', '-fgcse-las', '-fgcse-lm', '-findirect-inlining', '-finline-functions', '-finline-functions-called-once', '-fipa-cp-clone', '-fipa-reference', '-fira-hoist-pressure', '-fira-loop-pressure', '-fno-ira-share-save-slots', '-fno-ira-share-spill-slots', '-fisolate-erroneous-paths-attribute', '-fivopts', '-fkeep-inline-functions', '-flive-range-shrinkage', '-floop-interchange', '-floop-strip-mine', '-floop-unroll-and-jam', '-floop-nest-optimize', '-floop-parallelize-all', '-fmerge-constants', '-fmodulo-sched-allow-regmoves', '-fmove-loop-invariants', '-fno-branch-count-reg', '-fno-defer-pop', '-fno-math-errno', '-fno-peephole2', '-fno-sched-spec', '-fno-signed-zeros', '-fno-zero-initialized-in-bss', '-foptimize-sibling-calls', '-fpartial-inlining', '-fprofile-use', '-fprofile-values', '-freorder-blocks-and-partition', '-fsched2-use-superblocks', '-fsched-spec-load', '-fsched-spec-load-dangerous', '-fsched-stalled-insns', '-fsched-spec-insn-heuristic', '-fsched-rank-heuristic', '-fsched-dep-count-heuristic', '-fselective-scheduling', '-fselective-scheduling2', '-fsel-sched-pipelining', '-fsemantic-interposition', '-fsignaling-nans', '-fstrict-aliasing', '-fthread-jumps', '-ftracer', '-ftree-builtin-call-dce', '-ftree-ccp', '-ftree-copy-prop', '-ftree-dce', '-ftree-dominator-opts', '-ftree-loop-distribution', '-ftree-loop-distribute-patterns', '-ftree-loop-vectorize', '-ftree-pre', '-ftree-partial-pre', '-ftree-pta', '-ftree-reassoc', '-ftree-switch-conversion', '-funit-at-a-time', '-funroll-loops', '-funswitch-loops', '-fipa-ra', '-fvect-cost-model', '-O1', '-O2', '-Os', '-Ofast']\n",
    "cross_9_flag = ['-fbranch-probabilities', '-fbranch-target-load-optimize', '-fbranch-target-load-optimize2', '-fbtr-bb-exclusive', '-fcombine-stack-adjustments', '-fconserve-stack', '-fcprop-registers', '-fcrossjumping', '-fcse-follow-jumps', '-fcx-limited-range', '-fdelayed-branch', '-fdevirtualize', '-fearly-inlining', '-fexpensive-optimizations', '-ffast-math', '-fgcse', '-fgcse-after-reload', '-fgcse-las', '-fhoist-adjacent-loads', '-fif-conversion', '-finline-functions', '-finline-small-functions', '-fipa-cp-clone', '-fipa-profile', '-fipa-pure-const', '-fipa-reference', '-fno-ira-share-save-slots', '-fno-ira-share-spill-slots', '-fisolate-erroneous-paths-dereference', '-fisolate-erroneous-paths-attribute', '-fivopts', '-fkeep-inline-functions', '-fkeep-static-consts', '-flive-range-shrinkage', '-floop-block', '-floop-interchange', '-floop-strip-mine', '-floop-unroll-and-jam', '-flra-remat', '-fmodulo-sched', '-fmodulo-sched-allow-regmoves', '-fno-branch-count-reg', '-fno-function-cse', '-fno-peephole', '-fno-signed-zeros', '-fomit-frame-pointer', '-foptimize-sibling-calls', '-fpeel-loops', '-fpredictive-commoning', '-frename-registers', '-freorder-blocks-and-partition', '-freorder-functions', '-freschedule-modulo-scheduled-loops', '-frounding-math', '-fsched-stalled-insns-dep', '-fsched-critical-path-heuristic', '-fsched-spec-insn-heuristic', '-fsched-last-insn-heuristic', '-fsel-sched-pipelining-outer-loops', '-fshrink-wrap', '-fsignaling-nans', '-fsplit-ivs-in-unroller', '-fsplit-wide-types', '-fthread-jumps', '-ftracer', '-ftree-builtin-call-dce', '-ftree-ccp', '-ftree-ch', '-ftree-coalesce-vars', '-ftree-dce', '-ftree-dominator-opts', '-ftree-dse', '-ftree-forwprop', '-ftree-loop-if-convert', '-ftree-loop-im', '-ftree-loop-distribution', '-ftree-loop-linear', '-ftree-loop-optimize', '-ftree-reassoc', '-ftree-sra', '-ftree-tail-merge', '-ftree-ter', '-ftree-vectorize', '-ftree-vrp', '-funroll-all-loops', '-funswitch-loops', '-fvariable-expansion-in-unroller', '-fvect-cost-model', '-fweb', '-O2', '-O3', '-Ofast']\n",
    "cross_10_flag = ['-falign-jumps', '-falign-labels', '-fbranch-probabilities', '-fcombine-stack-adjustments', '-fcrossjumping', '-fdata-sections', '-fdce', '-fdelayed-branch', '-fdelete-null-pointer-checks', '-fdevirtualize-at-ltrans', '-fdse', '-fearly-inlining', '-fipa-sra', '-ffat-lto-objects', '-fforward-propagate', '-fgcse', '-fgcse-after-reload', '-fgcse-las', '-fgraphite-identity', '-fgcse-sm', '-fhoist-adjacent-loads', '-fif-conversion', '-fif-conversion2', '-findirect-inlining', '-finline-functions', '-finline-functions-called-once', '-finline-small-functions', '-fipa-profile', '-fipa-pure-const', '-fipa-reference', '-fipa-icf', '-fira-hoist-pressure', '-fkeep-static-consts', '-floop-strip-mine', '-floop-unroll-and-jam', '-floop-nest-optimize', '-floop-parallelize-all', '-flra-remat', '-fno-guess-branch-probability', '-fno-sched-interblock', '-fomit-frame-pointer', '-foptimize-sibling-calls', '-fpartial-inlining', '-fprofile-correction', '-fprofile-use', '-fprofile-values', '-fprofile-reorder-functions', '-freorder-blocks', '-freschedule-modulo-scheduled-loops', '-frounding-math', '-fsched2-use-superblocks', '-fsched-pressure', '-fsched-spec-load-dangerous', '-fsched-stalled-insns-dep', '-fsched-stalled-insns', '-fsched-group-heuristic', '-fsched-critical-path-heuristic', '-fsched-rank-heuristic', '-fschedule-fusion', '-fsemantic-interposition', '-fstdarg-opt', '-fstrict-aliasing', '-ftree-bit-ccp', '-ftree-ccp', '-ftree-coalesce-vars', '-ftree-copy-prop', '-ftree-dce', '-ftree-dominator-opts', '-ftree-loop-if-convert', '-ftree-loop-im', '-ftree-phiprop', '-ftree-partial-pre', '-ftree-slsr', '-ftree-tail-merge', '-fipa-ra', '-fvpt', '-fweb', '-O2', '-O3']\n",
    "\n"
   ]
  },
  {
   "cell_type": "code",
   "execution_count": 3,
   "metadata": {},
   "outputs": [
    {
     "name": "stdout",
     "output_type": "stream",
     "text": [
      "184\n"
     ]
    },
    {
     "data": {
      "text/plain": [
       "184"
      ]
     },
     "execution_count": 3,
     "metadata": {},
     "output_type": "execute_result"
    }
   ],
   "source": [
    "all_flags = list(set().union(cross_1_flag, cross_2_flag, cross_3_flag, cross_4_flag, cross_5_flag, \n",
    "                            cross_6_flag, cross_7_flag, cross_8_flag, cross_9_flag, cross_10_flag))\n",
    "\n",
    "\n",
    "dict_all_flags = {}\n",
    "for flag in all_flags: \n",
    "    dict_all_flags[flag] = {'freq': 0}\n",
    "\n",
    "cross_maior = [cross_1_flag, cross_2_flag, cross_3_flag, cross_4_flag, cross_5_flag, \n",
    "               cross_6_flag, cross_7_flag, cross_8_flag, cross_9_flag, cross_10_flag]\n",
    "\n",
    "for flag in all_flags:\n",
    "    for cross in cross_maior:\n",
    "        if flag in cross:\n",
    "            dict_all_flags[flag]['freq'] += 1 \n",
    "\n",
    "            \n",
    "print(len(dict_all_flags))\n",
    "import pandas as pd\n",
    "df = pd.DataFrame(dict_all_flags).T\n",
    "pd.set_option(\"display.max_rows\", len(dict_all_flags))\n",
    "pd.options.display.max_rows\n",
    "\n",
    "# df"
   ]
  },
  {
   "cell_type": "code",
   "execution_count": 21,
   "metadata": {},
   "outputs": [
    {
     "data": {
      "text/plain": [
       "'-finline-functions'"
      ]
     },
     "execution_count": 21,
     "metadata": {},
     "output_type": "execute_result"
    }
   ],
   "source": [
    "max(dict_all_flags, key=lambda v: dict_all_flags[v]['freq'])"
   ]
  },
  {
   "cell_type": "code",
   "execution_count": 22,
   "metadata": {},
   "outputs": [
    {
     "data": {
      "text/plain": [
       "{'freq': 9}"
      ]
     },
     "execution_count": 22,
     "metadata": {},
     "output_type": "execute_result"
    }
   ],
   "source": [
    "dict_all_flags['-finline-functions']"
   ]
  },
  {
   "cell_type": "code",
   "execution_count": 7,
   "metadata": {},
   "outputs": [
    {
     "name": "stdout",
     "output_type": "stream",
     "text": [
      "47\n"
     ]
    }
   ],
   "source": [
    "count_flags = 0\n",
    "count_flags_5 = []\n",
    "for flag in dict_all_flags:\n",
    "    if dict_all_flags[flag]['freq'] == 5:\n",
    "        count_flags+=1 \n",
    "        count_flags_5.append(flag)\n",
    "print(len(count_flags_5))"
   ]
  },
  {
   "cell_type": "code",
   "execution_count": 27,
   "metadata": {},
   "outputs": [
    {
     "data": {
      "text/plain": [
       "90.8"
      ]
     },
     "execution_count": 27,
     "metadata": {},
     "output_type": "execute_result"
    }
   ],
   "source": [
    "all_len = [len(cross_1_flag), len(cross_2_flag),len(cross_3_flag),len(cross_4_flag),len(cross_5_flag),len(cross_6_flag),\n",
    "          len(cross_7_flag),len(cross_8_flag),len(cross_9_flag),len(cross_10_flag)]\n",
    "\n",
    "np.mean(all_len)"
   ]
  },
  {
   "cell_type": "code",
   "execution_count": 29,
   "metadata": {},
   "outputs": [
    {
     "data": {
      "text/plain": [
       "6.794115100585212"
      ]
     },
     "execution_count": 29,
     "metadata": {},
     "output_type": "execute_result"
    }
   ],
   "source": [
    "np.std(all_len)"
   ]
  },
  {
   "cell_type": "code",
   "execution_count": 8,
   "metadata": {},
   "outputs": [],
   "source": [
    "flags_report = [\"-foptimize-strlen\", \"-fgcse-lm -fstrict-aliasing\",\n",
    "\"-fdce\", \"-fgcse-sm\", \"-falign-functions\",\n",
    "\"-ftree-dce\", \"-fcrossjumping\", \"-falign-labels\",\n",
    "\"-ftree-fre\", \"-fif-conversion\", \"-falign-loops\",\n",
    "\"-ftree-coalesce-vars\", \"-fif-conversion2\", \"-falign-jumps\",\n",
    "\"-fivopts\", \"-fdelete-null-pointer-checks\", \"-fcprop-register\",\n",
    "\"-ftree-slsr\", \"-fexpensive-optimizations\", \"-fcaller-saves\",\n",
    "\"-fomit-frame-pointer\", \"-fschedule-insns\", \"-fdefer-pop\",\n",
    "\"-foptimize-sibling-calls\", \"-fschedule-insns2\", \"-ffunction-sections\",\n",
    "\"-finline-functions\", \"-fsched-interblock\", \"-funroll-loops\",\n",
    "\"-fmerge-constants\", \"-fsched-spec\", \"-fdata-sections\",\n",
    "\"-fmerge-all-constants\", \"-fsched-spec-load\", \"-ftree-pre\",\n",
    "\"-fthread-jumps\", \"-fsched-spec-load-dangerous\", \"-ftree-partial-pre\",\n",
    "\"-fcse-follow-jumps\", \"-fpeephole\", \"-fpeel-loops\",\n",
    "\"-fcse-skip-blocks\", \"-fpeephole2\", \"-ftree-reassoc\",\n",
    "\"-frerun-cse-after-loop\", \"-freorder-blocks\", \"-ffast-math\",\n",
    " \"-fgcse\", \"-freorder-functions\", \"-ffloat-store\"]"
   ]
  },
  {
   "cell_type": "code",
   "execution_count": 10,
   "metadata": {},
   "outputs": [
    {
     "name": "stdout",
     "output_type": "stream",
     "text": [
      "-ftree-partial-pre\n",
      "-ftree-pre\n",
      "-fsched-spec-load-dangerous\n",
      "-fexpensive-optimizations\n",
      "-freorder-blocks\n",
      "-fcse-skip-blocks\n",
      "-falign-jumps\n",
      "-ftree-slsr\n",
      "-fgcse-sm\n"
     ]
    }
   ],
   "source": [
    "for flag in count_flags_5:\n",
    "    if flag in flags_report:\n",
    "        print(flag)"
   ]
  },
  {
   "cell_type": "code",
   "execution_count": 9,
   "metadata": {},
   "outputs": [],
   "source": [
    "teste = []\n",
    "teste.append([i for i in flags_report if i in cross_1_flag]) \n",
    "teste.append([i for i in flags_report if i in cross_2_flag]) \n",
    "teste.append([i for i in flags_report if i in cross_3_flag]) \n",
    "teste.append([i for i in flags_report if i in cross_4_flag]) \n",
    "teste.append([i for i in flags_report if i in cross_5_flag]) \n",
    "teste.append([i for i in flags_report if i in cross_6_flag]) \n",
    "teste.append([i for i in flags_report if i in cross_7_flag]) \n",
    "teste.append([i for i in flags_report if i in cross_8_flag]) \n",
    "teste.append([i for i in flags_report if i in cross_9_flag]) \n",
    "teste.append([i for i in flags_report if i in cross_10_flag]) "
   ]
  },
  {
   "cell_type": "code",
   "execution_count": 10,
   "metadata": {},
   "outputs": [
    {
     "data": {
      "text/plain": [
       "[['-fgcse-sm',\n",
       "  '-ftree-dce',\n",
       "  '-fif-conversion',\n",
       "  '-falign-loops',\n",
       "  '-fif-conversion2',\n",
       "  '-ftree-slsr',\n",
       "  '-fexpensive-optimizations',\n",
       "  '-fcaller-saves',\n",
       "  '-foptimize-sibling-calls',\n",
       "  '-finline-functions',\n",
       "  '-fmerge-constants',\n",
       "  '-fdata-sections',\n",
       "  '-fmerge-all-constants',\n",
       "  '-fsched-spec-load',\n",
       "  '-ftree-pre',\n",
       "  '-fsched-spec-load-dangerous',\n",
       "  '-fcse-follow-jumps',\n",
       "  '-fcse-skip-blocks',\n",
       "  '-frerun-cse-after-loop',\n",
       "  '-freorder-blocks',\n",
       "  '-ffast-math',\n",
       "  '-fgcse',\n",
       "  '-freorder-functions'],\n",
       " ['-fdce',\n",
       "  '-falign-functions',\n",
       "  '-falign-labels',\n",
       "  '-ftree-fre',\n",
       "  '-ftree-coalesce-vars',\n",
       "  '-fexpensive-optimizations',\n",
       "  '-fomit-frame-pointer',\n",
       "  '-foptimize-sibling-calls',\n",
       "  '-ffunction-sections',\n",
       "  '-finline-functions',\n",
       "  '-fdata-sections',\n",
       "  '-fsched-spec-load',\n",
       "  '-fthread-jumps',\n",
       "  '-ftree-partial-pre',\n",
       "  '-fpeel-loops',\n",
       "  '-ftree-reassoc',\n",
       "  '-frerun-cse-after-loop',\n",
       "  '-freorder-blocks',\n",
       "  '-ffast-math',\n",
       "  '-fgcse',\n",
       "  '-freorder-functions'],\n",
       " ['-falign-functions',\n",
       "  '-ftree-dce',\n",
       "  '-fcrossjumping',\n",
       "  '-falign-loops',\n",
       "  '-ftree-coalesce-vars',\n",
       "  '-falign-jumps',\n",
       "  '-fdelete-null-pointer-checks',\n",
       "  '-ftree-slsr',\n",
       "  '-fomit-frame-pointer',\n",
       "  '-ffunction-sections',\n",
       "  '-finline-functions',\n",
       "  '-fdata-sections',\n",
       "  '-fsched-spec-load',\n",
       "  '-ftree-pre',\n",
       "  '-fsched-spec-load-dangerous',\n",
       "  '-ftree-partial-pre',\n",
       "  '-fcse-follow-jumps',\n",
       "  '-fcse-skip-blocks',\n",
       "  '-frerun-cse-after-loop',\n",
       "  '-fgcse',\n",
       "  '-freorder-functions'],\n",
       " ['-ftree-fre',\n",
       "  '-fif-conversion',\n",
       "  '-falign-loops',\n",
       "  '-ftree-coalesce-vars',\n",
       "  '-fivopts',\n",
       "  '-fexpensive-optimizations',\n",
       "  '-fcaller-saves',\n",
       "  '-fomit-frame-pointer',\n",
       "  '-foptimize-sibling-calls',\n",
       "  '-finline-functions',\n",
       "  '-fmerge-constants',\n",
       "  '-ftree-pre',\n",
       "  '-fsched-spec-load-dangerous',\n",
       "  '-fcse-follow-jumps',\n",
       "  '-fcse-skip-blocks',\n",
       "  '-frerun-cse-after-loop',\n",
       "  '-fgcse',\n",
       "  '-freorder-functions'],\n",
       " ['-fgcse-sm',\n",
       "  '-ftree-dce',\n",
       "  '-fcrossjumping',\n",
       "  '-falign-labels',\n",
       "  '-fif-conversion',\n",
       "  '-ftree-coalesce-vars',\n",
       "  '-falign-jumps',\n",
       "  '-fivopts',\n",
       "  '-fdelete-null-pointer-checks',\n",
       "  '-ffunction-sections',\n",
       "  '-finline-functions',\n",
       "  '-funroll-loops',\n",
       "  '-fthread-jumps',\n",
       "  '-ftree-partial-pre',\n",
       "  '-frerun-cse-after-loop',\n",
       "  '-freorder-blocks',\n",
       "  '-ffast-math',\n",
       "  '-freorder-functions'],\n",
       " ['-fgcse-sm',\n",
       "  '-falign-functions',\n",
       "  '-fcrossjumping',\n",
       "  '-ftree-fre',\n",
       "  '-fif-conversion',\n",
       "  '-falign-loops',\n",
       "  '-falign-jumps',\n",
       "  '-fdelete-null-pointer-checks',\n",
       "  '-ftree-slsr',\n",
       "  '-fexpensive-optimizations',\n",
       "  '-foptimize-sibling-calls',\n",
       "  '-finline-functions',\n",
       "  '-fdata-sections',\n",
       "  '-ftree-pre',\n",
       "  '-fthread-jumps',\n",
       "  '-fcse-follow-jumps',\n",
       "  '-fcse-skip-blocks',\n",
       "  '-frerun-cse-after-loop',\n",
       "  '-freorder-blocks',\n",
       "  '-ffast-math',\n",
       "  '-fgcse',\n",
       "  '-freorder-functions'],\n",
       " ['-fgcse-sm',\n",
       "  '-ftree-dce',\n",
       "  '-fif-conversion',\n",
       "  '-falign-loops',\n",
       "  '-ftree-coalesce-vars',\n",
       "  '-fdelete-null-pointer-checks',\n",
       "  '-ftree-slsr',\n",
       "  '-fcaller-saves',\n",
       "  '-fomit-frame-pointer',\n",
       "  '-funroll-loops',\n",
       "  '-fdata-sections',\n",
       "  '-fmerge-all-constants',\n",
       "  '-fthread-jumps',\n",
       "  '-fcse-follow-jumps',\n",
       "  '-fpeel-loops',\n",
       "  '-fcse-skip-blocks',\n",
       "  '-ftree-reassoc',\n",
       "  '-ffast-math',\n",
       "  '-fgcse',\n",
       "  '-freorder-functions'],\n",
       " ['-fdce',\n",
       "  '-ftree-dce',\n",
       "  '-fcrossjumping',\n",
       "  '-falign-loops',\n",
       "  '-falign-jumps',\n",
       "  '-fivopts',\n",
       "  '-fdelete-null-pointer-checks',\n",
       "  '-fcaller-saves',\n",
       "  '-foptimize-sibling-calls',\n",
       "  '-ffunction-sections',\n",
       "  '-finline-functions',\n",
       "  '-funroll-loops',\n",
       "  '-fmerge-constants',\n",
       "  '-fdata-sections',\n",
       "  '-fsched-spec-load',\n",
       "  '-ftree-pre',\n",
       "  '-fthread-jumps',\n",
       "  '-fsched-spec-load-dangerous',\n",
       "  '-ftree-partial-pre',\n",
       "  '-fcse-follow-jumps',\n",
       "  '-ftree-reassoc',\n",
       "  '-fgcse'],\n",
       " ['-ftree-dce',\n",
       "  '-fcrossjumping',\n",
       "  '-fif-conversion',\n",
       "  '-ftree-coalesce-vars',\n",
       "  '-fivopts',\n",
       "  '-fexpensive-optimizations',\n",
       "  '-fomit-frame-pointer',\n",
       "  '-foptimize-sibling-calls',\n",
       "  '-finline-functions',\n",
       "  '-fthread-jumps',\n",
       "  '-fcse-follow-jumps',\n",
       "  '-fpeel-loops',\n",
       "  '-ftree-reassoc',\n",
       "  '-ffast-math',\n",
       "  '-fgcse',\n",
       "  '-freorder-functions'],\n",
       " ['-fdce',\n",
       "  '-fgcse-sm',\n",
       "  '-ftree-dce',\n",
       "  '-fcrossjumping',\n",
       "  '-falign-labels',\n",
       "  '-fif-conversion',\n",
       "  '-ftree-coalesce-vars',\n",
       "  '-fif-conversion2',\n",
       "  '-falign-jumps',\n",
       "  '-fdelete-null-pointer-checks',\n",
       "  '-ftree-slsr',\n",
       "  '-fomit-frame-pointer',\n",
       "  '-foptimize-sibling-calls',\n",
       "  '-finline-functions',\n",
       "  '-fdata-sections',\n",
       "  '-fsched-spec-load-dangerous',\n",
       "  '-ftree-partial-pre',\n",
       "  '-freorder-blocks',\n",
       "  '-fgcse']]"
      ]
     },
     "execution_count": 10,
     "metadata": {},
     "output_type": "execute_result"
    }
   ],
   "source": [
    "teste"
   ]
  },
  {
   "cell_type": "code",
   "execution_count": 12,
   "metadata": {},
   "outputs": [
    {
     "data": {
      "text/plain": [
       "20.0"
      ]
     },
     "execution_count": 12,
     "metadata": {},
     "output_type": "execute_result"
    }
   ],
   "source": [
    "np.mean([len(teste[0]), len(teste[1]), len(teste[2]), len(teste[3]), len(teste[4]), len(teste[5]),\n",
    "        len(teste[6]), len(teste[7]), len(teste[8]), len(teste[9])])"
   ]
  },
  {
   "cell_type": "code",
   "execution_count": null,
   "metadata": {},
   "outputs": [],
   "source": []
  }
 ],
 "metadata": {
  "kernelspec": {
   "display_name": "Python 2",
   "language": "python",
   "name": "python2"
  },
  "language_info": {
   "codemirror_mode": {
    "name": "ipython",
    "version": 3
   },
   "file_extension": ".py",
   "mimetype": "text/x-python",
   "name": "python",
   "nbconvert_exporter": "python",
   "pygments_lexer": "ipython3",
   "version": "3.7.4"
  }
 },
 "nbformat": 4,
 "nbformat_minor": 2
}
