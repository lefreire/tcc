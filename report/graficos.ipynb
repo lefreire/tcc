{
 "cells": [
  {
   "cell_type": "code",
   "execution_count": 7,
   "metadata": {
    "collapsed": true
   },
   "outputs": [],
   "source": [
    "import matplotlib.pyplot as plt"
   ]
  },
  {
   "cell_type": "code",
   "execution_count": 8,
   "metadata": {
    "collapsed": true
   },
   "outputs": [],
   "source": [
    "x = [i for i in range(1, 50, 2)]  "
   ]
  },
  {
   "cell_type": "code",
   "execution_count": 9,
   "metadata": {},
   "outputs": [
    {
     "data": {
      "text/plain": [
       "25"
      ]
     },
     "execution_count": 9,
     "metadata": {},
     "output_type": "execute_result"
    }
   ],
   "source": [
    "len(x)"
   ]
  },
  {
   "cell_type": "code",
   "execution_count": 4,
   "metadata": {
    "collapsed": true
   },
   "outputs": [],
   "source": [
    "bin_1 = [24.3193, 24.0866, 24.0866, 24.0866, 24.0866, 24.0866, 24.0866,\n",
    "         24.0866, 24.0866, 24.0866, 24.0866, 24.0866, 24.0492, 24.0492, \n",
    "         24.0492, 24.0492, 24.0492, 24.0492, 24.0492, 24.0492, 24.0492, \n",
    "         24.0492, 24.0492, 24.0492, 24.0492]\n",
    "bin_2 = [24.374, 23.9262, 23.9262, 23.8548, 23.8548, 23.8548, 23.8548,\n",
    "         23.8548, 23.8541, 23.8541, 23.8497, 23.8497, 23.8497, 23.8497,\n",
    "         23.846, 23.846, 23.846, 23.846, 23.846, 23.846, 23.846,\n",
    "         23.846, 23.846, 23.8361, 23.8361]\n",
    "bin_3 = [24.0161, 24.0161, 23.8391, 23.7143, 23.6478, 23.5721, 23.5721,\n",
    "         23.5721, 23.5721, 23.5721, 23.5721, 23.5721, 23.5721, 23.5721,\n",
    "         23.5721, 23.5721, 23.5721, 23.5659, 23.5659, 23.5659, 23.5659,\n",
    "         23.5659, 23.5659, 23.5659, 23.5659]\n",
    "bin_4 = [24.1797, 23.9994, 23.9994, 23.9994, 23.9994, 23.9994, 23.9994,\n",
    "         23.9994, 23.9994, 23.9994, 23.9994, 23.9868, 23.9868, 23.9868,\n",
    "         23.9868, 23.9868, 23.9868, 23.9868, 23.9868, 23.9868, 23.9868,\n",
    "         23.9868, 23.9868, 23.9868, 23.9868]"
   ]
  },
  {
   "cell_type": "code",
   "execution_count": 5,
   "metadata": {},
   "outputs": [
    {
     "name": "stderr",
     "output_type": "stream",
     "text": [
      "/usr/local/lib/python2.7/site-packages/matplotlib/axes/_axes.py:545: UserWarning: No labelled objects found. Use label='...' kwarg on individual plots.\n",
      "  warnings.warn(\"No labelled objects found. \"\n"
     ]
    },
    {
     "data": {
      "image/png": "[encoded data removed]",
      "text/plain": [
       "<matplotlib.figure.Figure at 0x108887ad0>"
      ]
     },
     "metadata": {},
     "output_type": "display_data"
    }
   ],
   "source": [
    "plt.clf()\n",
    "plt.plot(x, bin_1)#, label=\"baseline value\")\n",
    "plt.plot(x, bin_2)\n",
    "plt.plot(x, bin_3)\n",
    "plt.plot(x, bin_4)\n",
    "plt.legend(bbox_to_anchor=(1.0, 0.5),\n",
    "           ncol=1)\n",
    "plt.xlabel(\"Generations\")\n",
    "plt.ylabel(\"Memory size\")\n",
    "plt.title(\"Comparison between baseline value and genetic algorithm\")\n",
    "plt.show()\n",
    "#plt.savefig(\"ver-default.eps\", bbox_inches = \"tight\")\n",
    "plt.clf()"
   ]
  },
  {
   "cell_type": "code",
   "execution_count": null,
   "metadata": {
    "collapsed": true
   },
   "outputs": [],
   "source": [
    "bin_1_mut_maior = [25.0732, 24.5821, 24.5477, 24.5395, 24.4901, 24.464, 24.4407,\n",
    "                   24.4407, 24.3542, 24.3324, 24.3324, 24.3039, 24.3039, 24.2591,\n",
    "                   24.2591, 24.2591, 24.2591, 24.2591, 24.2152, 24.2152, 24.2152,\n",
    "                   24.2152, 24.2152, 24.2152, 24.2152]\n",
    "bin_2_mut_maior = [24.807, 24.5286, 24.3926, 24.3926, 24.3328, 24.24, 24.0083,\n",
    "                   23.9827, 23.9827, 23.9689, 23.8755, 23.8755, 23.8755, 23.8755,\n",
    "                   23.8755, 23.8755, 23.8755, 23.8755, 23.8755, 23.8755, 23.8755,\n",
    "                   23.8755, 23.8755, 23.8755, 23.8755]\n",
    "bin_3_mut_maior = [24.9019, 24.6577, 24.4851, 24.3061, 24.053, 23.9933, 23.9933,\n",
    "                   23.9933, 23.9479, 23.9465, 23.9465, 23.9465, 23.9465, 23.9465,\n",
    "                   23.9465, 23.9465, 23.9465, 23.9465, 23.9465, 23.9465, 23.9465,\n",
    "                   23.9465, 23.9465, 23.9465, 23.9465]\n",
    "bin_4_mut_maior = [24.2599, 24.1816, 24.0926, 24.084, 24.0654, 24.0654, 24.0654,\n",
    "                   24.0614, 24.0614, 24.0415, 24.0415, 24.0415, 24.0093, 24.0093,\n",
    "                   24.0093, 24.0087, 24.0087, 24.0087, 24.0087, 24.0087, 24.0087,\n",
    "                   24.0087, 24.006, 24.006, 24.006]"
   ]
  },
  {
   "cell_type": "code",
   "execution_count": null,
   "metadata": {
    "collapsed": true
   },
   "outputs": [],
   "source": [
    "bin_1_mut_menor = [24.6995, 24.6995, 24.6995, 24.5568, 24.2438, 24.1869, 23.9534,\n",
    "                   23.9374, 23.9374, 23.9374, 23.9374, 23.9374, 23.9374, 23.9298,\n",
    "                   23.9298, 23.9298, 23.9298, 23.9298, 23.9298, 23.9298, 23.9298,\n",
    "                   23.9298, 23.9298, 23.9298, 23.9298]\n",
    "bin_2_mut_menor = [24.1537, 23.9752, 23.8631, 23.8302, 23.8302, 23.8021, 23.8021,\n",
    "                   23.8021, 23.8021, 23.8021, 23.8021, 23.8021, 23.8021, 23.8021,\n",
    "                   23.8021, 23.8021, 23.8021, 23.8021, 23.8021, 23.8021, 23.7949,\n",
    "                   23.7949, 23.7949, 23.7949, 23.7949]\n",
    "bin_3_mut_menor = [24.4619, 24.2524, 24.0544, 24.0544, 24.0544, 24.0544, 24.0479,\n",
    "                   24.0479, 24.0479, 24.0209, 24.0209, 24.0209, 24.0209, 24.0209, \n",
    "                   24.0209, 24.0209, 24.0209, 24.0209, 24.0209, 24.0209, 24.0209,\n",
    "                   24.0209, 24.0209, 24.0209, 24.0209]\n",
    "bin_4_mut_menor = [24.2221, 24.0181, 23.6216, 23.5784, 23.5784, 23.5784, 23.5784,\n",
    "                   23.5589, 23.5589, 23.5589, 23.5589, 23.5589, 23.5589, 23.5589,\n",
    "                   23.5589, 23.5331, 23.5331, 23.5331, 23.5331, 23.5331, 23.5331,\n",
    "                   23.5331, 23.5331, 23.5331, 23.5331]"
   ]
  },
  {
   "cell_type": "code",
   "execution_count": null,
   "metadata": {
    "collapsed": true
   },
   "outputs": [],
   "source": [
    "bin_1_cross_maior = [24.2028, 24.1986, 24.0207, 24.0207, 24.0207, 23.9608, 23.8427,\n",
    "                     23.8366, 23.7211, 23.7194, 23.6954, 23.652, 23.652, 23.652,\n",
    "                     23.652, 23.652, 23.652, 23.652, 23.652, 23.652, 23.652,\n",
    "                     23.652, 23.652, 23.652, 23.652]\n",
    "bin_2_cross_maior = [23.8297, 23.6302, 23.6302, 23.464, 23.464, 23.4564, 23.4564,\n",
    "                     23.4564, 23.4546, 23.4546, 23.4546, 23.4546, 23.4546, 23.4546,\n",
    "                     23.4546, 23.4546, 23.4546, 23.4546, 23.4546, 23.4546, 23.4546,\n",
    "                     23.4546, 23.4546, 23.4546, 23.4546]\n",
    "bin_3_cross_maior = [24.2845, 24.154, 23.7868, 23.7392, 23.736, 23.7302, 23.7211,\n",
    "                     23.7073, 23.7058, 23.7033, 23.7033, 23.694, 23.694, 23.694,\n",
    "                     23.6771, 23.6771, 23.6771, 23.6771, 23.6771, 23.6771, 23.6771,\n",
    "                     23.6771, 23.6771, 23.6771, 23.6771]\n",
    "bin_4_cross_maior = [24.1982, 24.0743, 23.9878, 23.892, 23.8702, 23.8644, 23.8644,\n",
    "                     23.8644, 23.8561, 23.8561, 23.8561, 23.8561, 23.8561, 23.8561,\n",
    "                     23.8561, 23.8561, 23.8561, 23.8561, 23.8561, 23.8561, 23.8561,\n",
    "                     23.8561, 23.8561, 23.8561, 23.8561]"
   ]
  },
  {
   "cell_type": "code",
   "execution_count": null,
   "metadata": {
    "collapsed": true
   },
   "outputs": [],
   "source": [
    "bin_1_cross_menor = [24.5449, 24.166, 24.1011, 24.1011, 24.1011, 24.1011, 24.1011,\n",
    "                     24.1011, 24.0969, 24.0969, 24.0969, 24.0969, 24.0913, 24.0876,\n",
    "                     24.0876, 24.0876, 24.0876, 24.0876, 24.0876, 24.0876, 24.0876,\n",
    "                     24.0876, 24.0876, 24.0658, 24.0658]\n",
    "bin_2_cross_menor = [24.7934, 24.345, 24.3047, 24.2557, 24.2114, 24.2114, 24.2114,\n",
    "                     24.2114, 24.2114, 24.2114, 24.2114, 24.2114, 24.2114, 24.2114,\n",
    "                     24.2114, 24.2114, 24.2114, 24.2114, 24.2114, 24.2009, 24.2009,\n",
    "                     24.1663, 24.1608, 24.1608, 24.1608]\n",
    "bin_3_cross_menor = [24.373, 24.2927, 23.821, 23.7309, 23.5301, 23.5301, 23.5081,\n",
    "                     23.5081, 23.5081, 23.5081, 23.5081, 23.5081, 23.5081, 23.5081,\n",
    "                     23.5081, 23.5081, 23.4978, 23.4978, 23.4978, 23.4978, 23.4978,\n",
    "                     23.496, 23.4925, 23.4925, 23.4925]\n",
    "bin_4_cross_menor = [24.4233, 24.3575, 24.2403, 24.033, 23.9777, 23.9777, 23.8708,\n",
    "                     23.8708, 23.7979, 23.7748, 23.7748, 23.7748, 23.7748, 23.7748,\n",
    "                     23.7748, 23.7748, 23.7748, 23.7748, 23.7748, 23.7748, 23.7748,\n",
    "                     23.7748, 23.7748, 23.7748, 23.7748]"
   ]
  },
  {
   "cell_type": "code",
   "execution_count": null,
   "metadata": {
    "collapsed": true
   },
   "outputs": [],
   "source": [
    "x_gen_maior = [i for i in range(1, 70, 2)] \n",
    "bin_1_gen_maior = []\n",
    "bin_2_gen_maior = [25.4598, 24.9332, 24.4179, 24.4179, 24.0284, 24.0284, 24.0284,\n",
    "                   24.0168, 24.0168, 24.0168, 24.0168, 24.0168, 24.0168, 24.0168,\n",
    "                   24.0168, 24.0168, 24.0168, 24.0168, 24.0168, 24.0168, 24.0168,\n",
    "                   24.0168, 24.0168, 24.0168, 24.0168, 23.9762, 23.9762, 23.9762,\n",
    "                   23.9762, 23.9762, 23.9762, 23.9762, 23.9762, 23.9762, 23.9762]\n",
    "bin_3_gen_maior = [25.1031, 24.8671, 24.7245, 24.5455, 24.1799, 24.1799, 24.1799,\n",
    "                   24.1799, 24.1531, 24.1531, 24.1531, 24.1531, 24.1531, 24.1531,\n",
    "                   24.1531, 24.1531, 24.1531, 24.0564, 24.0564, 24.0564, 24.0564,\n",
    "                   24.0564, 24.0564, 24.0564, 24.0564, 24.0564, 24.0564, 24.0564,\n",
    "                   24.0564, 24.0564, 24.0564, 24.0564, 24.0564, 24.0564, 24.0564]\n",
    "bin_4_gen_maior = [25.0195, 24.4867, 24.3658, 24.0205, 24.0205, 24.0173, 24.0173,\n",
    "                   24.0173, 24.0173, 24.0173, 23.8846, 23.8846, 23.8043, 23.8043,\n",
    "                   23.7055, 23.7055, 23.7055, 23.7055, 23.7055, 23.7055, 23.7055,\n",
    "                   23.7055, 23.7055, 23.7055, 23.7055, 23.7055, 23.7055, 23.7055,\n",
    "                   23.7055, 23.7055, 23.7055, 23.7055, 23.7055, 23.7055, 23.7055]"
   ]
  },
  {
   "cell_type": "code",
   "execution_count": 2,
   "metadata": {
    "collapsed": true
   },
   "outputs": [],
   "source": [
    "x_gen_menor = [i for i in range(1, 30, 2)] \n",
    "bin_1_gen_menor = [24.8583, 24.5927, 24.5927, 24.419, 24.0374, 24.0374, 24.0374,\n",
    "                   24.0374, 24.0374, 23.8014, 23.8014, 23.8014, 23.7764, 23.7489,\n",
    "                   23.7489]\n",
    "bin_2_gen_menor = [25.057, 24.2503, 24.0798, 24.0798, 24.0798, 23.9808, 23.9146,\n",
    "                   23.9146, 23.9146, 23.9146, 23.9146, 23.9146, 23.9146, 23.9146,\n",
    "                   23.9146]\n",
    "bin_3_gen_menor = [24.8522, 24.4069, 24.2525, 23.9863, 23.9049, 23.9049, 23.8913,\n",
    "                   23.8913, 23.8913, 23.8913, 23.8913, 23.8913, 23.8913, 23.8913,\n",
    "                   23.8913]\n",
    "bin_4_gen_menor = [24.9615, 24.4242, 24.0101, 24.0101, 23.9664, 23.9664, 23.9664,\n",
    "                   23.9664, 23.9664, 23.9664, 23.9496, 23.9496, 23.9496, 23.9496,\n",
    "                   23.9496]"
   ]
  },
  {
   "cell_type": "code",
   "execution_count": null,
   "metadata": {
    "collapsed": true
   },
   "outputs": [],
   "source": [
    "bin_1_pop_maior = [24.4661, 23.9542, 23.8817, 23.8723, 23.7207, 23.6967, 23.6967,\n",
    "                   23.6967, 23.6967, 23.6967, 23.6967, 23.6967, 23.6967, 23.6967,\n",
    "                   23.6967, 23.6967, 23.6967, 23.6967, 23.6967, 23.6967, 23.6967,\n",
    "                   23.6967, 23.6967, 23.6967, 23.6967]\n",
    "bin_2_pop_maior = [25.4845, 24.6661, 24.2799, 24.0695, 24.0695, 24.0695, 23.9751,\n",
    "                   23.9751, 23.9751, 23.9751, 23.9751, 23.9751, 23.9751, 23.9751,\n",
    "                   23.9751, 23.9751, 23.9751, 23.9751, 23.9751, 23.9751, 23.9751,\n",
    "                   23.9751, 23.9751, 23.9751, 23.9751]\n",
    "bin_3_pop_maior = [25.4015, 25.2845, 24.9815, 24.5888, 24.5888, 24.5231, 24.5231,\n",
    "                   24.5231, 24.5231, 24.2599, 24.2599, 24.2599, 24.2599, 24.2599,\n",
    "                   24.2599, 24.2599, 24.2599, 24.1937, 24.1937, 24.1937, 24.1937,\n",
    "                   24.1937, 24.1937, 24.1194, 24.1194]\n",
    "bin_4_pop_maior = [24.7572, 24.6518, 24.2993, 24.2927, 24.1133, 24.0971, 24.0971,\n",
    "                   24.0971, 24.0971, 24.0642, 24.0642, 24.0642, 24.0642, 24.0642,\n",
    "                   23.854, 23.854, 23.854, 23.854, 23.854, 23.854, 23.854,\n",
    "                   23.7902, 23.7902, 23.7902, 23.7902]"
   ]
  },
  {
   "cell_type": "code",
   "execution_count": null,
   "metadata": {
    "collapsed": true
   },
   "outputs": [],
   "source": [
    "bin_1_pop_menor = [25.0231, 24.7119, 24.4543, 24.0616, 24.0616, 24.0616, 23.9921,\n",
    "                   23.9921, 23.9921, 23.9921, 23.8963, 23.8963, 23.8306, 23.7837,\n",
    "                   23.7837, 23.7837, 23.7837, 23.7552, 23.7552, 23.7168, 23.7168,\n",
    "                   23.7168, 23.7168, 23.7168, 23.7168]\n",
    "bin_2_pop_menor = [24.2386, 24.2386, 24.2386, 24.2292, 24.1033, 24.1033, 24.098,\n",
    "                   24.098, 24.0257, 24.0257, 24.0257, 24.0018, 24.0018, 23.9435,\n",
    "                   23.9435, 23.9366, 23.9366, 23.9366, 23.9366, 23.9366, 23.9366,\n",
    "                   23.9366, 23.9366, 23.9366, 23.9366]\n",
    "bin_3_pop_menor = [24.2544, 23.8365, 23.8365, 23.5385, 23.4961, 23.4961, 23.4896,\n",
    "                   23.4896, 23.4896, 23.4896, 23.4896, 23.4896, 23.4896, 23.4896,\n",
    "                   23.4896, 23.4896, 23.4896, 23.4896, 23.4896, 23.4896, 23.4896,\n",
    "                   23.4896, 23.4896, 23.4896, 23.4896]\n",
    "bin_4_pop_menor = [24.2766, 24.2321, 24.0855, 23.9845, 23.9763, 23.9763, 23.9763,\n",
    "                   23.9763, 23.9763, 23.9763, 23.9763, 23.9763, 23.9763, 23.9763,\n",
    "                   23.9763, 23.9763, 23.9763, 23.9763, 23.9763, 23.9763, 23.9763,\n",
    "                   23.9763, 23.9763, 23.9763, 23.9763]"
   ]
  },
  {
   "cell_type": "code",
   "execution_count": null,
   "metadata": {
    "collapsed": true
   },
   "outputs": [],
   "source": []
  }
 ],
 "metadata": {
  "kernelspec": {
   "display_name": "Python 2",
   "language": "python",
   "name": "python2"
  },
  "language_info": {
   "codemirror_mode": {
    "name": "ipython",
    "version": 2
   },
   "file_extension": ".py",
   "mimetype": "text/x-python",
   "name": "python",
   "nbconvert_exporter": "python",
   "pygments_lexer": "ipython2",
   "version": "2.7.13"
  }
 },
 "nbformat": 4,
 "nbformat_minor": 2
}
