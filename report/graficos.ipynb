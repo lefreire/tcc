{
 "cells": [
  {
   "cell_type": "code",
   "execution_count": 2,
   "metadata": {
    "collapsed": true
   },
   "outputs": [],
   "source": [
    "import matplotlib.pyplot as plt\n",
    "import numpy as np"
   ]
  },
  {
   "cell_type": "code",
   "execution_count": 3,
   "metadata": {
    "collapsed": true
   },
   "outputs": [],
   "source": [
    "x = [i for i in range(1, 50, 2)]  "
   ]
  },
  {
   "cell_type": "code",
   "execution_count": 12,
   "metadata": {},
   "outputs": [
    {
     "data": {
      "text/plain": [
       "25"
      ]
     },
     "execution_count": 12,
     "metadata": {},
     "output_type": "execute_result"
    }
   ],
   "source": [
    "len(x)"
   ]
  },
  {
   "cell_type": "code",
   "execution_count": 13,
   "metadata": {
    "collapsed": true
   },
   "outputs": [],
   "source": [
    "time_def_bin = [31.574]*len(x)\n",
    "time_opt_bin = [28.402]*len(x) #otimizado com -01"
   ]
  },
  {
   "cell_type": "code",
   "execution_count": 10,
   "metadata": {
    "collapsed": true
   },
   "outputs": [],
   "source": [
    "bin_1 = [24.3193, 24.0866, 24.0866, 24.0866, 24.0866, 24.0866, 24.0866,\n",
    "         24.0866, 24.0866, 24.0866, 24.0866, 24.0866, 24.0492, 24.0492, \n",
    "         24.0492, 24.0492, 24.0492, 24.0492, 24.0492, 24.0492, 24.0492, \n",
    "         24.0492, 24.0492, 24.0492, 24.0492]\n",
    "bin_2 = [24.374, 23.9262, 23.9262, 23.8548, 23.8548, 23.8548, 23.8548,\n",
    "         23.8548, 23.8541, 23.8541, 23.8497, 23.8497, 23.8497, 23.8497,\n",
    "         23.846, 23.846, 23.846, 23.846, 23.846, 23.846, 23.846,\n",
    "         23.846, 23.846, 23.8361, 23.8361]\n",
    "bin_3 = [24.0161, 24.0161, 23.8391, 23.7143, 23.6478, 23.5721, 23.5721,\n",
    "         23.5721, 23.5721, 23.5721, 23.5721, 23.5721, 23.5721, 23.5721,\n",
    "         23.5721, 23.5721, 23.5721, 23.5659, 23.5659, 23.5659, 23.5659,\n",
    "         23.5659, 23.5659, 23.5659, 23.5659]\n",
    "bin_4 = [24.1797, 23.9994, 23.9994, 23.9994, 23.9994, 23.9994, 23.9994,\n",
    "         23.9994, 23.9994, 23.9994, 23.9994, 23.9868, 23.9868, 23.9868,\n",
    "         23.9868, 23.9868, 23.9868, 23.9868, 23.9868, 23.9868, 23.9868,\n",
    "         23.9868, 23.9868, 23.9868, 23.9868]"
   ]
  },
  {
   "cell_type": "code",
   "execution_count": 9,
   "metadata": {},
   "outputs": [
    {
     "ename": "NameError",
     "evalue": "name 'bin_1' is not defined",
     "output_type": "error",
     "traceback": [
      "\u001b[0;31m---------------------------------------------------------------------------\u001b[0m",
      "\u001b[0;31mNameError\u001b[0m                                 Traceback (most recent call last)",
      "\u001b[0;32m<ipython-input-9-d3923a295cac>\u001b[0m in \u001b[0;36m<module>\u001b[0;34m()\u001b[0m\n\u001b[1;32m      1\u001b[0m \u001b[0mplt\u001b[0m\u001b[0;34m.\u001b[0m\u001b[0mclf\u001b[0m\u001b[0;34m(\u001b[0m\u001b[0;34m)\u001b[0m\u001b[0;34m\u001b[0m\u001b[0m\n\u001b[0;32m----> 2\u001b[0;31m \u001b[0mplt\u001b[0m\u001b[0;34m.\u001b[0m\u001b[0mplot\u001b[0m\u001b[0;34m(\u001b[0m\u001b[0mx\u001b[0m\u001b[0;34m,\u001b[0m \u001b[0mbin_1\u001b[0m\u001b[0;34m)\u001b[0m\u001b[0;31m#, label=\"baseline value\")\u001b[0m\u001b[0;34m\u001b[0m\u001b[0m\n\u001b[0m\u001b[1;32m      3\u001b[0m \u001b[0mplt\u001b[0m\u001b[0;34m.\u001b[0m\u001b[0mplot\u001b[0m\u001b[0;34m(\u001b[0m\u001b[0mx\u001b[0m\u001b[0;34m,\u001b[0m \u001b[0mbin_2\u001b[0m\u001b[0;34m)\u001b[0m\u001b[0;34m\u001b[0m\u001b[0m\n\u001b[1;32m      4\u001b[0m \u001b[0mplt\u001b[0m\u001b[0;34m.\u001b[0m\u001b[0mplot\u001b[0m\u001b[0;34m(\u001b[0m\u001b[0mx\u001b[0m\u001b[0;34m,\u001b[0m \u001b[0mbin_3\u001b[0m\u001b[0;34m)\u001b[0m\u001b[0;34m\u001b[0m\u001b[0m\n\u001b[1;32m      5\u001b[0m \u001b[0mplt\u001b[0m\u001b[0;34m.\u001b[0m\u001b[0mplot\u001b[0m\u001b[0;34m(\u001b[0m\u001b[0mx\u001b[0m\u001b[0;34m,\u001b[0m \u001b[0mbin_4\u001b[0m\u001b[0;34m)\u001b[0m\u001b[0;34m\u001b[0m\u001b[0m\n",
      "\u001b[0;31mNameError\u001b[0m: name 'bin_1' is not defined"
     ]
    }
   ],
   "source": [
    "plt.clf()\n",
    "plt.plot(x, bin_1)#, label=\"baseline value\")\n",
    "plt.plot(x, bin_2)\n",
    "plt.plot(x, bin_3)\n",
    "plt.plot(x, bin_4)\n",
    "plt.legend(bbox_to_anchor=(1.0, 0.5),\n",
    "           ncol=1)\n",
    "plt.xlabel(\"Generations\")\n",
    "plt.ylabel(\"Execution time (s)\")\n",
    "plt.title(\"Comparison between different executions\")\n",
    "plt.show()\n",
    "#plt.savefig(\"bin-default.eps\", bbox_inches = \"tight\")\n",
    "plt.clf()"
   ]
  },
  {
   "cell_type": "code",
   "execution_count": 181,
   "metadata": {
    "collapsed": true
   },
   "outputs": [],
   "source": [
    "bin_1_mut_maior = [25.0732, 24.5821, 24.5477, 24.5395, 24.4901, 24.464, 24.4407,\n",
    "                   24.4407, 24.3542, 24.3324, 24.3324, 24.3039, 24.3039, 24.2591,\n",
    "                   24.2591, 24.2591, 24.2591, 24.2591, 24.2152, 24.2152, 24.2152,\n",
    "                   24.2152, 24.2152, 24.2152, 24.2152]\n",
    "bin_2_mut_maior = [24.807, 24.5286, 24.3926, 24.3926, 24.3328, 24.24, 24.0083,\n",
    "                   23.9827, 23.9827, 23.9689, 23.8755, 23.8755, 23.8755, 23.8755,\n",
    "                   23.8755, 23.8755, 23.8755, 23.8755, 23.8755, 23.8755, 23.8755,\n",
    "                   23.8755, 23.8755, 23.8755, 23.8755]\n",
    "bin_3_mut_maior = [24.9019, 24.6577, 24.4851, 24.3061, 24.053, 23.9933, 23.9933,\n",
    "                   23.9933, 23.9479, 23.9465, 23.9465, 23.9465, 23.9465, 23.9465,\n",
    "                   23.9465, 23.9465, 23.9465, 23.9465, 23.9465, 23.9465, 23.9465,\n",
    "                   23.9465, 23.9465, 23.9465, 23.9465]\n",
    "bin_4_mut_maior = [24.2599, 24.1816, 24.0926, 24.084, 24.0654, 24.0654, 24.0654,\n",
    "                   24.0614, 24.0614, 24.0415, 24.0415, 24.0415, 24.0093, 24.0093,\n",
    "                   24.0093, 24.0087, 24.0087, 24.0087, 24.0087, 24.0087, 24.0087,\n",
    "                   24.0087, 24.006, 24.006, 24.006]"
   ]
  },
  {
   "cell_type": "code",
   "execution_count": 12,
   "metadata": {
    "collapsed": true
   },
   "outputs": [],
   "source": [
    "plt.clf()\n",
    "plt.plot(x, bin_1_mut_maior)#, label=\"baseline value\")\n",
    "plt.plot(x, bin_2_mut_maior)\n",
    "plt.plot(x, bin_3_mut_maior)\n",
    "plt.plot(x, bin_4_mut_maior)\n",
    "plt.legend(bbox_to_anchor=(1.0, 0.5),\n",
    "           ncol=1)\n",
    "plt.xlabel(\"Generations\")\n",
    "plt.ylabel(\"Execution time (s)\")\n",
    "plt.title(\"Comparison between different executions: increasing mutation rate\")\n",
    "#plt.show()\n",
    "plt.savefig(\"bin-mut-maior.eps\", bbox_inches = \"tight\")\n",
    "plt.clf()"
   ]
  },
  {
   "cell_type": "code",
   "execution_count": 182,
   "metadata": {
    "collapsed": true
   },
   "outputs": [],
   "source": [
    "bin_1_mut_menor = [24.6995, 24.6995, 24.6995, 24.5568, 24.2438, 24.1869, 23.9534,\n",
    "                   23.9374, 23.9374, 23.9374, 23.9374, 23.9374, 23.9374, 23.9298,\n",
    "                   23.9298, 23.9298, 23.9298, 23.9298, 23.9298, 23.9298, 23.9298,\n",
    "                   23.9298, 23.9298, 23.9298, 23.9298]\n",
    "bin_2_mut_menor = [24.1537, 23.9752, 23.8631, 23.8302, 23.8302, 23.8021, 23.8021,\n",
    "                   23.8021, 23.8021, 23.8021, 23.8021, 23.8021, 23.8021, 23.8021,\n",
    "                   23.8021, 23.8021, 23.8021, 23.8021, 23.8021, 23.8021, 23.7949,\n",
    "                   23.7949, 23.7949, 23.7949, 23.7949]\n",
    "bin_3_mut_menor = [24.4619, 24.2524, 24.0544, 24.0544, 24.0544, 24.0544, 24.0479,\n",
    "                   24.0479, 24.0479, 24.0209, 24.0209, 24.0209, 24.0209, 24.0209, \n",
    "                   24.0209, 24.0209, 24.0209, 24.0209, 24.0209, 24.0209, 24.0209,\n",
    "                   24.0209, 24.0209, 24.0209, 24.0209]\n",
    "bin_4_mut_menor = [24.2221, 24.0181, 23.6216, 23.5784, 23.5784, 23.5784, 23.5784,\n",
    "                   23.5589, 23.5589, 23.5589, 23.5589, 23.5589, 23.5589, 23.5589,\n",
    "                   23.5589, 23.5331, 23.5331, 23.5331, 23.5331, 23.5331, 23.5331,\n",
    "                   23.5331, 23.5331, 23.5331, 23.5331]"
   ]
  },
  {
   "cell_type": "code",
   "execution_count": 206,
   "metadata": {
    "collapsed": true
   },
   "outputs": [],
   "source": [
    "plt.clf()\n",
    "# plt.plot(x, bin_1, color='green', label=\"baseline value\")\n",
    "# plt.plot(x, bin_2, color='green')\n",
    "# plt.plot(x, bin_3, color='green')\n",
    "# plt.plot(x, bin_4, color='green')\n",
    "plt.plot(x, bin_1_mut_maior, 'g--', color='lightcoral', label=\"mutation=0.01\")\n",
    "plt.plot(x, bin_2_mut_maior, 'bo--', color='lightcoral')\n",
    "plt.plot(x, bin_3_mut_maior, 'r+-', color='lightcoral')\n",
    "plt.plot(x, bin_4_mut_maior, 'g-', color='lightcoral')\n",
    "plt.plot(x, bin_1_mut_menor, 'g--', color='turquoise', label=\"mutation=0.001\")\n",
    "plt.plot(x, bin_2_mut_menor, 'bo--', color='turquoise')\n",
    "plt.plot(x, bin_3_mut_menor, 'r+-', color='turquoise')\n",
    "plt.plot(x, bin_4_mut_menor, 'g-', color='turquoise')\n",
    "plt.legend(bbox_to_anchor=(1.0, 0.9),\n",
    "           ncol=1)\n",
    "plt.xlabel(\"Generations\")\n",
    "plt.ylabel(\"Execution time (s)\")\n",
    "plt.title(\"Comparison between mutation rates\")\n",
    "# plt.show()\n",
    "plt.savefig(\"bin-mut-comparison.eps\", bbox_inches = \"tight\")\n",
    "plt.clf()"
   ]
  },
  {
   "cell_type": "code",
   "execution_count": 19,
   "metadata": {
    "collapsed": true
   },
   "outputs": [],
   "source": [
    "bin_1_cross_maior = [24.2028, 24.1986, 24.0207, 24.0207, 24.0207, 23.9608, 23.8427,\n",
    "                     23.8366, 23.7211, 23.7194, 23.6954, 23.652, 23.652, 23.652,\n",
    "                     23.652, 23.652, 23.652, 23.652, 23.652, 23.652, 23.652,\n",
    "                     23.652, 23.652, 23.652, 23.652]\n",
    "bin_2_cross_maior = [23.8297, 23.6302, 23.6302, 23.464, 23.464, 23.4564, 23.4564,\n",
    "                     23.4564, 23.4546, 23.4546, 23.4546, 23.4546, 23.4546, 23.4546,\n",
    "                     23.4546, 23.4546, 23.4546, 23.4546, 23.4546, 23.4546, 23.4546,\n",
    "                     23.4546, 23.4546, 23.4546, 23.4546]\n",
    "bin_3_cross_maior = [24.2845, 24.154, 23.7868, 23.7392, 23.736, 23.7302, 23.7211,\n",
    "                     23.7073, 23.7058, 23.7033, 23.7033, 23.694, 23.694, 23.694,\n",
    "                     23.6771, 23.6771, 23.6771, 23.6771, 23.6771, 23.6771, 23.6771,\n",
    "                     23.6771, 23.6771, 23.6771, 23.6771]\n",
    "bin_4_cross_maior = [24.1982, 24.0743, 23.9878, 23.892, 23.8702, 23.8644, 23.8644,\n",
    "                     23.8644, 23.8561, 23.8561, 23.8561, 23.8561, 23.8561, 23.8561,\n",
    "                     23.8561, 23.8561, 23.8561, 23.8561, 23.8561, 23.8561, 23.8561,\n",
    "                     23.8561, 23.8561, 23.8561, 23.8561]"
   ]
  },
  {
   "cell_type": "code",
   "execution_count": 21,
   "metadata": {
    "collapsed": true
   },
   "outputs": [],
   "source": [
    "plt.clf()\n",
    "plt.plot(x, bin_1_cross_maior)\n",
    "plt.plot(x, bin_2_cross_maior)\n",
    "plt.plot(x, bin_3_cross_maior)\n",
    "plt.plot(x, bin_4_cross_maior)\n",
    "plt.legend(bbox_to_anchor=(1.0, 0.5),\n",
    "           ncol=1)\n",
    "plt.xlabel(\"Generations\")\n",
    "plt.ylabel(\"Execution time (s)\")\n",
    "plt.title(\"Comparison between different executions: increasing crossover rate\")\n",
    "#plt.show()\n",
    "plt.savefig(\"bin-cross-maior.eps\", bbox_inches = \"tight\")\n",
    "plt.clf()"
   ]
  },
  {
   "cell_type": "code",
   "execution_count": 22,
   "metadata": {
    "collapsed": true
   },
   "outputs": [],
   "source": [
    "bin_1_cross_menor = [24.5449, 24.166, 24.1011, 24.1011, 24.1011, 24.1011, 24.1011,\n",
    "                     24.1011, 24.0969, 24.0969, 24.0969, 24.0969, 24.0913, 24.0876,\n",
    "                     24.0876, 24.0876, 24.0876, 24.0876, 24.0876, 24.0876, 24.0876,\n",
    "                     24.0876, 24.0876, 24.0658, 24.0658]\n",
    "bin_2_cross_menor = [24.7934, 24.345, 24.3047, 24.2557, 24.2114, 24.2114, 24.2114,\n",
    "                     24.2114, 24.2114, 24.2114, 24.2114, 24.2114, 24.2114, 24.2114,\n",
    "                     24.2114, 24.2114, 24.2114, 24.2114, 24.2114, 24.2009, 24.2009,\n",
    "                     24.1663, 24.1608, 24.1608, 24.1608]\n",
    "bin_3_cross_menor = [24.373, 24.2927, 23.821, 23.7309, 23.5301, 23.5301, 23.5081,\n",
    "                     23.5081, 23.5081, 23.5081, 23.5081, 23.5081, 23.5081, 23.5081,\n",
    "                     23.5081, 23.5081, 23.4978, 23.4978, 23.4978, 23.4978, 23.4978,\n",
    "                     23.496, 23.4925, 23.4925, 23.4925]\n",
    "bin_4_cross_menor = [24.4233, 24.3575, 24.2403, 24.033, 23.9777, 23.9777, 23.8708,\n",
    "                     23.8708, 23.7979, 23.7748, 23.7748, 23.7748, 23.7748, 23.7748,\n",
    "                     23.7748, 23.7748, 23.7748, 23.7748, 23.7748, 23.7748, 23.7748,\n",
    "                     23.7748, 23.7748, 23.7748, 23.7748]"
   ]
  },
  {
   "cell_type": "code",
   "execution_count": 23,
   "metadata": {
    "collapsed": true
   },
   "outputs": [],
   "source": [
    "plt.clf()\n",
    "plt.plot(x, bin_1_cross_menor)\n",
    "plt.plot(x, bin_2_cross_menor)\n",
    "plt.plot(x, bin_3_cross_menor)\n",
    "plt.plot(x, bin_4_cross_menor)\n",
    "plt.legend(bbox_to_anchor=(1.0, 0.5),\n",
    "           ncol=1)\n",
    "plt.xlabel(\"Generations\")\n",
    "plt.ylabel(\"Execution time (s)\")\n",
    "plt.title(\"Comparison between different executions: decreasing crossover rate\")\n",
    "#plt.show()\n",
    "plt.savefig(\"bin-cross-menor.eps\", bbox_inches = \"tight\")\n",
    "plt.clf()"
   ]
  },
  {
   "cell_type": "code",
   "execution_count": 24,
   "metadata": {
    "collapsed": true
   },
   "outputs": [],
   "source": [
    "x_gen_maior = [i for i in range(1, 70, 2)] \n",
    "bin_1_gen_maior = []\n",
    "bin_2_gen_maior = [25.4598, 24.9332, 24.4179, 24.4179, 24.0284, 24.0284, 24.0284,\n",
    "                   24.0168, 24.0168, 24.0168, 24.0168, 24.0168, 24.0168, 24.0168,\n",
    "                   24.0168, 24.0168, 24.0168, 24.0168, 24.0168, 24.0168, 24.0168,\n",
    "                   24.0168, 24.0168, 24.0168, 24.0168, 23.9762, 23.9762, 23.9762,\n",
    "                   23.9762, 23.9762, 23.9762, 23.9762, 23.9762, 23.9762, 23.9762]\n",
    "bin_3_gen_maior = [25.1031, 24.8671, 24.7245, 24.5455, 24.1799, 24.1799, 24.1799,\n",
    "                   24.1799, 24.1531, 24.1531, 24.1531, 24.1531, 24.1531, 24.1531,\n",
    "                   24.1531, 24.1531, 24.1531, 24.0564, 24.0564, 24.0564, 24.0564,\n",
    "                   24.0564, 24.0564, 24.0564, 24.0564, 24.0564, 24.0564, 24.0564,\n",
    "                   24.0564, 24.0564, 24.0564, 24.0564, 24.0564, 24.0564, 24.0564]\n",
    "bin_4_gen_maior = [25.0195, 24.4867, 24.3658, 24.0205, 24.0205, 24.0173, 24.0173,\n",
    "                   24.0173, 24.0173, 24.0173, 23.8846, 23.8846, 23.8043, 23.8043,\n",
    "                   23.7055, 23.7055, 23.7055, 23.7055, 23.7055, 23.7055, 23.7055,\n",
    "                   23.7055, 23.7055, 23.7055, 23.7055, 23.7055, 23.7055, 23.7055,\n",
    "                   23.7055, 23.7055, 23.7055, 23.7055, 23.7055, 23.7055, 23.7055]"
   ]
  },
  {
   "cell_type": "code",
   "execution_count": 26,
   "metadata": {
    "collapsed": true
   },
   "outputs": [],
   "source": [
    "plt.clf()\n",
    "plt.plot(x_gen_maior, bin_2_gen_maior)\n",
    "plt.plot(x_gen_maior, bin_3_gen_maior)\n",
    "plt.plot(x_gen_maior, bin_4_gen_maior)\n",
    "plt.legend(bbox_to_anchor=(1.0, 0.5),\n",
    "           ncol=1)\n",
    "plt.xlabel(\"Generations\")\n",
    "plt.ylabel(\"Execution time (s)\")\n",
    "plt.title(\"Comparison between different executions: number of generations higher\")\n",
    "#plt.show()\n",
    "plt.savefig(\"bin-gen-maior.eps\", bbox_inches = \"tight\")\n",
    "plt.clf()"
   ]
  },
  {
   "cell_type": "code",
   "execution_count": 27,
   "metadata": {
    "collapsed": true
   },
   "outputs": [],
   "source": [
    "x_gen_menor = [i for i in range(1, 30, 2)] \n",
    "bin_1_gen_menor = [24.8583, 24.5927, 24.5927, 24.419, 24.0374, 24.0374, 24.0374,\n",
    "                   24.0374, 24.0374, 23.8014, 23.8014, 23.8014, 23.7764, 23.7489,\n",
    "                   23.7489]\n",
    "bin_2_gen_menor = [25.057, 24.2503, 24.0798, 24.0798, 24.0798, 23.9808, 23.9146,\n",
    "                   23.9146, 23.9146, 23.9146, 23.9146, 23.9146, 23.9146, 23.9146,\n",
    "                   23.9146]\n",
    "bin_3_gen_menor = [24.8522, 24.4069, 24.2525, 23.9863, 23.9049, 23.9049, 23.8913,\n",
    "                   23.8913, 23.8913, 23.8913, 23.8913, 23.8913, 23.8913, 23.8913,\n",
    "                   23.8913]\n",
    "bin_4_gen_menor = [24.9615, 24.4242, 24.0101, 24.0101, 23.9664, 23.9664, 23.9664,\n",
    "                   23.9664, 23.9664, 23.9664, 23.9496, 23.9496, 23.9496, 23.9496,\n",
    "                   23.9496]"
   ]
  },
  {
   "cell_type": "code",
   "execution_count": 28,
   "metadata": {
    "collapsed": true
   },
   "outputs": [],
   "source": [
    "plt.clf()\n",
    "plt.plot(x_gen_menor, bin_1_gen_menor)\n",
    "plt.plot(x_gen_menor, bin_2_gen_menor)\n",
    "plt.plot(x_gen_menor, bin_3_gen_menor)\n",
    "plt.plot(x_gen_menor, bin_4_gen_menor)\n",
    "plt.legend(bbox_to_anchor=(1.0, 0.5),\n",
    "           ncol=1)\n",
    "plt.xlabel(\"Generations\")\n",
    "plt.ylabel(\"Execution time (s)\")\n",
    "plt.title(\"Comparison between different executions: number of generations lower\")\n",
    "#plt.show()\n",
    "plt.savefig(\"bin-gen-menor.eps\", bbox_inches = \"tight\")\n",
    "plt.clf()"
   ]
  },
  {
   "cell_type": "code",
   "execution_count": 29,
   "metadata": {
    "collapsed": true
   },
   "outputs": [],
   "source": [
    "bin_1_pop_maior = [24.4661, 23.9542, 23.8817, 23.8723, 23.7207, 23.6967, 23.6967,\n",
    "                   23.6967, 23.6967, 23.6967, 23.6967, 23.6967, 23.6967, 23.6967,\n",
    "                   23.6967, 23.6967, 23.6967, 23.6967, 23.6967, 23.6967, 23.6967,\n",
    "                   23.6967, 23.6967, 23.6967, 23.6967]\n",
    "bin_2_pop_maior = [25.4845, 24.6661, 24.2799, 24.0695, 24.0695, 24.0695, 23.9751,\n",
    "                   23.9751, 23.9751, 23.9751, 23.9751, 23.9751, 23.9751, 23.9751,\n",
    "                   23.9751, 23.9751, 23.9751, 23.9751, 23.9751, 23.9751, 23.9751,\n",
    "                   23.9751, 23.9751, 23.9751, 23.9751]\n",
    "bin_3_pop_maior = [25.4015, 25.2845, 24.9815, 24.5888, 24.5888, 24.5231, 24.5231,\n",
    "                   24.5231, 24.5231, 24.2599, 24.2599, 24.2599, 24.2599, 24.2599,\n",
    "                   24.2599, 24.2599, 24.2599, 24.1937, 24.1937, 24.1937, 24.1937,\n",
    "                   24.1937, 24.1937, 24.1194, 24.1194]\n",
    "bin_4_pop_maior = [24.7572, 24.6518, 24.2993, 24.2927, 24.1133, 24.0971, 24.0971,\n",
    "                   24.0971, 24.0971, 24.0642, 24.0642, 24.0642, 24.0642, 24.0642,\n",
    "                   23.854, 23.854, 23.854, 23.854, 23.854, 23.854, 23.854,\n",
    "                   23.7902, 23.7902, 23.7902, 23.7902]"
   ]
  },
  {
   "cell_type": "code",
   "execution_count": 30,
   "metadata": {
    "collapsed": true
   },
   "outputs": [],
   "source": [
    "plt.clf()\n",
    "plt.plot(x, bin_1_pop_maior)\n",
    "plt.plot(x, bin_2_pop_maior)\n",
    "plt.plot(x, bin_3_pop_maior)\n",
    "plt.plot(x, bin_4_pop_maior)\n",
    "plt.legend(bbox_to_anchor=(1.0, 0.5),\n",
    "           ncol=1)\n",
    "plt.xlabel(\"Generations\")\n",
    "plt.ylabel(\"Execution time (s)\")\n",
    "plt.title(\"Comparison between different executions: increasing number of individuals\")\n",
    "#plt.show()\n",
    "plt.savefig(\"bin-pop-maior.eps\", bbox_inches = \"tight\")\n",
    "plt.clf()"
   ]
  },
  {
   "cell_type": "code",
   "execution_count": 31,
   "metadata": {
    "collapsed": true
   },
   "outputs": [],
   "source": [
    "bin_1_pop_menor = [25.0231, 24.7119, 24.4543, 24.0616, 24.0616, 24.0616, 23.9921,\n",
    "                   23.9921, 23.9921, 23.9921, 23.8963, 23.8963, 23.8306, 23.7837,\n",
    "                   23.7837, 23.7837, 23.7837, 23.7552, 23.7552, 23.7168, 23.7168,\n",
    "                   23.7168, 23.7168, 23.7168, 23.7168]\n",
    "bin_2_pop_menor = [24.2386, 24.2386, 24.2386, 24.2292, 24.1033, 24.1033, 24.098,\n",
    "                   24.098, 24.0257, 24.0257, 24.0257, 24.0018, 24.0018, 23.9435,\n",
    "                   23.9435, 23.9366, 23.9366, 23.9366, 23.9366, 23.9366, 23.9366,\n",
    "                   23.9366, 23.9366, 23.9366, 23.9366]\n",
    "bin_3_pop_menor = [24.2544, 23.8365, 23.8365, 23.5385, 23.4961, 23.4961, 23.4896,\n",
    "                   23.4896, 23.4896, 23.4896, 23.4896, 23.4896, 23.4896, 23.4896,\n",
    "                   23.4896, 23.4896, 23.4896, 23.4896, 23.4896, 23.4896, 23.4896,\n",
    "                   23.4896, 23.4896, 23.4896, 23.4896]\n",
    "bin_4_pop_menor = [24.2766, 24.2321, 24.0855, 23.9845, 23.9763, 23.9763, 23.9763,\n",
    "                   23.9763, 23.9763, 23.9763, 23.9763, 23.9763, 23.9763, 23.9763,\n",
    "                   23.9763, 23.9763, 23.9763, 23.9763, 23.9763, 23.9763, 23.9763,\n",
    "                   23.9763, 23.9763, 23.9763, 23.9763]"
   ]
  },
  {
   "cell_type": "code",
   "execution_count": 32,
   "metadata": {
    "collapsed": true
   },
   "outputs": [],
   "source": [
    "plt.clf()\n",
    "plt.plot(x, bin_1_pop_menor)\n",
    "plt.plot(x, bin_2_pop_menor)\n",
    "plt.plot(x, bin_3_pop_menor)\n",
    "plt.plot(x, bin_4_pop_menor)\n",
    "plt.legend(bbox_to_anchor=(1.0, 0.5),\n",
    "           ncol=1)\n",
    "plt.xlabel(\"Generations\")\n",
    "plt.ylabel(\"Execution time (s)\")\n",
    "plt.title(\"Comparison between different executions: decreasing number of individuals\")\n",
    "#plt.show()\n",
    "plt.savefig(\"bin-pop-menor.eps\", bbox_inches = \"tight\")\n",
    "plt.clf()"
   ]
  },
  {
   "cell_type": "code",
   "execution_count": 4,
   "metadata": {
    "collapsed": true
   },
   "outputs": [],
   "source": [
    "cross_opt = [1.78958e+06]*len(x) #com -O2\n",
    "cross_def = [54076.5]*len(x) #sem otimização\n",
    "cross_1 = [2.09253e+06, 2.0953e+06, 2.09562e+06, 2.09562e+06, 2.11397e+06, 2.11397e+06, 2.11916e+06,\n",
    "           2.11916e+06, 2.12954e+06, 2.12954e+06, 2.13365e+06, 2.13365e+06, 2.13365e+06, 2.13365e+06,\n",
    "           2.13365e+06, 2.13365e+06, 2.13365e+06, 2.14086e+06, 2.14086e+06, 2.14086e+06, 2.14086e+06,\n",
    "           2.14086e+06, 2.14086e+06, 2.14086e+06, 2.14086e+06]\n",
    "cross_2 = [2.04429e+06, 2.04429e+06, 2.05024e+06, 2.05024e+06, 2.05024e+06, 2.05024e+06, 2.05024e+06,\n",
    "           2.05024e+06, 2.05024e+06, 2.05024e+06, 2.0649e+06, 2.0649e+06, 2.0649e+06, 2.0649e+06,\n",
    "           2.0649e+06, 2.0649e+06, 2.0649e+06, 2.07089e+06, 2.07089e+06, 2.07089e+06, 2.07089e+06,\n",
    "           2.07089e+06, 2.07089e+06, 2.07089e+06, 2.07089e+06]\n",
    "cross_3 = [2.00926e+06, 2.02169e+06, 2.02169e+06, 2.02404e+06, 2.02404e+06, 2.0759e+06, 2.0759e+06,\n",
    "           2.0759e+06, 2.0759e+06, 2.0759e+06, 2.0759e+06, 2.0759e+06, 2.0759e+06, 2.0759e+06,\n",
    "           2.0759e+06, 2.0759e+06, 2.0759e+06, 2.0759e+06, 2.0759e+06, 2.0759e+06, 2.0759e+06,\n",
    "           2.0759e+06, 2.0759e+06, 2.0759e+06, 2.0759e+06]\n",
    "cross_4 = [1.93284e+06, 1.9846e+06, 1.9846e+06, 1.98635e+06, 1.98635e+06, 1.98635e+06, 1.98635e+06,\n",
    "           2.00267e+06, 2.00267e+06, 2.00267e+06, 2.00267e+06, 2.00267e+06, 2.00267e+06, 2.00267e+06,\n",
    "           2.00267e+06, 2.10295e+06, 2.10295e+06, 2.10295e+06, 2.10295e+06, 2.10295e+06, 2.10295e+06,\n",
    "           2.10295e+06, 2.10295e+06, 2.10295e+06, 2.10295e+06]"
   ]
  },
  {
   "cell_type": "code",
   "execution_count": 6,
   "metadata": {
    "collapsed": true
   },
   "outputs": [],
   "source": [
    "plt.clf()\n",
    "#plt.plot(x, cross_opt)\n",
    "plt.plot(x, cross_1)\n",
    "plt.plot(x, cross_2)\n",
    "plt.plot(x, cross_3)\n",
    "plt.plot(x, cross_4)\n",
    "plt.legend(bbox_to_anchor=(1.0, 0.5),\n",
    "           ncol=1)\n",
    "plt.xlabel(\"Generations\")\n",
    "plt.ylabel(\"Throughput\")\n",
    "plt.title(\"Comparison between different executions\")\n",
    "#plt.show()\n",
    "plt.savefig(\"cross.eps\", bbox_inches = \"tight\")\n",
    "plt.clf()"
   ]
  },
  {
   "cell_type": "code",
   "execution_count": 4,
   "metadata": {
    "collapsed": true
   },
   "outputs": [],
   "source": [
    "cpp1 = [2.15841e+06, 2.15841e+06, 2.14341e+06, 2.13931e+06, 2.13931e+06, 2.13931e+06, 2.13522e+06,\n",
    "2.13522e+06, 2.13522e+06, 2.13374e+06, 2.13374e+06, 2.13374e+06, 2.13374e+06, 2.13374e+06,\n",
    "2.13374e+06]\n",
    "cpp2 = [2.15743e+06, 2.12424e+06, 2.12086e+06, 2.11957e+06, 2.10537e+06, 2.10537e+06, 2.10537e+06,\n",
    "2.10537e+06, 2.10537e+06, 2.10537e+06, 2.10537e+06, 2.10537e+06, 2.10443e+06, 2.10443e+06,\n",
    "2.10443e+06]\n",
    "cpp3 = [2.12228e+06, 2.11818e+06, 2.11818e+06, 2.11818e+06, 2.11818e+06, 2.11815e+06, 2.11815e+06,\n",
    "2.11815e+06, 2.1127e+06, 2.1127e+06, 2.1127e+06, 2.1127e+06, 2.1127e+06, 2.1127e+06,\n",
    "2.11241e+06]\n",
    "cpp4 = [2.13518e+06, 2.13518e+06, 2.11061e+06, 2.11061e+06, 2.11061e+06, 2.11061e+06, 2.11061e+06,\n",
    "2.11061e+06, 2.11061e+06, 2.11061e+06, 2.11061e+06, 2.11061e+06, 2.10524e+06, 2.10524e+06,\n",
    "2.10524e+06]\n"
   ]
  },
  {
   "cell_type": "code",
   "execution_count": 8,
   "metadata": {},
   "outputs": [
    {
     "data": {
      "image/png": "[encoded data removed]",
      "text/plain": [
       "<matplotlib.figure.Figure at 0x11207fdd0>"
      ]
     },
     "metadata": {},
     "output_type": "display_data"
    }
   ],
   "source": [
    "x = [i for i in range(1, 30, 2)]  \n",
    "baseline = [9263960]*len(x)\n",
    "plt.clf()\n",
    "plt.plot(x, baseline)\n",
    "plt.plot(x, cpp1)\n",
    "plt.plot(x, cpp2)\n",
    "plt.plot(x, cpp3)\n",
    "plt.plot(x, cpp4)\n",
    "plt.legend(bbox_to_anchor=(1.0, 0.5),\n",
    "           ncol=1)\n",
    "plt.xlabel(\"Generations\")\n",
    "plt.ylabel(\"Throughput\")\n",
    "plt.title(\"Comparison between different executions\")\n",
    "plt.show()\n",
    "#plt.savefig(\"cross.eps\", bbox_inches = \"tight\")\n",
    "plt.clf()"
   ]
  },
  {
   "cell_type": "code",
   "execution_count": 5,
   "metadata": {
    "collapsed": true
   },
   "outputs": [],
   "source": [
    "aa = [42.2449, 42.2449, 41.5129, 40.984, 39.5186, 37.8031, 37.8031,\n",
    "37.8031, 37.8031, 37.8031, 37.8031, 37.8031, 37.8031, 37.8031, 37.8031]\n",
    "x = [i for i in range(1, 30, 2)]  \n",
    "baseline = [48.052]*len(x)\n",
    "opt_03  = [40.700]*len(x)\n",
    "plt.clf()\n",
    "plt.plot(x, baseline)\n",
    "plt.plot(x, aa)\n",
    "plt.plot(x, opt_03)\n",
    "plt.legend(bbox_to_anchor=(1.0, 0.5),\n",
    "           ncol=1)\n",
    "plt.xlabel(\"Generations\")\n",
    "plt.ylabel(\"Execution time (s)\")\n",
    "plt.title(\"Comparison between different executions\")\n",
    "#plt.show()\n",
    "plt.savefig(\"example.eps\", bbox_inches = \"tight\")\n",
    "plt.clf()"
   ]
  },
  {
   "cell_type": "code",
   "execution_count": 2,
   "metadata": {
    "collapsed": true
   },
   "outputs": [],
   "source": [
    "x = [i for i in range(1, 30, 2)]  "
   ]
  },
  {
   "cell_type": "code",
   "execution_count": 7,
   "metadata": {
    "collapsed": true
   },
   "outputs": [],
   "source": [
    "mut_menor_1 = [24.7613, 24.5649, 24.3256, 24.1795, 23.9308, 23.9308, 23.9308,\n",
    "23.9308, 23.9308, 23.9308, 23.8988, 23.8988, 23.8988, 23.8988, 23.8988]\n",
    "mut_menor_2 = [24.6442, 24.4501, 24.2954, 24.2954, 24.2954, 24.2954, 24.2954,\n",
    "24.2477, 24.2477, 24.2477, 24.2477, 24.2477, 24.2477, 24.2231, 24.2231]\n",
    "mut_menor_3 = [24.6192, 24.3813, 24.0523, 23.8366, 23.6933, 23.6933, 23.6933,\n",
    "23.6933, 23.6933, 23.6933, 23.6933, 23.6933, 23.6658, 23.6658, 23.6658]\n",
    "mut_menor_4 = [24.2904, 24.192, 24.0756, 24.0696, 24.0282, 23.977, 23.9267,\n",
    "23.8994, 23.8994, 23.8994, 23.8388, 23.8388, 23.8374, 23.8374, 23.8374]\n",
    "mut_menor_5 = [25.1562, 24.6807, 24.4248, 24.4248, 24.1284, 23.9236, 23.9236,\n",
    "23.9236, 23.9236, 23.9236, 23.9236, 23.8102, 23.8102, 23.8102, 23.8102]\n",
    "mut_menor_6 = [26.1993, 25.86, 24.9319, 24.7753, 24.7753, 24.6299, 24.6299,\n",
    "24.4095, 24.2371, 24.2371, 24.2371, 24.2371, 24.2371, 24.1995, 24.1272]\n",
    "mut_menor_7 = [25.0145, 24.067, 24.0369, 24.0369, 23.9805, 23.9805, 23.9805,\n",
    "23.9805, 23.9805, 23.9805, 23.9805, 23.9805, 23.9805, 23.9805, 23.9805]\n",
    "mut_menor_8 = [25.3796, 24.4779, 24.4779, 24.4434, 24.4434, 24.4434, 24.4434,\n",
    "24.4434, 24.4434, 24.4069, 24.2531, 24.1136, 24.1136, 24.1136, 24.1136]\n",
    "mut_menor_9 = [25.6515, 24.6583, 24.6583, 24.6362, 24.6362, 24.6291, 24.5911,\n",
    "24.3178, 24.3178, 24.3178, 24.3178, 24.3178, 24.3178, 24.3178, 24.3178]\n",
    "mut_menor_10 = [25.1202, 24.5464, 24.5464, 24.051, 24.051, 24.051, 23.7405,\n",
    "23.6928, 23.6928, 23.6928, 23.6928, 23.6928, 23.6928, 23.6928, 23.6928]"
   ]
  },
  {
   "cell_type": "code",
   "execution_count": 4,
   "metadata": {},
   "outputs": [
    {
     "name": "stderr",
     "output_type": "stream",
     "text": [
      "/usr/local/lib/python2.7/site-packages/matplotlib/axes/_axes.py:545: UserWarning: No labelled objects found. Use label='...' kwarg on individual plots.\n",
      "  warnings.warn(\"No labelled objects found. \"\n"
     ]
    },
    {
     "data": {
      "image/png": "[encoded data removed]",
      "text/plain": [
       "<matplotlib.figure.Figure at 0x10df9a210>"
      ]
     },
     "metadata": {},
     "output_type": "display_data"
    }
   ],
   "source": [
    "plt.clf()\n",
    "plt.plot(x, mut_menor_1)\n",
    "plt.plot(x, mut_menor_2)\n",
    "plt.plot(x, mut_menor_3)\n",
    "plt.plot(x, mut_menor_4)\n",
    "plt.plot(x, mut_menor_5)\n",
    "plt.plot(x, mut_menor_6)\n",
    "plt.plot(x, mut_menor_7)\n",
    "plt.plot(x, mut_menor_8)\n",
    "plt.plot(x, mut_menor_9)\n",
    "plt.plot(x, mut_menor_10)\n",
    "plt.legend(bbox_to_anchor=(1.0, 0.5),\n",
    "           ncol=1)\n",
    "plt.xlabel(\"Generations\")\n",
    "plt.ylabel(\"Execution time (s)\")\n",
    "plt.title(\"Comparison between different executions with mutation rate = 0.001\")\n",
    "plt.show()\n",
    "# plt.savefig(\"mut-menor-30.eps\", bbox_inches = \"tight\")\n",
    "plt.clf()"
   ]
  },
  {
   "cell_type": "code",
   "execution_count": 6,
   "metadata": {
    "collapsed": true
   },
   "outputs": [],
   "source": [
    "mut_maior_1 = [26.7314, 26.0442, 25.2499, 25.2499, 25.0853, 24.3003, 24.1305,\n",
    "24.1102, 24.1102, 24.1102, 24.1102, 24.1102, 24.1102, 24.1102, 24.1102]\n",
    "mut_maior_2 = [24.5182, 24.1506, 24.1506, 24.0737, 24.0737, 24.0737, 24.0737,\n",
    "24.0737, 24.0737, 24.0737, 24.0737, 24.0737, 24.0737, 24.0737, 24.0737]\n",
    "mut_maior_3 = [24.479, 23.9985, 23.7979, 23.7152, 23.6857, 23.6857, 23.6857,\n",
    "23.6857, 23.6857, 23.6857, 23.6857, 23.6857, 23.6857, 23.6857, 23.6857]\n",
    "mut_maior_4 = [25.9985, 24.7905, 24.781, 24.1477, 24.1477, 24.1477, 24.1477,\n",
    "24.1477, 24.1477, 24.1477, 24.1477, 24.1477, 24.1477, 24.1477, 24.1477]\n",
    "mut_maior_5 = [26.2018, 25.6016, 25.2375, 24.5915, 24.5501, 24.5501, 24.5501,\n",
    "24.5501, 24.3258, 24.3258, 24.1686, 24.1686, 24.1686, 24.1686, 24.1686]\n",
    "mut_maior_6 = [26.1996, 25.7838, 25.1278, 24.8446, 24.3635, 24.3635, 24.3635,\n",
    "24.3635, 24.3635, 24.2248, 24.2248, 24.2248, 24.2248, 24.2248, 24.2248]\n",
    "mut_maior_7 = [25.8489, 25.4515, 24.4288, 23.9851, 23.7895, 23.7895, 23.7895,\n",
    "23.7895, 23.7895, 23.7895, 23.7895, 23.7895, 23.7895, 23.7895, 23.7895]\n",
    "mut_maior_8 = [25.1895, 25.0801, 24.3494, 24.301, 24.1829, 24.08, 24.0727,\n",
    "24.0727, 24.0727, 24.0727, 24.0727, 24.0727, 24.0727, 24.0727, 24.0727]\n",
    "mut_maior_9 = [25.1033, 25.1033, 25.1033, 25.1033, 25.0784, 25.0784, 25.0784,\n",
    "25.0784, 25.0784, 25.0784, 25.0784, 25.0784, 25.0784, 25.0784, 25.0784]\n",
    "mut_maior_10 = [24.6691, 24.4993, 24.4934, 24.4921, 24.4612, 24.4612, 24.4612,\n",
    "24.4612, 24.4612, 24.4612, 24.4612, 24.4612, 24.4612, 24.4612, 24.4612]"
   ]
  },
  {
   "cell_type": "code",
   "execution_count": 6,
   "metadata": {},
   "outputs": [
    {
     "data": {
      "image/png": "[encoded data removed]",
      "text/plain": [
       "<matplotlib.figure.Figure at 0x10e1680d0>"
      ]
     },
     "metadata": {},
     "output_type": "display_data"
    }
   ],
   "source": [
    "plt.clf()\n",
    "plt.plot(x, mut_maior_1)\n",
    "plt.plot(x, mut_maior_2)\n",
    "plt.plot(x, mut_maior_3)\n",
    "plt.plot(x, mut_maior_4)\n",
    "plt.plot(x, mut_maior_5)\n",
    "plt.plot(x, mut_maior_6)\n",
    "plt.plot(x, mut_maior_7)\n",
    "plt.plot(x, mut_maior_8)\n",
    "plt.plot(x, mut_maior_9)\n",
    "plt.plot(x, mut_maior_10)\n",
    "plt.legend(bbox_to_anchor=(1.0, 0.5),\n",
    "           ncol=1)\n",
    "plt.xlabel(\"Generations\")\n",
    "plt.ylabel(\"Execution time (s)\")\n",
    "plt.title(\"Comparison between different executions with mutation rate = 0.01\")\n",
    "plt.show()\n",
    "# plt.savefig(\"mut-maior-30.eps\", bbox_inches = \"tight\")\n",
    "plt.clf()"
   ]
  },
  {
   "cell_type": "code",
   "execution_count": 8,
   "metadata": {},
   "outputs": [],
   "source": [
    "mut_menor_start = [mut_menor_1[0], mut_menor_2[0], mut_menor_3[0], mut_menor_4[0], \n",
    "                   mut_menor_5[0], mut_menor_6[0], mut_menor_7[0], mut_menor_8[0],\n",
    "                   mut_menor_9[0], mut_menor_10[0]]\n",
    "mut_menor_finish = [mut_menor_1[-1], mut_menor_2[-1], mut_menor_3[-1], mut_menor_4[-1], \n",
    "                   mut_menor_5[-1], mut_menor_6[-1], mut_menor_7[-1], mut_menor_8[-1],\n",
    "                   mut_menor_9[-1], mut_menor_10[-1]]"
   ]
  },
  {
   "cell_type": "code",
   "execution_count": 9,
   "metadata": {
    "collapsed": true
   },
   "outputs": [],
   "source": [
    "mut_maior_start = [mut_maior_1[0], mut_maior_2[0], mut_maior_3[0], mut_maior_4[0], \n",
    "                   mut_maior_5[0], mut_maior_6[0], mut_maior_7[0], mut_maior_8[0],\n",
    "                   mut_maior_9[0], mut_maior_10[0]]\n",
    "mut_maior_finish = [mut_maior_1[-1], mut_maior_2[-1], mut_maior_3[-1], mut_maior_4[-1], \n",
    "                   mut_maior_5[-1], mut_maior_6[-1], mut_maior_7[-1], mut_maior_8[-1],\n",
    "                   mut_maior_9[-1], mut_maior_10[-1]]"
   ]
  },
  {
   "cell_type": "code",
   "execution_count": 27,
   "metadata": {
    "collapsed": true
   },
   "outputs": [],
   "source": [
    "mut_menor_start_mean = np.mean(mut_menor_start)\n",
    "mut_menor_finish_mean = np.mean(mut_menor_finish)\n",
    "mut_menor_start_var = np.var(mut_menor_start)\n",
    "mut_menor_finish_var = np.var(mut_menor_finish)"
   ]
  },
  {
   "cell_type": "code",
   "execution_count": 28,
   "metadata": {
    "collapsed": true
   },
   "outputs": [],
   "source": [
    "mut_maior_start_mean = np.mean(mut_maior_start)\n",
    "mut_maior_finish_mean = np.mean(mut_maior_finish)\n",
    "mut_maior_start_var = np.var(mut_maior_start)\n",
    "mut_maior_finish_var = np.var(mut_maior_finish)"
   ]
  },
  {
   "cell_type": "code",
   "execution_count": 11,
   "metadata": {},
   "outputs": [
    {
     "data": {
      "text/plain": [
       "25.493929999999999"
      ]
     },
     "execution_count": 11,
     "metadata": {},
     "output_type": "execute_result"
    }
   ],
   "source": [
    "mut_maior_start_mean"
   ]
  },
  {
   "cell_type": "code",
   "execution_count": 15,
   "metadata": {},
   "outputs": [
    {
     "data": {
      "text/plain": [
       "25.083640000000003"
      ]
     },
     "execution_count": 15,
     "metadata": {},
     "output_type": "execute_result"
    }
   ],
   "source": [
    "mut_menor_start_mean"
   ]
  },
  {
   "cell_type": "code",
   "execution_count": 29,
   "metadata": {},
   "outputs": [
    {
     "data": {
      "text/plain": [
       "24.181249999999999"
      ]
     },
     "execution_count": 29,
     "metadata": {},
     "output_type": "execute_result"
    }
   ],
   "source": [
    "mut_maior_finish_mean"
   ]
  },
  {
   "cell_type": "code",
   "execution_count": 30,
   "metadata": {},
   "outputs": [
    {
     "data": {
      "text/plain": [
       "23.966720000000002"
      ]
     },
     "execution_count": 30,
     "metadata": {},
     "output_type": "execute_result"
    }
   ],
   "source": [
    "mut_menor_finish_mean"
   ]
  },
  {
   "cell_type": "code",
   "execution_count": 33,
   "metadata": {},
   "outputs": [],
   "source": [
    "def set_box_color(bp, color):\n",
    "    plt.setp(bp['boxes'], color=color)\n",
    "    plt.setp(bp['whiskers'], color=color)\n",
    "    plt.setp(bp['caps'], color=color)\n",
    "    plt.setp(bp['medians'], color=color)\n",
    "\n",
    "plt.clf()\n",
    "plt.figure()\n",
    "\n",
    "ticks = ['Start time', 'Finish time']\n",
    "teste = [mut_menor_start, mut_menor_finish]\n",
    "teste2 = [mut_maior_start, mut_maior_finish]\n",
    "tt = plt.boxplot(teste, positions=np.array(xrange(len(teste)))*2.0-0.1, sym='')\n",
    "tt2 = plt.boxplot(teste2, positions=np.array(xrange(len(teste2)))*2.0+0.40, sym='')\n",
    "set_box_color(tt, '#D7191C') \n",
    "set_box_color(tt2, '#2C7BB6')\n",
    "plt.plot([], c='#D7191C', label='Mutation rate = 0.001')\n",
    "plt.plot([], c='#2C7BB6', label='Mutation rate = 0.01')\n",
    "plt.ylabel(\"Execution time (s)\")\n",
    "plt.title(\"Comparison between start time and finish time\")\n",
    "plt.legend()\n",
    "plt.xticks(xrange(0, len(ticks) * 2, 2), ticks)\n",
    "plt.xlim(-1, 4)\n",
    "plt.tight_layout()\n",
    "\n",
    "# plt.boxplot()\n",
    "# plt.show()\n",
    "plt.savefig(\"boxplot-mut-pop.eps\", bbox_inches = \"tight\")"
   ]
  },
  {
   "cell_type": "code",
   "execution_count": 11,
   "metadata": {
    "collapsed": true
   },
   "outputs": [],
   "source": [
    "cross_maior_1 = [25.09, 24.923, 24.5336, 24.5172, 24.4227, 24.4227, 24.4227,\n",
    "24.4227, 24.2428, 24.1142, 24.1142, 24.1142, 24.1142, 24.0915, 24.0915]\n",
    "cross_maior_2 = [24.6527, 24.5593, 24.47, 24.3332, 24.3144, 24.2602, 24.2602,\n",
    "24.2602, 24.2602, 24.2602, 24.2286, 24.2286, 24.2286, 24.2286, 24.2286]\n",
    "cross_maior_3 = [25.3283, 24.6386, 24.1235, 24.0303, 24.0033, 24.0033, 23.9127,\n",
    "23.7072,  23.7072,  23.6716,  23.6716,  23.6716,  23.6716,  23.6716,  23.6716]\n",
    "cross_maior_4 = [24.7339, 24.598, 24.2473, 24.1276, 23.9214, 23.9214, 23.6703,\n",
    "23.5629, 23.5629, 23.5629, 23.5629, 23.4809, 23.4809, 23.4809, 23.4809]\n",
    "cross_maior_5 = [25.077, 24.4387, 24.4357, 24.4357, 24.4357, 24.4357, 24.2153,\n",
    "24.2153, 23.5966, 23.5918, 23.5918, 23.5918, 23.5918, 23.5918, 23.5918]\n",
    "cross_maior_6 = [24.277, 24.1299, 24.1299, 24.1299, 24.1299, 24.1299, 24.1299,\n",
    "24.1299, 23.9776, 23.795, 23.747, 23.7268, 23.7268, 23.7268, 23.7268]\n",
    "cross_maior_7 = [23.9499, 23.5908, 23.559, 23.554, 23.554, 23.554, 23.5523,\n",
    "23.5523, 23.5523, 23.5523, 23.5523, 23.5523, 23.5523, 23.5523, 23.5523]\n",
    "cross_maior_8 = [24.3019, 24.1062, 23.8902, 23.8902, 23.8902, 23.8902, 23.8902,\n",
    "23.8842, 23.8842, 23.8842, 23.8842, 23.8734, 23.8734, 23.8734, 23.8734]\n",
    "cross_maior_9 = [25.0061, 25.0061, 24.9122, 24.5305, 24.5305, 24.5305, 24.5305,\n",
    "24.5305, 24.5305, 24.5305, 24.5305, 24.5305, 24.5305, 24.5305, 24.5305]\n",
    "cross_maior_10 = [25.39, 24.4266, 24.3266, 24.0555, 24.0555, 24.0555, 24.0555,\n",
    "24.0243, 24.0029, 24.0029, 24.0029, 24.0029, 24.0029, 24.0029, 24.0029]"
   ]
  },
  {
   "cell_type": "code",
   "execution_count": 12,
   "metadata": {
    "collapsed": true
   },
   "outputs": [],
   "source": [
    "cross_menor_1 = [28.5302, 28.1885, 27.0436, 26.1829, 26.1829, 26.1829, 26.1829,\n",
    "26.1829, 26.1829, 26.1829, 26.1829, 26.1829, 25.6816, 25.6816, 25.6816]\n",
    "cross_menor_2 = [28.7431, 28.074, 26.9629, 26.9629, 26.9629, 26.4929, 26.4853,\n",
    "26.4853, 26.4853, 26.4853, 26.1412, 26.1412, 26.1412, 26.1412, 26.1412]\n",
    "cross_menor_3 = [27.7329, 27.3678, 27.2226, 27.2226, 25.8741, 25.8741, 25.8741,\n",
    "25.8741, 25.1576, 25.1576, 25.1576, 25.1576, 25.1576, 25.1576, 25.1576]\n",
    "cross_menor_4 = [28.1903, 27.5825, 27.2875, 27.2875, 26.816, 26.5984, 26.5984,\n",
    "26.5984, 25.7477, 25.7477, 25.7477, 25.4564, 25.4564, 25.4564, 25.4564]\n",
    "cross_menor_5 = [28.3852, 27.2287, 26.9949, 26.9949, 26.4273, 26.4273, 26.4273,\n",
    "26.4273, 26.4273, 25.6366, 25.6366, 25.6366, 25.6366, 25.6366, 25.6366]\n",
    "cross_menor_6 = [27.8862, 26.4781, 26.4781, 26.4781, 26.4781, 26.4781, 26.4781,\n",
    "25.4644, 25.4644, 25.4644, 25.4644, 25.4644, 25.4644, 25.4644, 25.4644]\n",
    "cross_menor_7 = [27.4124, 26.8204, 26.1308, 25.7303, 24.8406, 24.8406, 24.8406,\n",
    "24.8406, 24.8406, 24.8406, 24.8406, 24.8406, 24.8406, 24.8406, 24.8406]\n",
    "cross_menor_8 = [27.7265, 27.0915, 26.8681, 26.8681, 26.8681, 26.3015, 26.3015,\n",
    "26.1312, 26.1312, 26.1312, 26.1312, 26.1312, 26.1312, 26.1312, 25.8791]\n",
    "cross_menor_9 = [25.0547, 25.0547, 24.831, 24.831, 24.7463, 24.429, 24.429,\n",
    "24.429, 24.2993, 24.2993, 24.2993, 24.2993, 24.2993, 24.2993, 24.2917]\n",
    "cross_menor_10 = [24.9157, 24.4417, 23.9402, 23.9402, 23.9402, 23.9402, 23.9402,\n",
    "23.9402, 23.9402, 23.8526, 23.8236, 23.8236, 23.8236, 23.8236, 23.8236]"
   ]
  },
  {
   "cell_type": "code",
   "execution_count": 13,
   "metadata": {
    "collapsed": true
   },
   "outputs": [],
   "source": [
    "cross_menor_start = [cross_menor_1[0], cross_menor_2[0], cross_menor_3[0], cross_menor_4[0], \n",
    "                     cross_menor_5[0], cross_menor_6[0], cross_menor_7[0], cross_menor_8[0],\n",
    "                     cross_menor_9[0], cross_menor_10[0]]\n",
    "cross_menor_finish = [cross_menor_1[-1], cross_menor_2[-1], cross_menor_3[-1], cross_menor_4[-1], \n",
    "                      cross_menor_5[-1], cross_menor_6[-1], cross_menor_7[-1], cross_menor_8[-1],\n",
    "                      cross_menor_9[-1], cross_menor_10[-1]]"
   ]
  },
  {
   "cell_type": "code",
   "execution_count": 14,
   "metadata": {
    "collapsed": true
   },
   "outputs": [],
   "source": [
    "cross_maior_start = [cross_maior_1[0], cross_maior_2[0], cross_maior_3[0], cross_maior_4[0], \n",
    "                     cross_maior_5[0], cross_maior_6[0], cross_maior_7[0], cross_maior_8[0],\n",
    "                     cross_maior_9[0], cross_maior_10[0]]\n",
    "cross_maior_finish = [cross_maior_1[-1], cross_maior_2[-1], cross_maior_3[-1], cross_maior_4[-1], \n",
    "                      cross_maior_5[-1], cross_maior_6[-1], cross_maior_7[-1], cross_maior_8[-1],\n",
    "                      cross_maior_9[-1], cross_maior_10[-1]]"
   ]
  },
  {
   "cell_type": "code",
   "execution_count": 32,
   "metadata": {},
   "outputs": [],
   "source": [
    "def set_box_color(bp, color):\n",
    "    plt.setp(bp['boxes'], color=color)\n",
    "    plt.setp(bp['whiskers'], color=color)\n",
    "    plt.setp(bp['caps'], color=color)\n",
    "    plt.setp(bp['medians'], color=color)\n",
    "\n",
    "plt.clf()\n",
    "plt.figure()\n",
    "\n",
    "ticks = ['Start time', 'Finish time']\n",
    "teste = [cross_menor_start, cross_menor_finish]\n",
    "teste2 = [cross_maior_start, cross_maior_finish]\n",
    "tt = plt.boxplot(teste, positions=np.array(xrange(len(teste)))*2.0-0.1, sym='')\n",
    "tt2 = plt.boxplot(teste2, positions=np.array(xrange(len(teste2)))*2.0+0.40, sym='')\n",
    "set_box_color(tt, '#D7191C') \n",
    "set_box_color(tt2, '#2C7BB6')\n",
    "plt.plot([], c='#D7191C', label='Crossover rate = 0.6')\n",
    "plt.plot([], c='#2C7BB6', label='Crossover rate = 0.8')\n",
    "plt.ylabel(\"Execution time (s)\")\n",
    "plt.title(\"Comparison between start time and finish time\")\n",
    "plt.legend()\n",
    "plt.xticks(xrange(0, len(ticks) * 2, 2), ticks)\n",
    "plt.xlim(-1, 4)\n",
    "plt.tight_layout()\n",
    "\n",
    "# plt.boxplot()\n",
    "# plt.show()\n",
    "plt.savefig(\"boxplot-cross-pop.eps\", bbox_inches = \"tight\")"
   ]
  },
  {
   "cell_type": "code",
   "execution_count": 16,
   "metadata": {
    "collapsed": true
   },
   "outputs": [],
   "source": [
    "cross_menor_start_mean = np.mean(cross_menor_start)\n",
    "cross_menor_finish_mean = np.mean(cross_menor_finish)\n",
    "cross_menor_start_var = np.var(cross_menor_start)\n",
    "cross_menor_finish_var = np.var(cross_menor_finish)"
   ]
  },
  {
   "cell_type": "code",
   "execution_count": 17,
   "metadata": {
    "collapsed": true
   },
   "outputs": [],
   "source": [
    "cross_maior_start_mean = np.mean(cross_maior_start)\n",
    "cross_maior_finish_mean = np.mean(cross_maior_finish)\n",
    "cross_maior_start_var = np.var(cross_maior_start)\n",
    "cross_maior_finish_var = np.var(cross_maior_finish)"
   ]
  },
  {
   "cell_type": "code",
   "execution_count": 20,
   "metadata": {},
   "outputs": [
    {
     "data": {
      "text/plain": [
       "0.20971435960000004"
      ]
     },
     "execution_count": 20,
     "metadata": {},
     "output_type": "execute_result"
    }
   ],
   "source": [
    "cross_maior_start_mean\n",
    "cross_maior_start_var"
   ]
  },
  {
   "cell_type": "code",
   "execution_count": 21,
   "metadata": {},
   "outputs": [
    {
     "data": {
      "text/plain": [
       "0.10209335610000018"
      ]
     },
     "execution_count": 21,
     "metadata": {},
     "output_type": "execute_result"
    }
   ],
   "source": [
    "cross_maior_finish_mean\n",
    "cross_maior_finish_var"
   ]
  },
  {
   "cell_type": "code",
   "execution_count": 22,
   "metadata": {},
   "outputs": [
    {
     "data": {
      "text/plain": [
       "27.457720000000002"
      ]
     },
     "execution_count": 22,
     "metadata": {},
     "output_type": "execute_result"
    }
   ],
   "source": [
    "cross_menor_start_mean"
   ]
  },
  {
   "cell_type": "code",
   "execution_count": 23,
   "metadata": {},
   "outputs": [
    {
     "data": {
      "text/plain": [
       "25.237279999999998"
      ]
     },
     "execution_count": 23,
     "metadata": {},
     "output_type": "execute_result"
    }
   ],
   "source": [
    "cross_menor_finish_mean"
   ]
  },
  {
   "cell_type": "code",
   "execution_count": null,
   "metadata": {
    "collapsed": true
   },
   "outputs": [],
   "source": []
  }
 ],
 "metadata": {
  "kernelspec": {
   "display_name": "Python 2",
   "language": "python",
   "name": "python2"
  },
  "language_info": {
   "codemirror_mode": {
    "name": "ipython",
    "version": 2
   },
   "file_extension": ".py",
   "mimetype": "text/x-python",
   "name": "python",
   "nbconvert_exporter": "python",
   "pygments_lexer": "ipython2",
   "version": "2.7.13"
  }
 },
 "nbformat": 4,
 "nbformat_minor": 2
}
