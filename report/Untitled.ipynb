{
 "cells": [
  {
   "cell_type": "code",
   "execution_count": 1,
   "metadata": {
    "collapsed": true
   },
   "outputs": [],
   "source": [
    "import matplotlib.pyplot as plt\n",
    "import numpy as np\n",
    "from scipy.integrate import odeint\n",
    "from sklearn.metrics import mean_squared_error"
   ]
  },
  {
   "cell_type": "code",
   "execution_count": 2,
   "metadata": {
    "collapsed": true
   },
   "outputs": [],
   "source": [
    "#@title Default title text\n",
    "n = 6320446\n",
    "infect_month = [383, 303, 663, 908, 900, 582, 495, 253, 166, 213, 239, 460]\n",
    "rec_month = [0]\n",
    "for i in range(1, len(infect_month)):\n",
    "  rec_month.append(infect_month[i-1] - infect_month[i])\n",
    "\n",
    "# print(rec_month)\n",
    "\n",
    "sus_month = [n-infect_month[0]]\n",
    "for i in range(1, len(infect_month)):\n",
    "  sus_month.append(n-infect_month[i]-rec_month[i])\n",
    "\n",
    "# print(sus_month)\n",
    "\n",
    "plt.plot(infect_month, label='Infected')\n",
    "plt.plot(rec_month, label='Recovered')\n",
    "plt.xlabel('months')\n",
    "plt.ylabel('dengue cases')\n",
    "plt.title('Dengue cases per month in 2018 - Rio de Janeiro city')\n",
    "plt.legend()\n",
    "# plt.show()\n",
    "plt.savefig(\"infect.eps\", bbox_inches = \"tight\")"
   ]
  },
  {
   "cell_type": "code",
   "execution_count": 7,
   "metadata": {
    "collapsed": true
   },
   "outputs": [],
   "source": [
    "def derivate_sus(betha, sus, infect):\n",
    "  return -betha*sus*infect\n",
    "\n",
    "def derivate_infect(betha, gamma, sus, infect):\n",
    "  return betha*sus*infect - gamma*infect\n",
    "\n",
    "def derivate_rec(gamma, infect):\n",
    "  return gamma*infect"
   ]
  },
  {
   "cell_type": "code",
   "execution_count": 13,
   "metadata": {},
   "outputs": [
    {
     "data": {
      "text/plain": [
       "array([ 6320063.        ,  6320075.91465244,  6320088.34696905,\n",
       "        6320100.31496251,  6320111.83597279,  6320122.92669234,\n",
       "        6320133.60319072,  6320143.88093714,  6320153.77482315,\n",
       "        6320163.29918448,  6320172.46782118,  6320181.29401841])"
      ]
     },
     "execution_count": 13,
     "metadata": {},
     "output_type": "execute_result"
    }
   ],
   "source": [
    "def deriv(y, t, beta, gamma):\n",
    "    S, I, R = y\n",
    "    dSdt = derivate_sus(beta, S, I)\n",
    "    dIdt = derivate_infect(beta, gamma, S, I)\n",
    "    dRdt = derivate_rec(gamma, I)\n",
    "    return dSdt, dIdt, dRdt\n",
    "\n",
    "t = [1,2,3,4,5,6,7,8,9,10,11,12]\n",
    "beta = -5.43752952e-09\n",
    "gamma = 0.00369965\n",
    "# Initial conditions vector\n",
    "y0 = sus_month[0], infect_month[0], rec_month[0]\n",
    "# Integrate the SIR equations over the time grid, t.\n",
    "ret = odeint(deriv, y0, t, args=(beta, gamma))\n",
    "S, I, R = ret.T"
   ]
  },
  {
   "cell_type": "code",
   "execution_count": 23,
   "metadata": {},
   "outputs": [],
   "source": [
    "plt.clf()\n",
    "plt.plot(I, label='Infected')\n",
    "plt.plot(R, label='Recovered')\n",
    "plt.plot(infect_month, '--', label='Infected')\n",
    "plt.plot(rec_month, '--', label='Recovered')\n",
    "plt.xlabel('months')\n",
    "plt.ylabel('dengue cases')\n",
    "plt.title('Dengue cases per month in 2018 - Comparison: SIR model and real data')\n",
    "plt.legend()\n",
    "# plt.show()\n",
    "plt.savefig(\"modelsircomp.eps\", bbox_inches = \"tight\")"
   ]
  },
  {
   "cell_type": "code",
   "execution_count": null,
   "metadata": {
    "collapsed": true
   },
   "outputs": [],
   "source": []
  }
 ],
 "metadata": {
  "kernelspec": {
   "display_name": "Python 2",
   "language": "python",
   "name": "python2"
  },
  "language_info": {
   "codemirror_mode": {
    "name": "ipython",
    "version": 2
   },
   "file_extension": ".py",
   "mimetype": "text/x-python",
   "name": "python",
   "nbconvert_exporter": "python",
   "pygments_lexer": "ipython2",
   "version": "2.7.13"
  }
 },
 "nbformat": 4,
 "nbformat_minor": 2
}
